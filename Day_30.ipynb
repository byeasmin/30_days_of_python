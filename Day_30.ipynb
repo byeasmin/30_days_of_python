{
 "cells": [
  {
   "cell_type": "markdown",
   "id": "533e34db-7f94-4f7d-a052-2be38507c769",
   "metadata": {},
   "source": [
    "# https://github.com/byeasmin/30_days_of_python"
   ]
  },
  {
   "cell_type": "markdown",
   "id": "c16623e9-5731-45c4-9c30-8ef92c8b4850",
   "metadata": {},
   "source": [
    "# Generator"
   ]
  },
  {
   "cell_type": "markdown",
   "id": "4b6498fc-a17b-41ed-98cc-77242991ec5e",
   "metadata": {},
   "source": [
    "## How to Create generator?"
   ]
  },
  {
   "cell_type": "markdown",
   "id": "d15ddca8-6161-4bea-bad6-e9188e1323c5",
   "metadata": {},
   "source": [
    "### Using Generator Function"
   ]
  },
  {
   "cell_type": "markdown",
   "id": "db07e284-c810-4306-8309-85c5cfe0ccac",
   "metadata": {},
   "source": [
    "A Generator function is defined like a normal function but uses the yield statement to return values one at a time. After the yield keyword, the variable(or expression) that follows is the output produced by generator. So, you can say that, yield is a keyword that control the data flow of generator."
   ]
  },
  {
   "cell_type": "markdown",
   "id": "c2416969-7d7e-4853-bc9a-f1907632ea53",
   "metadata": {},
   "source": [
    "### most famous yeild statement"
   ]
  },
  {
   "cell_type": "code",
   "execution_count": 2,
   "id": "78088e1a-08de-4f13-bf2d-fa384bb9e977",
   "metadata": {},
   "outputs": [],
   "source": [
    "def count_up_to(max):\n",
    "    count = 1\n",
    "    while count <= max:\n",
    "        yield count\n",
    "        count = count + 1\n",
    "counter = count_up_to(5)"
   ]
  },
  {
   "cell_type": "code",
   "execution_count": 3,
   "id": "da01b122-8cbb-4642-8885-3bf9bf157dd0",
   "metadata": {},
   "outputs": [
    {
     "name": "stdout",
     "output_type": "stream",
     "text": [
      "1\n"
     ]
    }
   ],
   "source": [
    "print(next(counter))"
   ]
  },
  {
   "cell_type": "code",
   "execution_count": 4,
   "id": "0e1b96af-0270-43c3-a101-37b2a360cdcd",
   "metadata": {},
   "outputs": [
    {
     "name": "stdout",
     "output_type": "stream",
     "text": [
      "2\n"
     ]
    }
   ],
   "source": [
    "print(next(counter))"
   ]
  },
  {
   "cell_type": "code",
   "execution_count": 5,
   "id": "6d2fd52d-9120-4730-8c5b-2fea4c6f84bd",
   "metadata": {},
   "outputs": [
    {
     "name": "stdout",
     "output_type": "stream",
     "text": [
      "3\n"
     ]
    }
   ],
   "source": [
    "print(next(counter))"
   ]
  },
  {
   "cell_type": "code",
   "execution_count": 6,
   "id": "c3a04dbf-e154-490f-b398-4bd8e25febdf",
   "metadata": {},
   "outputs": [
    {
     "name": "stdout",
     "output_type": "stream",
     "text": [
      "4\n"
     ]
    }
   ],
   "source": [
    "print(next(counter))"
   ]
  },
  {
   "cell_type": "code",
   "execution_count": 7,
   "id": "33474745-cac6-47e0-94ac-779332d963da",
   "metadata": {},
   "outputs": [
    {
     "name": "stdout",
     "output_type": "stream",
     "text": [
      "5\n"
     ]
    }
   ],
   "source": [
    "print(next(counter))"
   ]
  },
  {
   "cell_type": "code",
   "execution_count": 9,
   "id": "4f6562e8-6f14-4d2e-b90d-e9610e52f534",
   "metadata": {},
   "outputs": [
    {
     "ename": "StopIteration",
     "evalue": "",
     "output_type": "error",
     "traceback": [
      "\u001b[1;31m---------------------------------------------------------------------------\u001b[0m",
      "\u001b[1;31mStopIteration\u001b[0m                             Traceback (most recent call last)",
      "Cell \u001b[1;32mIn[9], line 1\u001b[0m\n\u001b[1;32m----> 1\u001b[0m \u001b[38;5;28mprint\u001b[39m(\u001b[38;5;28;43mnext\u001b[39;49m\u001b[43m(\u001b[49m\u001b[43mcounter\u001b[49m\u001b[43m)\u001b[49m) \u001b[38;5;66;03m# limit is finished\u001b[39;00m\n",
      "\u001b[1;31mStopIteration\u001b[0m: "
     ]
    }
   ],
   "source": [
    "print(next(counter)) # limit is finished"
   ]
  },
  {
   "cell_type": "code",
   "execution_count": 3,
   "id": "6ae30b40-ea33-4c56-a1ee-0c92b63d22df",
   "metadata": {},
   "outputs": [],
   "source": [
    "def even_numbers_list(limit):\n",
    "    numbers = []\n",
    "    num = 0\n",
    "    while num < limit:\n",
    "        numbers.append(num)\n",
    "        num += 2\n",
    "    return numbers\n",
    "    "
   ]
  },
  {
   "cell_type": "code",
   "execution_count": 4,
   "id": "a756841a-ef7e-40ad-ba53-b33bc3c31522",
   "metadata": {},
   "outputs": [
    {
     "data": {
      "text/plain": [
       "[0, 2, 4, 6, 8]"
      ]
     },
     "execution_count": 4,
     "metadata": {},
     "output_type": "execute_result"
    }
   ],
   "source": [
    "even_numbers_list(10)"
   ]
  },
  {
   "cell_type": "code",
   "execution_count": 5,
   "id": "0f8785ea-806a-46aa-b5a2-9da967cce003",
   "metadata": {},
   "outputs": [],
   "source": [
    "evens = even_numbers_list(10)"
   ]
  },
  {
   "cell_type": "code",
   "execution_count": 6,
   "id": "186d112d-96c9-47cc-a929-fb6026b89008",
   "metadata": {},
   "outputs": [
    {
     "data": {
      "text/plain": [
       "[0, 2, 4, 6, 8]"
      ]
     },
     "execution_count": 6,
     "metadata": {},
     "output_type": "execute_result"
    }
   ],
   "source": [
    "evens"
   ]
  },
  {
   "cell_type": "markdown",
   "id": "22b24bed-96c2-421a-b557-e89705dba0a0",
   "metadata": {},
   "source": [
    "Suppose, i have a list of n items and i want to use yield to create a generator that will yeild each item from the list one by one"
   ]
  },
  {
   "cell_type": "code",
   "execution_count": 37,
   "id": "c281d69f-cfa7-453b-b09a-8517865bb8f2",
   "metadata": {},
   "outputs": [],
   "source": [
    "data_list = [10, 20, 30, 40, 50]"
   ]
  },
  {
   "cell_type": "code",
   "execution_count": 38,
   "id": "f428879f-dc02-4d52-b8a7-f51132ad517f",
   "metadata": {},
   "outputs": [
    {
     "name": "stdout",
     "output_type": "stream",
     "text": [
      "10\n",
      "20\n",
      "30\n",
      "40\n",
      "50\n"
     ]
    }
   ],
   "source": [
    "def data_generator(data): # Generator function\n",
    "    for item in data:\n",
    "        yield item\n",
    "\n",
    "gen = data_generator(data_list) # creating generator\n",
    "\n",
    "for item in gen:\n",
    "    print(item)"
   ]
  },
  {
   "cell_type": "markdown",
   "id": "d78e08fa-9fe8-464c-aa8b-32ac440a2bfd",
   "metadata": {},
   "source": [
    "# Why use Yeild"
   ]
  },
  {
   "cell_type": "markdown",
   "id": "32b057ef-f0ee-4b8c-8725-2425d5c43595",
   "metadata": {},
   "source": [
    "- **Memory Efficiency** : It avoids the need to store large data sets in memory.\n",
    "- **Memory Efficiency** : Values are generated only as needed.\n",
    "- **Simpler Code** : Writing a generator function is often more straightforward & readable than manually managing state with an iterator class.\n",
    "- **Infinite Sequences** : generators can represents infinit sequences, producing values on demand without running out of memory."
   ]
  },
  {
   "cell_type": "code",
   "execution_count": 7,
   "id": "5e1c980d-ad5a-4708-8835-c11e5f204df1",
   "metadata": {},
   "outputs": [],
   "source": [
    "import sys"
   ]
  },
  {
   "cell_type": "code",
   "execution_count": 8,
   "id": "209b5f40-93a8-473f-a807-37adafa06ead",
   "metadata": {},
   "outputs": [
    {
     "data": {
      "text/plain": [
       "[0, 2, 4, 6, 8]"
      ]
     },
     "execution_count": 8,
     "metadata": {},
     "output_type": "execute_result"
    }
   ],
   "source": [
    "evens"
   ]
  },
  {
   "cell_type": "code",
   "execution_count": 9,
   "id": "2a19648d-458d-48c5-825a-245bea468c0b",
   "metadata": {},
   "outputs": [
    {
     "data": {
      "text/plain": [
       "120"
      ]
     },
     "execution_count": 9,
     "metadata": {},
     "output_type": "execute_result"
    }
   ],
   "source": [
    "sys.getsizeof(evens)"
   ]
  },
  {
   "cell_type": "code",
   "execution_count": 10,
   "id": "ac7dc0fe-4591-494a-b134-6328720e00e6",
   "metadata": {},
   "outputs": [
    {
     "name": "stdout",
     "output_type": "stream",
     "text": [
      "0\n",
      "2\n",
      "4\n",
      "6\n",
      "8\n",
      "10\n",
      "12\n",
      "14\n",
      "16\n",
      "18\n"
     ]
    }
   ],
   "source": [
    "def even_numbers():\n",
    "\n",
    "    num = 0\n",
    "    while True:\n",
    "        yield num\n",
    "        num += 2\n",
    "\n",
    "gen = even_numbers()\n",
    "\n",
    "for _ in range(10):\n",
    "    print(next(gen))"
   ]
  },
  {
   "cell_type": "code",
   "execution_count": 11,
   "id": "23c8b350-55f0-42e8-b260-adb429a1d0d3",
   "metadata": {},
   "outputs": [
    {
     "data": {
      "text/plain": [
       "184"
      ]
     },
     "execution_count": 11,
     "metadata": {},
     "output_type": "execute_result"
    }
   ],
   "source": [
    "sys.getsizeof(gen)"
   ]
  },
  {
   "cell_type": "markdown",
   "id": "fcf49a38-faf9-45c9-a807-abbcd2c76e78",
   "metadata": {},
   "source": [
    "# Without yield"
   ]
  },
  {
   "cell_type": "markdown",
   "id": "cbdf3a64-2b3a-41a1-9f5e-76a7bdbc85f5",
   "metadata": {},
   "source": [
    "You can directly access the data of a generator expression, but you need to understand that a generator produces values on-the-fly and doesn't store them all at once. This is why you can't directly access specific elements or get the length of a generator like you can with lists or tuples. Instead, you need to iterate through the generator to get its values."
   ]
  },
  {
   "cell_type": "code",
   "execution_count": 12,
   "id": "6d65b151-0e54-4ec1-8115-3b5ac64fae19",
   "metadata": {},
   "outputs": [
    {
     "data": {
      "text/plain": [
       "<generator object <genexpr> at 0x000001E4F290FB90>"
      ]
     },
     "execution_count": 12,
     "metadata": {},
     "output_type": "execute_result"
    }
   ],
   "source": [
    "ev_gen = (x for x in range(10) if x%2==0)\n",
    "ev_gen"
   ]
  },
  {
   "cell_type": "code",
   "execution_count": 13,
   "id": "ea93c28b-b506-4691-b52f-06e22519e897",
   "metadata": {},
   "outputs": [
    {
     "data": {
      "text/plain": [
       "200"
      ]
     },
     "execution_count": 13,
     "metadata": {},
     "output_type": "execute_result"
    }
   ],
   "source": [
    "sys.getsizeof(ev_gen)"
   ]
  },
  {
   "cell_type": "code",
   "execution_count": 14,
   "id": "929f4432-72cb-4876-a90f-34ce846cef83",
   "metadata": {},
   "outputs": [
    {
     "name": "stdout",
     "output_type": "stream",
     "text": [
      "0\n",
      "2\n",
      "4\n",
      "6\n",
      "8\n"
     ]
    }
   ],
   "source": [
    "for num in ev_gen:\n",
    "    print(num)"
   ]
  },
  {
   "cell_type": "code",
   "execution_count": 15,
   "id": "9e5d44bc-35d6-478c-abac-5cb1ad2f847b",
   "metadata": {},
   "outputs": [
    {
     "name": "stdout",
     "output_type": "stream",
     "text": [
      "0\n",
      "1\n",
      "4\n",
      "9\n",
      "16\n",
      "25\n",
      "36\n",
      "49\n",
      "64\n",
      "81\n"
     ]
    }
   ],
   "source": [
    "squares_gen = (x**2 for x in range(10))\n",
    "\n",
    "for square in squares_gen:\n",
    "    print(square)\n"
   ]
  },
  {
   "cell_type": "code",
   "execution_count": 16,
   "id": "3eb4eaaf-05d7-4166-8f8a-0a991c7e94b3",
   "metadata": {},
   "outputs": [
    {
     "data": {
      "text/plain": [
       "[0, 1, 4, 9, 16, 25, 36, 49, 64, 81]"
      ]
     },
     "execution_count": 16,
     "metadata": {},
     "output_type": "execute_result"
    }
   ],
   "source": [
    "[x**2 for x in range(10)]"
   ]
  },
  {
   "cell_type": "code",
   "execution_count": 17,
   "id": "69b183bf-8bf2-4994-9d58-2414f774708d",
   "metadata": {},
   "outputs": [
    {
     "name": "stdout",
     "output_type": "stream",
     "text": [
      "0\n",
      "2\n",
      "4\n",
      "6\n",
      "8\n"
     ]
    },
    {
     "data": {
      "text/plain": [
       "[None, None, None, None, None]"
      ]
     },
     "execution_count": 17,
     "metadata": {},
     "output_type": "execute_result"
    }
   ],
   "source": [
    "[print(x) for x in range(10) if x%2==0]"
   ]
  },
  {
   "cell_type": "code",
   "execution_count": 18,
   "id": "3ffbbd76-0e21-46b2-90b0-0aaaf783145d",
   "metadata": {},
   "outputs": [
    {
     "data": {
      "text/plain": [
       "200"
      ]
     },
     "execution_count": 18,
     "metadata": {},
     "output_type": "execute_result"
    }
   ],
   "source": [
    "sys.getsizeof(ev_gen)"
   ]
  },
  {
   "cell_type": "markdown",
   "id": "991d5996-9cfc-4e3d-aeba-5bffa6d67927",
   "metadata": {},
   "source": [
    "# List Comprehensions vs Generators in Python\n",
    "\n",
    "Both list comprehensions and generators provide concise ways to create iterators in Python. However, they serve different purposes and have different characteristics.\n",
    "\n",
    "## List Comprehensions\n",
    "\n",
    "List comprehensions are a compact way to create lists. They are enclosed in square brackets `[]` and can include conditions and nested loops.\n",
    "\n",
    "### Syntax\n",
    "\n",
    "```python\n",
    "[expression for item in iterable if condition] #List Comprehension\n",
    "(expression for item in iterable if condition) #Generator\n"
   ]
  },
  {
   "cell_type": "markdown",
   "id": "973f35c0-1998-4a3c-8dcb-618c50ac720d",
   "metadata": {},
   "source": [
    "| Feature                  | List Comprehensions                      | Generators                                  |\n",
    "|--------------------------|------------------------------------------|---------------------------------------------|\n",
    "| **Syntax**               | `[expression for item in iterable]`      | `(expression for item in iterable)`         |\n",
    "| **Evaluation**           | Immediate (all items at once)            | Lazy (one item at a time)                   |\n",
    "| **Memory Usage**         | Stores entire list in memory             | Memory efficient (no storage of entire list)|\n",
    "| **Iteration**            | Can be iterated multiple times           | Can be iterated only once                   |\n",
    "| **Use Case**             | Small to medium-sized lists              | Large datasets or infinite sequences        |\n",
    "| **Speed**                | Faster for small datasets                | Generally slower due to lazy evaluation     |\n"
   ]
  },
  {
   "cell_type": "code",
   "execution_count": 19,
   "id": "65de9bb9-be65-4353-9ac5-231d4dba16e4",
   "metadata": {},
   "outputs": [
    {
     "data": {
      "text/plain": [
       "[0, 4, 16, 36, 64]"
      ]
     },
     "execution_count": 19,
     "metadata": {},
     "output_type": "execute_result"
    }
   ],
   "source": [
    "# List comprehension\n",
    "even_squares = [x**2 for x in range(10) if x % 2 == 0]\n",
    "even_squares"
   ]
  },
  {
   "cell_type": "code",
   "execution_count": 20,
   "id": "15382f1f-5762-41be-bcdf-1b0acdc0ce17",
   "metadata": {},
   "outputs": [
    {
     "name": "stdout",
     "output_type": "stream",
     "text": [
      "0\n",
      "4\n",
      "16\n",
      "36\n",
      "64\n"
     ]
    }
   ],
   "source": [
    "# Generator expression\n",
    "even_squares_gen = (x**2 for x in range(10) if x % 2 == 0)\n",
    "\n",
    "for square in even_squares_gen:\n",
    "    print(square)"
   ]
  },
  {
   "cell_type": "code",
   "execution_count": 21,
   "id": "c7edaf96-2e28-4a91-9b6a-7e3d2cd5ae5d",
   "metadata": {},
   "outputs": [
    {
     "name": "stdout",
     "output_type": "stream",
     "text": [
      "List comprehension = 120\n",
      "Generator = 200\n"
     ]
    }
   ],
   "source": [
    "print('List comprehension =',sys.getsizeof(even_squares))\n",
    "print('Generator =',sys.getsizeof(even_squares_gen))"
   ]
  },
  {
   "cell_type": "code",
   "execution_count": 22,
   "id": "e4ec5454-ddde-4938-9666-d8570c48f1a6",
   "metadata": {},
   "outputs": [
    {
     "data": {
      "text/plain": [
       "(0, 4, 16, 36, 64)"
      ]
     },
     "execution_count": 22,
     "metadata": {},
     "output_type": "execute_result"
    }
   ],
   "source": [
    "even_squares_tuple = tuple(x**2 for x in range(10) if x % 2 == 0)\n",
    "even_squares_tuple"
   ]
  },
  {
   "cell_type": "code",
   "execution_count": 23,
   "id": "727e46b3-f525-46ae-be9c-a5180fa17357",
   "metadata": {},
   "outputs": [
    {
     "data": {
      "text/plain": [
       "[0, 4, 16, 36, 64]"
      ]
     },
     "execution_count": 23,
     "metadata": {},
     "output_type": "execute_result"
    }
   ],
   "source": [
    "even_squares_list = list(x**2 for x in range(10) if x % 2 == 0)\n",
    "even_squares_list"
   ]
  }
 ],
 "metadata": {
  "kernelspec": {
   "display_name": "Python 3 (ipykernel)",
   "language": "python",
   "name": "python3"
  },
  "language_info": {
   "codemirror_mode": {
    "name": "ipython",
    "version": 3
   },
   "file_extension": ".py",
   "mimetype": "text/x-python",
   "name": "python",
   "nbconvert_exporter": "python",
   "pygments_lexer": "ipython3",
   "version": "3.12.4"
  },
  "widgets": {
   "application/vnd.jupyter.widget-state+json": {
    "state": {},
    "version_major": 2,
    "version_minor": 0
   }
  }
 },
 "nbformat": 4,
 "nbformat_minor": 5
}
