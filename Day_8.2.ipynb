{
 "cells": [
  {
   "cell_type": "markdown",
   "id": "6893c57a-cd30-4cea-8b51-1eefadd63078",
   "metadata": {},
   "source": [
    "# https://github.com/byeasmin/30_days_of_python"
   ]
  },
  {
   "cell_type": "markdown",
   "id": "35796321-09f3-47d9-930c-11bf9a4b4a41",
   "metadata": {},
   "source": [
    "# Frozen_set"
   ]
  },
  {
   "cell_type": "code",
   "execution_count": 1,
   "id": "79efaf07-bf72-4145-9a60-ff7e8eed778b",
   "metadata": {},
   "outputs": [],
   "source": [
    "s1 = {1, 2, 3, 4, 5}\n",
    "s2 = {'a', 'b'}"
   ]
  },
  {
   "cell_type": "code",
   "execution_count": 2,
   "id": "ca4bf94e-dfb7-43b8-a6be-36cee65be723",
   "metadata": {},
   "outputs": [
    {
     "data": {
      "text/plain": [
       "{1, 2, 3, 4, 5}"
      ]
     },
     "execution_count": 2,
     "metadata": {},
     "output_type": "execute_result"
    }
   ],
   "source": [
    "s1"
   ]
  },
  {
   "cell_type": "code",
   "execution_count": 3,
   "id": "078faaaa-1898-46c2-bc62-492e1fbc46e1",
   "metadata": {},
   "outputs": [
    {
     "data": {
      "text/plain": [
       "{'a', 'b'}"
      ]
     },
     "execution_count": 3,
     "metadata": {},
     "output_type": "execute_result"
    }
   ],
   "source": [
    "s2"
   ]
  },
  {
   "cell_type": "code",
   "execution_count": 4,
   "id": "9dd041d2-4c82-4d22-ab86-c431764327ae",
   "metadata": {},
   "outputs": [
    {
     "data": {
      "text/plain": [
       "set"
      ]
     },
     "execution_count": 4,
     "metadata": {},
     "output_type": "execute_result"
    }
   ],
   "source": [
    "type(s1)"
   ]
  },
  {
   "cell_type": "code",
   "execution_count": 5,
   "id": "053e850a-dc96-4c05-a731-4ccac61c948e",
   "metadata": {},
   "outputs": [],
   "source": [
    "s1.add(10)"
   ]
  },
  {
   "cell_type": "code",
   "execution_count": 6,
   "id": "fb1e0b1b-87e3-4d83-9e78-677b81386c87",
   "metadata": {},
   "outputs": [
    {
     "data": {
      "text/plain": [
       "{1, 2, 3, 4, 5, 10}"
      ]
     },
     "execution_count": 6,
     "metadata": {},
     "output_type": "execute_result"
    }
   ],
   "source": [
    "s1"
   ]
  },
  {
   "cell_type": "markdown",
   "id": "d2bc8c4a-af14-4504-8eba-95d42de36375",
   "metadata": {},
   "source": [
    "# How to frozen a set"
   ]
  },
  {
   "cell_type": "code",
   "execution_count": 7,
   "id": "a42d7599-0730-4dae-9f93-abe74cd06d2c",
   "metadata": {},
   "outputs": [],
   "source": [
    "s3 = frozenset(s1)"
   ]
  },
  {
   "cell_type": "code",
   "execution_count": 8,
   "id": "bdb8dcb9-ade4-476a-935b-e53db2aba72c",
   "metadata": {},
   "outputs": [
    {
     "data": {
      "text/plain": [
       "frozenset({1, 2, 3, 4, 5, 10})"
      ]
     },
     "execution_count": 8,
     "metadata": {},
     "output_type": "execute_result"
    }
   ],
   "source": [
    "s3"
   ]
  },
  {
   "cell_type": "code",
   "execution_count": 9,
   "id": "c86b183b-65e2-4a8c-85fe-0684e07686de",
   "metadata": {},
   "outputs": [
    {
     "data": {
      "text/plain": [
       "set"
      ]
     },
     "execution_count": 9,
     "metadata": {},
     "output_type": "execute_result"
    }
   ],
   "source": [
    "type(s1)"
   ]
  },
  {
   "cell_type": "code",
   "execution_count": 10,
   "id": "846c9d1f-640a-414a-a9a5-20d81a3219e8",
   "metadata": {},
   "outputs": [
    {
     "data": {
      "text/plain": [
       "frozenset"
      ]
     },
     "execution_count": 10,
     "metadata": {},
     "output_type": "execute_result"
    }
   ],
   "source": [
    "type(s3)"
   ]
  },
  {
   "cell_type": "code",
   "execution_count": 11,
   "id": "9286c170-998b-4ac0-b472-faab23515616",
   "metadata": {},
   "outputs": [
    {
     "ename": "AttributeError",
     "evalue": "'frozenset' object has no attribute 'add'",
     "output_type": "error",
     "traceback": [
      "\u001b[1;31m---------------------------------------------------------------------------\u001b[0m",
      "\u001b[1;31mAttributeError\u001b[0m                            Traceback (most recent call last)",
      "Cell \u001b[1;32mIn[11], line 1\u001b[0m\n\u001b[1;32m----> 1\u001b[0m \u001b[43ms3\u001b[49m\u001b[38;5;241;43m.\u001b[39;49m\u001b[43madd\u001b[49m(\u001b[38;5;241m10\u001b[39m)\n",
      "\u001b[1;31mAttributeError\u001b[0m: 'frozenset' object has no attribute 'add'"
     ]
    }
   ],
   "source": [
    "s3.add(10)"
   ]
  },
  {
   "cell_type": "code",
   "execution_count": 12,
   "id": "0bd5d32c-452c-4c59-b96d-ee8434d16344",
   "metadata": {},
   "outputs": [
    {
     "ename": "AttributeError",
     "evalue": "'frozenset' object has no attribute 'remove'",
     "output_type": "error",
     "traceback": [
      "\u001b[1;31m---------------------------------------------------------------------------\u001b[0m",
      "\u001b[1;31mAttributeError\u001b[0m                            Traceback (most recent call last)",
      "Cell \u001b[1;32mIn[12], line 1\u001b[0m\n\u001b[1;32m----> 1\u001b[0m \u001b[43ms3\u001b[49m\u001b[38;5;241;43m.\u001b[39;49m\u001b[43mremove\u001b[49m(\u001b[38;5;241m10\u001b[39m)\n",
      "\u001b[1;31mAttributeError\u001b[0m: 'frozenset' object has no attribute 'remove'"
     ]
    }
   ],
   "source": [
    "s3.remove(10)"
   ]
  },
  {
   "cell_type": "code",
   "execution_count": 13,
   "id": "4f7c7389-9a9c-462f-bd69-c12ba7278e1b",
   "metadata": {},
   "outputs": [],
   "source": [
    "# list\n",
    "l1 = [23, 45, 87, 64, 75, 58]\n",
    "s4 = frozenset(l1)"
   ]
  },
  {
   "cell_type": "code",
   "execution_count": 14,
   "id": "51eecb43-cab3-46e1-bfec-a36460753f2e",
   "metadata": {},
   "outputs": [
    {
     "data": {
      "text/plain": [
       "frozenset({23, 45, 58, 64, 75, 87})"
      ]
     },
     "execution_count": 14,
     "metadata": {},
     "output_type": "execute_result"
    }
   ],
   "source": [
    "s4"
   ]
  },
  {
   "cell_type": "code",
   "execution_count": 15,
   "id": "128aba23-b8a2-44d2-9042-85dd1dac2b5d",
   "metadata": {},
   "outputs": [
    {
     "data": {
      "text/plain": [
       "frozenset"
      ]
     },
     "execution_count": 15,
     "metadata": {},
     "output_type": "execute_result"
    }
   ],
   "source": [
    "type(s4)"
   ]
  },
  {
   "cell_type": "code",
   "execution_count": 16,
   "id": "56df7c6c-c143-46c2-9016-1d50e929d82b",
   "metadata": {},
   "outputs": [
    {
     "data": {
      "text/plain": [
       "23"
      ]
     },
     "execution_count": 16,
     "metadata": {},
     "output_type": "execute_result"
    }
   ],
   "source": [
    "l1[0]"
   ]
  },
  {
   "cell_type": "code",
   "execution_count": 17,
   "id": "2affaecf-1624-4184-ae5b-901d122b74dc",
   "metadata": {},
   "outputs": [
    {
     "ename": "TypeError",
     "evalue": "'frozenset' object is not subscriptable",
     "output_type": "error",
     "traceback": [
      "\u001b[1;31m---------------------------------------------------------------------------\u001b[0m",
      "\u001b[1;31mTypeError\u001b[0m                                 Traceback (most recent call last)",
      "Cell \u001b[1;32mIn[17], line 1\u001b[0m\n\u001b[1;32m----> 1\u001b[0m \u001b[43ms4\u001b[49m\u001b[43m[\u001b[49m\u001b[38;5;241;43m0\u001b[39;49m\u001b[43m]\u001b[49m\n",
      "\u001b[1;31mTypeError\u001b[0m: 'frozenset' object is not subscriptable"
     ]
    }
   ],
   "source": [
    "s4[0]"
   ]
  },
  {
   "cell_type": "markdown",
   "id": "cc5e2455-0d2b-4223-b5d1-a7c2f9518d72",
   "metadata": {},
   "source": [
    "# Basic operation of set"
   ]
  },
  {
   "cell_type": "code",
   "execution_count": 18,
   "id": "94cfd61b-3f55-418f-b0ce-105646315d5f",
   "metadata": {},
   "outputs": [
    {
     "data": {
      "text/plain": [
       "frozenset({1, 2, 3, 4, 5, 10})"
      ]
     },
     "execution_count": 18,
     "metadata": {},
     "output_type": "execute_result"
    }
   ],
   "source": [
    "s3"
   ]
  },
  {
   "cell_type": "code",
   "execution_count": 19,
   "id": "a9a16d0f-2f6a-4fff-96aa-3e1dc631a261",
   "metadata": {},
   "outputs": [
    {
     "data": {
      "text/plain": [
       "frozenset({23, 45, 58, 64, 75, 87})"
      ]
     },
     "execution_count": 19,
     "metadata": {},
     "output_type": "execute_result"
    }
   ],
   "source": [
    "s4"
   ]
  },
  {
   "cell_type": "markdown",
   "id": "c7193fe8-b140-4826-8bd6-a3d6814e3782",
   "metadata": {},
   "source": [
    "### union()"
   ]
  },
  {
   "cell_type": "code",
   "execution_count": 20,
   "id": "daeb7d13-1078-487a-aae1-8dcedffe7ed2",
   "metadata": {},
   "outputs": [
    {
     "data": {
      "text/plain": [
       "frozenset({1, 2, 3, 4, 5, 10, 23, 45, 58, 64, 75, 87})"
      ]
     },
     "execution_count": 20,
     "metadata": {},
     "output_type": "execute_result"
    }
   ],
   "source": [
    "s3.union(s4)"
   ]
  },
  {
   "cell_type": "code",
   "execution_count": 21,
   "id": "75eb30d6-6f30-4a73-b113-db22a4c6c491",
   "metadata": {},
   "outputs": [
    {
     "data": {
      "text/plain": [
       "frozenset"
      ]
     },
     "execution_count": 21,
     "metadata": {},
     "output_type": "execute_result"
    }
   ],
   "source": [
    "type(s3)"
   ]
  },
  {
   "cell_type": "code",
   "execution_count": 22,
   "id": "58871339-49f5-4e25-bb5e-05ba62200cab",
   "metadata": {},
   "outputs": [
    {
     "data": {
      "text/plain": [
       "frozenset"
      ]
     },
     "execution_count": 22,
     "metadata": {},
     "output_type": "execute_result"
    }
   ],
   "source": [
    "type(s4)"
   ]
  },
  {
   "cell_type": "code",
   "execution_count": 23,
   "id": "9e3c8384-3a0b-417f-bd7a-513d50ef686f",
   "metadata": {},
   "outputs": [
    {
     "data": {
      "text/plain": [
       "{1, 2, 3, 4, 5, 10}"
      ]
     },
     "execution_count": 23,
     "metadata": {},
     "output_type": "execute_result"
    }
   ],
   "source": [
    "s1"
   ]
  },
  {
   "cell_type": "code",
   "execution_count": 24,
   "id": "278caf9e-b2a5-42f3-a43c-cdefe8677164",
   "metadata": {},
   "outputs": [
    {
     "data": {
      "text/plain": [
       "set"
      ]
     },
     "execution_count": 24,
     "metadata": {},
     "output_type": "execute_result"
    }
   ],
   "source": [
    "type(s1)"
   ]
  },
  {
   "cell_type": "code",
   "execution_count": 26,
   "id": "25ab2d32-8c79-4606-ac22-9f7f7e59777e",
   "metadata": {},
   "outputs": [],
   "source": [
    "s1 = frozenset(s4)"
   ]
  },
  {
   "cell_type": "code",
   "execution_count": 27,
   "id": "ba56c1f6-331e-4a4b-a172-b45a9cae6dfe",
   "metadata": {},
   "outputs": [
    {
     "data": {
      "text/plain": [
       "frozenset({23, 45, 58, 64, 75, 87})"
      ]
     },
     "execution_count": 27,
     "metadata": {},
     "output_type": "execute_result"
    }
   ],
   "source": [
    "s1"
   ]
  },
  {
   "cell_type": "code",
   "execution_count": 28,
   "id": "47917956-3dae-47f9-816f-37bbc4fe5e70",
   "metadata": {},
   "outputs": [
    {
     "data": {
      "text/plain": [
       "frozenset"
      ]
     },
     "execution_count": 28,
     "metadata": {},
     "output_type": "execute_result"
    }
   ],
   "source": [
    "type(s1)"
   ]
  },
  {
   "cell_type": "code",
   "execution_count": 29,
   "id": "e484f97c-e628-4e4a-a00a-3adc4294efe5",
   "metadata": {},
   "outputs": [
    {
     "data": {
      "text/plain": [
       "frozenset({23, 45, 58, 64, 75, 87})"
      ]
     },
     "execution_count": 29,
     "metadata": {},
     "output_type": "execute_result"
    }
   ],
   "source": [
    "s1"
   ]
  },
  {
   "cell_type": "code",
   "execution_count": 30,
   "id": "01fb600f-9f0e-41fc-8cb4-74f6609c38f3",
   "metadata": {},
   "outputs": [
    {
     "data": {
      "text/plain": [
       "frozenset({1, 2, 3, 4, 5, 10})"
      ]
     },
     "execution_count": 30,
     "metadata": {},
     "output_type": "execute_result"
    }
   ],
   "source": [
    "s3"
   ]
  },
  {
   "cell_type": "code",
   "execution_count": 31,
   "id": "bf86bb23-f1ad-45cd-9990-7944495440ab",
   "metadata": {},
   "outputs": [
    {
     "data": {
      "text/plain": [
       "frozenset({23, 45, 58, 64, 75, 87})"
      ]
     },
     "execution_count": 31,
     "metadata": {},
     "output_type": "execute_result"
    }
   ],
   "source": [
    "s4"
   ]
  },
  {
   "cell_type": "markdown",
   "id": "a82e79a2-4c85-471c-a34e-1228aa998fe4",
   "metadata": {},
   "source": [
    "### intersection()"
   ]
  },
  {
   "cell_type": "code",
   "execution_count": 32,
   "id": "d12e66f9-e3e5-4d39-872a-4d1534d3579b",
   "metadata": {},
   "outputs": [],
   "source": [
    "s5 = {2, 3, 78, 65, 90}"
   ]
  },
  {
   "cell_type": "code",
   "execution_count": 33,
   "id": "569a8c5f-801f-4468-b62f-8027b5d58af6",
   "metadata": {},
   "outputs": [],
   "source": [
    "s5 = frozenset(s5)"
   ]
  },
  {
   "cell_type": "code",
   "execution_count": 34,
   "id": "3e4436fa-3f66-4bf5-9af3-a7e6db0fdf1f",
   "metadata": {},
   "outputs": [
    {
     "data": {
      "text/plain": [
       "frozenset({2, 3, 65, 78, 90})"
      ]
     },
     "execution_count": 34,
     "metadata": {},
     "output_type": "execute_result"
    }
   ],
   "source": [
    "s5"
   ]
  },
  {
   "cell_type": "code",
   "execution_count": 35,
   "id": "903ee5b2-938d-4931-a290-1281d02b11ee",
   "metadata": {},
   "outputs": [
    {
     "data": {
      "text/plain": [
       "frozenset({1, 2, 3, 4, 5, 10})"
      ]
     },
     "execution_count": 35,
     "metadata": {},
     "output_type": "execute_result"
    }
   ],
   "source": [
    "s3"
   ]
  },
  {
   "cell_type": "code",
   "execution_count": 36,
   "id": "c3242dd9-5266-4a49-ac8f-287d300e314d",
   "metadata": {},
   "outputs": [
    {
     "data": {
      "text/plain": [
       "frozenset({2, 3})"
      ]
     },
     "execution_count": 36,
     "metadata": {},
     "output_type": "execute_result"
    }
   ],
   "source": [
    "s3.intersection(s5)"
   ]
  },
  {
   "cell_type": "markdown",
   "id": "9826b2c7-48ad-46c1-820c-f00f4cf3c24a",
   "metadata": {},
   "source": [
    "### String read"
   ]
  },
  {
   "cell_type": "code",
   "execution_count": 37,
   "id": "7152ba5e-5053-48e2-9764-a73dd6fbaf54",
   "metadata": {},
   "outputs": [],
   "source": [
    "s = 'data science'"
   ]
  },
  {
   "cell_type": "code",
   "execution_count": 38,
   "id": "8428dc56-0ae7-45da-8e36-3e062df353fe",
   "metadata": {},
   "outputs": [],
   "source": [
    "s5 = frozenset(s)"
   ]
  },
  {
   "cell_type": "code",
   "execution_count": 44,
   "id": "ee39932f-909c-48ca-9115-0139bae4edda",
   "metadata": {},
   "outputs": [
    {
     "data": {
      "text/plain": [
       "frozenset({' ', 'a', 'c', 'd', 'e', 'i', 'n', 's', 't'})"
      ]
     },
     "execution_count": 44,
     "metadata": {},
     "output_type": "execute_result"
    }
   ],
   "source": [
    "s5"
   ]
  },
  {
   "cell_type": "markdown",
   "id": "da7a513f-8f06-4ac6-9ece-809454336d0d",
   "metadata": {},
   "source": [
    "# Frozenset as List"
   ]
  },
  {
   "cell_type": "markdown",
   "id": "967fc0b9-b5df-48c7-aa15-af796fe2aa4a",
   "metadata": {},
   "source": [
    "## We have to convert it list comprehension"
   ]
  },
  {
   "cell_type": "code",
   "execution_count": 45,
   "id": "380e01a2-85aa-434e-9cbf-2fabc0c73046",
   "metadata": {},
   "outputs": [
    {
     "data": {
      "text/plain": [
       "frozenset({' ', 'a', 'c', 'd', 'e', 'i', 'n', 's', 't'})"
      ]
     },
     "execution_count": 45,
     "metadata": {},
     "output_type": "execute_result"
    }
   ],
   "source": [
    "s5"
   ]
  },
  {
   "cell_type": "code",
   "execution_count": 51,
   "id": "072bee2e-9a2b-4b95-8284-301bf8d80aa1",
   "metadata": {},
   "outputs": [
    {
     "data": {
      "text/plain": [
       "[['t'], ['c'], ['s'], [' '], ['d'], ['i'], ['a'], ['e'], ['n']]"
      ]
     },
     "execution_count": 51,
     "metadata": {},
     "output_type": "execute_result"
    }
   ],
   "source": [
    "# for x in s5:\n",
    "#     print(list(x))\n",
    "\n",
    "[list(x) for x in s5]"
   ]
  },
  {
   "cell_type": "markdown",
   "id": "616a2886-d162-4112-be2c-1d52ef09c9e5",
   "metadata": {},
   "source": [
    "# Frozenset as Tuple"
   ]
  },
  {
   "cell_type": "code",
   "execution_count": 54,
   "id": "3cc41d6a-6fb8-4758-adf6-cdceb08af7ff",
   "metadata": {},
   "outputs": [
    {
     "data": {
      "text/plain": [
       "[('t',), ('c',), ('s',), (' ',), ('d',), ('i',), ('a',), ('e',), ('n',)]"
      ]
     },
     "execution_count": 54,
     "metadata": {},
     "output_type": "execute_result"
    }
   ],
   "source": [
    "[tuple(x) for x in s5] "
   ]
  },
  {
   "cell_type": "markdown",
   "id": "211b405c-d22e-4494-a823-a36ba43156f7",
   "metadata": {},
   "source": [
    "# Frozenset as Set"
   ]
  },
  {
   "cell_type": "code",
   "execution_count": 57,
   "id": "4fa3ecb0-a62b-4f69-a8e1-938b7740a2b0",
   "metadata": {},
   "outputs": [
    {
     "data": {
      "text/plain": [
       "[{'t'}, {'c'}, {'s'}, {' '}, {'d'}, {'i'}, {'a'}, {'e'}, {'n'}]"
      ]
     },
     "execution_count": 57,
     "metadata": {},
     "output_type": "execute_result"
    }
   ],
   "source": [
    "[set(x) for x in s5]"
   ]
  }
 ],
 "metadata": {
  "kernelspec": {
   "display_name": "Python 3 (ipykernel)",
   "language": "python",
   "name": "python3"
  },
  "language_info": {
   "codemirror_mode": {
    "name": "ipython",
    "version": 3
   },
   "file_extension": ".py",
   "mimetype": "text/x-python",
   "name": "python",
   "nbconvert_exporter": "python",
   "pygments_lexer": "ipython3",
   "version": "3.12.4"
  },
  "widgets": {
   "application/vnd.jupyter.widget-state+json": {
    "state": {},
    "version_major": 2,
    "version_minor": 0
   }
  }
 },
 "nbformat": 4,
 "nbformat_minor": 5
}
