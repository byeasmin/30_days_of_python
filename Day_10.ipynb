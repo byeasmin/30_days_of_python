{
 "cells": [
  {
   "cell_type": "markdown",
   "id": "46d1e0a5-70d5-4a8f-b3f9-46c1af037d00",
   "metadata": {},
   "source": [
    "# https://github.com/byeasmin/30_days_of_python"
   ]
  },
  {
   "cell_type": "markdown",
   "id": "ae85d5ec-6974-4960-8eb6-4801fe0a971d",
   "metadata": {},
   "source": [
    "# Dictionary"
   ]
  },
  {
   "cell_type": "code",
   "execution_count": 2,
   "id": "c0ead907-bf37-416b-aee5-a4f27bac654f",
   "metadata": {},
   "outputs": [],
   "source": [
    "dic = {\n",
    "    'name' : 'benin',\n",
    "    'versity' : 'IIUC',\n",
    "}"
   ]
  },
  {
   "cell_type": "code",
   "execution_count": 3,
   "id": "d0015b4b-be79-44f5-9510-81e86131c9f5",
   "metadata": {},
   "outputs": [
    {
     "data": {
      "text/plain": [
       "{'name': 'benin', 'versity': 'IIUC'}"
      ]
     },
     "execution_count": 3,
     "metadata": {},
     "output_type": "execute_result"
    }
   ],
   "source": [
    "dic"
   ]
  },
  {
   "cell_type": "code",
   "execution_count": 4,
   "id": "7bb877ff-4c9e-4964-bad3-36ac44199928",
   "metadata": {},
   "outputs": [
    {
     "data": {
      "text/plain": [
       "dict_keys(['name', 'versity'])"
      ]
     },
     "execution_count": 4,
     "metadata": {},
     "output_type": "execute_result"
    }
   ],
   "source": [
    "dic.keys()"
   ]
  },
  {
   "cell_type": "code",
   "execution_count": 5,
   "id": "3e73fb0c-ae28-45b8-a681-8a6c3850307b",
   "metadata": {},
   "outputs": [
    {
     "data": {
      "text/plain": [
       "dict_values(['benin', 'IIUC'])"
      ]
     },
     "execution_count": 5,
     "metadata": {},
     "output_type": "execute_result"
    }
   ],
   "source": [
    "dic.values()"
   ]
  },
  {
   "cell_type": "markdown",
   "id": "685e2193-74f0-458c-af59-a7350bd2718a",
   "metadata": {},
   "source": [
    "# copy()"
   ]
  },
  {
   "cell_type": "code",
   "execution_count": 6,
   "id": "3b34bc0e-26fb-4809-9272-4d46e6ae1f85",
   "metadata": {},
   "outputs": [],
   "source": [
    "dic2 = dic.copy()"
   ]
  },
  {
   "cell_type": "code",
   "execution_count": 7,
   "id": "40ffb2eb-1ad1-45f2-9290-8b9aa3bc9da1",
   "metadata": {},
   "outputs": [
    {
     "data": {
      "text/plain": [
       "{'name': 'benin', 'versity': 'IIUC'}"
      ]
     },
     "execution_count": 7,
     "metadata": {},
     "output_type": "execute_result"
    }
   ],
   "source": [
    "dic2"
   ]
  },
  {
   "cell_type": "code",
   "execution_count": 10,
   "id": "c9299deb-83d6-43d4-a20c-df9251c5926f",
   "metadata": {},
   "outputs": [],
   "source": [
    "dic2['versity'] = 'IIUC'"
   ]
  },
  {
   "cell_type": "code",
   "execution_count": 11,
   "id": "a1a27d9b-dbb1-432e-b864-65bf4ec39e85",
   "metadata": {},
   "outputs": [
    {
     "data": {
      "text/plain": [
       "{'name': 'benin', 'versity': 'IIUC'}"
      ]
     },
     "execution_count": 11,
     "metadata": {},
     "output_type": "execute_result"
    }
   ],
   "source": [
    "dic2"
   ]
  },
  {
   "cell_type": "markdown",
   "id": "32338390-c54c-4851-bb70-8ebc0b8aba8c",
   "metadata": {},
   "source": [
    "# add value & key"
   ]
  },
  {
   "cell_type": "code",
   "execution_count": 16,
   "id": "6ae998c8-8a58-4f67-a8c1-3ace51d76671",
   "metadata": {},
   "outputs": [],
   "source": [
    "dic2['dept'] = 'CSE'"
   ]
  },
  {
   "cell_type": "code",
   "execution_count": 15,
   "id": "6658e7ed-dde5-496d-9e7c-6016bf70068f",
   "metadata": {},
   "outputs": [
    {
     "data": {
      "text/plain": [
       "{'name': 'benin', 'versity': 'IIUC', 'dept': 'CSE'}"
      ]
     },
     "execution_count": 15,
     "metadata": {},
     "output_type": "execute_result"
    }
   ],
   "source": [
    "dic"
   ]
  },
  {
   "cell_type": "code",
   "execution_count": 17,
   "id": "cdc2756e-6421-4e23-a30f-f6d757726d5f",
   "metadata": {},
   "outputs": [
    {
     "data": {
      "text/plain": [
       "{'name': 'benin', 'versity': 'IIUC', 'dept': 'CSE'}"
      ]
     },
     "execution_count": 17,
     "metadata": {},
     "output_type": "execute_result"
    }
   ],
   "source": [
    "dic2"
   ]
  },
  {
   "cell_type": "markdown",
   "id": "59ef82a3-3799-43b7-976f-267645354601",
   "metadata": {},
   "source": [
    "# update()"
   ]
  },
  {
   "cell_type": "code",
   "execution_count": 18,
   "id": "e3470b68-7a59-4e4a-ad7a-dc277886a5b9",
   "metadata": {},
   "outputs": [],
   "source": [
    "dic.update({'dept' : 'python'})"
   ]
  },
  {
   "cell_type": "code",
   "execution_count": 19,
   "id": "a9b4e669-3332-479d-91c2-881569bc525a",
   "metadata": {},
   "outputs": [
    {
     "data": {
      "text/plain": [
       "{'name': 'benin', 'versity': 'IIUC', 'dept': 'python'}"
      ]
     },
     "execution_count": 19,
     "metadata": {},
     "output_type": "execute_result"
    }
   ],
   "source": [
    "dic"
   ]
  },
  {
   "cell_type": "code",
   "execution_count": 20,
   "id": "5c911d9b-b700-4085-9557-a0e7f41250f9",
   "metadata": {},
   "outputs": [
    {
     "data": {
      "text/plain": [
       "{'name': 'benin', 'versity': 'IIUC', 'dept': 'CSE'}"
      ]
     },
     "execution_count": 20,
     "metadata": {},
     "output_type": "execute_result"
    }
   ],
   "source": [
    "dic2"
   ]
  },
  {
   "cell_type": "markdown",
   "id": "8c59590d-5bf2-4f33-be59-b50511205f87",
   "metadata": {},
   "source": [
    "# popitem()"
   ]
  },
  {
   "cell_type": "code",
   "execution_count": 21,
   "id": "e0c11a22-2e08-4b2c-9a19-ad0aab0882dd",
   "metadata": {},
   "outputs": [
    {
     "data": {
      "text/plain": [
       "('dept', 'python')"
      ]
     },
     "execution_count": 21,
     "metadata": {},
     "output_type": "execute_result"
    }
   ],
   "source": [
    "dic.popitem()"
   ]
  },
  {
   "cell_type": "code",
   "execution_count": 22,
   "id": "3de464f8-a6f4-420f-80ed-faf6db1de067",
   "metadata": {},
   "outputs": [
    {
     "data": {
      "text/plain": [
       "{'name': 'benin', 'versity': 'IIUC'}"
      ]
     },
     "execution_count": 22,
     "metadata": {},
     "output_type": "execute_result"
    }
   ],
   "source": [
    "dic"
   ]
  },
  {
   "cell_type": "markdown",
   "id": "4b9dc45e-be7c-44ed-a695-0dbeae6b88c3",
   "metadata": {},
   "source": [
    "# pop()"
   ]
  },
  {
   "cell_type": "code",
   "execution_count": 28,
   "id": "ff015463-965c-4c0f-9ab1-405b78b7d725",
   "metadata": {},
   "outputs": [],
   "source": [
    "dic['versity'] = 'IIUC'"
   ]
  },
  {
   "cell_type": "code",
   "execution_count": 29,
   "id": "cb7c8b87-3e5b-49da-a337-69192c472def",
   "metadata": {},
   "outputs": [
    {
     "data": {
      "text/plain": [
       "{'name': 'benin', 'versity': 'IIUC'}"
      ]
     },
     "execution_count": 29,
     "metadata": {},
     "output_type": "execute_result"
    }
   ],
   "source": [
    "dic"
   ]
  },
  {
   "cell_type": "code",
   "execution_count": 30,
   "id": "756e7921-c79a-4a41-8b92-b818303d806e",
   "metadata": {},
   "outputs": [
    {
     "data": {
      "text/plain": [
       "'IIUC'"
      ]
     },
     "execution_count": 30,
     "metadata": {},
     "output_type": "execute_result"
    }
   ],
   "source": [
    "dic.pop('versity')"
   ]
  },
  {
   "cell_type": "markdown",
   "id": "7e8cb766-9235-4cfe-be04-4407e35650eb",
   "metadata": {},
   "source": [
    "# Delete elements using del keyword"
   ]
  },
  {
   "cell_type": "code",
   "execution_count": 31,
   "id": "01ed7788-a92a-4ad9-ac0d-ad0e8266e1af",
   "metadata": {},
   "outputs": [
    {
     "data": {
      "text/plain": [
       "{'name': 'benin', 'versity': 'IIUC', 'dept': 'CSE'}"
      ]
     },
     "execution_count": 31,
     "metadata": {},
     "output_type": "execute_result"
    }
   ],
   "source": [
    "dic2"
   ]
  },
  {
   "cell_type": "code",
   "execution_count": 33,
   "id": "17f309ff-ec6b-4838-9c21-a633c7b7fb24",
   "metadata": {},
   "outputs": [],
   "source": [
    "del dic2['name']"
   ]
  },
  {
   "cell_type": "code",
   "execution_count": 34,
   "id": "ea30ae15-5cc8-467e-ab9b-719e72112264",
   "metadata": {},
   "outputs": [
    {
     "data": {
      "text/plain": [
       "{'versity': 'IIUC', 'dept': 'CSE'}"
      ]
     },
     "execution_count": 34,
     "metadata": {},
     "output_type": "execute_result"
    }
   ],
   "source": [
    "dic2"
   ]
  },
  {
   "cell_type": "markdown",
   "id": "30396858-173d-4e91-91fe-1d7cbb872b23",
   "metadata": {},
   "source": [
    "# Print value using for loop"
   ]
  },
  {
   "cell_type": "code",
   "execution_count": 44,
   "id": "b99a193f-b462-4d9d-ad38-739dcfe10d7d",
   "metadata": {},
   "outputs": [
    {
     "name": "stdout",
     "output_type": "stream",
     "text": [
      "benin\n"
     ]
    }
   ],
   "source": [
    "# print the value\n",
    "\n",
    "for x in dic:\n",
    "    print(dic[x])"
   ]
  },
  {
   "cell_type": "code",
   "execution_count": 45,
   "id": "fc4beed6-fe12-4ff8-9cb8-f16856a3c9c4",
   "metadata": {},
   "outputs": [
    {
     "data": {
      "text/plain": [
       "{'name': 'benin'}"
      ]
     },
     "execution_count": 45,
     "metadata": {},
     "output_type": "execute_result"
    }
   ],
   "source": [
    "dic"
   ]
  },
  {
   "cell_type": "code",
   "execution_count": 46,
   "id": "590b24eb-bc9c-4609-b799-f42801434c9d",
   "metadata": {},
   "outputs": [
    {
     "name": "stdout",
     "output_type": "stream",
     "text": [
      "name\n"
     ]
    }
   ],
   "source": [
    "# print the key\n",
    "\n",
    "for x in dic:\n",
    "    print(x)"
   ]
  },
  {
   "cell_type": "code",
   "execution_count": 47,
   "id": "c4cca65d-acd9-4066-b8fd-da100aa8f27f",
   "metadata": {},
   "outputs": [
    {
     "name": "stdout",
     "output_type": "stream",
     "text": [
      "{'name': 'benin'}\n"
     ]
    }
   ],
   "source": [
    "# print the full dictionary\n",
    "\n",
    "for x in dic:\n",
    "    print(dic)"
   ]
  },
  {
   "cell_type": "markdown",
   "id": "087a6947-029b-4f4e-8473-6d8e133f942a",
   "metadata": {},
   "source": [
    "# Convert into list/tuple"
   ]
  },
  {
   "cell_type": "markdown",
   "id": "74dd4845-26ee-4fc7-b38d-4bfb79b8d7f6",
   "metadata": {},
   "source": [
    "### list"
   ]
  },
  {
   "cell_type": "code",
   "execution_count": 48,
   "id": "636324db-b441-481b-ab7c-1e909b117c97",
   "metadata": {},
   "outputs": [],
   "source": [
    "d2 = list(dic.keys())"
   ]
  },
  {
   "cell_type": "code",
   "execution_count": 49,
   "id": "da551974-c7d4-45d9-8428-1a72bb2cbb82",
   "metadata": {},
   "outputs": [
    {
     "data": {
      "text/plain": [
       "['name']"
      ]
     },
     "execution_count": 49,
     "metadata": {},
     "output_type": "execute_result"
    }
   ],
   "source": [
    "d2"
   ]
  },
  {
   "cell_type": "code",
   "execution_count": 50,
   "id": "d46640e0-356e-4250-850b-0103fb92a777",
   "metadata": {},
   "outputs": [],
   "source": [
    "d2 = list(dic.values())"
   ]
  },
  {
   "cell_type": "code",
   "execution_count": 51,
   "id": "d4bfb842-f149-458a-8df6-badb5b481fbc",
   "metadata": {},
   "outputs": [
    {
     "data": {
      "text/plain": [
       "['benin']"
      ]
     },
     "execution_count": 51,
     "metadata": {},
     "output_type": "execute_result"
    }
   ],
   "source": [
    "d2"
   ]
  },
  {
   "cell_type": "markdown",
   "id": "02b2fc10-0abf-4ee1-b053-2bcfba972a54",
   "metadata": {},
   "source": [
    "# From user input"
   ]
  },
  {
   "cell_type": "code",
   "execution_count": 58,
   "id": "222ca0e5-0e3f-4436-be29-b7610a21532d",
   "metadata": {},
   "outputs": [
    {
     "name": "stdin",
     "output_type": "stream",
     "text": [
      " 4\n",
      " name\n",
      " age\n",
      " versity\n",
      " dept\n",
      " benin\n",
      " 23\n",
      " iiuc\n",
      " cse\n"
     ]
    },
    {
     "name": "stdout",
     "output_type": "stream",
     "text": [
      "{'name': 'age', 'versity': 'dept', 'benin': '23', 'iiuc': 'cse'}\n"
     ]
    }
   ],
   "source": [
    "n = int(input())\n",
    "d = {}\n",
    "\n",
    "for i in range(n):\n",
    "    key = input()\n",
    "    value = input()\n",
    "    d[key] = value\n",
    "print(d)"
   ]
  },
  {
   "cell_type": "code",
   "execution_count": 59,
   "id": "73d07b02-c407-4e4e-b6f5-3ee374d7feb0",
   "metadata": {},
   "outputs": [
    {
     "name": "stdin",
     "output_type": "stream",
     "text": [
      " 4\n",
      " name\n",
      " benin\n",
      " age\n",
      " 23\n",
      " versity\n",
      " iiuc\n",
      " dept\n",
      " cse\n"
     ]
    },
    {
     "name": "stdout",
     "output_type": "stream",
     "text": [
      "{'name': 'benin', 'age': '23', 'versity': 'iiuc', 'dept': 'cse'}\n"
     ]
    }
   ],
   "source": [
    "n = int(input())\n",
    "d = {}\n",
    "\n",
    "for i in range(n):\n",
    "    key = input()\n",
    "    value = input()\n",
    "    d[key] = value\n",
    "print(d)"
   ]
  }
 ],
 "metadata": {
  "kernelspec": {
   "display_name": "Python 3 (ipykernel)",
   "language": "python",
   "name": "python3"
  },
  "language_info": {
   "codemirror_mode": {
    "name": "ipython",
    "version": 3
   },
   "file_extension": ".py",
   "mimetype": "text/x-python",
   "name": "python",
   "nbconvert_exporter": "python",
   "pygments_lexer": "ipython3",
   "version": "3.12.4"
  },
  "widgets": {
   "application/vnd.jupyter.widget-state+json": {
    "state": {},
    "version_major": 2,
    "version_minor": 0
   }
  }
 },
 "nbformat": 4,
 "nbformat_minor": 5
}
