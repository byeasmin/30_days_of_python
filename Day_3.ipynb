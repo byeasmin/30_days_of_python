{
 "cells": [
  {
   "cell_type": "markdown",
   "id": "01d71bf5-b82b-4138-b227-9011ce9ee1a7",
   "metadata": {},
   "source": [
    "# https://github.com/byeasmin/30_days_of_python"
   ]
  },
  {
   "cell_type": "markdown",
   "id": "83830fd6-68fc-4731-928d-9801e34e9a4a",
   "metadata": {},
   "source": [
    "# Operator"
   ]
  },
  {
   "cell_type": "markdown",
   "id": "63372487-eb06-4a20-b417-00686a7ccc88",
   "metadata": {},
   "source": [
    "# Arithmetic Operator"
   ]
  },
  {
   "cell_type": "code",
   "execution_count": 1,
   "id": "a66ac76d-54b1-4c19-aff8-6329a0098a03",
   "metadata": {},
   "outputs": [],
   "source": [
    "# assigning the value\n",
    "x = 2\n",
    "y = 3\n",
    "z = 4"
   ]
  },
  {
   "cell_type": "code",
   "execution_count": 2,
   "id": "9d640e66-bbf5-49da-9eb4-ae2caf63da5a",
   "metadata": {},
   "outputs": [
    {
     "data": {
      "text/plain": [
       "5"
      ]
     },
     "execution_count": 2,
     "metadata": {},
     "output_type": "execute_result"
    }
   ],
   "source": [
    "x+y"
   ]
  },
  {
   "cell_type": "code",
   "execution_count": 3,
   "id": "ad8f7719-bd3e-4def-a3c6-10adafd4e1e9",
   "metadata": {},
   "outputs": [
    {
     "data": {
      "text/plain": [
       "-1"
      ]
     },
     "execution_count": 3,
     "metadata": {},
     "output_type": "execute_result"
    }
   ],
   "source": [
    "x-y"
   ]
  },
  {
   "cell_type": "code",
   "execution_count": 4,
   "id": "cfdf03c0-d019-4ea9-a224-2ea08011ca9d",
   "metadata": {},
   "outputs": [
    {
     "data": {
      "text/plain": [
       "6"
      ]
     },
     "execution_count": 4,
     "metadata": {},
     "output_type": "execute_result"
    }
   ],
   "source": [
    "x*y"
   ]
  },
  {
   "cell_type": "code",
   "execution_count": 5,
   "id": "477c46e0-b87d-426d-b042-816f54979294",
   "metadata": {},
   "outputs": [
    {
     "data": {
      "text/plain": [
       "0.6666666666666666"
      ]
     },
     "execution_count": 5,
     "metadata": {},
     "output_type": "execute_result"
    }
   ],
   "source": [
    "x/y"
   ]
  },
  {
   "cell_type": "code",
   "execution_count": 6,
   "id": "b01ea940-c898-4365-8701-3621c77cb82f",
   "metadata": {},
   "outputs": [
    {
     "name": "stdout",
     "output_type": "stream",
     "text": [
      "4\n"
     ]
    }
   ],
   "source": [
    "print(2**2)"
   ]
  },
  {
   "cell_type": "code",
   "execution_count": 7,
   "id": "8e4a8354-5109-4aff-b43b-c87862f9f3d0",
   "metadata": {},
   "outputs": [
    {
     "data": {
      "text/plain": [
       "4"
      ]
     },
     "execution_count": 7,
     "metadata": {},
     "output_type": "execute_result"
    }
   ],
   "source": [
    "2 ** 2"
   ]
  },
  {
   "cell_type": "code",
   "execution_count": 10,
   "id": "c96432d5-b075-469f-9e9b-a26753239e3d",
   "metadata": {},
   "outputs": [
    {
     "data": {
      "text/plain": [
       "8"
      ]
     },
     "execution_count": 10,
     "metadata": {},
     "output_type": "execute_result"
    }
   ],
   "source": [
    "2 ** 3 #exponential (that means power of 2, 2 to the power 3)"
   ]
  },
  {
   "cell_type": "code",
   "execution_count": 11,
   "id": "51d19f8c-46ff-4238-9911-358246ee6899",
   "metadata": {},
   "outputs": [
    {
     "data": {
      "text/plain": [
       "8"
      ]
     },
     "execution_count": 11,
     "metadata": {},
     "output_type": "execute_result"
    }
   ],
   "source": [
    "x ** y"
   ]
  },
  {
   "cell_type": "code",
   "execution_count": 12,
   "id": "2e6057a9-d9ec-49c8-bf36-96fd1c487032",
   "metadata": {},
   "outputs": [
    {
     "data": {
      "text/plain": [
       "9"
      ]
     },
     "execution_count": 12,
     "metadata": {},
     "output_type": "execute_result"
    }
   ],
   "source": [
    "y ** x"
   ]
  },
  {
   "cell_type": "code",
   "execution_count": 13,
   "id": "35b1ddc8-934d-405e-9671-811e7d30f3b3",
   "metadata": {},
   "outputs": [
    {
     "data": {
      "text/plain": [
       "0.6666666666666666"
      ]
     },
     "execution_count": 13,
     "metadata": {},
     "output_type": "execute_result"
    }
   ],
   "source": [
    "x/y"
   ]
  },
  {
   "cell_type": "code",
   "execution_count": 14,
   "id": "5b8a34ea-2cb7-43f8-8c4a-9f99d7e8d718",
   "metadata": {},
   "outputs": [
    {
     "data": {
      "text/plain": [
       "0"
      ]
     },
     "execution_count": 14,
     "metadata": {},
     "output_type": "execute_result"
    }
   ],
   "source": [
    "x//y"
   ]
  },
  {
   "cell_type": "code",
   "execution_count": 15,
   "id": "4c8f6dc7-ad2f-485d-a715-2ef77ecfd9c9",
   "metadata": {},
   "outputs": [
    {
     "data": {
      "text/plain": [
       "1.3333333333333333"
      ]
     },
     "execution_count": 15,
     "metadata": {},
     "output_type": "execute_result"
    }
   ],
   "source": [
    "z/y"
   ]
  },
  {
   "cell_type": "code",
   "execution_count": 16,
   "id": "853ad10e-da34-44dc-8791-fd7dd0c6b5db",
   "metadata": {},
   "outputs": [
    {
     "data": {
      "text/plain": [
       "1"
      ]
     },
     "execution_count": 16,
     "metadata": {},
     "output_type": "execute_result"
    }
   ],
   "source": [
    "z//y"
   ]
  },
  {
   "cell_type": "code",
   "execution_count": 17,
   "id": "86fa974d-c9b4-478d-9d36-0a8eb54691cb",
   "metadata": {},
   "outputs": [
    {
     "data": {
      "text/plain": [
       "1"
      ]
     },
     "execution_count": 17,
     "metadata": {},
     "output_type": "execute_result"
    }
   ],
   "source": [
    "import math\n",
    "math.floor(z/y)"
   ]
  },
  {
   "cell_type": "code",
   "execution_count": 19,
   "id": "9da9396e-b83c-4ec4-9cad-547798a56e78",
   "metadata": {},
   "outputs": [
    {
     "data": {
      "text/plain": [
       "2"
      ]
     },
     "execution_count": 19,
     "metadata": {},
     "output_type": "execute_result"
    }
   ],
   "source": [
    "math.ceil(z/y)"
   ]
  },
  {
   "cell_type": "markdown",
   "id": "2dc76135-5411-4fdb-b7e0-ed0faaf661b6",
   "metadata": {},
   "source": [
    "# Identity Operator"
   ]
  },
  {
   "cell_type": "code",
   "execution_count": 20,
   "id": "885c2ac3-5f7a-4551-be1a-e9f9ef09eac4",
   "metadata": {},
   "outputs": [
    {
     "data": {
      "text/plain": [
       "True"
      ]
     },
     "execution_count": 20,
     "metadata": {},
     "output_type": "execute_result"
    }
   ],
   "source": [
    "x = 10\n",
    "y = 10\n",
    "x is y"
   ]
  },
  {
   "cell_type": "code",
   "execution_count": 21,
   "id": "1b501b86-2bac-4464-ae30-a675abe4f444",
   "metadata": {},
   "outputs": [
    {
     "data": {
      "text/plain": [
       "True"
      ]
     },
     "execution_count": 21,
     "metadata": {},
     "output_type": "execute_result"
    }
   ],
   "source": [
    "x = 100\n",
    "y = 100\n",
    "x is y"
   ]
  },
  {
   "cell_type": "code",
   "execution_count": 22,
   "id": "d5ae8ef2-d8cc-4af8-827c-2ad8012282a4",
   "metadata": {},
   "outputs": [
    {
     "data": {
      "text/plain": [
       "False"
      ]
     },
     "execution_count": 22,
     "metadata": {},
     "output_type": "execute_result"
    }
   ],
   "source": [
    "x = 1000\n",
    "y = 1000\n",
    "x is y"
   ]
  },
  {
   "cell_type": "code",
   "execution_count": 25,
   "id": "4058f0f6-36a0-4ef7-b709-615798fcaf8d",
   "metadata": {},
   "outputs": [
    {
     "data": {
      "text/plain": [
       "1785077194576"
      ]
     },
     "execution_count": 25,
     "metadata": {},
     "output_type": "execute_result"
    }
   ],
   "source": [
    "id(x)"
   ]
  },
  {
   "cell_type": "code",
   "execution_count": 26,
   "id": "a7c3f8a8-f51d-4df3-9b9f-7217a8f1ddb1",
   "metadata": {},
   "outputs": [
    {
     "data": {
      "text/plain": [
       "1785077194320"
      ]
     },
     "execution_count": 26,
     "metadata": {},
     "output_type": "execute_result"
    }
   ],
   "source": [
    "id(y)"
   ]
  },
  {
   "cell_type": "code",
   "execution_count": 27,
   "id": "6cc1e466-36d3-4e17-b445-baca6b98273d",
   "metadata": {},
   "outputs": [
    {
     "name": "stdout",
     "output_type": "stream",
     "text": [
      "140708396664344\n",
      "140708396664344\n"
     ]
    }
   ],
   "source": [
    "x = 100\n",
    "y =100\n",
    "print(id(x))\n",
    "print(id(y))"
   ]
  },
  {
   "cell_type": "markdown",
   "id": "83fcb9cd-afce-48e8-8a68-d1560fc8f571",
   "metadata": {},
   "source": [
    "# Assignment Operator"
   ]
  },
  {
   "cell_type": "code",
   "execution_count": 29,
   "id": "c9d64796-ff47-4961-b332-e88b3859df50",
   "metadata": {},
   "outputs": [
    {
     "data": {
      "text/plain": [
       "True"
      ]
     },
     "execution_count": 29,
     "metadata": {},
     "output_type": "execute_result"
    }
   ],
   "source": [
    "x == y "
   ]
  },
  {
   "cell_type": "code",
   "execution_count": 30,
   "id": "c724cd6b-3dfc-4994-9023-1aec62caee90",
   "metadata": {},
   "outputs": [],
   "source": [
    "x = 100017\n",
    "y = x\n",
    "z = 100017"
   ]
  },
  {
   "cell_type": "code",
   "execution_count": 31,
   "id": "c19b06fe-1572-4aec-90df-7e57412cef53",
   "metadata": {},
   "outputs": [
    {
     "data": {
      "text/plain": [
       "True"
      ]
     },
     "execution_count": 31,
     "metadata": {},
     "output_type": "execute_result"
    }
   ],
   "source": [
    "x is y"
   ]
  },
  {
   "cell_type": "code",
   "execution_count": 32,
   "id": "1689e45d-ce55-4957-ad70-442c9987fa28",
   "metadata": {},
   "outputs": [
    {
     "data": {
      "text/plain": [
       "False"
      ]
     },
     "execution_count": 32,
     "metadata": {},
     "output_type": "execute_result"
    }
   ],
   "source": [
    "x is z"
   ]
  },
  {
   "cell_type": "code",
   "execution_count": 33,
   "id": "5ff1f91d-f40a-48b1-b2bf-011e74d90fba",
   "metadata": {},
   "outputs": [
    {
     "data": {
      "text/plain": [
       "1785077083376"
      ]
     },
     "execution_count": 33,
     "metadata": {},
     "output_type": "execute_result"
    }
   ],
   "source": [
    "id(x)"
   ]
  },
  {
   "cell_type": "code",
   "execution_count": 34,
   "id": "1e5405c6-93d6-48f1-b1f5-dd57b8e31758",
   "metadata": {},
   "outputs": [
    {
     "data": {
      "text/plain": [
       "1785077083376"
      ]
     },
     "execution_count": 34,
     "metadata": {},
     "output_type": "execute_result"
    }
   ],
   "source": [
    "id(y)"
   ]
  },
  {
   "cell_type": "code",
   "execution_count": 73,
   "id": "d7226c66-2a96-4e1d-b1c0-23fa0669db21",
   "metadata": {},
   "outputs": [
    {
     "data": {
      "text/plain": [
       "1785077087792"
      ]
     },
     "execution_count": 73,
     "metadata": {},
     "output_type": "execute_result"
    }
   ],
   "source": [
    "id(z)"
   ]
  },
  {
   "cell_type": "markdown",
   "id": "7073d800-63bb-4f98-8e0b-a2f3b695a190",
   "metadata": {},
   "source": [
    "# '==' Vs 'is'"
   ]
  },
  {
   "cell_type": "code",
   "execution_count": 36,
   "id": "3250328b-8cf5-4d97-b9ce-5c8c5635710b",
   "metadata": {},
   "outputs": [],
   "source": [
    "p = 217098\n",
    "q = p\n",
    "r = 217098"
   ]
  },
  {
   "cell_type": "code",
   "execution_count": 37,
   "id": "8f65ee0f-1991-4abc-b51a-810aca48944e",
   "metadata": {},
   "outputs": [
    {
     "data": {
      "text/plain": [
       "True"
      ]
     },
     "execution_count": 37,
     "metadata": {},
     "output_type": "execute_result"
    }
   ],
   "source": [
    "p == q"
   ]
  },
  {
   "cell_type": "code",
   "execution_count": 38,
   "id": "afb50de7-2f48-4edd-b68f-f5970c4c2e55",
   "metadata": {},
   "outputs": [
    {
     "data": {
      "text/plain": [
       "True"
      ]
     },
     "execution_count": 38,
     "metadata": {},
     "output_type": "execute_result"
    }
   ],
   "source": [
    "q == r"
   ]
  },
  {
   "cell_type": "code",
   "execution_count": 39,
   "id": "fa62fa2c-5525-46e6-8ffb-f7b74aa57354",
   "metadata": {},
   "outputs": [
    {
     "data": {
      "text/plain": [
       "True"
      ]
     },
     "execution_count": 39,
     "metadata": {},
     "output_type": "execute_result"
    }
   ],
   "source": [
    "p is q"
   ]
  },
  {
   "cell_type": "code",
   "execution_count": 40,
   "id": "ae7ba4f0-45f7-470a-81f9-c81c7240bf5b",
   "metadata": {},
   "outputs": [
    {
     "data": {
      "text/plain": [
       "False"
      ]
     },
     "execution_count": 40,
     "metadata": {},
     "output_type": "execute_result"
    }
   ],
   "source": [
    "q is r"
   ]
  },
  {
   "cell_type": "code",
   "execution_count": 41,
   "id": "13e33b20-db8d-4e87-ba1e-194b0e17e29b",
   "metadata": {},
   "outputs": [
    {
     "data": {
      "text/plain": [
       "False"
      ]
     },
     "execution_count": 41,
     "metadata": {},
     "output_type": "execute_result"
    }
   ],
   "source": [
    "r is p"
   ]
  },
  {
   "cell_type": "code",
   "execution_count": 42,
   "id": "3faeb1b5-ad4e-4e3b-ab8f-90f5d7adc669",
   "metadata": {},
   "outputs": [
    {
     "data": {
      "text/plain": [
       "False"
      ]
     },
     "execution_count": 42,
     "metadata": {},
     "output_type": "execute_result"
    }
   ],
   "source": [
    "p is r"
   ]
  },
  {
   "cell_type": "markdown",
   "id": "8d40ab94-a206-4218-8a70-080c94826b1b",
   "metadata": {},
   "source": [
    "# Membership Operator"
   ]
  },
  {
   "cell_type": "code",
   "execution_count": 43,
   "id": "af1b5bc3-bb78-4e51-983c-bb7fd0a15e2f",
   "metadata": {},
   "outputs": [],
   "source": [
    "list1 = [1, 2, 3, 4, 5, 6, 7, 8, 9]"
   ]
  },
  {
   "cell_type": "code",
   "execution_count": 44,
   "id": "f6923fbb-6e0d-4345-b93d-998bdc5700cd",
   "metadata": {},
   "outputs": [
    {
     "data": {
      "text/plain": [
       "True"
      ]
     },
     "execution_count": 44,
     "metadata": {},
     "output_type": "execute_result"
    }
   ],
   "source": [
    "1 in list1"
   ]
  },
  {
   "cell_type": "code",
   "execution_count": 45,
   "id": "8b47ba43-38a4-428e-843e-404f80354491",
   "metadata": {},
   "outputs": [
    {
     "data": {
      "text/plain": [
       "False"
      ]
     },
     "execution_count": 45,
     "metadata": {},
     "output_type": "execute_result"
    }
   ],
   "source": [
    "11 in list1"
   ]
  },
  {
   "cell_type": "code",
   "execution_count": 46,
   "id": "0993afe9-3a44-4eb3-8686-c2278b697d17",
   "metadata": {},
   "outputs": [
    {
     "data": {
      "text/plain": [
       "False"
      ]
     },
     "execution_count": 46,
     "metadata": {},
     "output_type": "execute_result"
    }
   ],
   "source": [
    "10 in list1"
   ]
  },
  {
   "cell_type": "code",
   "execution_count": 47,
   "id": "d3901042-da97-446a-ae3c-266b4fde0a3a",
   "metadata": {},
   "outputs": [
    {
     "data": {
      "text/plain": [
       "True"
      ]
     },
     "execution_count": 47,
     "metadata": {},
     "output_type": "execute_result"
    }
   ],
   "source": [
    "10 not in list1"
   ]
  },
  {
   "cell_type": "code",
   "execution_count": 48,
   "id": "499fb590-512e-48a7-bc15-30a6278d94eb",
   "metadata": {},
   "outputs": [],
   "source": [
    "set = {11, 12, 34, 56}"
   ]
  },
  {
   "cell_type": "code",
   "execution_count": 49,
   "id": "e7040660-9898-4e27-96bf-fc8e3c3ba015",
   "metadata": {},
   "outputs": [
    {
     "data": {
      "text/plain": [
       "True"
      ]
     },
     "execution_count": 49,
     "metadata": {},
     "output_type": "execute_result"
    }
   ],
   "source": [
    "56 in set"
   ]
  },
  {
   "cell_type": "code",
   "execution_count": 50,
   "id": "c46d69be-c273-4772-ac7c-18f52254d939",
   "metadata": {},
   "outputs": [
    {
     "data": {
      "text/plain": [
       "False"
      ]
     },
     "execution_count": 50,
     "metadata": {},
     "output_type": "execute_result"
    }
   ],
   "source": [
    "57 in set"
   ]
  },
  {
   "cell_type": "code",
   "execution_count": 51,
   "id": "d3318183-7f9b-4f1b-8c86-78e8bd7ff9d3",
   "metadata": {},
   "outputs": [
    {
     "data": {
      "text/plain": [
       "False"
      ]
     },
     "execution_count": 51,
     "metadata": {},
     "output_type": "execute_result"
    }
   ],
   "source": [
    "67 in set"
   ]
  },
  {
   "cell_type": "code",
   "execution_count": 52,
   "id": "91f61b4d-d423-42cc-94f3-7a56ad75560d",
   "metadata": {},
   "outputs": [],
   "source": [
    "str1 = 'python programming'"
   ]
  },
  {
   "cell_type": "code",
   "execution_count": 55,
   "id": "d893bfae-453c-48e7-9e6d-33910fbb8b3d",
   "metadata": {},
   "outputs": [
    {
     "data": {
      "text/plain": [
       "True"
      ]
     },
     "execution_count": 55,
     "metadata": {},
     "output_type": "execute_result"
    }
   ],
   "source": [
    "'m' in str1"
   ]
  },
  {
   "cell_type": "code",
   "execution_count": 56,
   "id": "828e1336-e42b-445f-aa48-c13cf5e8d9b5",
   "metadata": {},
   "outputs": [
    {
     "data": {
      "text/plain": [
       "True"
      ]
     },
     "execution_count": 56,
     "metadata": {},
     "output_type": "execute_result"
    }
   ],
   "source": [
    "'programming' in str1"
   ]
  },
  {
   "cell_type": "code",
   "execution_count": 57,
   "id": "a70d5ef4-c726-4aa2-a116-e25d05a94b7b",
   "metadata": {},
   "outputs": [
    {
     "data": {
      "text/plain": [
       "True"
      ]
     },
     "execution_count": 57,
     "metadata": {},
     "output_type": "execute_result"
    }
   ],
   "source": [
    "'python' in str1"
   ]
  },
  {
   "cell_type": "code",
   "execution_count": 58,
   "id": "3f11c544-538f-46e0-8a67-9cfc3994d736",
   "metadata": {},
   "outputs": [
    {
     "data": {
      "text/plain": [
       "False"
      ]
     },
     "execution_count": 58,
     "metadata": {},
     "output_type": "execute_result"
    }
   ],
   "source": [
    "'Python' in str1"
   ]
  },
  {
   "cell_type": "code",
   "execution_count": 59,
   "id": "379dfd4a-2535-4ea8-9ddd-be3d73185f0e",
   "metadata": {},
   "outputs": [
    {
     "data": {
      "text/plain": [
       "False"
      ]
     },
     "execution_count": 59,
     "metadata": {},
     "output_type": "execute_result"
    }
   ],
   "source": [
    "'PROGRAMMING' in str1"
   ]
  },
  {
   "cell_type": "markdown",
   "id": "c82c5957-c602-41b4-a42d-2286a0d483bc",
   "metadata": {},
   "source": [
    "# Bitwise Operator"
   ]
  },
  {
   "cell_type": "code",
   "execution_count": null,
   "id": "bb8cc1b3-a09f-4f56-9eea-e0e7a59d9471",
   "metadata": {},
   "outputs": [],
   "source": [
    "x = 1010 #10 ; 1011, 1100, 1101, 1110, 1111\n",
    "y = 0101 #5\n",
    "\n",
    "x | y = 1111\n",
    "x & y = 0000"
   ]
  },
  {
   "cell_type": "code",
   "execution_count": 61,
   "id": "c9d1d732-ca4c-4df7-9d2a-beebea5fcc7e",
   "metadata": {},
   "outputs": [
    {
     "data": {
      "text/plain": [
       "15"
      ]
     },
     "execution_count": 61,
     "metadata": {},
     "output_type": "execute_result"
    }
   ],
   "source": [
    "x = 10\n",
    "y = 5\n",
    "\n",
    "x | y"
   ]
  },
  {
   "cell_type": "code",
   "execution_count": 62,
   "id": "5b3beddb-bb9b-4ed4-8f30-0fc9b16fa5c3",
   "metadata": {},
   "outputs": [
    {
     "data": {
      "text/plain": [
       "0"
      ]
     },
     "execution_count": 62,
     "metadata": {},
     "output_type": "execute_result"
    }
   ],
   "source": [
    "x & y"
   ]
  },
  {
   "cell_type": "markdown",
   "id": "1ef614e1-73f7-4a7c-99ff-187042d22dac",
   "metadata": {},
   "source": [
    "# Comparison Operator"
   ]
  },
  {
   "cell_type": "code",
   "execution_count": 63,
   "id": "c454a1e2-5bd0-4734-9343-4bc59220053a",
   "metadata": {},
   "outputs": [
    {
     "data": {
      "text/plain": [
       "True"
      ]
     },
     "execution_count": 63,
     "metadata": {},
     "output_type": "execute_result"
    }
   ],
   "source": [
    "10 == 10"
   ]
  },
  {
   "cell_type": "code",
   "execution_count": 64,
   "id": "e8579705-32af-4076-b447-3c51f022fe5f",
   "metadata": {},
   "outputs": [
    {
     "data": {
      "text/plain": [
       "False"
      ]
     },
     "execution_count": 64,
     "metadata": {},
     "output_type": "execute_result"
    }
   ],
   "source": [
    "10 > 10"
   ]
  },
  {
   "cell_type": "code",
   "execution_count": 65,
   "id": "ba16455a-3e52-499f-aca8-850453a3e332",
   "metadata": {},
   "outputs": [
    {
     "data": {
      "text/plain": [
       "True"
      ]
     },
     "execution_count": 65,
     "metadata": {},
     "output_type": "execute_result"
    }
   ],
   "source": [
    "10 >= 10"
   ]
  },
  {
   "cell_type": "markdown",
   "id": "60fcffa3-fe42-4ad0-973f-f24dddbc7eb8",
   "metadata": {},
   "source": [
    "# Logical Operator"
   ]
  },
  {
   "cell_type": "code",
   "execution_count": 66,
   "id": "8d34f961-e9f0-4c28-8192-49fd86086e06",
   "metadata": {},
   "outputs": [],
   "source": [
    "# is both condition are true thrn it will give true, otherwise false"
   ]
  },
  {
   "cell_type": "code",
   "execution_count": 67,
   "id": "c5262298-17c2-4f42-bf79-d575c552b7e7",
   "metadata": {},
   "outputs": [
    {
     "data": {
      "text/plain": [
       "True"
      ]
     },
     "execution_count": 67,
     "metadata": {},
     "output_type": "execute_result"
    }
   ],
   "source": [
    "10 > 9 and 4<5 "
   ]
  },
  {
   "cell_type": "code",
   "execution_count": 68,
   "id": "bd73e330-d40c-4e9e-8fd1-79e4ca106dd4",
   "metadata": {},
   "outputs": [
    {
     "data": {
      "text/plain": [
       "False"
      ]
     },
     "execution_count": 68,
     "metadata": {},
     "output_type": "execute_result"
    }
   ],
   "source": [
    "not(10 > 9 and 4<5 )"
   ]
  },
  {
   "cell_type": "markdown",
   "id": "6862728d-2b9a-4282-966f-2ca0d9581270",
   "metadata": {},
   "source": [
    "# Assignment Operator "
   ]
  },
  {
   "cell_type": "code",
   "execution_count": 75,
   "id": "ee8fc009-3c09-4895-8e9e-bbd569ebdfc2",
   "metadata": {},
   "outputs": [],
   "source": [
    "x = 10\n",
    "x += 4"
   ]
  },
  {
   "cell_type": "code",
   "execution_count": 76,
   "id": "4719df35-9d1f-421b-bbb7-e4efba75b9bb",
   "metadata": {},
   "outputs": [
    {
     "data": {
      "text/plain": [
       "14"
      ]
     },
     "execution_count": 76,
     "metadata": {},
     "output_type": "execute_result"
    }
   ],
   "source": [
    "x"
   ]
  },
  {
   "cell_type": "code",
   "execution_count": 77,
   "id": "d4db7519-c584-40e3-a00a-721117dab2fb",
   "metadata": {},
   "outputs": [],
   "source": [
    "x = x+4"
   ]
  },
  {
   "cell_type": "code",
   "execution_count": 78,
   "id": "07efa120-9cb9-46a8-be7f-61ddc271c17d",
   "metadata": {},
   "outputs": [
    {
     "data": {
      "text/plain": [
       "18"
      ]
     },
     "execution_count": 78,
     "metadata": {},
     "output_type": "execute_result"
    }
   ],
   "source": [
    "x"
   ]
  }
 ],
 "metadata": {
  "kernelspec": {
   "display_name": "Python 3 (ipykernel)",
   "language": "python",
   "name": "python3"
  },
  "language_info": {
   "codemirror_mode": {
    "name": "ipython",
    "version": 3
   },
   "file_extension": ".py",
   "mimetype": "text/x-python",
   "name": "python",
   "nbconvert_exporter": "python",
   "pygments_lexer": "ipython3",
   "version": "3.12.4"
  }
 },
 "nbformat": 4,
 "nbformat_minor": 5
}
