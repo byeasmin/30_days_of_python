{
 "cells": [
  {
   "cell_type": "markdown",
   "id": "e4318425-be9f-41c1-9171-8d7c86747e8a",
   "metadata": {},
   "source": [
    "# https://github.com/byeasmin/30_days_of_python"
   ]
  },
  {
   "cell_type": "markdown",
   "id": "56eeafd0-86bb-46ec-a64d-a1bdc7d5ec7e",
   "metadata": {},
   "source": [
    "# File Handling"
   ]
  },
  {
   "cell_type": "markdown",
   "id": "b17e8df9-9292-4659-8375-77a1eb1cdbac",
   "metadata": {},
   "source": [
    "# Type1: Reading Text From a File"
   ]
  },
  {
   "cell_type": "markdown",
   "id": "eec57213-865b-4ef1-9ec9-b69894b84f14",
   "metadata": {},
   "source": [
    "Before reading from a file, need to make sure the file exists. This example will show you how to open a text file and read its contents line by line, which is useful for processing files that are too large to fit into memory all at once."
   ]
  },
  {
   "cell_type": "code",
   "execution_count": 9,
   "id": "439b3a4e-d2ba-4312-8903-c7947cf01d0f",
   "metadata": {},
   "outputs": [
    {
     "name": "stdout",
     "output_type": "stream",
     "text": [
      "It's a demo text for testing Day: 29, File handling\n"
     ]
    }
   ],
   "source": [
    "with open('demo_text_file_for_Day_29.txt', 'r') as file:\n",
    "    # Read each line in the file one at a time\n",
    "\n",
    "    for line in file:\n",
    "        # process each line\n",
    "\n",
    "        print(line.strip()) \n",
    "# The strip() method removes any leading/trailing whitespace & newline characters"
   ]
  },
  {
   "cell_type": "markdown",
   "id": "b4fd64ec-2aaa-4653-a713-ac3f56d06c87",
   "metadata": {},
   "source": [
    "This approach uses the \"with statement\" to ensure that the file is properly closed after its suite finishes, even if an exception is raised. It's a best practice for resource management."
   ]
  },
  {
   "cell_type": "markdown",
   "id": "f38f9e4c-1584-4c5b-9808-7314eaa31f1b",
   "metadata": {},
   "source": [
    "# Type2: Writing Text to a File"
   ]
  },
  {
   "cell_type": "markdown",
   "id": "47290e84-3e00-4c60-8003-1ec8d9f8fd3f",
   "metadata": {},
   "source": [
    "Write strings to a file, which is useful for logging, saving outputs, etc. We'll open a file in write mode ('w'), which creates the file if it doesn't exist or truncates it if it does."
   ]
  },
  {
   "cell_type": "code",
   "execution_count": 24,
   "id": "f79540fe-cfa0-4af6-b1d9-2bceca919b60",
   "metadata": {},
   "outputs": [],
   "source": [
    "lines_to_write = [f\"It's a demo text for testing Day: 29, File handling, It is a practice file, python programming\"]"
   ]
  },
  {
   "cell_type": "code",
   "execution_count": 25,
   "id": "39876a8d-5f49-4815-8bae-0cc7d83b8981",
   "metadata": {},
   "outputs": [],
   "source": [
    "# Open the file in write mode ('w')\n",
    "\n",
    "with open('file_handling.txt', 'w') as file:\n",
    "\n",
    "    for line in lines_to_write:\n",
    "        # Write each line to the file with a newline character at the end\n",
    "\n",
    "        file.write(line + ' ')"
   ]
  },
  {
   "cell_type": "markdown",
   "id": "9a8ef05b-b9f9-4fa1-8e2a-41b71cf6bbdc",
   "metadata": {},
   "source": [
    "Using file.write() allows to add text to a file. \n",
    "If need to write multiple lines, might use file.writelines() where can pass a list of strings."
   ]
  },
  {
   "cell_type": "code",
   "execution_count": 28,
   "id": "940efeea-85e7-464c-b201-152fe4c6920e",
   "metadata": {},
   "outputs": [],
   "source": [
    "lines_to_write1 = ['Hi there!.', 'I love Python']"
   ]
  },
  {
   "cell_type": "code",
   "execution_count": 29,
   "id": "86c5809b-ddbf-46cf-ab35-e181cd11b88f",
   "metadata": {},
   "outputs": [],
   "source": [
    "# Open the file in write mode ('w')\n",
    "\n",
    "with open('file_handling_1.txt', 'w') as file:\n",
    "    \n",
    "    for line in lines_to_write1:\n",
    "        \n",
    "        # Write each line to the file with a newline character at the end\n",
    "        file.writelines(line + '\\n')"
   ]
  },
  {
   "cell_type": "markdown",
   "id": "68ba8af4-4a4f-4cbf-aeba-6411567fa0ec",
   "metadata": {},
   "source": [
    "# Type3: Appending Text to an Existing File"
   ]
  },
  {
   "cell_type": "markdown",
   "id": "0c575867-50e4-4a9f-9f0b-e29cdd1d3896",
   "metadata": {},
   "source": [
    "If you want to add text to the end of an existing file without overwriting its contents, you should open the file in append mode ('a'). This example demonstrates how to append multiple lines to an existing file."
   ]
  },
  {
   "cell_type": "code",
   "execution_count": 31,
   "id": "2aa91676-4026-4358-acb3-cffc003548e3",
   "metadata": {},
   "outputs": [],
   "source": [
    "new_text1 = ['Learn data science smartly', 'AI is Future']\n",
    "\n",
    "# Open the file in append mode ('a')\n",
    "with open('file_handling_1.txt', 'a') as file:\n",
    "    for line in new_text1:\n",
    "        # Append each line to the file\n",
    "        file.write(line + '\\n')"
   ]
  },
  {
   "cell_type": "markdown",
   "id": "cba853ec-023c-4774-926c-1a32a823b67e",
   "metadata": {},
   "source": [
    "This method is particularly useful for logging scenarios where new entries need to be added to a log file over time without losing the existing data."
   ]
  }
 ],
 "metadata": {
  "kernelspec": {
   "display_name": "Python 3 (ipykernel)",
   "language": "python",
   "name": "python3"
  },
  "language_info": {
   "codemirror_mode": {
    "name": "ipython",
    "version": 3
   },
   "file_extension": ".py",
   "mimetype": "text/x-python",
   "name": "python",
   "nbconvert_exporter": "python",
   "pygments_lexer": "ipython3",
   "version": "3.12.4"
  },
  "widgets": {
   "application/vnd.jupyter.widget-state+json": {
    "state": {},
    "version_major": 2,
    "version_minor": 0
   }
  }
 },
 "nbformat": 4,
 "nbformat_minor": 5
}
