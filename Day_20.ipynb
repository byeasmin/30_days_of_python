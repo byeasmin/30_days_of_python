{
 "cells": [
  {
   "cell_type": "markdown",
   "id": "fdc59c61-c248-4072-a329-58bf03174a05",
   "metadata": {},
   "source": [
    "# https://github.com/byeasmin/30_days_of_python"
   ]
  },
  {
   "cell_type": "markdown",
   "id": "b9002c03-4769-4a96-b1cd-37854ad2d33c",
   "metadata": {},
   "source": [
    "# List Manipulation"
   ]
  },
  {
   "cell_type": "markdown",
   "id": "b5c80c52-0fb7-4fe9-a6bd-3ece918e71d2",
   "metadata": {},
   "source": [
    "### Question: ###\n",
    "Create a function named remove_duplicates. It will take a list (input_list) as it's parameter. It then iterates through the elements of the input list and appends each unique element to a new list (unique_list). The new list is then returned. "
   ]
  },
  {
   "cell_type": "code",
   "execution_count": 1,
   "id": "3d2a5466-a4b2-412b-9a70-786ffa0d924f",
   "metadata": {},
   "outputs": [],
   "source": [
    "x = [12, 23, 5, 6]"
   ]
  },
  {
   "cell_type": "code",
   "execution_count": 2,
   "id": "595857a2-a9f0-412d-afad-b138a85e7176",
   "metadata": {},
   "outputs": [
    {
     "data": {
      "text/plain": [
       "True"
      ]
     },
     "execution_count": 2,
     "metadata": {},
     "output_type": "execute_result"
    }
   ],
   "source": [
    "6 in x"
   ]
  },
  {
   "cell_type": "code",
   "execution_count": 3,
   "id": "30593203-0509-4411-a562-5fe1039b4f7a",
   "metadata": {},
   "outputs": [
    {
     "data": {
      "text/plain": [
       "False"
      ]
     },
     "execution_count": 3,
     "metadata": {},
     "output_type": "execute_result"
    }
   ],
   "source": [
    "6 not in x"
   ]
  },
  {
   "cell_type": "code",
   "execution_count": 4,
   "id": "d7658354-afc5-449f-82f7-313717452008",
   "metadata": {},
   "outputs": [],
   "source": [
    "def remove_duplicates(input_list):\n",
    "    unique_list = []\n",
    "\n",
    "    for item in input_list:\n",
    "        if item not in unique_list:\n",
    "            unique_list.append(item)\n",
    "    return unique_list"
   ]
  },
  {
   "cell_type": "code",
   "execution_count": 5,
   "id": "438a3378-399f-46a7-a916-4624d20832bd",
   "metadata": {},
   "outputs": [
    {
     "data": {
      "text/plain": [
       "[12, 34, 67, 8, 9, 2]"
      ]
     },
     "execution_count": 5,
     "metadata": {},
     "output_type": "execute_result"
    }
   ],
   "source": [
    "input_list = [12, 34, 34, 34, 67, 8, 8, 8, 9, 2]\n",
    "remove_duplicates(input_list)"
   ]
  },
  {
   "cell_type": "code",
   "execution_count": 6,
   "id": "de86016e-c1a3-445c-8a56-f972a3ce2f55",
   "metadata": {},
   "outputs": [
    {
     "name": "stdout",
     "output_type": "stream",
     "text": [
      "Real list [12, 34, 34, 34, 67, 8, 8, 8, 9, 2]\n",
      "Unique list [12, 34, 67, 8, 9, 2]\n"
     ]
    }
   ],
   "source": [
    "print(f'Real list {input_list}')\n",
    "print(f'Unique list {remove_duplicates(input_list)}')"
   ]
  },
  {
   "cell_type": "markdown",
   "id": "e38abe7d-0042-4984-a088-e0732d3c1618",
   "metadata": {},
   "source": [
    "# Question:\n",
    "Double Elements using list comprehension"
   ]
  },
  {
   "cell_type": "code",
   "execution_count": 11,
   "id": "1e16d83c-0829-46e0-8535-ce01c93810d0",
   "metadata": {},
   "outputs": [],
   "source": [
    "def double_elements(input_list):\n",
    "    double_list = [2 * x for x in input_list]\n",
    "    return double_list"
   ]
  },
  {
   "cell_type": "code",
   "execution_count": 12,
   "id": "05495306-de50-4bc2-a220-08f937f90b94",
   "metadata": {},
   "outputs": [
    {
     "data": {
      "text/plain": [
       "[24, 68, 68, 68, 134, 16, 16, 16, 18, 4]"
      ]
     },
     "execution_count": 12,
     "metadata": {},
     "output_type": "execute_result"
    }
   ],
   "source": [
    "input_list = [12, 34, 34, 34, 67, 8, 8, 8, 9, 2]\n",
    "double_elements(input_list)"
   ]
  }
 ],
 "metadata": {
  "kernelspec": {
   "display_name": "Python 3 (ipykernel)",
   "language": "python",
   "name": "python3"
  },
  "language_info": {
   "codemirror_mode": {
    "name": "ipython",
    "version": 3
   },
   "file_extension": ".py",
   "mimetype": "text/x-python",
   "name": "python",
   "nbconvert_exporter": "python",
   "pygments_lexer": "ipython3",
   "version": "3.12.4"
  },
  "widgets": {
   "application/vnd.jupyter.widget-state+json": {
    "state": {},
    "version_major": 2,
    "version_minor": 0
   }
  }
 },
 "nbformat": 4,
 "nbformat_minor": 5
}
