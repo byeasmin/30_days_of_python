{
 "cells": [
  {
   "cell_type": "markdown",
   "id": "ce47cf3f-449f-4b7c-be82-1bfd6d38f7fb",
   "metadata": {},
   "source": [
    "# https://github.com/byeasmin/30_days_of_python"
   ]
  },
  {
   "cell_type": "markdown",
   "id": "452d3a1e-53c3-42c7-a73c-320e3a64e1a4",
   "metadata": {},
   "source": [
    "# 25 Commonly used built in function"
   ]
  },
  {
   "cell_type": "markdown",
   "id": "13436073-b687-4587-ab4e-469b38c6a35b",
   "metadata": {},
   "source": [
    "## 1. print(): Output text or variables to the console "
   ]
  },
  {
   "cell_type": "code",
   "execution_count": 1,
   "id": "6b49e756-695a-4762-9560-ad56c8459f22",
   "metadata": {},
   "outputs": [
    {
     "name": "stdout",
     "output_type": "stream",
     "text": [
      "python\n"
     ]
    }
   ],
   "source": [
    "print('python')"
   ]
  },
  {
   "cell_type": "markdown",
   "id": "d2f46322-4e24-4a93-b2fa-5b8dea5643fe",
   "metadata": {},
   "source": [
    "## 2. len(): Returns the length of an object"
   ]
  },
  {
   "cell_type": "code",
   "execution_count": 3,
   "id": "05c29ce4-50af-42cf-ba6a-4bb5bbfd980c",
   "metadata": {},
   "outputs": [],
   "source": [
    "my_list = [1, 2, 3, 4, 5]\n",
    "length = len(my_list)"
   ]
  },
  {
   "cell_type": "code",
   "execution_count": 4,
   "id": "626f25fc-5fb1-4c56-bc72-4cd154f3d606",
   "metadata": {},
   "outputs": [
    {
     "data": {
      "text/plain": [
       "5"
      ]
     },
     "execution_count": 4,
     "metadata": {},
     "output_type": "execute_result"
    }
   ],
   "source": [
    "length"
   ]
  },
  {
   "cell_type": "markdown",
   "id": "e82b6a3b-a751-4f28-a44b-541b052d4916",
   "metadata": {},
   "source": [
    "## 3. input(): Reads input from the user"
   ]
  },
  {
   "cell_type": "code",
   "execution_count": 5,
   "id": "1b01aef3-be27-46c6-bd63-c631ed60a9fd",
   "metadata": {},
   "outputs": [
    {
     "name": "stdin",
     "output_type": "stream",
     "text": [
      "Enter something :  benin\n"
     ]
    }
   ],
   "source": [
    "user_input = input('Enter something : ')"
   ]
  },
  {
   "cell_type": "code",
   "execution_count": 7,
   "id": "4d62ede4-de0d-4f10-97b5-d814f27328b9",
   "metadata": {},
   "outputs": [
    {
     "data": {
      "text/plain": [
       "'benin'"
      ]
     },
     "execution_count": 7,
     "metadata": {},
     "output_type": "execute_result"
    }
   ],
   "source": [
    "user_input"
   ]
  },
  {
   "cell_type": "markdown",
   "id": "c64ad599-3ffa-4b81-b6ec-d60b90df5364",
   "metadata": {},
   "source": [
    "## 4. type(): Returns the type of an object"
   ]
  },
  {
   "cell_type": "code",
   "execution_count": 8,
   "id": "a68aa0b0-34d0-4b7f-8cc5-b640d56ab4ff",
   "metadata": {},
   "outputs": [
    {
     "data": {
      "text/plain": [
       "int"
      ]
     },
     "execution_count": 8,
     "metadata": {},
     "output_type": "execute_result"
    }
   ],
   "source": [
    "x = 5\n",
    "type(x)"
   ]
  },
  {
   "cell_type": "markdown",
   "id": "e3db7632-66b9-4ddb-95fd-7ca61e23aa77",
   "metadata": {},
   "source": [
    "## 5. int(), float(), str(): Converts values to integers, floats or strings"
   ]
  },
  {
   "cell_type": "code",
   "execution_count": 20,
   "id": "c18eca75-3b4c-4e83-a58b-34542ec1c250",
   "metadata": {},
   "outputs": [],
   "source": [
    "string = '13'"
   ]
  },
  {
   "cell_type": "code",
   "execution_count": 21,
   "id": "5a64c2a2-84dc-4db3-9712-08d88f59a0f7",
   "metadata": {},
   "outputs": [
    {
     "data": {
      "text/plain": [
       "str"
      ]
     },
     "execution_count": 21,
     "metadata": {},
     "output_type": "execute_result"
    }
   ],
   "source": [
    "type(string)"
   ]
  },
  {
   "cell_type": "code",
   "execution_count": 22,
   "id": "3ecc4ac6-8f53-47c7-ba3e-e260223a9c99",
   "metadata": {},
   "outputs": [
    {
     "data": {
      "text/plain": [
       "'13'"
      ]
     },
     "execution_count": 22,
     "metadata": {},
     "output_type": "execute_result"
    }
   ],
   "source": [
    "string"
   ]
  },
  {
   "cell_type": "code",
   "execution_count": 23,
   "id": "b9c1c3d6-f55b-4b1f-8fd1-3af0c9b268e2",
   "metadata": {},
   "outputs": [],
   "source": [
    "integer = int(string)"
   ]
  },
  {
   "cell_type": "code",
   "execution_count": 24,
   "id": "62e44e1d-e0fd-4be2-be83-04a0e0383fce",
   "metadata": {},
   "outputs": [
    {
     "data": {
      "text/plain": [
       "int"
      ]
     },
     "execution_count": 24,
     "metadata": {},
     "output_type": "execute_result"
    }
   ],
   "source": [
    "type(integer)"
   ]
  },
  {
   "cell_type": "code",
   "execution_count": 25,
   "id": "2fa86c6f-bc71-4d4e-812d-b5e97508fd80",
   "metadata": {},
   "outputs": [
    {
     "data": {
      "text/plain": [
       "13"
      ]
     },
     "execution_count": 25,
     "metadata": {},
     "output_type": "execute_result"
    }
   ],
   "source": [
    "integer"
   ]
  },
  {
   "cell_type": "code",
   "execution_count": 26,
   "id": "9e584813-e181-4898-838f-01f970b1806f",
   "metadata": {},
   "outputs": [],
   "source": [
    "floating = float(integer)"
   ]
  },
  {
   "cell_type": "code",
   "execution_count": 27,
   "id": "40514ddd-30f1-435b-9438-022c67c381bd",
   "metadata": {},
   "outputs": [
    {
     "data": {
      "text/plain": [
       "float"
      ]
     },
     "execution_count": 27,
     "metadata": {},
     "output_type": "execute_result"
    }
   ],
   "source": [
    "type(floating)"
   ]
  },
  {
   "cell_type": "code",
   "execution_count": 28,
   "id": "ff74ecec-034e-42c1-8d35-fb15f53a29ce",
   "metadata": {},
   "outputs": [
    {
     "data": {
      "text/plain": [
       "13.0"
      ]
     },
     "execution_count": 28,
     "metadata": {},
     "output_type": "execute_result"
    }
   ],
   "source": [
    "floating"
   ]
  },
  {
   "cell_type": "markdown",
   "id": "33c6cf5a-a377-4ce3-b5da-cfa7b3c0beac",
   "metadata": {},
   "source": [
    "## 6. range(): Generates a sequence of numbers"
   ]
  },
  {
   "cell_type": "code",
   "execution_count": 29,
   "id": "79e909ad-cfaa-4f80-b1f7-cd4864ecebb6",
   "metadata": {},
   "outputs": [],
   "source": [
    " numbers = range(1, 10)"
   ]
  },
  {
   "cell_type": "code",
   "execution_count": 30,
   "id": "e20dd86f-8982-43b3-9892-23215b9ce055",
   "metadata": {},
   "outputs": [
    {
     "data": {
      "text/plain": [
       "range(1, 10)"
      ]
     },
     "execution_count": 30,
     "metadata": {},
     "output_type": "execute_result"
    }
   ],
   "source": [
    "numbers"
   ]
  },
  {
   "cell_type": "code",
   "execution_count": 31,
   "id": "0522b7b9-4ab9-4e69-a423-fc509f1bfe22",
   "metadata": {},
   "outputs": [
    {
     "name": "stdout",
     "output_type": "stream",
     "text": [
      "[1, 2, 3, 4, 5, 6, 7, 8, 9]\n"
     ]
    }
   ],
   "source": [
    "print(list(numbers))"
   ]
  },
  {
   "cell_type": "markdown",
   "id": "b0419db3-4d95-48f9-9233-ad4cd93e781a",
   "metadata": {},
   "source": [
    "## 7. sum(): returns the sum of all elements in an iterable"
   ]
  },
  {
   "cell_type": "code",
   "execution_count": 32,
   "id": "2d9fcfaa-1107-460f-8c0a-68ed39a02744",
   "metadata": {},
   "outputs": [
    {
     "data": {
      "text/plain": [
       "15"
      ]
     },
     "execution_count": 32,
     "metadata": {},
     "output_type": "execute_result"
    }
   ],
   "source": [
    "my_list = [1, 2, 3, 4, 5]\n",
    "total = sum(my_list)\n",
    "total"
   ]
  },
  {
   "cell_type": "code",
   "execution_count": null,
   "id": "f0069dca-21c9-464f-b181-21443296855f",
   "metadata": {},
   "outputs": [],
   "source": [
    "## 8. max(), min(): Returns the maximum or minimum value from an "
   ]
  }
 ],
 "metadata": {
  "kernelspec": {
   "display_name": "Python 3 (ipykernel)",
   "language": "python",
   "name": "python3"
  },
  "language_info": {
   "codemirror_mode": {
    "name": "ipython",
    "version": 3
   },
   "file_extension": ".py",
   "mimetype": "text/x-python",
   "name": "python",
   "nbconvert_exporter": "python",
   "pygments_lexer": "ipython3",
   "version": "3.12.4"
  },
  "widgets": {
   "application/vnd.jupyter.widget-state+json": {
    "state": {},
    "version_major": 2,
    "version_minor": 0
   }
  }
 },
 "nbformat": 4,
 "nbformat_minor": 5
}
