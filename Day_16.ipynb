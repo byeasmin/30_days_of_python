{
 "cells": [
  {
   "cell_type": "markdown",
   "id": "ce47cf3f-449f-4b7c-be82-1bfd6d38f7fb",
   "metadata": {},
   "source": [
    "# https://github.com/byeasmin/30_days_of_python"
   ]
  },
  {
   "cell_type": "markdown",
   "id": "452d3a1e-53c3-42c7-a73c-320e3a64e1a4",
   "metadata": {},
   "source": [
    "# 24 Commonly used built in function"
   ]
  },
  {
   "cell_type": "markdown",
   "id": "13436073-b687-4587-ab4e-469b38c6a35b",
   "metadata": {},
   "source": [
    "## 1. print(): Output text or variables to the console "
   ]
  },
  {
   "cell_type": "code",
   "execution_count": 1,
   "id": "6b49e756-695a-4762-9560-ad56c8459f22",
   "metadata": {},
   "outputs": [
    {
     "name": "stdout",
     "output_type": "stream",
     "text": [
      "python\n"
     ]
    }
   ],
   "source": [
    "print('python')"
   ]
  },
  {
   "cell_type": "markdown",
   "id": "d2f46322-4e24-4a93-b2fa-5b8dea5643fe",
   "metadata": {},
   "source": [
    "## 2. len(): Returns the length of an object"
   ]
  },
  {
   "cell_type": "code",
   "execution_count": 3,
   "id": "05c29ce4-50af-42cf-ba6a-4bb5bbfd980c",
   "metadata": {},
   "outputs": [],
   "source": [
    "my_list = [1, 2, 3, 4, 5]\n",
    "length = len(my_list)"
   ]
  },
  {
   "cell_type": "code",
   "execution_count": 4,
   "id": "626f25fc-5fb1-4c56-bc72-4cd154f3d606",
   "metadata": {},
   "outputs": [
    {
     "data": {
      "text/plain": [
       "5"
      ]
     },
     "execution_count": 4,
     "metadata": {},
     "output_type": "execute_result"
    }
   ],
   "source": [
    "length"
   ]
  },
  {
   "cell_type": "markdown",
   "id": "e82b6a3b-a751-4f28-a44b-541b052d4916",
   "metadata": {},
   "source": [
    "## 3. input(): Reads input from the user"
   ]
  },
  {
   "cell_type": "code",
   "execution_count": 5,
   "id": "1b01aef3-be27-46c6-bd63-c631ed60a9fd",
   "metadata": {},
   "outputs": [
    {
     "name": "stdin",
     "output_type": "stream",
     "text": [
      "Enter something :  benin\n"
     ]
    }
   ],
   "source": [
    "user_input = input('Enter something : ')"
   ]
  },
  {
   "cell_type": "code",
   "execution_count": 7,
   "id": "4d62ede4-de0d-4f10-97b5-d814f27328b9",
   "metadata": {},
   "outputs": [
    {
     "data": {
      "text/plain": [
       "'benin'"
      ]
     },
     "execution_count": 7,
     "metadata": {},
     "output_type": "execute_result"
    }
   ],
   "source": [
    "user_input"
   ]
  },
  {
   "cell_type": "markdown",
   "id": "c64ad599-3ffa-4b81-b6ec-d60b90df5364",
   "metadata": {},
   "source": [
    "## 4. type(): Returns the type of an object"
   ]
  },
  {
   "cell_type": "code",
   "execution_count": 8,
   "id": "a68aa0b0-34d0-4b7f-8cc5-b640d56ab4ff",
   "metadata": {},
   "outputs": [
    {
     "data": {
      "text/plain": [
       "int"
      ]
     },
     "execution_count": 8,
     "metadata": {},
     "output_type": "execute_result"
    }
   ],
   "source": [
    "x = 5\n",
    "type(x)"
   ]
  },
  {
   "cell_type": "markdown",
   "id": "e3db7632-66b9-4ddb-95fd-7ca61e23aa77",
   "metadata": {},
   "source": [
    "## 5. int(), float(), str(): Converts values to integers, floats or strings"
   ]
  },
  {
   "cell_type": "code",
   "execution_count": 20,
   "id": "c18eca75-3b4c-4e83-a58b-34542ec1c250",
   "metadata": {},
   "outputs": [],
   "source": [
    "string = '13'"
   ]
  },
  {
   "cell_type": "code",
   "execution_count": 21,
   "id": "5a64c2a2-84dc-4db3-9712-08d88f59a0f7",
   "metadata": {},
   "outputs": [
    {
     "data": {
      "text/plain": [
       "str"
      ]
     },
     "execution_count": 21,
     "metadata": {},
     "output_type": "execute_result"
    }
   ],
   "source": [
    "type(string)"
   ]
  },
  {
   "cell_type": "code",
   "execution_count": 22,
   "id": "3ecc4ac6-8f53-47c7-ba3e-e260223a9c99",
   "metadata": {},
   "outputs": [
    {
     "data": {
      "text/plain": [
       "'13'"
      ]
     },
     "execution_count": 22,
     "metadata": {},
     "output_type": "execute_result"
    }
   ],
   "source": [
    "string"
   ]
  },
  {
   "cell_type": "code",
   "execution_count": 23,
   "id": "b9c1c3d6-f55b-4b1f-8fd1-3af0c9b268e2",
   "metadata": {},
   "outputs": [],
   "source": [
    "integer = int(string)"
   ]
  },
  {
   "cell_type": "code",
   "execution_count": 24,
   "id": "62e44e1d-e0fd-4be2-be83-04a0e0383fce",
   "metadata": {},
   "outputs": [
    {
     "data": {
      "text/plain": [
       "int"
      ]
     },
     "execution_count": 24,
     "metadata": {},
     "output_type": "execute_result"
    }
   ],
   "source": [
    "type(integer)"
   ]
  },
  {
   "cell_type": "code",
   "execution_count": 25,
   "id": "2fa86c6f-bc71-4d4e-812d-b5e97508fd80",
   "metadata": {},
   "outputs": [
    {
     "data": {
      "text/plain": [
       "13"
      ]
     },
     "execution_count": 25,
     "metadata": {},
     "output_type": "execute_result"
    }
   ],
   "source": [
    "integer"
   ]
  },
  {
   "cell_type": "code",
   "execution_count": 26,
   "id": "9e584813-e181-4898-838f-01f970b1806f",
   "metadata": {},
   "outputs": [],
   "source": [
    "floating = float(integer)"
   ]
  },
  {
   "cell_type": "code",
   "execution_count": 27,
   "id": "40514ddd-30f1-435b-9438-022c67c381bd",
   "metadata": {},
   "outputs": [
    {
     "data": {
      "text/plain": [
       "float"
      ]
     },
     "execution_count": 27,
     "metadata": {},
     "output_type": "execute_result"
    }
   ],
   "source": [
    "type(floating)"
   ]
  },
  {
   "cell_type": "code",
   "execution_count": 28,
   "id": "ff74ecec-034e-42c1-8d35-fb15f53a29ce",
   "metadata": {},
   "outputs": [
    {
     "data": {
      "text/plain": [
       "13.0"
      ]
     },
     "execution_count": 28,
     "metadata": {},
     "output_type": "execute_result"
    }
   ],
   "source": [
    "floating"
   ]
  },
  {
   "cell_type": "markdown",
   "id": "33c6cf5a-a377-4ce3-b5da-cfa7b3c0beac",
   "metadata": {},
   "source": [
    "## 6. range(): Generates a sequence of numbers"
   ]
  },
  {
   "cell_type": "code",
   "execution_count": 29,
   "id": "79e909ad-cfaa-4f80-b1f7-cd4864ecebb6",
   "metadata": {},
   "outputs": [],
   "source": [
    " numbers = range(1, 10)"
   ]
  },
  {
   "cell_type": "code",
   "execution_count": 30,
   "id": "e20dd86f-8982-43b3-9892-23215b9ce055",
   "metadata": {},
   "outputs": [
    {
     "data": {
      "text/plain": [
       "range(1, 10)"
      ]
     },
     "execution_count": 30,
     "metadata": {},
     "output_type": "execute_result"
    }
   ],
   "source": [
    "numbers"
   ]
  },
  {
   "cell_type": "code",
   "execution_count": 31,
   "id": "0522b7b9-4ab9-4e69-a423-fc509f1bfe22",
   "metadata": {},
   "outputs": [
    {
     "name": "stdout",
     "output_type": "stream",
     "text": [
      "[1, 2, 3, 4, 5, 6, 7, 8, 9]\n"
     ]
    }
   ],
   "source": [
    "print(list(numbers))"
   ]
  },
  {
   "cell_type": "markdown",
   "id": "b0419db3-4d95-48f9-9233-ad4cd93e781a",
   "metadata": {},
   "source": [
    "## 7. sum(): returns the sum of all elements in an iterable"
   ]
  },
  {
   "cell_type": "code",
   "execution_count": 32,
   "id": "2d9fcfaa-1107-460f-8c0a-68ed39a02744",
   "metadata": {},
   "outputs": [
    {
     "data": {
      "text/plain": [
       "15"
      ]
     },
     "execution_count": 32,
     "metadata": {},
     "output_type": "execute_result"
    }
   ],
   "source": [
    "my_list = [1, 2, 3, 4, 5]\n",
    "total = sum(my_list)\n",
    "total"
   ]
  },
  {
   "cell_type": "markdown",
   "id": "bdd94e98-31e5-45a0-bb8f-f50697ab5ca9",
   "metadata": {},
   "source": [
    "## 8. max(), min(): Returns the maximum or minimum value from an iterable"
   ]
  },
  {
   "cell_type": "code",
   "execution_count": 1,
   "id": "402515dc-81cb-4851-abe3-323a6176468f",
   "metadata": {},
   "outputs": [],
   "source": [
    "numbers = [1, 2, 3, 4, 8, 9, 6]"
   ]
  },
  {
   "cell_type": "code",
   "execution_count": 2,
   "id": "265ab835-180a-45c6-93c7-23f798414337",
   "metadata": {},
   "outputs": [],
   "source": [
    "max_val = max(numbers)"
   ]
  },
  {
   "cell_type": "code",
   "execution_count": 3,
   "id": "26ded9da-7afc-4056-8d5d-49416398b86d",
   "metadata": {},
   "outputs": [
    {
     "data": {
      "text/plain": [
       "9"
      ]
     },
     "execution_count": 3,
     "metadata": {},
     "output_type": "execute_result"
    }
   ],
   "source": [
    "max_val"
   ]
  },
  {
   "cell_type": "code",
   "execution_count": 4,
   "id": "f504567c-8350-4368-ac16-68fa260cf469",
   "metadata": {},
   "outputs": [],
   "source": [
    "min_val = min(numbers)"
   ]
  },
  {
   "cell_type": "code",
   "execution_count": 5,
   "id": "3cf594ed-660d-4784-aa96-13ad33a0bbd7",
   "metadata": {},
   "outputs": [
    {
     "data": {
      "text/plain": [
       "1"
      ]
     },
     "execution_count": 5,
     "metadata": {},
     "output_type": "execute_result"
    }
   ],
   "source": [
    "min_val"
   ]
  },
  {
   "cell_type": "markdown",
   "id": "612c493c-1e40-48ae-ac2c-2c5235198f1e",
   "metadata": {},
   "source": [
    "# 9. abs(): Returns the absolute value of number"
   ]
  },
  {
   "cell_type": "code",
   "execution_count": 6,
   "id": "4625069d-8d5b-499d-984a-80c0e1f7e8b3",
   "metadata": {},
   "outputs": [],
   "source": [
    "absolute_value = abs(-10)"
   ]
  },
  {
   "cell_type": "code",
   "execution_count": 7,
   "id": "0cf63082-04c5-423c-a01c-18bcafb2b1cd",
   "metadata": {},
   "outputs": [
    {
     "data": {
      "text/plain": [
       "10"
      ]
     },
     "execution_count": 7,
     "metadata": {},
     "output_type": "execute_result"
    }
   ],
   "source": [
    "absolute_value"
   ]
  },
  {
   "cell_type": "markdown",
   "id": "c92ebe7d-c43d-41b3-8f67-7a85d3e7bd58",
   "metadata": {},
   "source": [
    "# 10. round(): Rounds a floating - point number to specified number od decimmals"
   ]
  },
  {
   "cell_type": "code",
   "execution_count": 1,
   "id": "c3d2d339-0182-4efc-a1f2-b48d48c1f703",
   "metadata": {},
   "outputs": [],
   "source": [
    "rounded_num = round(3.98076154, 2) # round 2 decimal places"
   ]
  },
  {
   "cell_type": "code",
   "execution_count": 2,
   "id": "81591415-bc13-438f-8463-6454eab96177",
   "metadata": {},
   "outputs": [
    {
     "data": {
      "text/plain": [
       "3.98"
      ]
     },
     "execution_count": 2,
     "metadata": {},
     "output_type": "execute_result"
    }
   ],
   "source": [
    "rounded_num"
   ]
  },
  {
   "cell_type": "markdown",
   "id": "5cdd28fa-cca8-4ec4-8ef7-7d16dd440d6d",
   "metadata": {},
   "source": [
    "# 11. sorted(): Returns a new sorted list from the elements of an iterable"
   ]
  },
  {
   "cell_type": "code",
   "execution_count": 3,
   "id": "e8ae77dc-650f-4033-b860-0efc58b10632",
   "metadata": {},
   "outputs": [],
   "source": [
    "numbers = [32, 78, 65, 4, 15, 2]"
   ]
  },
  {
   "cell_type": "code",
   "execution_count": 4,
   "id": "44afbf3c-3855-4cc3-bf08-3b0381120fb6",
   "metadata": {},
   "outputs": [],
   "source": [
    "sorted_numbers = sorted(numbers)"
   ]
  },
  {
   "cell_type": "code",
   "execution_count": 5,
   "id": "ef5d00cf-5cda-4c0c-b16f-ff17eef3e462",
   "metadata": {},
   "outputs": [
    {
     "data": {
      "text/plain": [
       "[2, 4, 15, 32, 65, 78]"
      ]
     },
     "execution_count": 5,
     "metadata": {},
     "output_type": "execute_result"
    }
   ],
   "source": [
    "sorted_numbers"
   ]
  },
  {
   "cell_type": "markdown",
   "id": "1f326dfa-8d45-4e3f-8720-48fd598c83d1",
   "metadata": {},
   "source": [
    "# 12. any(), all(): Returns True if any or all elements in an iterable are true"
   ]
  },
  {
   "cell_type": "code",
   "execution_count": 6,
   "id": "f170cc61-0762-4666-9d1a-a1a15ab44508",
   "metadata": {},
   "outputs": [],
   "source": [
    "bool_list = [True, False, True, True, False]"
   ]
  },
  {
   "cell_type": "code",
   "execution_count": 7,
   "id": "f88c8d86-f01d-416a-81e6-b008b3316508",
   "metadata": {},
   "outputs": [],
   "source": [
    "any_true = any(bool_list)"
   ]
  },
  {
   "cell_type": "code",
   "execution_count": 8,
   "id": "21a1b9c7-374f-4af3-a9e1-6eb5ba85dae9",
   "metadata": {},
   "outputs": [
    {
     "data": {
      "text/plain": [
       "True"
      ]
     },
     "execution_count": 8,
     "metadata": {},
     "output_type": "execute_result"
    }
   ],
   "source": [
    "any_true"
   ]
  },
  {
   "cell_type": "code",
   "execution_count": 9,
   "id": "fe14738e-5526-492c-b694-2383cc674d91",
   "metadata": {},
   "outputs": [],
   "source": [
    "all_true = all(bool_list)"
   ]
  },
  {
   "cell_type": "code",
   "execution_count": 10,
   "id": "8a81d7c4-ca14-4bfa-905a-7b3546a47b1a",
   "metadata": {},
   "outputs": [
    {
     "data": {
      "text/plain": [
       "False"
      ]
     },
     "execution_count": 10,
     "metadata": {},
     "output_type": "execute_result"
    }
   ],
   "source": [
    "all_true"
   ]
  },
  {
   "cell_type": "code",
   "execution_count": 11,
   "id": "11b270d8-3e70-4a15-98da-200561e21ba3",
   "metadata": {},
   "outputs": [],
   "source": [
    "bool_list1 = [False, False, False, False, False]"
   ]
  },
  {
   "cell_type": "code",
   "execution_count": 14,
   "id": "d0603b7c-0ca0-42dc-8999-400d6f7711b5",
   "metadata": {},
   "outputs": [],
   "source": [
    "any_true = any(bool_list1)"
   ]
  },
  {
   "cell_type": "code",
   "execution_count": 15,
   "id": "daf57192-9223-4c17-9b82-11f691b15658",
   "metadata": {},
   "outputs": [
    {
     "data": {
      "text/plain": [
       "False"
      ]
     },
     "execution_count": 15,
     "metadata": {},
     "output_type": "execute_result"
    }
   ],
   "source": [
    "any_true"
   ]
  },
  {
   "cell_type": "code",
   "execution_count": 16,
   "id": "66174d97-504a-4709-afde-1c36ffd3953c",
   "metadata": {},
   "outputs": [],
   "source": [
    "all_true = all(bool_list1)"
   ]
  },
  {
   "cell_type": "code",
   "execution_count": 17,
   "id": "c309d829-691a-4930-b8b1-1c0be9ff3ae8",
   "metadata": {},
   "outputs": [
    {
     "data": {
      "text/plain": [
       "False"
      ]
     },
     "execution_count": 17,
     "metadata": {},
     "output_type": "execute_result"
    }
   ],
   "source": [
    "all_true"
   ]
  },
  {
   "cell_type": "code",
   "execution_count": 18,
   "id": "329d9f93-a669-4315-9744-2615b197308f",
   "metadata": {},
   "outputs": [],
   "source": [
    "bool_list2 = [True, True, True, True, True]"
   ]
  },
  {
   "cell_type": "code",
   "execution_count": 19,
   "id": "b83979a4-e4d8-49a5-aed8-41c776ec6063",
   "metadata": {},
   "outputs": [],
   "source": [
    "any_true = any(bool_list2)"
   ]
  },
  {
   "cell_type": "code",
   "execution_count": 20,
   "id": "bee2b575-588c-4dea-a0ea-78c6179004f2",
   "metadata": {},
   "outputs": [
    {
     "data": {
      "text/plain": [
       "True"
      ]
     },
     "execution_count": 20,
     "metadata": {},
     "output_type": "execute_result"
    }
   ],
   "source": [
    "any_true"
   ]
  },
  {
   "cell_type": "code",
   "execution_count": 22,
   "id": "693b4fcc-28db-42c5-8507-c44ac8ab72dc",
   "metadata": {},
   "outputs": [],
   "source": [
    "all_true = all(bool_list2)"
   ]
  },
  {
   "cell_type": "code",
   "execution_count": 23,
   "id": "01eb1649-e043-4884-a46f-d2c5f5f4340b",
   "metadata": {},
   "outputs": [
    {
     "data": {
      "text/plain": [
       "True"
      ]
     },
     "execution_count": 23,
     "metadata": {},
     "output_type": "execute_result"
    }
   ],
   "source": [
    "all_true"
   ]
  },
  {
   "cell_type": "markdown",
   "id": "9721b535-3e8b-4382-adb5-f160c13738be",
   "metadata": {},
   "source": [
    "# 13. str.join(): Joins the elements of an iterable with a string as a separator"
   ]
  },
  {
   "cell_type": "code",
   "execution_count": 24,
   "id": "753abf99-a7cd-4130-a630-c9e872255750",
   "metadata": {},
   "outputs": [],
   "source": [
    "my_list = ['apple', 'banana', 'orange']"
   ]
  },
  {
   "cell_type": "code",
   "execution_count": 27,
   "id": "ad47e236-9a85-4dec-bfe6-bbdf6bfec3cd",
   "metadata": {},
   "outputs": [],
   "source": [
    "joined_str = ', '.join(my_list)"
   ]
  },
  {
   "cell_type": "code",
   "execution_count": 28,
   "id": "55cbebe2-94c7-47dd-ac27-c38ddce9d1db",
   "metadata": {},
   "outputs": [
    {
     "data": {
      "text/plain": [
       "'apple, banana, orange'"
      ]
     },
     "execution_count": 28,
     "metadata": {},
     "output_type": "execute_result"
    }
   ],
   "source": [
    "joined_str"
   ]
  },
  {
   "cell_type": "markdown",
   "id": "8f25abff-3d10-49e9-af2b-d492ab3b509a",
   "metadata": {},
   "source": [
    "# 14. str.lower, str.upper(): Converts a string to lowercase or uppercase"
   ]
  },
  {
   "cell_type": "code",
   "execution_count": 29,
   "id": "966f78a5-6bd8-4899-b618-756962c5b4b2",
   "metadata": {},
   "outputs": [],
   "source": [
    "my_string = 'Data Science'"
   ]
  },
  {
   "cell_type": "code",
   "execution_count": 30,
   "id": "a68a0219-c99b-44c7-b461-cf8d85662925",
   "metadata": {},
   "outputs": [],
   "source": [
    "lower_case = my_string.lower()"
   ]
  },
  {
   "cell_type": "code",
   "execution_count": 31,
   "id": "fd5b8af4-88b5-4704-954e-d3d41c9f5bfc",
   "metadata": {},
   "outputs": [
    {
     "data": {
      "text/plain": [
       "'data science'"
      ]
     },
     "execution_count": 31,
     "metadata": {},
     "output_type": "execute_result"
    }
   ],
   "source": [
    "lower_case"
   ]
  },
  {
   "cell_type": "code",
   "execution_count": 32,
   "id": "dc3daa52-3d31-4e29-acaa-34fe34e98373",
   "metadata": {},
   "outputs": [],
   "source": [
    "upper_case = my_string.upper()"
   ]
  },
  {
   "cell_type": "code",
   "execution_count": 33,
   "id": "97599198-a8cd-4f98-92fa-be82ae1c3025",
   "metadata": {},
   "outputs": [
    {
     "data": {
      "text/plain": [
       "'DATA SCIENCE'"
      ]
     },
     "execution_count": 33,
     "metadata": {},
     "output_type": "execute_result"
    }
   ],
   "source": [
    "upper_case"
   ]
  },
  {
   "cell_type": "markdown",
   "id": "d39bc3d7-69ec-4f7f-abf2-a475d85f3334",
   "metadata": {},
   "source": [
    "# 15. list(), tuple(): Converts an iterable to a list or tuple"
   ]
  },
  {
   "cell_type": "code",
   "execution_count": 35,
   "id": "c82b1782-d4b9-4ac3-a6f2-2bb277ddc778",
   "metadata": {},
   "outputs": [],
   "source": [
    "my_list = [1, 2, 3, 5]"
   ]
  },
  {
   "cell_type": "code",
   "execution_count": 36,
   "id": "a7325b2d-6edf-4d83-b1d5-d87ddf1af8e1",
   "metadata": {},
   "outputs": [
    {
     "data": {
      "text/plain": [
       "[1, 2, 3, 5]"
      ]
     },
     "execution_count": 36,
     "metadata": {},
     "output_type": "execute_result"
    }
   ],
   "source": [
    "my_list"
   ]
  },
  {
   "cell_type": "code",
   "execution_count": 37,
   "id": "71e6deab-7a08-48d1-9ad1-632e448845be",
   "metadata": {},
   "outputs": [],
   "source": [
    "my_tuple = tuple(my_list)"
   ]
  },
  {
   "cell_type": "code",
   "execution_count": 38,
   "id": "4a7271c1-393d-4c81-9d23-bad6e83d0b75",
   "metadata": {},
   "outputs": [
    {
     "data": {
      "text/plain": [
       "(1, 2, 3, 5)"
      ]
     },
     "execution_count": 38,
     "metadata": {},
     "output_type": "execute_result"
    }
   ],
   "source": [
    "my_tuple"
   ]
  },
  {
   "cell_type": "code",
   "execution_count": 39,
   "id": "27a51a46-28f5-45a3-a47e-0542032ea3ba",
   "metadata": {},
   "outputs": [],
   "source": [
    "my_tple = (12, 13, 14, 15, 16)"
   ]
  },
  {
   "cell_type": "code",
   "execution_count": 40,
   "id": "36989fbd-3153-42f3-83dc-55a41edc7ef3",
   "metadata": {},
   "outputs": [
    {
     "data": {
      "text/plain": [
       "(12, 13, 14, 15, 16)"
      ]
     },
     "execution_count": 40,
     "metadata": {},
     "output_type": "execute_result"
    }
   ],
   "source": [
    "my_tple"
   ]
  },
  {
   "cell_type": "code",
   "execution_count": 41,
   "id": "9c0568a6-3e24-4ad2-a8fb-01d9f73526bb",
   "metadata": {},
   "outputs": [],
   "source": [
    "my_lst = list(my_tple)"
   ]
  },
  {
   "cell_type": "code",
   "execution_count": 42,
   "id": "1eb9ecb5-c095-437e-8e97-a8850ec0f361",
   "metadata": {},
   "outputs": [
    {
     "data": {
      "text/plain": [
       "[12, 13, 14, 15, 16]"
      ]
     },
     "execution_count": 42,
     "metadata": {},
     "output_type": "execute_result"
    }
   ],
   "source": [
    "my_lst"
   ]
  },
  {
   "cell_type": "markdown",
   "id": "b11cba24-c466-4101-ab30-f596c5b9c239",
   "metadata": {},
   "source": [
    "# 16. dict(): Creates a dictionary"
   ]
  },
  {
   "cell_type": "code",
   "execution_count": 43,
   "id": "33c20d51-cef5-4f61-b1a2-36a37a1d4b38",
   "metadata": {},
   "outputs": [],
   "source": [
    "my_dict = dict(name = 'benin', age = '25')"
   ]
  },
  {
   "cell_type": "code",
   "execution_count": 44,
   "id": "c8766195-f2b1-413c-85da-f944dbf1b725",
   "metadata": {},
   "outputs": [
    {
     "data": {
      "text/plain": [
       "{'name': 'benin', 'age': '25'}"
      ]
     },
     "execution_count": 44,
     "metadata": {},
     "output_type": "execute_result"
    }
   ],
   "source": [
    "my_dict"
   ]
  },
  {
   "cell_type": "markdown",
   "id": "7bb9313c-9196-406c-8d10-29706bfd4975",
   "metadata": {},
   "source": [
    "# 17. set(): Creates a set"
   ]
  },
  {
   "cell_type": "code",
   "execution_count": 46,
   "id": "42a3ff40-256c-41fe-8a79-e216724a94cb",
   "metadata": {},
   "outputs": [],
   "source": [
    "my_set = set([1, 2, 3, 4, 5])"
   ]
  },
  {
   "cell_type": "code",
   "execution_count": 47,
   "id": "51b3aa0c-5815-438b-b7d9-b662c8a15633",
   "metadata": {},
   "outputs": [
    {
     "data": {
      "text/plain": [
       "{1, 2, 3, 4, 5}"
      ]
     },
     "execution_count": 47,
     "metadata": {},
     "output_type": "execute_result"
    }
   ],
   "source": [
    "my_set"
   ]
  },
  {
   "cell_type": "markdown",
   "id": "bf152142-2862-4b10-823a-52ae603e8b1d",
   "metadata": {},
   "source": [
    "# 18. enumerate(): returns tuple with the index and corresponding element"
   ]
  },
  {
   "cell_type": "code",
   "execution_count": 53,
   "id": "baa1cd84-d4a5-4946-bd12-a47528a0e000",
   "metadata": {},
   "outputs": [],
   "source": [
    "my_list = ['a', 'b', 1, 4] #unpacking"
   ]
  },
  {
   "cell_type": "code",
   "execution_count": 54,
   "id": "621fc4fc-5702-4ed0-9f47-78b4c552f6b8",
   "metadata": {},
   "outputs": [
    {
     "name": "stdout",
     "output_type": "stream",
     "text": [
      "0 a\n",
      "1 b\n",
      "2 1\n",
      "3 4\n"
     ]
    }
   ],
   "source": [
    "for index, value in enumerate(my_list):\n",
    "    print(index, value)"
   ]
  },
  {
   "cell_type": "code",
   "execution_count": 55,
   "id": "28efb5ec-89b6-4f6d-b404-fd8542bc916f",
   "metadata": {},
   "outputs": [
    {
     "name": "stdout",
     "output_type": "stream",
     "text": [
      "0 a\n",
      "1 b\n",
      "2 1\n",
      "3 4\n"
     ]
    }
   ],
   "source": [
    "for x, y in enumerate(my_list):\n",
    "    print(x, y)"
   ]
  },
  {
   "cell_type": "markdown",
   "id": "ce1219b8-6757-4009-bc3b-8a7212cae408",
   "metadata": {},
   "source": [
    "# 19. zip(): Combines two or more iterables element-wise"
   ]
  },
  {
   "cell_type": "code",
   "execution_count": 57,
   "id": "938a4726-4b0e-4baf-8b7f-e3116a767d53",
   "metadata": {},
   "outputs": [],
   "source": [
    "names = ['umme', 'benin', 'yeasmin', 'meem']\n",
    "ages = [25, 30, 22]"
   ]
  },
  {
   "cell_type": "code",
   "execution_count": 58,
   "id": "80f79ac6-8874-46b3-ac72-6ad755df6f0a",
   "metadata": {},
   "outputs": [],
   "source": [
    "zipped_data = zip(names, ages)"
   ]
  },
  {
   "cell_type": "code",
   "execution_count": 59,
   "id": "515f74e4-b631-418c-9d91-b3912f0420cb",
   "metadata": {},
   "outputs": [
    {
     "data": {
      "text/plain": [
       "<zip at 0x21454380680>"
      ]
     },
     "execution_count": 59,
     "metadata": {},
     "output_type": "execute_result"
    }
   ],
   "source": [
    "zipped_data"
   ]
  },
  {
   "cell_type": "code",
   "execution_count": 62,
   "id": "e32ce60e-6d91-4f3d-bd77-7950a29683ef",
   "metadata": {},
   "outputs": [
    {
     "name": "stdout",
     "output_type": "stream",
     "text": [
      "[('umme', 25), ('benin', 30), ('yeasmin', 22)]\n"
     ]
    }
   ],
   "source": [
    "print(list(zip(names, ages)))"
   ]
  },
  {
   "cell_type": "markdown",
   "id": "5242fe49-7e3e-48ed-8322-594b9c80c4f6",
   "metadata": {},
   "source": [
    "# 20. reversed(): Returns a reverse iterator of a sequence"
   ]
  },
  {
   "cell_type": "code",
   "execution_count": 63,
   "id": "f95a0591-e1b7-4bdd-8411-960672e3db0c",
   "metadata": {},
   "outputs": [],
   "source": [
    "my_list = [1, 2, 3]\n",
    "reversed_list = reversed(my_list)"
   ]
  },
  {
   "cell_type": "code",
   "execution_count": 64,
   "id": "82140732-938e-45ac-8654-f26cffdf9ad5",
   "metadata": {},
   "outputs": [
    {
     "data": {
      "text/plain": [
       "<list_reverseiterator at 0x21453df7460>"
      ]
     },
     "execution_count": 64,
     "metadata": {},
     "output_type": "execute_result"
    }
   ],
   "source": [
    "reversed_list"
   ]
  },
  {
   "cell_type": "code",
   "execution_count": 66,
   "id": "8bf1441f-4472-49f9-83f7-de022be8805f",
   "metadata": {},
   "outputs": [
    {
     "name": "stdout",
     "output_type": "stream",
     "text": [
      "[3, 2, 1]\n"
     ]
    }
   ],
   "source": [
    "print(list(reversed(my_list)))"
   ]
  },
  {
   "cell_type": "markdown",
   "id": "32c0fe2b-3280-4150-9615-9e2cd7c70c60",
   "metadata": {},
   "source": [
    "# 21. sum() (with start argument): Returns the sum of an iterable with an optional starting value"
   ]
  },
  {
   "cell_type": "code",
   "execution_count": 67,
   "id": "853aa4f5-36bd-489b-a70b-9e32e3733681",
   "metadata": {},
   "outputs": [],
   "source": [
    "numbers = [1, 2, 3, 4]"
   ]
  },
  {
   "cell_type": "code",
   "execution_count": 69,
   "id": "aed1c26b-3921-481a-9a73-8f0dbfaaa9b9",
   "metadata": {},
   "outputs": [],
   "source": [
    "total = sum(numbers, 10) # sum starting from 10"
   ]
  },
  {
   "cell_type": "code",
   "execution_count": 70,
   "id": "638b3078-3937-4cde-99cb-79711b765845",
   "metadata": {},
   "outputs": [
    {
     "data": {
      "text/plain": [
       "20"
      ]
     },
     "execution_count": 70,
     "metadata": {},
     "output_type": "execute_result"
    }
   ],
   "source": [
    "total"
   ]
  },
  {
   "cell_type": "markdown",
   "id": "d028c58c-d076-4567-8a5f-352c02a16913",
   "metadata": {},
   "source": [
    "# 22. abs() (for complex numbers): return the magnitude of a complex number"
   ]
  },
  {
   "cell_type": "markdown",
   "id": "630045d5-bf62-4117-80d7-80b391f85a7f",
   "metadata": {},
   "source": [
    "The magnitude of a complex number is the distance from the origin (0,0) to the point representing the complex number in the complex plane. For a complex number \\(a + bi\\), where \\(a\\) is the real part and \\(b\\) is the imaginary part, the magnitude (or modulus) is given by the formula:\n",
    "\n",
    "\\[ |a + bi| = \\sqrt{a^2 + b^2} \\]\n",
    "\n",
    "In other words, it's the square root of the sum of the squares of the real and imaginary parts. This magnitude represents the length of the vector in the complex plane."
   ]
  },
  {
   "cell_type": "markdown",
   "id": "93f03f98-c226-48f4-b0f0-b8d82201509f",
   "metadata": {},
   "source": [
    "complex_num = 3 + 4j\n",
    "magnitude = abs(complex_num)"
   ]
  },
  {
   "cell_type": "code",
   "execution_count": 72,
   "id": "01aa476d-55ed-4af0-8493-7b762a6ea1f9",
   "metadata": {},
   "outputs": [
    {
     "data": {
      "text/plain": [
       "5.0"
      ]
     },
     "execution_count": 72,
     "metadata": {},
     "output_type": "execute_result"
    }
   ],
   "source": [
    "magnitude"
   ]
  },
  {
   "cell_type": "markdown",
   "id": "a4d51a4a-94aa-44dc-8a33-cb927bb6766f",
   "metadata": {},
   "source": [
    "# 23. slice(): Creates a slice object that can be used to slice sewuence like list and strings"
   ]
  },
  {
   "cell_type": "code",
   "execution_count": 73,
   "id": "49a3f18a-6f98-4bb5-acc0-3e5770535fa0",
   "metadata": {},
   "outputs": [],
   "source": [
    "my_list = [1, 2, 3, 4, 5]\n",
    "my_slice = slice(1, 4)"
   ]
  },
  {
   "cell_type": "code",
   "execution_count": 74,
   "id": "d97fe936-578e-45a3-a48e-7efc43b9a0e6",
   "metadata": {},
   "outputs": [
    {
     "data": {
      "text/plain": [
       "slice(1, 4, None)"
      ]
     },
     "execution_count": 74,
     "metadata": {},
     "output_type": "execute_result"
    }
   ],
   "source": [
    "my_slice"
   ]
  },
  {
   "cell_type": "code",
   "execution_count": 75,
   "id": "816c9a15-bca2-4fca-95f9-7d7e88f04121",
   "metadata": {},
   "outputs": [],
   "source": [
    "sliced_list = my_list[my_slice]"
   ]
  },
  {
   "cell_type": "code",
   "execution_count": 76,
   "id": "1a936b5c-9705-449c-b313-33cda7029c5c",
   "metadata": {},
   "outputs": [
    {
     "data": {
      "text/plain": [
       "[2, 3, 4]"
      ]
     },
     "execution_count": 76,
     "metadata": {},
     "output_type": "execute_result"
    }
   ],
   "source": [
    "sliced_list"
   ]
  },
  {
   "cell_type": "markdown",
   "id": "265ae035-243e-405a-8878-f8237fa0b3bf",
   "metadata": {},
   "source": [
    "# 24. chr(), ord() (extended usage): handling Unicode characters and code points"
   ]
  },
  {
   "cell_type": "code",
   "execution_count": 83,
   "id": "4b74308e-e634-4dfc-90d1-e0b753776486",
   "metadata": {},
   "outputs": [],
   "source": [
    "code_point = ord('$') # returns '$'"
   ]
  },
  {
   "cell_type": "code",
   "execution_count": 84,
   "id": "ba4b9c91-47ca-4d46-89b5-bc4f90c54dcd",
   "metadata": {},
   "outputs": [
    {
     "data": {
      "text/plain": [
       "36"
      ]
     },
     "execution_count": 84,
     "metadata": {},
     "output_type": "execute_result"
    }
   ],
   "source": [
    "code_point"
   ]
  },
  {
   "cell_type": "code",
   "execution_count": 85,
   "id": "ca91c272-2278-437e-96a8-6c54d0eb251c",
   "metadata": {},
   "outputs": [],
   "source": [
    "dollar_symbol = chr(36) # returns 8364"
   ]
  },
  {
   "cell_type": "code",
   "execution_count": 86,
   "id": "eee45796-3504-46ad-adc2-9edc2b18c7fd",
   "metadata": {},
   "outputs": [
    {
     "data": {
      "text/plain": [
       "'$'"
      ]
     },
     "execution_count": 86,
     "metadata": {},
     "output_type": "execute_result"
    }
   ],
   "source": [
    "dollar_symbol"
   ]
  },
  {
   "cell_type": "code",
   "execution_count": 88,
   "id": "32764330-892e-4f2b-8b4f-9afeedcc5e32",
   "metadata": {},
   "outputs": [],
   "source": [
    "char = chr(65)"
   ]
  },
  {
   "cell_type": "code",
   "execution_count": 89,
   "id": "7e4d17aa-af29-4e7e-b016-0ee9b4bb0a18",
   "metadata": {},
   "outputs": [
    {
     "data": {
      "text/plain": [
       "'A'"
      ]
     },
     "execution_count": 89,
     "metadata": {},
     "output_type": "execute_result"
    }
   ],
   "source": [
    "char"
   ]
  },
  {
   "cell_type": "code",
   "execution_count": 90,
   "id": "0a73f36d-8c22-43b9-9f90-5591098cb632",
   "metadata": {},
   "outputs": [],
   "source": [
    "code_point = ord('A')"
   ]
  },
  {
   "cell_type": "code",
   "execution_count": 91,
   "id": "ccacb44f-5e93-48a2-9784-9a02d1a110f3",
   "metadata": {},
   "outputs": [
    {
     "data": {
      "text/plain": [
       "65"
      ]
     },
     "execution_count": 91,
     "metadata": {},
     "output_type": "execute_result"
    }
   ],
   "source": [
    "code_point"
   ]
  }
 ],
 "metadata": {
  "kernelspec": {
   "display_name": "Python 3 (ipykernel)",
   "language": "python",
   "name": "python3"
  },
  "language_info": {
   "codemirror_mode": {
    "name": "ipython",
    "version": 3
   },
   "file_extension": ".py",
   "mimetype": "text/x-python",
   "name": "python",
   "nbconvert_exporter": "python",
   "pygments_lexer": "ipython3",
   "version": "3.12.4"
  },
  "widgets": {
   "application/vnd.jupyter.widget-state+json": {
    "state": {},
    "version_major": 2,
    "version_minor": 0
   }
  }
 },
 "nbformat": 4,
 "nbformat_minor": 5
}
