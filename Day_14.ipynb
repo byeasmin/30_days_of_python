{
 "cells": [
  {
   "cell_type": "markdown",
   "id": "d4271a82-f2d1-4ca2-aaa5-06d8d926d0c1",
   "metadata": {},
   "source": [
    "# https://github.com/byeasmin/30_days_of_python"
   ]
  },
  {
   "cell_type": "markdown",
   "id": "942c160b-b4c6-4d72-9eea-8386846f7e63",
   "metadata": {},
   "source": [
    "# Rest Part of Day_12"
   ]
  },
  {
   "cell_type": "markdown",
   "id": "ee1a5811-4be6-4e92-97a2-ebdd6839c940",
   "metadata": {},
   "source": [
    "# Zip"
   ]
  },
  {
   "cell_type": "code",
   "execution_count": 1,
   "id": "b5d1ce3c-2df6-4b6f-b03f-820a38a1ebf7",
   "metadata": {},
   "outputs": [],
   "source": [
    "ids = (1, 2, 3)\n",
    "name = ('benin', 'yeasmin', 'meem')"
   ]
  },
  {
   "cell_type": "code",
   "execution_count": 2,
   "id": "8ab1383e-6176-4dbd-91d0-edc2129ad24c",
   "metadata": {},
   "outputs": [
    {
     "data": {
      "text/plain": [
       "((1, 'benin'), (2, 'yeasmin'), (3, 'meem'))"
      ]
     },
     "execution_count": 2,
     "metadata": {},
     "output_type": "execute_result"
    }
   ],
   "source": [
    "zipped = tuple(zip(ids, name))\n",
    "zipped"
   ]
  },
  {
   "cell_type": "code",
   "execution_count": 3,
   "id": "6aa66332-196b-4267-a1e3-80f18396c67f",
   "metadata": {},
   "outputs": [],
   "source": [
    "ids_new, name_new = zip(*zipped)"
   ]
  },
  {
   "cell_type": "code",
   "execution_count": 4,
   "id": "098fe8a2-92b7-47c1-8781-9f7c257a6368",
   "metadata": {},
   "outputs": [
    {
     "data": {
      "text/plain": [
       "(1, 2, 3)"
      ]
     },
     "execution_count": 4,
     "metadata": {},
     "output_type": "execute_result"
    }
   ],
   "source": [
    "ids_new"
   ]
  },
  {
   "cell_type": "code",
   "execution_count": 5,
   "id": "6fecc302-c3cd-4e19-a39e-88282863f3ca",
   "metadata": {},
   "outputs": [
    {
     "data": {
      "text/plain": [
       "('benin', 'yeasmin', 'meem')"
      ]
     },
     "execution_count": 5,
     "metadata": {},
     "output_type": "execute_result"
    }
   ],
   "source": [
    "name_new"
   ]
  },
  {
   "cell_type": "code",
   "execution_count": 6,
   "id": "b65feb0f-c244-4dfe-a91a-f18f8414dcd8",
   "metadata": {},
   "outputs": [
    {
     "name": "stdout",
     "output_type": "stream",
     "text": [
      "1 benin\n",
      "2 yeasmin\n",
      "3 meem\n"
     ]
    }
   ],
   "source": [
    "for ids, name in zipped:\n",
    "    print(ids, name)"
   ]
  },
  {
   "cell_type": "code",
   "execution_count": 7,
   "id": "81d84c96-ff54-42bb-9fcf-e87bb266284d",
   "metadata": {},
   "outputs": [
    {
     "data": {
      "text/plain": [
       "1"
      ]
     },
     "execution_count": 7,
     "metadata": {},
     "output_type": "execute_result"
    }
   ],
   "source": [
    "i1, n1 = zipped[0]\n",
    "i1"
   ]
  },
  {
   "cell_type": "code",
   "execution_count": 8,
   "id": "2d239ee8-d863-4eff-aed8-22def1352699",
   "metadata": {},
   "outputs": [
    {
     "data": {
      "text/plain": [
       "'benin'"
      ]
     },
     "execution_count": 8,
     "metadata": {},
     "output_type": "execute_result"
    }
   ],
   "source": [
    "n1"
   ]
  },
  {
   "cell_type": "markdown",
   "id": "93c0cbd4-2609-4e7b-a70d-8e43f615f37b",
   "metadata": {},
   "source": [
    "## Unpacking using loop"
   ]
  },
  {
   "cell_type": "code",
   "execution_count": 9,
   "id": "aa50141d-01a9-41ca-a70e-cf39c86b0cb5",
   "metadata": {},
   "outputs": [
    {
     "name": "stdout",
     "output_type": "stream",
     "text": [
      "1 meem\n",
      "2 meem\n",
      "3 meem\n"
     ]
    }
   ],
   "source": [
    "for ids, names in zipped:\n",
    "    print(ids, name)"
   ]
  },
  {
   "cell_type": "markdown",
   "id": "7d1e4152-638c-4e15-8872-b46bb107f0ad",
   "metadata": {},
   "source": [
    "# Enumerating: Iterate over pairs"
   ]
  },
  {
   "cell_type": "code",
   "execution_count": 10,
   "id": "b8985ee2-10e3-424e-9245-459409dd238e",
   "metadata": {},
   "outputs": [
    {
     "name": "stdout",
     "output_type": "stream",
     "text": [
      "(0, (1, 'benin'))\n",
      "(1, (2, 'yeasmin'))\n",
      "(2, (3, 'meem'))\n"
     ]
    }
   ],
   "source": [
    "for data in enumerate(zipped):\n",
    "    #unpack pair: ids, name\n",
    "    ids, name = data\n",
    "    print(data)"
   ]
  },
  {
   "cell_type": "markdown",
   "id": "1f7d0c1a-7ef5-417f-bb10-ab594b2e708e",
   "metadata": {},
   "source": [
    "# or"
   ]
  },
  {
   "cell_type": "code",
   "execution_count": 11,
   "id": "0eff0f93-d901-478e-a936-65cc6abaf839",
   "metadata": {},
   "outputs": [
    {
     "name": "stdout",
     "output_type": "stream",
     "text": [
      "(1, 'benin')\n",
      "(2, 'yeasmin')\n",
      "(3, 'meem')\n"
     ]
    }
   ],
   "source": [
    "for index, data in enumerate(zipped):\n",
    "    #unpack pair: ids, name\n",
    "    ids, name = data\n",
    "    print(data)"
   ]
  },
  {
   "cell_type": "markdown",
   "id": "d3351921-6fc1-4da8-bd61-094b0d47eed1",
   "metadata": {},
   "source": [
    "# or"
   ]
  },
  {
   "cell_type": "code",
   "execution_count": 14,
   "id": "9ca1fb8b-276d-4177-af01-b43d305ff845",
   "metadata": {},
   "outputs": [
    {
     "name": "stdout",
     "output_type": "stream",
     "text": [
      "Rank 0, id = 1, Name = benin\n",
      "Rank 1, id = 2, Name = yeasmin\n",
      "Rank 2, id = 3, Name = meem\n"
     ]
    }
   ],
   "source": [
    "for index, pair in enumerate(zipped):\n",
    "    #unpack pair: ids, name\n",
    "    ids, name = pair\n",
    "    print('Rank {}, id = {}, Name = {}'.format(index, ids, name))"
   ]
  }
 ],
 "metadata": {
  "kernelspec": {
   "display_name": "Python 3 (ipykernel)",
   "language": "python",
   "name": "python3"
  },
  "language_info": {
   "codemirror_mode": {
    "name": "ipython",
    "version": 3
   },
   "file_extension": ".py",
   "mimetype": "text/x-python",
   "name": "python",
   "nbconvert_exporter": "python",
   "pygments_lexer": "ipython3",
   "version": "3.12.4"
  },
  "widgets": {
   "application/vnd.jupyter.widget-state+json": {
    "state": {},
    "version_major": 2,
    "version_minor": 0
   }
  }
 },
 "nbformat": 4,
 "nbformat_minor": 5
}
