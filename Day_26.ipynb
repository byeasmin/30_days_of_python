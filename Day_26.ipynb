{
 "cells": [
  {
   "cell_type": "markdown",
   "id": "5a7d36f6-cd77-4058-ad97-0e7f92dd3c1f",
   "metadata": {},
   "source": [
    "# https://github.com/byeasmin/30_days_of_python"
   ]
  },
  {
   "cell_type": "markdown",
   "id": "0a3fd522-5d17-405c-91ac-eda8a882c58f",
   "metadata": {},
   "source": [
    "# Lambda with map(), filter(), reduce()"
   ]
  },
  {
   "cell_type": "markdown",
   "id": "0da685ba-f3c6-4421-b953-af9ab9e9458c",
   "metadata": {},
   "source": [
    "# map()"
   ]
  },
  {
   "cell_type": "code",
   "execution_count": 1,
   "id": "92ac708f-b580-4e50-812a-f19514adfe0a",
   "metadata": {},
   "outputs": [],
   "source": [
    "# list"
   ]
  },
  {
   "cell_type": "code",
   "execution_count": 21,
   "id": "bb795bc6-e5a0-4ddc-ad7b-388f41fee309",
   "metadata": {},
   "outputs": [],
   "source": [
    "num = [1, 2, 4, 5, 7, 10]"
   ]
  },
  {
   "cell_type": "code",
   "execution_count": 22,
   "id": "4876e325-06d4-4ec9-a7fe-f6753778a233",
   "metadata": {},
   "outputs": [
    {
     "data": {
      "text/plain": [
       "[1, 2, 4, 5, 7, 10]"
      ]
     },
     "execution_count": 22,
     "metadata": {},
     "output_type": "execute_result"
    }
   ],
   "source": [
    "num"
   ]
  },
  {
   "cell_type": "code",
   "execution_count": 6,
   "id": "abba3ce4-f8bf-4c7d-99fd-a9be27d8c9f5",
   "metadata": {},
   "outputs": [],
   "source": [
    "def sq(x):\n",
    "    return x ** x"
   ]
  },
  {
   "cell_type": "code",
   "execution_count": 8,
   "id": "b94c5c6b-8cee-4595-8085-bb5977c7b463",
   "metadata": {},
   "outputs": [
    {
     "data": {
      "text/plain": [
       "27"
      ]
     },
     "execution_count": 8,
     "metadata": {},
     "output_type": "execute_result"
    }
   ],
   "source": [
    "sq(3)"
   ]
  },
  {
   "cell_type": "markdown",
   "id": "09822c2e-5f1c-48f2-9ca6-797e927c89cc",
   "metadata": {},
   "source": [
    "## Syntax:\n",
    "- **map(function, iterable object)**"
   ]
  },
  {
   "cell_type": "code",
   "execution_count": 53,
   "id": "31b8bfca-b52a-4cd5-8fc7-a588c4c5a3d6",
   "metadata": {},
   "outputs": [],
   "source": [
    "# square\n",
    "val1 = [1, 2, 3, 4, 5, 6, 7]"
   ]
  },
  {
   "cell_type": "code",
   "execution_count": 54,
   "id": "a72f5a02-20ca-4827-9c94-b57c9c3f3e04",
   "metadata": {},
   "outputs": [
    {
     "data": {
      "text/plain": [
       "[1, 2, 3, 4, 5, 6, 7]"
      ]
     },
     "execution_count": 54,
     "metadata": {},
     "output_type": "execute_result"
    }
   ],
   "source": [
    "val1"
   ]
  },
  {
   "cell_type": "code",
   "execution_count": 41,
   "id": "56f65b15-7927-4c1e-b6e6-e41819b619a5",
   "metadata": {},
   "outputs": [],
   "source": [
    "val2 = map(lambda x: x ** 2, val1)  # num = [1, 2, 4, 5, 7, 10]\n",
    "                                    # iterable object -- val1"
   ]
  },
  {
   "cell_type": "code",
   "execution_count": 42,
   "id": "07ad5753-6406-4a65-b034-6013e6d12ff4",
   "metadata": {},
   "outputs": [
    {
     "data": {
      "text/plain": [
       "<map at 0x25501707310>"
      ]
     },
     "execution_count": 42,
     "metadata": {},
     "output_type": "execute_result"
    }
   ],
   "source": [
    "val2"
   ]
  },
  {
   "cell_type": "code",
   "execution_count": 43,
   "id": "dde5e906-075a-4078-a22e-29ce9cde325b",
   "metadata": {},
   "outputs": [],
   "source": [
    "val2 = list(map(lambda x: x ** 2, val1))"
   ]
  },
  {
   "cell_type": "code",
   "execution_count": 44,
   "id": "8506b6be-a760-4cee-bac9-732dce99a19b",
   "metadata": {},
   "outputs": [
    {
     "data": {
      "text/plain": [
       "[1, 4, 9, 16, 25, 36, 49]"
      ]
     },
     "execution_count": 44,
     "metadata": {},
     "output_type": "execute_result"
    }
   ],
   "source": [
    "val2"
   ]
  },
  {
   "cell_type": "markdown",
   "id": "445b256e-0a82-415f-b6b9-5086de9182e0",
   "metadata": {},
   "source": [
    "# filter()"
   ]
  },
  {
   "cell_type": "markdown",
   "id": "7ce576f4-a579-4121-b790-5bbb39d74404",
   "metadata": {},
   "source": [
    "## Syntax:\n",
    "- **filter(function, iterable object)**"
   ]
  },
  {
   "cell_type": "code",
   "execution_count": 45,
   "id": "1dc654e1-df45-44b6-ab1a-69d1d0ebfe99",
   "metadata": {},
   "outputs": [],
   "source": [
    "# odd numbers\n",
    "val3 = filter(lambda val1: val1 % 2 == 1, val1)"
   ]
  },
  {
   "cell_type": "code",
   "execution_count": 46,
   "id": "160677ae-220e-4ede-82a7-59786313a263",
   "metadata": {},
   "outputs": [
    {
     "data": {
      "text/plain": [
       "<filter at 0x25501707100>"
      ]
     },
     "execution_count": 46,
     "metadata": {},
     "output_type": "execute_result"
    }
   ],
   "source": [
    "val3"
   ]
  },
  {
   "cell_type": "code",
   "execution_count": 47,
   "id": "68fd4449-fa63-4bd2-8f1f-7e0682ad869b",
   "metadata": {},
   "outputs": [],
   "source": [
    "val3 = list(filter(lambda val1: val1 % 2 == 1, val1))"
   ]
  },
  {
   "cell_type": "code",
   "execution_count": 48,
   "id": "2b5eb8b1-e921-4914-b12c-40d3ce452625",
   "metadata": {},
   "outputs": [
    {
     "data": {
      "text/plain": [
       "[1, 3, 5, 7]"
      ]
     },
     "execution_count": 48,
     "metadata": {},
     "output_type": "execute_result"
    }
   ],
   "source": [
    "val3"
   ]
  },
  {
   "cell_type": "code",
   "execution_count": 55,
   "id": "43d0e7f3-c192-46c7-8fc4-94ace9462032",
   "metadata": {},
   "outputs": [],
   "source": [
    "val3 = list(filter(lambda y: y % 2 == 1, val1))"
   ]
  },
  {
   "cell_type": "code",
   "execution_count": 56,
   "id": "e6797bbe-73a7-41d4-ad83-1c07cc208fa6",
   "metadata": {},
   "outputs": [
    {
     "data": {
      "text/plain": [
       "[1, 3, 5, 7]"
      ]
     },
     "execution_count": 56,
     "metadata": {},
     "output_type": "execute_result"
    }
   ],
   "source": [
    "val3"
   ]
  },
  {
   "cell_type": "markdown",
   "id": "11e70806-1ddc-4786-922f-7ba0a05b7f90",
   "metadata": {},
   "source": [
    "# reduce()"
   ]
  },
  {
   "cell_type": "code",
   "execution_count": 50,
   "id": "9ab0661f-fa0e-4c75-8b72-b19165ca00cd",
   "metadata": {},
   "outputs": [],
   "source": [
    "# have to import, cz this is not by default"
   ]
  },
  {
   "cell_type": "code",
   "execution_count": 63,
   "id": "f5bc876e-3ba9-4dd3-86b1-8044f3f63927",
   "metadata": {},
   "outputs": [
    {
     "data": {
      "text/plain": [
       "28"
      ]
     },
     "execution_count": 63,
     "metadata": {},
     "output_type": "execute_result"
    }
   ],
   "source": [
    "from functools import reduce\n",
    "reduce(lambda a, b: a + b, val1) # val1 = [1, 2, 3, 4, 5, 6, 7]"
   ]
  },
  {
   "cell_type": "code",
   "execution_count": 64,
   "id": "0fccfabe-6759-4c0a-83d8-5e86faf137f8",
   "metadata": {},
   "outputs": [
    {
     "data": {
      "text/plain": [
       "28"
      ]
     },
     "execution_count": 64,
     "metadata": {},
     "output_type": "execute_result"
    }
   ],
   "source": [
    "sum(val1)"
   ]
  }
 ],
 "metadata": {
  "kernelspec": {
   "display_name": "Python 3 (ipykernel)",
   "language": "python",
   "name": "python3"
  },
  "language_info": {
   "codemirror_mode": {
    "name": "ipython",
    "version": 3
   },
   "file_extension": ".py",
   "mimetype": "text/x-python",
   "name": "python",
   "nbconvert_exporter": "python",
   "pygments_lexer": "ipython3",
   "version": "3.12.4"
  },
  "widgets": {
   "application/vnd.jupyter.widget-state+json": {
    "state": {},
    "version_major": 2,
    "version_minor": 0
   }
  }
 },
 "nbformat": 4,
 "nbformat_minor": 5
}
