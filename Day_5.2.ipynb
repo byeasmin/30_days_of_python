{
 "cells": [
  {
   "cell_type": "markdown",
   "id": "02ea5a55-87af-4ae6-a4d4-16f311889b96",
   "metadata": {},
   "source": [
    "# https://github.com/byeasmin/30_days_of_python"
   ]
  },
  {
   "cell_type": "markdown",
   "id": "88c52103-fdb7-4424-a18c-79b6e40050e5",
   "metadata": {},
   "source": [
    "# While loop"
   ]
  },
  {
   "cell_type": "code",
   "execution_count": 1,
   "id": "f4f918e4-2729-4569-89c4-2b03de2143f6",
   "metadata": {},
   "outputs": [
    {
     "name": "stdout",
     "output_type": "stream",
     "text": [
      "python\n",
      "python\n",
      "python\n",
      "python\n",
      "python\n"
     ]
    }
   ],
   "source": [
    "count = 0\n",
    "while(count < 5):\n",
    "    print('python')\n",
    "    count = count + 1"
   ]
  },
  {
   "cell_type": "code",
   "execution_count": 4,
   "id": "d2b54cef-099f-4d50-a720-a834e5acc265",
   "metadata": {},
   "outputs": [
    {
     "name": "stdout",
     "output_type": "stream",
     "text": [
      "0\n",
      "1\n",
      "2\n",
      "3\n",
      "4\n",
      "5\n",
      "6\n",
      "7\n",
      "8\n",
      "9\n",
      "10\n"
     ]
    }
   ],
   "source": [
    "# print 0 to 10 numbers\n",
    "\n",
    "count = 0\n",
    "while(count <= 10):\n",
    "    print(count)\n",
    "    count += 1"
   ]
  },
  {
   "cell_type": "code",
   "execution_count": 5,
   "id": "b2b1a4a2-3581-4b5b-91cd-5578f95f06a5",
   "metadata": {},
   "outputs": [
    {
     "name": "stdout",
     "output_type": "stream",
     "text": [
      "0 python\n",
      "1 python\n",
      "2 python\n",
      "3 python\n",
      "4 python\n",
      "5 python\n",
      "6 python\n",
      "7 python\n",
      "8 python\n",
      "9 python\n",
      "10 python\n"
     ]
    }
   ],
   "source": [
    "count = 0\n",
    "while(count <= 10):\n",
    "    print(count, 'python')\n",
    "    count += 1"
   ]
  },
  {
   "cell_type": "code",
   "execution_count": 6,
   "id": "d46e80b8-66a1-4137-a010-0f016bece040",
   "metadata": {},
   "outputs": [
    {
     "name": "stdout",
     "output_type": "stream",
     "text": [
      "0 python\n",
      "2 python\n",
      "4 python\n",
      "6 python\n",
      "8 python\n",
      "10 python\n"
     ]
    }
   ],
   "source": [
    "count = 0\n",
    "while(count <= 10):\n",
    "    print(count, 'python')\n",
    "    count += 2"
   ]
  },
  {
   "cell_type": "code",
   "execution_count": 7,
   "id": "c8f54833-ba0e-4073-bea3-a8ac18c86823",
   "metadata": {},
   "outputs": [
    {
     "data": {
      "text/plain": [
       "'p'"
      ]
     },
     "execution_count": 7,
     "metadata": {},
     "output_type": "execute_result"
    }
   ],
   "source": [
    "data = 'python'\n",
    "data[0]"
   ]
  },
  {
   "cell_type": "code",
   "execution_count": 8,
   "id": "db674b43-0d3f-40a8-ad7f-9eed981334ba",
   "metadata": {},
   "outputs": [
    {
     "name": "stdout",
     "output_type": "stream",
     "text": [
      "p\n",
      "y\n",
      "t\n",
      "h\n",
      "o\n",
      "n\n"
     ]
    }
   ],
   "source": [
    "index = 0\n",
    "while index < len(data):\n",
    "    print(data[index])\n",
    "    index = index + 1"
   ]
  },
  {
   "cell_type": "code",
   "execution_count": 12,
   "id": "1a657bf9-d007-404f-8108-37497c775b54",
   "metadata": {},
   "outputs": [
    {
     "name": "stdout",
     "output_type": "stream",
     "text": [
      "i\n",
      " \n",
      "l\n",
      "o\n",
      "v\n",
      "e\n",
      " \n",
      "d\n",
      "a\n",
      "t\n",
      "a\n",
      " \n",
      "s\n",
      "c\n",
      "i\n",
      "e\n",
      "n\n",
      "c\n",
      "e\n"
     ]
    }
   ],
   "source": [
    "data = 'i love data science'\n",
    "# data = data.split()\n",
    "count = 0\n",
    "while count < len(data):\n",
    "    print(data[count])\n",
    "    count = count + 1"
   ]
  },
  {
   "cell_type": "code",
   "execution_count": 13,
   "id": "0203b95f-cd9c-4bbe-ab40-c144b86cad77",
   "metadata": {},
   "outputs": [
    {
     "name": "stdout",
     "output_type": "stream",
     "text": [
      "i\n",
      "love\n",
      "data\n",
      "science\n"
     ]
    }
   ],
   "source": [
    "data = 'i love data science'\n",
    "data = data.split()\n",
    "count = 0\n",
    "while count < len(data):\n",
    "    print(data[count])\n",
    "    count = count + 1"
   ]
  },
  {
   "cell_type": "code",
   "execution_count": 14,
   "id": "9c4fa3dd-1757-4243-acd1-f767eba327a6",
   "metadata": {},
   "outputs": [
    {
     "data": {
      "text/plain": [
       "'science'"
      ]
     },
     "execution_count": 14,
     "metadata": {},
     "output_type": "execute_result"
    }
   ],
   "source": [
    "data[-1]"
   ]
  },
  {
   "cell_type": "code",
   "execution_count": 18,
   "id": "25fc0767-ad05-4cdb-ba20-41dd57b88e43",
   "metadata": {},
   "outputs": [
    {
     "name": "stdout",
     "output_type": "stream",
     "text": [
      "21\n"
     ]
    }
   ],
   "source": [
    "n = [1, 2, 3, 4, 5, 6]\n",
    "sum = 0\n",
    "count = 0\n",
    "while count < len(n):\n",
    "    sum = sum + n[count]\n",
    "    count = count + 1\n",
    "print(sum)"
   ]
  }
 ],
 "metadata": {
  "kernelspec": {
   "display_name": "Python 3 (ipykernel)",
   "language": "python",
   "name": "python3"
  },
  "language_info": {
   "codemirror_mode": {
    "name": "ipython",
    "version": 3
   },
   "file_extension": ".py",
   "mimetype": "text/x-python",
   "name": "python",
   "nbconvert_exporter": "python",
   "pygments_lexer": "ipython3",
   "version": "3.12.4"
  },
  "widgets": {
   "application/vnd.jupyter.widget-state+json": {
    "state": {},
    "version_major": 2,
    "version_minor": 0
   }
  }
 },
 "nbformat": 4,
 "nbformat_minor": 5
}
