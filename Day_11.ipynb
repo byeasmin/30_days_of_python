{
 "cells": [
  {
   "cell_type": "markdown",
   "id": "b65273a2-305b-4a41-8ca5-7d6ecba054ec",
   "metadata": {},
   "source": [
    "# https://github.com/byeasmin/30_days_of_python"
   ]
  },
  {
   "cell_type": "markdown",
   "id": "f0508880-5859-4e93-820c-665d7913cdb5",
   "metadata": {},
   "source": [
    "# Zip()"
   ]
  },
  {
   "cell_type": "code",
   "execution_count": 1,
   "id": "82545044-230b-44c9-8cfb-66f8051cef57",
   "metadata": {},
   "outputs": [],
   "source": [
    "name = ['benin', 'yeasmin', 'meem']\n",
    "versity = ['iiuc', 'cuet', 'buet']"
   ]
  },
  {
   "cell_type": "code",
   "execution_count": 2,
   "id": "8d574ef1-ae50-4056-997c-7ca8d7a71783",
   "metadata": {},
   "outputs": [],
   "source": [
    "zipped = zip(name, versity)"
   ]
  },
  {
   "cell_type": "code",
   "execution_count": 3,
   "id": "17987800-a002-4d6e-8c62-d524d539e6f5",
   "metadata": {},
   "outputs": [
    {
     "data": {
      "text/plain": [
       "<zip at 0x1ee659bc100>"
      ]
     },
     "execution_count": 3,
     "metadata": {},
     "output_type": "execute_result"
    }
   ],
   "source": [
    "zipped"
   ]
  },
  {
   "cell_type": "code",
   "execution_count": 4,
   "id": "6d7afefb-a15d-48c1-91b4-c4d7b334bfb3",
   "metadata": {},
   "outputs": [],
   "source": [
    "zipped = list(zip(name, versity))"
   ]
  },
  {
   "cell_type": "code",
   "execution_count": 5,
   "id": "e17fbd5e-256e-43e9-9fb9-40a2da9f31a1",
   "metadata": {},
   "outputs": [
    {
     "data": {
      "text/plain": [
       "[('benin', 'iiuc'), ('yeasmin', 'cuet'), ('meem', 'buet')]"
      ]
     },
     "execution_count": 5,
     "metadata": {},
     "output_type": "execute_result"
    }
   ],
   "source": [
    "zipped"
   ]
  },
  {
   "cell_type": "code",
   "execution_count": 6,
   "id": "678e67b4-4140-4e2e-afe5-daa8850a3288",
   "metadata": {},
   "outputs": [],
   "source": [
    "zipped = tuple(zip(name, versity))"
   ]
  },
  {
   "cell_type": "code",
   "execution_count": 7,
   "id": "e9ed52a1-0580-48b2-95f0-8ab8a461d038",
   "metadata": {},
   "outputs": [
    {
     "data": {
      "text/plain": [
       "(('benin', 'iiuc'), ('yeasmin', 'cuet'), ('meem', 'buet'))"
      ]
     },
     "execution_count": 7,
     "metadata": {},
     "output_type": "execute_result"
    }
   ],
   "source": [
    "zipped"
   ]
  },
  {
   "cell_type": "code",
   "execution_count": 8,
   "id": "019ca48d-c500-4eab-a994-4959c4360995",
   "metadata": {},
   "outputs": [],
   "source": [
    "zipped = dict(zip(name, versity))"
   ]
  },
  {
   "cell_type": "code",
   "execution_count": 9,
   "id": "c0b6a80e-7d4c-4541-b1c5-fa78af877910",
   "metadata": {},
   "outputs": [
    {
     "data": {
      "text/plain": [
       "{'benin': 'iiuc', 'yeasmin': 'cuet', 'meem': 'buet'}"
      ]
     },
     "execution_count": 9,
     "metadata": {},
     "output_type": "execute_result"
    }
   ],
   "source": [
    "zipped"
   ]
  },
  {
   "cell_type": "code",
   "execution_count": 10,
   "id": "7192ea21-26b4-4711-84df-f885899bc801",
   "metadata": {},
   "outputs": [
    {
     "data": {
      "text/plain": [
       "dict_keys(['benin', 'yeasmin', 'meem'])"
      ]
     },
     "execution_count": 10,
     "metadata": {},
     "output_type": "execute_result"
    }
   ],
   "source": [
    "zipped.keys()"
   ]
  },
  {
   "cell_type": "code",
   "execution_count": 12,
   "id": "5d5fca7e-7f6d-4d54-8331-12439d87dea2",
   "metadata": {},
   "outputs": [
    {
     "data": {
      "text/plain": [
       "dict_values(['iiuc', 'cuet', 'buet'])"
      ]
     },
     "execution_count": 12,
     "metadata": {},
     "output_type": "execute_result"
    }
   ],
   "source": [
    "zipped.values()"
   ]
  },
  {
   "cell_type": "code",
   "execution_count": 13,
   "id": "63a89452-e811-4f73-a6f4-0f691c62a0bb",
   "metadata": {},
   "outputs": [],
   "source": [
    "zipped = set(zip(name, versity))"
   ]
  },
  {
   "cell_type": "code",
   "execution_count": 14,
   "id": "588f7cf4-7c62-479d-a17f-9055c417abec",
   "metadata": {},
   "outputs": [
    {
     "data": {
      "text/plain": [
       "{('benin', 'iiuc'), ('meem', 'buet'), ('yeasmin', 'cuet')}"
      ]
     },
     "execution_count": 14,
     "metadata": {},
     "output_type": "execute_result"
    }
   ],
   "source": [
    "zipped"
   ]
  },
  {
   "cell_type": "markdown",
   "id": "efdb5a76-b878-431b-ac7f-d44ad829b931",
   "metadata": {},
   "source": [
    "# Unzip()"
   ]
  },
  {
   "cell_type": "code",
   "execution_count": 15,
   "id": "dd0e53bf-b4bf-4644-860f-a856840242ac",
   "metadata": {},
   "outputs": [
    {
     "name": "stdout",
     "output_type": "stream",
     "text": [
      "[('benin', 'iiuc'), ('yeasmin', 'cuet'), ('meem', 'buet')]\n"
     ]
    }
   ],
   "source": [
    "zipped = list(zip(name, versity))\n",
    "print(zipped)"
   ]
  },
  {
   "cell_type": "code",
   "execution_count": 16,
   "id": "0ffe7439-9ff2-4fc7-a499-9615c510c6e6",
   "metadata": {},
   "outputs": [
    {
     "data": {
      "text/plain": [
       "['benin', 'yeasmin', 'meem']"
      ]
     },
     "execution_count": 16,
     "metadata": {},
     "output_type": "execute_result"
    }
   ],
   "source": [
    "name"
   ]
  },
  {
   "cell_type": "code",
   "execution_count": 17,
   "id": "cecc0efc-e249-473e-80b5-7310c0824af4",
   "metadata": {},
   "outputs": [
    {
     "data": {
      "text/plain": [
       "['iiuc', 'cuet', 'buet']"
      ]
     },
     "execution_count": 17,
     "metadata": {},
     "output_type": "execute_result"
    }
   ],
   "source": [
    "versity"
   ]
  },
  {
   "cell_type": "code",
   "execution_count": 18,
   "id": "aa5e1899-bb09-48a1-bcb2-6411dac5d5fc",
   "metadata": {},
   "outputs": [],
   "source": [
    "name1, versity1 = zip(*zipped)"
   ]
  },
  {
   "cell_type": "code",
   "execution_count": 19,
   "id": "3de5a8eb-6b2c-44d9-96f5-e7268605342f",
   "metadata": {},
   "outputs": [
    {
     "data": {
      "text/plain": [
       "('benin', 'yeasmin', 'meem')"
      ]
     },
     "execution_count": 19,
     "metadata": {},
     "output_type": "execute_result"
    }
   ],
   "source": [
    "name1"
   ]
  },
  {
   "cell_type": "code",
   "execution_count": 20,
   "id": "6f149e68-8820-407b-b0d8-52488e1468bc",
   "metadata": {},
   "outputs": [
    {
     "data": {
      "text/plain": [
       "('iiuc', 'cuet', 'buet')"
      ]
     },
     "execution_count": 20,
     "metadata": {},
     "output_type": "execute_result"
    }
   ],
   "source": [
    "versity1"
   ]
  }
 ],
 "metadata": {
  "kernelspec": {
   "display_name": "Python 3 (ipykernel)",
   "language": "python",
   "name": "python3"
  },
  "language_info": {
   "codemirror_mode": {
    "name": "ipython",
    "version": 3
   },
   "file_extension": ".py",
   "mimetype": "text/x-python",
   "name": "python",
   "nbconvert_exporter": "python",
   "pygments_lexer": "ipython3",
   "version": "3.12.4"
  },
  "widgets": {
   "application/vnd.jupyter.widget-state+json": {
    "state": {},
    "version_major": 2,
    "version_minor": 0
   }
  }
 },
 "nbformat": 4,
 "nbformat_minor": 5
}
