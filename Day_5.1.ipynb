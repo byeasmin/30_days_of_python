{
 "cells": [
  {
   "cell_type": "markdown",
   "id": "7b692c0f-3693-4055-a3ba-e8c6b819ff76",
   "metadata": {},
   "source": [
    "# https://github.com/byeasmin/30_days_of_python"
   ]
  },
  {
   "cell_type": "markdown",
   "id": "935744f5-6f24-4ec0-9f87-bb991465a5a0",
   "metadata": {},
   "source": [
    "# Loop"
   ]
  },
  {
   "cell_type": "markdown",
   "id": "22ac5807-1505-4dee-a901-7fcdaf22d815",
   "metadata": {},
   "source": [
    "# For loop"
   ]
  },
  {
   "cell_type": "code",
   "execution_count": 1,
   "id": "3710d058-0dcf-405c-9310-87cbb39d4cce",
   "metadata": {},
   "outputs": [],
   "source": [
    "data = 'python'"
   ]
  },
  {
   "cell_type": "code",
   "execution_count": 2,
   "id": "e3592256-f3d2-4aa2-adc3-a5b409b15796",
   "metadata": {},
   "outputs": [
    {
     "data": {
      "text/plain": [
       "'p'"
      ]
     },
     "execution_count": 2,
     "metadata": {},
     "output_type": "execute_result"
    }
   ],
   "source": [
    "data[0]"
   ]
  },
  {
   "cell_type": "code",
   "execution_count": 3,
   "id": "b64ca049-74b3-4b62-84c3-5029a33a9ee8",
   "metadata": {},
   "outputs": [
    {
     "data": {
      "text/plain": [
       "'n'"
      ]
     },
     "execution_count": 3,
     "metadata": {},
     "output_type": "execute_result"
    }
   ],
   "source": [
    "data[-1]"
   ]
  },
  {
   "cell_type": "code",
   "execution_count": 8,
   "id": "1d0ce744-22d1-41b0-b2d5-14ee3d56dcd4",
   "metadata": {},
   "outputs": [
    {
     "name": "stdout",
     "output_type": "stream",
     "text": [
      "p\n",
      "y\n",
      "t\n",
      "h\n",
      "o\n",
      "n\n"
     ]
    }
   ],
   "source": [
    "for x in data:\n",
    "    print(x)"
   ]
  },
  {
   "cell_type": "code",
   "execution_count": 9,
   "id": "221a2bc0-f3a5-4584-9015-060ff645784b",
   "metadata": {},
   "outputs": [
    {
     "data": {
      "text/plain": [
       "range(0, 10)"
      ]
     },
     "execution_count": 9,
     "metadata": {},
     "output_type": "execute_result"
    }
   ],
   "source": [
    "range(10)"
   ]
  },
  {
   "cell_type": "code",
   "execution_count": 11,
   "id": "f54ec774-b3e7-44df-85aa-4c3d890d9b81",
   "metadata": {},
   "outputs": [
    {
     "name": "stdout",
     "output_type": "stream",
     "text": [
      "0\n",
      "1\n",
      "2\n",
      "3\n",
      "4\n",
      "5\n"
     ]
    }
   ],
   "source": [
    "for x in range(len(data)):\n",
    "    print(x)   "
   ]
  },
  {
   "cell_type": "code",
   "execution_count": 12,
   "id": "4b5caf24-dd16-43bd-a7d1-6aeada2d01a3",
   "metadata": {},
   "outputs": [
    {
     "name": "stdout",
     "output_type": "stream",
     "text": [
      "p\n",
      "y\n",
      "t\n",
      "h\n",
      "o\n",
      "n\n"
     ]
    }
   ],
   "source": [
    "for x in range(len(data)):\n",
    "    print(data[x])   "
   ]
  },
  {
   "cell_type": "code",
   "execution_count": 13,
   "id": "c585bcef-21ee-4fb9-a002-46d4df5a92a4",
   "metadata": {},
   "outputs": [
    {
     "data": {
      "text/plain": [
       "6"
      ]
     },
     "execution_count": 13,
     "metadata": {},
     "output_type": "execute_result"
    }
   ],
   "source": [
    "len(data)"
   ]
  },
  {
   "cell_type": "code",
   "execution_count": 15,
   "id": "d2f00e8b-2605-45e9-9e30-aa807fdce495",
   "metadata": {},
   "outputs": [
    {
     "name": "stdout",
     "output_type": "stream",
     "text": [
      "p\n",
      "y\n",
      "t\n",
      "h\n",
      "o\n",
      "n\n"
     ]
    }
   ],
   "source": [
    "for x in range(6):\n",
    "    print(data[x])   "
   ]
  },
  {
   "cell_type": "code",
   "execution_count": 19,
   "id": "ffed7405-4a12-488e-9edc-0648fdea6e8a",
   "metadata": {},
   "outputs": [
    {
     "name": "stdout",
     "output_type": "stream",
     "text": [
      "i\n",
      " \n",
      "l\n",
      "o\n",
      "v\n",
      "e\n",
      " \n",
      "d\n",
      "a\n",
      "t\n",
      "a\n",
      " \n",
      "s\n",
      "c\n",
      "i\n",
      "e\n",
      "n\n",
      "c\n",
      "e\n",
      " \n",
      "s\n",
      "o\n",
      " \n",
      "m\n",
      "u\n",
      "c\n",
      "h\n"
     ]
    }
   ],
   "source": [
    "data = 'i love data science so much'\n",
    "\n",
    "for i in range(len(data)):\n",
    "    print(data[i])"
   ]
  },
  {
   "cell_type": "code",
   "execution_count": 24,
   "id": "3b48fa1c-42a1-439e-86fa-c1e62830391e",
   "metadata": {},
   "outputs": [
    {
     "name": "stdout",
     "output_type": "stream",
     "text": [
      "i\n",
      " \n",
      "l\n",
      "o\n",
      "v\n",
      "e\n",
      " \n",
      "d\n",
      "a\n",
      "t\n",
      "a\n",
      " \n",
      "s\n",
      "c\n",
      "i\n",
      "e\n",
      "n\n",
      "c\n",
      "e\n",
      " \n",
      "s\n",
      "o\n",
      " \n",
      "m\n",
      "u\n",
      "c\n",
      "h\n"
     ]
    }
   ],
   "source": [
    "data = 'i love data science so much'\n",
    "\n",
    "for i in data:\n",
    "    print(i)"
   ]
  },
  {
   "cell_type": "code",
   "execution_count": 25,
   "id": "f7a43580-8602-4fae-a86f-b783f938d07b",
   "metadata": {},
   "outputs": [
    {
     "name": "stdout",
     "output_type": "stream",
     "text": [
      "i\n",
      "love\n",
      "data\n",
      "science\n",
      "so\n",
      "much\n"
     ]
    }
   ],
   "source": [
    "data = 'i love data science so much'\n",
    "data = data.split()\n",
    "for i in range(len(data)):\n",
    "    print(data[i])"
   ]
  },
  {
   "cell_type": "code",
   "execution_count": 29,
   "id": "faff0591-27b0-4edf-85b0-9ebab51f1d3b",
   "metadata": {},
   "outputs": [
    {
     "name": "stdout",
     "output_type": "stream",
     "text": [
      "2 2\n",
      "5 3\n",
      "9 4\n",
      "64 55\n",
      "124 60\n",
      "201 77\n",
      "301 100\n",
      "Total value is 301\n"
     ]
    }
   ],
   "source": [
    "n = [2, 3, 4, 55, 60, 77, 100]\n",
    "total = 0\n",
    "for x in n:\n",
    "    total = total + x\n",
    "    print(total, x)\n",
    "print('Total value is', total)"
   ]
  },
  {
   "cell_type": "code",
   "execution_count": 30,
   "id": "8c5d859b-0587-45fd-81f2-3d25d4760d80",
   "metadata": {},
   "outputs": [
    {
     "name": "stdout",
     "output_type": "stream",
     "text": [
      "Total value is 301\n"
     ]
    }
   ],
   "source": [
    "n = [2, 3, 4, 55, 60, 77, 100]\n",
    "total = 0\n",
    "for x in n:\n",
    "    total = total + x\n",
    "print('Total value is', total)"
   ]
  },
  {
   "cell_type": "code",
   "execution_count": 32,
   "id": "f3a12ae7-9c64-452d-9c76-a0eb870ed227",
   "metadata": {},
   "outputs": [
    {
     "name": "stdout",
     "output_type": "stream",
     "text": [
      "0\n",
      "python\n",
      "1\n",
      "python\n",
      "2\n",
      "python\n",
      "3\n",
      "python\n",
      "4\n",
      "python\n",
      "5\n",
      "python\n",
      "6\n",
      "python\n",
      "7\n",
      "python\n",
      "8\n",
      "python\n",
      "9\n",
      "python\n"
     ]
    }
   ],
   "source": [
    "for i in range(10):\n",
    "    print(i)\n",
    "    print('python')"
   ]
  },
  {
   "cell_type": "code",
   "execution_count": 33,
   "id": "985ed428-b333-41e7-a3a3-730d38c4d3de",
   "metadata": {},
   "outputs": [
    {
     "name": "stdout",
     "output_type": "stream",
     "text": [
      "python 0\n",
      "python 1\n",
      "python 2\n",
      "python 3\n",
      "python 4\n",
      "python 5\n",
      "python 6\n",
      "python 7\n",
      "python 8\n",
      "python 9\n"
     ]
    }
   ],
   "source": [
    "for i in range(10):\n",
    "    print('python', i)"
   ]
  },
  {
   "cell_type": "code",
   "execution_count": 39,
   "id": "354a5e9f-db2d-438c-a3f3-de7a89960c1a",
   "metadata": {},
   "outputs": [
    {
     "name": "stdout",
     "output_type": "stream",
     "text": [
      "python 5\n",
      "python 7\n",
      "python 9\n"
     ]
    }
   ],
   "source": [
    "for i in range(5, 10, 2):# n - 1, i = i + 2\n",
    "    print('python',i)"
   ]
  },
  {
   "cell_type": "code",
   "execution_count": 42,
   "id": "c939a9f8-9dc0-44f7-ae50-d878b5fb8533",
   "metadata": {},
   "outputs": [
    {
     "name": "stdout",
     "output_type": "stream",
     "text": [
      "python 100\n",
      "python 90\n",
      "python 80\n",
      "python 70\n",
      "python 60\n"
     ]
    }
   ],
   "source": [
    "for i in range(100, 50, -10):\n",
    "    print('python',i)"
   ]
  },
  {
   "cell_type": "code",
   "execution_count": 43,
   "id": "3ea78b37-02a8-4bbe-beca-125dd66ddb65",
   "metadata": {},
   "outputs": [
    {
     "name": "stdout",
     "output_type": "stream",
     "text": [
      "python 100\n",
      "python 98\n",
      "python 96\n",
      "python 94\n",
      "python 92\n",
      "python 90\n",
      "python 88\n",
      "python 86\n",
      "python 84\n",
      "python 82\n",
      "python 80\n",
      "python 78\n",
      "python 76\n",
      "python 74\n",
      "python 72\n",
      "python 70\n",
      "python 68\n",
      "python 66\n",
      "python 64\n",
      "python 62\n",
      "python 60\n",
      "python 58\n",
      "python 56\n",
      "python 54\n",
      "python 52\n"
     ]
    }
   ],
   "source": [
    "for i in range(100, 50, -2): # all even number\n",
    "    print('python',i)"
   ]
  }
 ],
 "metadata": {
  "kernelspec": {
   "display_name": "Python 3 (ipykernel)",
   "language": "python",
   "name": "python3"
  },
  "language_info": {
   "codemirror_mode": {
    "name": "ipython",
    "version": 3
   },
   "file_extension": ".py",
   "mimetype": "text/x-python",
   "name": "python",
   "nbconvert_exporter": "python",
   "pygments_lexer": "ipython3",
   "version": "3.12.4"
  },
  "widgets": {
   "application/vnd.jupyter.widget-state+json": {
    "state": {},
    "version_major": 2,
    "version_minor": 0
   }
  }
 },
 "nbformat": 4,
 "nbformat_minor": 5
}
