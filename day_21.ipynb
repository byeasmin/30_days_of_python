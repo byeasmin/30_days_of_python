{
 "cells": [
  {
   "cell_type": "markdown",
   "id": "44dd9b63-9e8f-4e23-8702-98ca7dc4caae",
   "metadata": {},
   "source": [
    "# https://github.com/byeasmin/30_days_of_python"
   ]
  },
  {
   "cell_type": "markdown",
   "id": "82551b22-ff43-41a8-ab84-4150dc46eafa",
   "metadata": {},
   "source": [
    "# Problem 1: List Sum\n",
    "Write a Python function that takes a list of numbers as input and returns the sum of all the elements in the list. <br>\n",
    "input_numbers = [1, 2, 3, 4, 5] <br>\n",
    "Sum: 15"
   ]
  },
  {
   "cell_type": "code",
   "execution_count": 1,
   "id": "15b3098f-dccf-470d-bda7-d0dcb0989c82",
   "metadata": {},
   "outputs": [],
   "source": [
    "def list_sum(input_numbers):\n",
    "    result = 0\n",
    "    for i in input_numbers:\n",
    "        result = result + i\n",
    "    return result"
   ]
  },
  {
   "cell_type": "code",
   "execution_count": 25,
   "id": "cf4610a3-69b8-4aa6-af88-de460c6f270e",
   "metadata": {
    "scrolled": true
   },
   "outputs": [
    {
     "name": "stdout",
     "output_type": "stream",
     "text": [
      "15\n"
     ]
    }
   ],
   "source": [
    "input_numbers = [1, 2, 3, 4, 5]\n",
    "print(list_sum(input_numbers))"
   ]
  },
  {
   "cell_type": "markdown",
   "id": "af3ffb2d-2aec-4042-88af-bc09f5f00aab",
   "metadata": {},
   "source": [
    "# Problem 2: List Reversal"
   ]
  },
  {
   "cell_type": "markdown",
   "id": "35646087-a505-47e5-a053-692e89e50861",
   "metadata": {},
   "source": [
    "Create a function that reverses a given list and returns the reversed list. <br>\n",
    "original_list = [10, 20, 30, 40, 50] <br>\n",
    "Reversed List: [50, 40, 30, 20, 10]"
   ]
  },
  {
   "cell_type": "code",
   "execution_count": 3,
   "id": "3eef6877-a5f0-4ce7-ada8-ca778d00a7d7",
   "metadata": {},
   "outputs": [],
   "source": [
    "# def list_reversal(original_list):"
   ]
  },
  {
   "cell_type": "code",
   "execution_count": null,
   "id": "a69e9dcd-65da-414c-aec0-cfbfd86326b2",
   "metadata": {},
   "outputs": [],
   "source": []
  },
  {
   "cell_type": "markdown",
   "id": "1f8bad31-822e-4e39-9481-48ce2b8f8eba",
   "metadata": {},
   "source": [
    "# Problem 3: List Even Numbers"
   ]
  },
  {
   "cell_type": "markdown",
   "id": "a979fb32-455c-4600-b481-05a90aa5d9d9",
   "metadata": {},
   "source": [
    "Write a function that takes a list of integers as input and returns a new list containing only the even numbers. <br>\n",
    "numbers = [1, 2, 3, 4, 5, 6, 7, 8, 9, 10] <br>\n",
    "Even Numbers: [2, 4, 6, 8, 10]"
   ]
  },
  {
   "cell_type": "code",
   "execution_count": 4,
   "id": "4ea930e7-97d0-4f1c-809d-9f2deaf286f1",
   "metadata": {},
   "outputs": [],
   "source": [
    "# def even_num(numbers):"
   ]
  },
  {
   "cell_type": "code",
   "execution_count": null,
   "id": "6a9a86bd-fc91-4e9b-baba-dcf4ea350ba0",
   "metadata": {},
   "outputs": [],
   "source": []
  },
  {
   "cell_type": "markdown",
   "id": "626c9321-e335-48f7-a232-c498f91f9a8c",
   "metadata": {},
   "source": [
    "# Problem 4: List Duplicates"
   ]
  },
  {
   "cell_type": "markdown",
   "id": "ed196e86-4593-4467-b1dd-e1fe8789d6fd",
   "metadata": {},
   "source": [
    "Create a function that finds and returns a list of unique elements from a given list. <br>\n",
    "elements = [1, 2, 2, 3, 4, 4, 5] <br>\n",
    "Unique Elements: [1, 2, 3, 4, 5]"
   ]
  },
  {
   "cell_type": "code",
   "execution_count": 6,
   "id": "1360cbf9-e40f-4b3e-8952-c080e384e66a",
   "metadata": {},
   "outputs": [],
   "source": [
    "# def duplicates(elements):"
   ]
  },
  {
   "cell_type": "code",
   "execution_count": null,
   "id": "a73a2338-e6c3-428f-91bb-dabf83893c46",
   "metadata": {},
   "outputs": [],
   "source": []
  },
  {
   "cell_type": "markdown",
   "id": "08a001f6-43d3-40ed-bfae-0e73ee331636",
   "metadata": {},
   "source": [
    "# Problem 5: List Concatenation"
   ]
  },
  {
   "cell_type": "markdown",
   "id": "c7e3b7ad-716f-4925-9428-a687e48fb4c6",
   "metadata": {},
   "source": [
    "Write a function that takes two lists as input and returns a new list that is the concatenation of the two input lists. <br>\n",
    "list1 = [1, 2, 3] <br>\n",
    "list2 = [4, 5, 6] <br>\n",
    "Concatenated List: [1, 2, 3, 4, 5, 6]"
   ]
  },
  {
   "cell_type": "code",
   "execution_count": null,
   "id": "ce782021-f57b-45ff-a604-4370e6bf04d0",
   "metadata": {},
   "outputs": [],
   "source": []
  }
 ],
 "metadata": {
  "kernelspec": {
   "display_name": "Python 3 (ipykernel)",
   "language": "python",
   "name": "python3"
  },
  "language_info": {
   "codemirror_mode": {
    "name": "ipython",
    "version": 3
   },
   "file_extension": ".py",
   "mimetype": "text/x-python",
   "name": "python",
   "nbconvert_exporter": "python",
   "pygments_lexer": "ipython3",
   "version": "3.12.4"
  },
  "widgets": {
   "application/vnd.jupyter.widget-state+json": {
    "state": {},
    "version_major": 2,
    "version_minor": 0
   }
  }
 },
 "nbformat": 4,
 "nbformat_minor": 5
}
