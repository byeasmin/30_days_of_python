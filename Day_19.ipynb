{
 "cells": [
  {
   "cell_type": "markdown",
   "id": "1affe5bc-249c-4098-a26b-2b11c2008d06",
   "metadata": {},
   "source": [
    "# https://github.com/byeasmin/30_days_of_python"
   ]
  },
  {
   "cell_type": "markdown",
   "id": "8de7defa-4202-4cb6-9bee-f5cc3b83525d",
   "metadata": {},
   "source": [
    "# Factorial"
   ]
  },
  {
   "cell_type": "code",
   "execution_count": 19,
   "id": "ff106e92-2839-42e9-b7ce-004cd4baacf9",
   "metadata": {},
   "outputs": [],
   "source": [
    "def fact(x):\n",
    "    result = 1\n",
    "    if x == 1 or x == 0:\n",
    "       print(f'The {x}! is = ', result)\n",
    "       #  print(f'The {x}! is = 1')\n",
    "    else:\n",
    "        for i in range(x):\n",
    "            result = result * (i + 1)\n",
    "        return result\n",
    "    "
   ]
  },
  {
   "cell_type": "code",
   "execution_count": 20,
   "id": "0701efcb-c1cb-4f7e-a0d5-d6aa55b3d96c",
   "metadata": {},
   "outputs": [
    {
     "data": {
      "text/plain": [
       "5040"
      ]
     },
     "execution_count": 20,
     "metadata": {},
     "output_type": "execute_result"
    }
   ],
   "source": [
    "fact(7)"
   ]
  },
  {
   "cell_type": "code",
   "execution_count": 21,
   "id": "0e578204-5394-4916-9783-1246d6716cb4",
   "metadata": {},
   "outputs": [
    {
     "data": {
      "text/plain": [
       "6"
      ]
     },
     "execution_count": 21,
     "metadata": {},
     "output_type": "execute_result"
    }
   ],
   "source": [
    "fact(3)"
   ]
  },
  {
   "cell_type": "code",
   "execution_count": 22,
   "id": "30dcee09-4e53-4585-9cef-5484621e7112",
   "metadata": {},
   "outputs": [
    {
     "name": "stdout",
     "output_type": "stream",
     "text": [
      "The 0! is =  1\n"
     ]
    }
   ],
   "source": [
    "fact(0)"
   ]
  },
  {
   "cell_type": "code",
   "execution_count": 24,
   "id": "eac7c437-82d4-45bf-a811-cac0601df48b",
   "metadata": {},
   "outputs": [
    {
     "name": "stdout",
     "output_type": "stream",
     "text": [
      "The 1! is =  1\n"
     ]
    }
   ],
   "source": [
    "fact(1)"
   ]
  },
  {
   "cell_type": "markdown",
   "id": "fa6f93ad-7626-4db4-aa9f-af0500903906",
   "metadata": {},
   "source": [
    "# Assignment - do it using while loop..."
   ]
  }
 ],
 "metadata": {
  "kernelspec": {
   "display_name": "Python 3 (ipykernel)",
   "language": "python",
   "name": "python3"
  },
  "language_info": {
   "codemirror_mode": {
    "name": "ipython",
    "version": 3
   },
   "file_extension": ".py",
   "mimetype": "text/x-python",
   "name": "python",
   "nbconvert_exporter": "python",
   "pygments_lexer": "ipython3",
   "version": "3.12.4"
  },
  "widgets": {
   "application/vnd.jupyter.widget-state+json": {
    "state": {},
    "version_major": 2,
    "version_minor": 0
   }
  }
 },
 "nbformat": 4,
 "nbformat_minor": 5
}
