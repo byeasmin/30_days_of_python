{
 "cells": [
  {
   "cell_type": "markdown",
   "id": "607e20ee-5d2a-4a92-8b13-8d1cde417139",
   "metadata": {},
   "source": [
    "# https://github.com/byeasmin/30_days_of_python"
   ]
  },
  {
   "cell_type": "markdown",
   "id": "848bde87-7a3f-4b8a-86ae-67113dfde3ce",
   "metadata": {},
   "source": [
    "# zip() & unzip()"
   ]
  },
  {
   "cell_type": "markdown",
   "id": "910f618e-fea6-4d25-bacf-783447d4b56a",
   "metadata": {},
   "source": [
    "## zip and unzip files"
   ]
  },
  {
   "cell_type": "markdown",
   "id": "905842a1-d798-4db5-942f-dcbc3d838b6c",
   "metadata": {},
   "source": [
    "### ZipFile()"
   ]
  },
  {
   "cell_type": "code",
   "execution_count": 7,
   "id": "5f2b7576-5ead-42f5-8acc-25ab07972bde",
   "metadata": {},
   "outputs": [],
   "source": [
    "import zipfile as zp\n",
    "zipp = zp.ZipFile('Zipped Rename.zip', 'w')\n",
    "\n",
    "zipp.write('array_type.png')\n",
    "zipp.write('assignment_for_loop.png')\n",
    "zipp.write('assignment_while_loop.png')\n",
    "zipp.write('method_of_array.png')\n",
    "zipp.write('method_of_set.png')"
   ]
  },
  {
   "cell_type": "code",
   "execution_count": 9,
   "id": "2c671698-f865-475d-bb2f-7a3ba29e4203",
   "metadata": {},
   "outputs": [],
   "source": [
    "import zipfile as zp\n",
    "zipp = zp.ZipFile('Zipped.zip', 'w')\n",
    "\n",
    "zipp.write('array_type.png')\n",
    "zipp.write('assignment_for_loop.png')\n",
    "zipp.write('assignment_while_loop.png')\n",
    "zipp.write('method_of_array.png')\n",
    "zipp.write('method_of_set.png')"
   ]
  },
  {
   "cell_type": "markdown",
   "id": "e6feafef-a88c-4505-8977-339baf7f0576",
   "metadata": {},
   "source": [
    "# Unzip()"
   ]
  },
  {
   "cell_type": "code",
   "execution_count": 12,
   "id": "61e20279-4171-4ae3-8b0f-b024fa1c5693",
   "metadata": {},
   "outputs": [],
   "source": [
    "# with zp.ZipFile('Zipped Rename.zip', 'r') as file:\n",
    "#     file.extractall()"
   ]
  },
  {
   "cell_type": "code",
   "execution_count": 14,
   "id": "bc74b7b3-e65a-4a01-a3da-99b84ccc6189",
   "metadata": {},
   "outputs": [
    {
     "ename": "BadZipFile",
     "evalue": "File is not a zip file",
     "output_type": "error",
     "traceback": [
      "\u001b[1;31m---------------------------------------------------------------------------\u001b[0m",
      "\u001b[1;31mBadZipFile\u001b[0m                                Traceback (most recent call last)",
      "Cell \u001b[1;32mIn[14], line 1\u001b[0m\n\u001b[1;32m----> 1\u001b[0m \u001b[38;5;28;01mwith\u001b[39;00m \u001b[43mzp\u001b[49m\u001b[38;5;241;43m.\u001b[39;49m\u001b[43mZipFile\u001b[49m\u001b[43m(\u001b[49m\u001b[38;5;124;43m'\u001b[39;49m\u001b[38;5;124;43mZipped.zip\u001b[39;49m\u001b[38;5;124;43m'\u001b[39;49m\u001b[43m,\u001b[49m\u001b[43m \u001b[49m\u001b[38;5;124;43m'\u001b[39;49m\u001b[38;5;124;43mr\u001b[39;49m\u001b[38;5;124;43m'\u001b[39;49m\u001b[43m)\u001b[49m \u001b[38;5;28;01mas\u001b[39;00m file:\n\u001b[0;32m      2\u001b[0m     file\u001b[38;5;241m.\u001b[39mextractall(\u001b[38;5;124m'\u001b[39m\u001b[38;5;124mTEMP Unzip\u001b[39m\u001b[38;5;124m'\u001b[39m)\n",
      "File \u001b[1;32m~\\AppData\\Local\\Programs\\Python\\Python312\\Lib\\zipfile\\__init__.py:1349\u001b[0m, in \u001b[0;36mZipFile.__init__\u001b[1;34m(self, file, mode, compression, allowZip64, compresslevel, strict_timestamps, metadata_encoding)\u001b[0m\n\u001b[0;32m   1347\u001b[0m \u001b[38;5;28;01mtry\u001b[39;00m:\n\u001b[0;32m   1348\u001b[0m     \u001b[38;5;28;01mif\u001b[39;00m mode \u001b[38;5;241m==\u001b[39m \u001b[38;5;124m'\u001b[39m\u001b[38;5;124mr\u001b[39m\u001b[38;5;124m'\u001b[39m:\n\u001b[1;32m-> 1349\u001b[0m         \u001b[38;5;28;43mself\u001b[39;49m\u001b[38;5;241;43m.\u001b[39;49m\u001b[43m_RealGetContents\u001b[49m\u001b[43m(\u001b[49m\u001b[43m)\u001b[49m\n\u001b[0;32m   1350\u001b[0m     \u001b[38;5;28;01melif\u001b[39;00m mode \u001b[38;5;129;01min\u001b[39;00m (\u001b[38;5;124m'\u001b[39m\u001b[38;5;124mw\u001b[39m\u001b[38;5;124m'\u001b[39m, \u001b[38;5;124m'\u001b[39m\u001b[38;5;124mx\u001b[39m\u001b[38;5;124m'\u001b[39m):\n\u001b[0;32m   1351\u001b[0m         \u001b[38;5;66;03m# set the modified flag so central directory gets written\u001b[39;00m\n\u001b[0;32m   1352\u001b[0m         \u001b[38;5;66;03m# even if no files are added to the archive\u001b[39;00m\n\u001b[0;32m   1353\u001b[0m         \u001b[38;5;28mself\u001b[39m\u001b[38;5;241m.\u001b[39m_didModify \u001b[38;5;241m=\u001b[39m \u001b[38;5;28;01mTrue\u001b[39;00m\n",
      "File \u001b[1;32m~\\AppData\\Local\\Programs\\Python\\Python312\\Lib\\zipfile\\__init__.py:1416\u001b[0m, in \u001b[0;36mZipFile._RealGetContents\u001b[1;34m(self)\u001b[0m\n\u001b[0;32m   1414\u001b[0m     \u001b[38;5;28;01mraise\u001b[39;00m BadZipFile(\u001b[38;5;124m\"\u001b[39m\u001b[38;5;124mFile is not a zip file\u001b[39m\u001b[38;5;124m\"\u001b[39m)\n\u001b[0;32m   1415\u001b[0m \u001b[38;5;28;01mif\u001b[39;00m \u001b[38;5;129;01mnot\u001b[39;00m endrec:\n\u001b[1;32m-> 1416\u001b[0m     \u001b[38;5;28;01mraise\u001b[39;00m BadZipFile(\u001b[38;5;124m\"\u001b[39m\u001b[38;5;124mFile is not a zip file\u001b[39m\u001b[38;5;124m\"\u001b[39m)\n\u001b[0;32m   1417\u001b[0m \u001b[38;5;28;01mif\u001b[39;00m \u001b[38;5;28mself\u001b[39m\u001b[38;5;241m.\u001b[39mdebug \u001b[38;5;241m>\u001b[39m \u001b[38;5;241m1\u001b[39m:\n\u001b[0;32m   1418\u001b[0m     \u001b[38;5;28mprint\u001b[39m(endrec)\n",
      "\u001b[1;31mBadZipFile\u001b[0m: File is not a zip file"
     ]
    }
   ],
   "source": [
    "with zp.ZipFile('Zipped.zip', 'r') as file:\n",
    "    file.extractall('TEMP Unzip')"
   ]
  },
  {
   "cell_type": "code",
   "execution_count": 15,
   "id": "05f0d956-60dc-4ace-8ba9-7eae30ea52f7",
   "metadata": {},
   "outputs": [],
   "source": [
    "import zipfile as zp\n",
    "zipp = zp.ZipFile('Zipped all files.zip', 'w')\n",
    "\n",
    "zipp.write('array_type.png')\n",
    "zipp.write('assignment_for_loop.png')\n",
    "zipp.write('assignment_while_loop.png')\n",
    "zipp.write('method_of_array.png')\n",
    "zipp.write('method_of_set.png')"
   ]
  },
  {
   "cell_type": "code",
   "execution_count": 16,
   "id": "be1b4cb5-d41b-4901-b2cf-3d285573f472",
   "metadata": {},
   "outputs": [],
   "source": [
    "with zp.ZipFile('Zipped.zip', 'r') as file:\n",
    "    file.extractall('TEMP Unzip all files')"
   ]
  }
 ],
 "metadata": {
  "kernelspec": {
   "display_name": "Python 3 (ipykernel)",
   "language": "python",
   "name": "python3"
  },
  "language_info": {
   "codemirror_mode": {
    "name": "ipython",
    "version": 3
   },
   "file_extension": ".py",
   "mimetype": "text/x-python",
   "name": "python",
   "nbconvert_exporter": "python",
   "pygments_lexer": "ipython3",
   "version": "3.12.4"
  },
  "widgets": {
   "application/vnd.jupyter.widget-state+json": {
    "state": {},
    "version_major": 2,
    "version_minor": 0
   }
  }
 },
 "nbformat": 4,
 "nbformat_minor": 5
}
