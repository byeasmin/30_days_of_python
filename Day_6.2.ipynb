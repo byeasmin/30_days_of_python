{
 "cells": [
  {
   "cell_type": "markdown",
   "id": "5d02c127-b1a5-4019-b65c-249b15bf4f74",
   "metadata": {},
   "source": [
    "# https://github.com/byeasmin/30_days_of_python"
   ]
  },
  {
   "cell_type": "markdown",
   "id": "7cc9237d-7d19-481d-beff-4071c2315d51",
   "metadata": {},
   "source": [
    "# List Method"
   ]
  },
  {
   "cell_type": "code",
   "execution_count": 5,
   "id": "0c76563e-04e1-490a-a0b4-76add5a0d3d9",
   "metadata": {},
   "outputs": [],
   "source": [
    "lst1 = ['ai', 'ds', 'cs', 150, 20, True, [3, 4], (1, 2)]"
   ]
  },
  {
   "cell_type": "code",
   "execution_count": 6,
   "id": "8697eb4b-5ec4-4e1f-9bd8-82e7b1b73070",
   "metadata": {},
   "outputs": [
    {
     "data": {
      "text/plain": [
       "['ai', 'ds', 'cs', 150, 20, True, [3, 4], (1, 2)]"
      ]
     },
     "execution_count": 6,
     "metadata": {},
     "output_type": "execute_result"
    }
   ],
   "source": [
    "lst1"
   ]
  },
  {
   "cell_type": "code",
   "execution_count": 7,
   "id": "b5002caa-7237-49ab-b57a-28666b118409",
   "metadata": {},
   "outputs": [
    {
     "data": {
      "text/plain": [
       "'ai'"
      ]
     },
     "execution_count": 7,
     "metadata": {},
     "output_type": "execute_result"
    }
   ],
   "source": [
    "lst1[0]"
   ]
  },
  {
   "cell_type": "code",
   "execution_count": 8,
   "id": "93e0a88b-7f9f-4904-849f-d03280008d25",
   "metadata": {},
   "outputs": [
    {
     "data": {
      "text/plain": [
       "(1, 2)"
      ]
     },
     "execution_count": 8,
     "metadata": {},
     "output_type": "execute_result"
    }
   ],
   "source": [
    "lst1[-1]"
   ]
  },
  {
   "cell_type": "code",
   "execution_count": 9,
   "id": "feba2a3b-aaae-45f2-9bdc-d03523b3a5a7",
   "metadata": {},
   "outputs": [
    {
     "data": {
      "text/plain": [
       "1"
      ]
     },
     "execution_count": 9,
     "metadata": {},
     "output_type": "execute_result"
    }
   ],
   "source": [
    "lst1[-1][0]"
   ]
  },
  {
   "cell_type": "markdown",
   "id": "11f51083-c829-48c2-a1b7-fcc7aea63f00",
   "metadata": {},
   "source": [
    "## Copy()"
   ]
  },
  {
   "cell_type": "code",
   "execution_count": 10,
   "id": "3f2702d2-a576-4ebf-ad0e-b7d3fa17ca17",
   "metadata": {},
   "outputs": [],
   "source": [
    "lst2 = lst1"
   ]
  },
  {
   "cell_type": "code",
   "execution_count": 13,
   "id": "d24194ea-d7cb-4484-b9cd-c59d7d7384c7",
   "metadata": {},
   "outputs": [
    {
     "data": {
      "text/plain": [
       "['ai', 'ds', 'cs', 150, 20, True, [3, 4], (1, 2)]"
      ]
     },
     "execution_count": 13,
     "metadata": {},
     "output_type": "execute_result"
    }
   ],
   "source": [
    "lst2"
   ]
  },
  {
   "cell_type": "code",
   "execution_count": 14,
   "id": "37bd7baa-34b1-436e-92d7-ce8221d460db",
   "metadata": {},
   "outputs": [
    {
     "data": {
      "text/plain": [
       "['ai', 'ds', 'cs', 150, 20, True, [3, 4], (1, 2)]"
      ]
     },
     "execution_count": 14,
     "metadata": {},
     "output_type": "execute_result"
    }
   ],
   "source": [
    "lst1"
   ]
  },
  {
   "cell_type": "code",
   "execution_count": 15,
   "id": "419cb181-953f-4e5c-bf3b-290f52f2b599",
   "metadata": {},
   "outputs": [],
   "source": [
    "lst3 = lst1.copy()"
   ]
  },
  {
   "cell_type": "code",
   "execution_count": 16,
   "id": "e9fc8e6c-f922-45df-9bad-92e1ab291957",
   "metadata": {},
   "outputs": [
    {
     "data": {
      "text/plain": [
       "['ai', 'ds', 'cs', 150, 20, True, [3, 4], (1, 2)]"
      ]
     },
     "execution_count": 16,
     "metadata": {},
     "output_type": "execute_result"
    }
   ],
   "source": [
    "lst3"
   ]
  },
  {
   "cell_type": "code",
   "execution_count": 25,
   "id": "7e2ea744-fed2-40d0-ab8b-d061171e2476",
   "metadata": {},
   "outputs": [],
   "source": [
    "lst1[0] = 10 "
   ]
  },
  {
   "cell_type": "code",
   "execution_count": 26,
   "id": "de9ac518-ac01-4080-a6ed-f4de29acacf7",
   "metadata": {},
   "outputs": [
    {
     "data": {
      "text/plain": [
       "[10, 'ds', 'cs', 150, 20, True, [3, 4], (1, 2)]"
      ]
     },
     "execution_count": 26,
     "metadata": {},
     "output_type": "execute_result"
    }
   ],
   "source": [
    "lst1 "
   ]
  },
  {
   "cell_type": "code",
   "execution_count": 27,
   "id": "f3ecf3d5-36be-44b7-a87e-ab2bc0751dbd",
   "metadata": {},
   "outputs": [
    {
     "data": {
      "text/plain": [
       "[10, 'ds', 'cs', 150, 20, True, [3, 4], (1, 2)]"
      ]
     },
     "execution_count": 27,
     "metadata": {},
     "output_type": "execute_result"
    }
   ],
   "source": [
    "lst2 # that is why this is less preferable then copy()"
   ]
  },
  {
   "cell_type": "code",
   "execution_count": 28,
   "id": "9fb52877-3f42-4fec-82b0-9cdc408efe3c",
   "metadata": {},
   "outputs": [
    {
     "data": {
      "text/plain": [
       "['ai', 'ds', 'cs', 150, 20, True, [3, 4], (1, 2)]"
      ]
     },
     "execution_count": 28,
     "metadata": {},
     "output_type": "execute_result"
    }
   ],
   "source": [
    "lst3"
   ]
  },
  {
   "cell_type": "code",
   "execution_count": 29,
   "id": "8d5cf09b-4832-4f48-8328-ae5f115e5446",
   "metadata": {},
   "outputs": [],
   "source": [
    "lst3[0] = 'python'"
   ]
  },
  {
   "cell_type": "code",
   "execution_count": 30,
   "id": "374d94dd-a9f3-43e8-a341-8ed2466e2978",
   "metadata": {},
   "outputs": [
    {
     "data": {
      "text/plain": [
       "['python', 'ds', 'cs', 150, 20, True, [3, 4], (1, 2)]"
      ]
     },
     "execution_count": 30,
     "metadata": {},
     "output_type": "execute_result"
    }
   ],
   "source": [
    "lst3"
   ]
  },
  {
   "cell_type": "code",
   "execution_count": 32,
   "id": "007d2c6e-232c-46a6-b88d-095399204e07",
   "metadata": {},
   "outputs": [
    {
     "data": {
      "text/plain": [
       "[10, 'ds', 'cs', 150, 20, True, [3, 4], (1, 2)]"
      ]
     },
     "execution_count": 32,
     "metadata": {},
     "output_type": "execute_result"
    }
   ],
   "source": [
    "lst1 # did not update"
   ]
  },
  {
   "cell_type": "markdown",
   "id": "abdf5f53-6691-48f5-bd3a-83ba99228801",
   "metadata": {},
   "source": [
    "## append()"
   ]
  },
  {
   "cell_type": "code",
   "execution_count": 47,
   "id": "ea82eb3d-ef86-4d4c-9cde-ea1d2c5327ff",
   "metadata": {},
   "outputs": [],
   "source": [
    "lst1.append(700)"
   ]
  },
  {
   "cell_type": "code",
   "execution_count": 48,
   "id": "e6a8ca94-1042-471c-a9bc-9522200a0b83",
   "metadata": {},
   "outputs": [
    {
     "data": {
      "text/plain": [
       "[10,\n",
       " 'ds',\n",
       " 'cs',\n",
       " 150,\n",
       " 20,\n",
       " True,\n",
       " [3, 4],\n",
       " (1, 2),\n",
       " 700,\n",
       " [10, 20, 30, 40, 50],\n",
       " (1, 2, 3, 4),\n",
       " 10,\n",
       " 20,\n",
       " 30,\n",
       " 40,\n",
       " 50,\n",
       " 700]"
      ]
     },
     "execution_count": 48,
     "metadata": {},
     "output_type": "execute_result"
    }
   ],
   "source": [
    "lst1"
   ]
  },
  {
   "cell_type": "code",
   "execution_count": 49,
   "id": "5f4a07df-da86-4585-a335-b8a4060c92d7",
   "metadata": {},
   "outputs": [],
   "source": [
    "lst4 = [10, 20, 30, 40, 50]"
   ]
  },
  {
   "cell_type": "code",
   "execution_count": 50,
   "id": "db09a37d-ecbb-45aa-85bf-8b9f5427ebf5",
   "metadata": {},
   "outputs": [],
   "source": [
    "lst1.append(lst4)"
   ]
  },
  {
   "cell_type": "code",
   "execution_count": 51,
   "id": "2f491234-d4d4-473b-ae59-1b5aefec6e59",
   "metadata": {},
   "outputs": [
    {
     "data": {
      "text/plain": [
       "[10,\n",
       " 'ds',\n",
       " 'cs',\n",
       " 150,\n",
       " 20,\n",
       " True,\n",
       " [3, 4],\n",
       " (1, 2),\n",
       " 700,\n",
       " [10, 20, 30, 40, 50],\n",
       " (1, 2, 3, 4),\n",
       " 10,\n",
       " 20,\n",
       " 30,\n",
       " 40,\n",
       " 50,\n",
       " 700,\n",
       " [10, 20, 30, 40, 50]]"
      ]
     },
     "execution_count": 51,
     "metadata": {},
     "output_type": "execute_result"
    }
   ],
   "source": [
    "lst1"
   ]
  },
  {
   "cell_type": "code",
   "execution_count": 52,
   "id": "c496a9a2-1df1-40d0-929e-75887721dc37",
   "metadata": {},
   "outputs": [
    {
     "data": {
      "text/plain": [
       "[10, 20, 30, 40, 50]"
      ]
     },
     "execution_count": 52,
     "metadata": {},
     "output_type": "execute_result"
    }
   ],
   "source": [
    "lst1[-1]"
   ]
  },
  {
   "cell_type": "code",
   "execution_count": 53,
   "id": "bcae1d73-bfff-43db-ba65-065835bb1c26",
   "metadata": {},
   "outputs": [],
   "source": [
    "lst1.append((1, 2, 3, 4))"
   ]
  },
  {
   "cell_type": "code",
   "execution_count": 54,
   "id": "f37a86ed-f619-44b0-a2d6-5b6b1fca4ebe",
   "metadata": {},
   "outputs": [
    {
     "data": {
      "text/plain": [
       "[10,\n",
       " 'ds',\n",
       " 'cs',\n",
       " 150,\n",
       " 20,\n",
       " True,\n",
       " [3, 4],\n",
       " (1, 2),\n",
       " 700,\n",
       " [10, 20, 30, 40, 50],\n",
       " (1, 2, 3, 4),\n",
       " 10,\n",
       " 20,\n",
       " 30,\n",
       " 40,\n",
       " 50,\n",
       " 700,\n",
       " [10, 20, 30, 40, 50],\n",
       " (1, 2, 3, 4)]"
      ]
     },
     "execution_count": 54,
     "metadata": {},
     "output_type": "execute_result"
    }
   ],
   "source": [
    "lst1"
   ]
  },
  {
   "cell_type": "code",
   "execution_count": 55,
   "id": "5116ccb0-9e90-4834-b460-d5deb3015600",
   "metadata": {},
   "outputs": [
    {
     "data": {
      "text/plain": [
       "(1, 2, 3, 4)"
      ]
     },
     "execution_count": 55,
     "metadata": {},
     "output_type": "execute_result"
    }
   ],
   "source": [
    "lst1[-1]"
   ]
  },
  {
   "cell_type": "markdown",
   "id": "a7f63145-d128-43d0-8b29-ced3fa214724",
   "metadata": {},
   "source": [
    "## extend()"
   ]
  },
  {
   "cell_type": "code",
   "execution_count": 56,
   "id": "d55a1b77-2037-4148-8d3b-437b370893b6",
   "metadata": {},
   "outputs": [
    {
     "data": {
      "text/plain": [
       "[10,\n",
       " 'ds',\n",
       " 'cs',\n",
       " 150,\n",
       " 20,\n",
       " True,\n",
       " [3, 4],\n",
       " (1, 2),\n",
       " 700,\n",
       " [10, 20, 30, 40, 50],\n",
       " (1, 2, 3, 4),\n",
       " 10,\n",
       " 20,\n",
       " 30,\n",
       " 40,\n",
       " 50,\n",
       " 700,\n",
       " [10, 20, 30, 40, 50],\n",
       " (1, 2, 3, 4)]"
      ]
     },
     "execution_count": 56,
     "metadata": {},
     "output_type": "execute_result"
    }
   ],
   "source": [
    "lst1"
   ]
  },
  {
   "cell_type": "code",
   "execution_count": 57,
   "id": "a1ae540c-1ded-46aa-9a7d-d920be27a50f",
   "metadata": {},
   "outputs": [],
   "source": [
    "lst1.extend(lst4)"
   ]
  },
  {
   "cell_type": "code",
   "execution_count": 58,
   "id": "af168462-5527-45f6-baf9-25d7390981a0",
   "metadata": {},
   "outputs": [
    {
     "data": {
      "text/plain": [
       "[10,\n",
       " 'ds',\n",
       " 'cs',\n",
       " 150,\n",
       " 20,\n",
       " True,\n",
       " [3, 4],\n",
       " (1, 2),\n",
       " 700,\n",
       " [10, 20, 30, 40, 50],\n",
       " (1, 2, 3, 4),\n",
       " 10,\n",
       " 20,\n",
       " 30,\n",
       " 40,\n",
       " 50,\n",
       " 700,\n",
       " [10, 20, 30, 40, 50],\n",
       " (1, 2, 3, 4),\n",
       " 10,\n",
       " 20,\n",
       " 30,\n",
       " 40,\n",
       " 50]"
      ]
     },
     "execution_count": 58,
     "metadata": {},
     "output_type": "execute_result"
    }
   ],
   "source": [
    "lst1"
   ]
  },
  {
   "cell_type": "code",
   "execution_count": 59,
   "id": "b787bccc-bfe1-431d-85f2-3589ebd16baa",
   "metadata": {},
   "outputs": [
    {
     "data": {
      "text/plain": [
       "50"
      ]
     },
     "execution_count": 59,
     "metadata": {},
     "output_type": "execute_result"
    }
   ],
   "source": [
    "lst1[-1]"
   ]
  },
  {
   "cell_type": "markdown",
   "id": "61fa311b-57c0-4759-b453-066c8d673aa0",
   "metadata": {},
   "source": [
    "## insert()"
   ]
  },
  {
   "cell_type": "code",
   "execution_count": 60,
   "id": "eebf1a85-233a-47db-92c9-3713dcaeab38",
   "metadata": {},
   "outputs": [],
   "source": [
    "lst1.insert(0, 'i love python')"
   ]
  },
  {
   "cell_type": "code",
   "execution_count": 61,
   "id": "f29063aa-4fc6-4a6b-98d8-68e7fa7cdc96",
   "metadata": {},
   "outputs": [
    {
     "data": {
      "text/plain": [
       "['i love python',\n",
       " 10,\n",
       " 'ds',\n",
       " 'cs',\n",
       " 150,\n",
       " 20,\n",
       " True,\n",
       " [3, 4],\n",
       " (1, 2),\n",
       " 700,\n",
       " [10, 20, 30, 40, 50],\n",
       " (1, 2, 3, 4),\n",
       " 10,\n",
       " 20,\n",
       " 30,\n",
       " 40,\n",
       " 50,\n",
       " 700,\n",
       " [10, 20, 30, 40, 50],\n",
       " (1, 2, 3, 4),\n",
       " 10,\n",
       " 20,\n",
       " 30,\n",
       " 40,\n",
       " 50]"
      ]
     },
     "execution_count": 61,
     "metadata": {},
     "output_type": "execute_result"
    }
   ],
   "source": [
    "lst1"
   ]
  },
  {
   "cell_type": "code",
   "execution_count": 62,
   "id": "360ac5ee-9249-4b52-b56a-a0940f72d217",
   "metadata": {},
   "outputs": [],
   "source": [
    "# for replace a value"
   ]
  },
  {
   "cell_type": "code",
   "execution_count": 63,
   "id": "cc76d6f8-816c-4206-afd6-b7ba540bacc4",
   "metadata": {},
   "outputs": [],
   "source": [
    "lst1[0] = 'benin'"
   ]
  },
  {
   "cell_type": "code",
   "execution_count": 64,
   "id": "2a6b4a49-4190-4344-abc2-9f637f9ee947",
   "metadata": {},
   "outputs": [
    {
     "data": {
      "text/plain": [
       "['benin',\n",
       " 10,\n",
       " 'ds',\n",
       " 'cs',\n",
       " 150,\n",
       " 20,\n",
       " True,\n",
       " [3, 4],\n",
       " (1, 2),\n",
       " 700,\n",
       " [10, 20, 30, 40, 50],\n",
       " (1, 2, 3, 4),\n",
       " 10,\n",
       " 20,\n",
       " 30,\n",
       " 40,\n",
       " 50,\n",
       " 700,\n",
       " [10, 20, 30, 40, 50],\n",
       " (1, 2, 3, 4),\n",
       " 10,\n",
       " 20,\n",
       " 30,\n",
       " 40,\n",
       " 50]"
      ]
     },
     "execution_count": 64,
     "metadata": {},
     "output_type": "execute_result"
    }
   ],
   "source": [
    "lst1"
   ]
  },
  {
   "cell_type": "markdown",
   "id": "c8d83e5e-94b8-48f0-b634-b5d5cede6872",
   "metadata": {},
   "source": [
    "## index()"
   ]
  },
  {
   "cell_type": "code",
   "execution_count": 65,
   "id": "ba4d3a6c-6267-4537-875a-cf67ccf88b4f",
   "metadata": {},
   "outputs": [],
   "source": [
    "# return always ind3x value"
   ]
  },
  {
   "cell_type": "code",
   "execution_count": 66,
   "id": "02ad6077-7b70-4946-b54b-d413cd72a842",
   "metadata": {},
   "outputs": [
    {
     "data": {
      "text/plain": [
       "16"
      ]
     },
     "execution_count": 66,
     "metadata": {},
     "output_type": "execute_result"
    }
   ],
   "source": [
    "lst1.index(50)"
   ]
  },
  {
   "cell_type": "code",
   "execution_count": 67,
   "id": "9e7130b2-e51f-436f-860d-94abc098d704",
   "metadata": {},
   "outputs": [
    {
     "data": {
      "text/plain": [
       "10"
      ]
     },
     "execution_count": 67,
     "metadata": {},
     "output_type": "execute_result"
    }
   ],
   "source": [
    "lst1.index([10, 20, 30, 40, 50])"
   ]
  },
  {
   "cell_type": "markdown",
   "id": "16f9ccb9-6f0e-4a89-90ab-e9939111b95d",
   "metadata": {},
   "source": [
    "## count()"
   ]
  },
  {
   "cell_type": "code",
   "execution_count": 68,
   "id": "35ddef62-fb3d-4bed-851e-46684b24162c",
   "metadata": {},
   "outputs": [
    {
     "data": {
      "text/plain": [
       "2"
      ]
     },
     "execution_count": 68,
     "metadata": {},
     "output_type": "execute_result"
    }
   ],
   "source": [
    "lst1.count(50)"
   ]
  },
  {
   "cell_type": "code",
   "execution_count": 69,
   "id": "37ac88b7-cfa4-4f23-b48d-ba1d378ccffb",
   "metadata": {},
   "outputs": [
    {
     "data": {
      "text/plain": [
       "1"
      ]
     },
     "execution_count": 69,
     "metadata": {},
     "output_type": "execute_result"
    }
   ],
   "source": [
    "lst1.count(150)"
   ]
  },
  {
   "cell_type": "markdown",
   "id": "ba5c164c-8040-4426-888c-4d2ce4de1c8a",
   "metadata": {},
   "source": [
    "## sort()"
   ]
  },
  {
   "cell_type": "code",
   "execution_count": 70,
   "id": "2756a0ce-d5a5-4a87-808c-10b8cadc6304",
   "metadata": {},
   "outputs": [
    {
     "ename": "TypeError",
     "evalue": "'<' not supported between instances of 'int' and 'str'",
     "output_type": "error",
     "traceback": [
      "\u001b[1;31m---------------------------------------------------------------------------\u001b[0m",
      "\u001b[1;31mTypeError\u001b[0m                                 Traceback (most recent call last)",
      "Cell \u001b[1;32mIn[70], line 1\u001b[0m\n\u001b[1;32m----> 1\u001b[0m \u001b[43mlst1\u001b[49m\u001b[38;5;241;43m.\u001b[39;49m\u001b[43msort\u001b[49m\u001b[43m(\u001b[49m\u001b[43m)\u001b[49m\n",
      "\u001b[1;31mTypeError\u001b[0m: '<' not supported between instances of 'int' and 'str'"
     ]
    }
   ],
   "source": [
    "lst1.sort()"
   ]
  },
  {
   "cell_type": "code",
   "execution_count": 71,
   "id": "46acdb6e-1654-4d2c-b780-e8f6f7d5159d",
   "metadata": {},
   "outputs": [],
   "source": [
    "lst5 = [9, 8, 7, 6, 5, 4]"
   ]
  },
  {
   "cell_type": "code",
   "execution_count": 73,
   "id": "c405d46f-f99a-4290-bd0f-6ea62a8d6838",
   "metadata": {},
   "outputs": [],
   "source": [
    "lst5.sort()"
   ]
  },
  {
   "cell_type": "code",
   "execution_count": 75,
   "id": "df502528-8741-44d6-a325-5658734133d3",
   "metadata": {},
   "outputs": [
    {
     "data": {
      "text/plain": [
       "[4, 5, 6, 7, 8, 9]"
      ]
     },
     "execution_count": 75,
     "metadata": {},
     "output_type": "execute_result"
    }
   ],
   "source": [
    "lst5 # ascending order"
   ]
  },
  {
   "cell_type": "markdown",
   "id": "e7c9eed9-177f-4254-ab35-c5590dceba53",
   "metadata": {},
   "source": [
    "## reverse()"
   ]
  },
  {
   "cell_type": "code",
   "execution_count": 76,
   "id": "7b3b9378-ca13-4577-8605-24cfc8bf0ae6",
   "metadata": {},
   "outputs": [
    {
     "data": {
      "text/plain": [
       "[4, 5, 6, 7, 8, 9]"
      ]
     },
     "execution_count": 76,
     "metadata": {},
     "output_type": "execute_result"
    }
   ],
   "source": [
    "lst5"
   ]
  },
  {
   "cell_type": "code",
   "execution_count": 77,
   "id": "66041116-b997-42b3-9e61-fc4d15a89cc7",
   "metadata": {},
   "outputs": [],
   "source": [
    "lst5.reverse()"
   ]
  },
  {
   "cell_type": "code",
   "execution_count": 78,
   "id": "14b6e0fb-d580-42dc-8339-4577cfe85486",
   "metadata": {},
   "outputs": [
    {
     "data": {
      "text/plain": [
       "[9, 8, 7, 6, 5, 4]"
      ]
     },
     "execution_count": 78,
     "metadata": {},
     "output_type": "execute_result"
    }
   ],
   "source": [
    "lst5"
   ]
  },
  {
   "cell_type": "markdown",
   "id": "e5e8233f-afb9-4738-9779-088303560854",
   "metadata": {},
   "source": [
    "## remove()"
   ]
  },
  {
   "cell_type": "code",
   "execution_count": 79,
   "id": "3aca6bf6-3d21-4843-9a15-6362c0246da7",
   "metadata": {},
   "outputs": [],
   "source": [
    "lst5.remove(4)"
   ]
  },
  {
   "cell_type": "code",
   "execution_count": 80,
   "id": "817c26aa-5a0b-40eb-89d9-174988e7aa15",
   "metadata": {},
   "outputs": [
    {
     "data": {
      "text/plain": [
       "[9, 8, 7, 6, 5]"
      ]
     },
     "execution_count": 80,
     "metadata": {},
     "output_type": "execute_result"
    }
   ],
   "source": [
    "lst5"
   ]
  },
  {
   "cell_type": "markdown",
   "id": "2ac11ad6-e5c2-49be-a83a-11a1557a75df",
   "metadata": {},
   "source": [
    "## pop()"
   ]
  },
  {
   "cell_type": "code",
   "execution_count": 81,
   "id": "0c504f99-8767-47c8-8f72-5e50728f6606",
   "metadata": {},
   "outputs": [
    {
     "data": {
      "text/plain": [
       "[9, 8, 7, 6, 5]"
      ]
     },
     "execution_count": 81,
     "metadata": {},
     "output_type": "execute_result"
    }
   ],
   "source": [
    "lst5"
   ]
  },
  {
   "cell_type": "code",
   "execution_count": 82,
   "id": "e5ebef34-6309-474d-9267-73a31780fac5",
   "metadata": {},
   "outputs": [
    {
     "data": {
      "text/plain": [
       "5"
      ]
     },
     "execution_count": 82,
     "metadata": {},
     "output_type": "execute_result"
    }
   ],
   "source": [
    "lst5.pop(-1)"
   ]
  },
  {
   "cell_type": "markdown",
   "id": "23bf396f-99d1-4dd5-8867-b7f28d0bddf5",
   "metadata": {},
   "source": [
    "## clear()"
   ]
  },
  {
   "cell_type": "code",
   "execution_count": 20,
   "id": "2b940168-8286-4ead-a58b-b910b39cdf64",
   "metadata": {},
   "outputs": [],
   "source": [
    "# clear full value in the variable "
   ]
  },
  {
   "cell_type": "code",
   "execution_count": 21,
   "id": "2a56efee-59bb-47a7-86cd-940ca3d85132",
   "metadata": {},
   "outputs": [
    {
     "data": {
      "text/plain": [
       "[1, 2, 3, 4]"
      ]
     },
     "execution_count": 21,
     "metadata": {},
     "output_type": "execute_result"
    }
   ],
   "source": [
    "lst5"
   ]
  },
  {
   "cell_type": "code",
   "execution_count": 22,
   "id": "0b806b8a-2927-41b3-aa8c-d18c255615d8",
   "metadata": {},
   "outputs": [],
   "source": [
    "lst5.clear()"
   ]
  },
  {
   "cell_type": "code",
   "execution_count": 23,
   "id": "4515c4bc-897c-41a0-902f-868e4bae2d8b",
   "metadata": {},
   "outputs": [
    {
     "data": {
      "text/plain": [
       "[]"
      ]
     },
     "execution_count": 23,
     "metadata": {},
     "output_type": "execute_result"
    }
   ],
   "source": [
    "lst5"
   ]
  },
  {
   "cell_type": "markdown",
   "id": "311d9ca3-bbf4-4a04-9f23-dc609bac66b9",
   "metadata": {},
   "source": [
    "## delete"
   ]
  },
  {
   "cell_type": "code",
   "execution_count": 24,
   "id": "5716a3ab-41bd-48ad-8f77-9bdb42f07766",
   "metadata": {},
   "outputs": [],
   "source": [
    "# it's a keyword"
   ]
  },
  {
   "cell_type": "code",
   "execution_count": 25,
   "id": "64d7f8b4-8c12-46de-afed-295299ae7767",
   "metadata": {},
   "outputs": [
    {
     "data": {
      "text/plain": [
       "[]"
      ]
     },
     "execution_count": 25,
     "metadata": {},
     "output_type": "execute_result"
    }
   ],
   "source": [
    "lst5"
   ]
  },
  {
   "cell_type": "code",
   "execution_count": 26,
   "id": "5c1d7f5b-5dc3-401e-b32b-3fc3fdb06f03",
   "metadata": {},
   "outputs": [],
   "source": [
    "lst5 = [1,2,3,4]"
   ]
  },
  {
   "cell_type": "code",
   "execution_count": 27,
   "id": "563299a8-2b8c-4494-ae21-1ba9f797c96b",
   "metadata": {},
   "outputs": [
    {
     "data": {
      "text/plain": [
       "[1, 2, 3, 4]"
      ]
     },
     "execution_count": 27,
     "metadata": {},
     "output_type": "execute_result"
    }
   ],
   "source": [
    "lst5"
   ]
  },
  {
   "cell_type": "code",
   "execution_count": 28,
   "id": "bab02cf9-5e89-4a61-8e72-1c581e109aab",
   "metadata": {},
   "outputs": [],
   "source": [
    "del lst5[0]"
   ]
  },
  {
   "cell_type": "code",
   "execution_count": 29,
   "id": "782d6e05-4de0-45c7-b6b7-07d05bd6afdd",
   "metadata": {},
   "outputs": [
    {
     "data": {
      "text/plain": [
       "[2, 3, 4]"
      ]
     },
     "execution_count": 29,
     "metadata": {},
     "output_type": "execute_result"
    }
   ],
   "source": [
    "lst5"
   ]
  },
  {
   "cell_type": "code",
   "execution_count": 30,
   "id": "f7ecd5c9-e804-4751-9892-c4b1c6f44a17",
   "metadata": {},
   "outputs": [],
   "source": [
    "lst5.clear()"
   ]
  },
  {
   "cell_type": "code",
   "execution_count": 31,
   "id": "67677dbd-e3ae-4004-8d30-0ce95cff7ed3",
   "metadata": {},
   "outputs": [
    {
     "data": {
      "text/plain": [
       "[]"
      ]
     },
     "execution_count": 31,
     "metadata": {},
     "output_type": "execute_result"
    }
   ],
   "source": [
    "lst5"
   ]
  }
 ],
 "metadata": {
  "kernelspec": {
   "display_name": "Python 3 (ipykernel)",
   "language": "python",
   "name": "python3"
  },
  "language_info": {
   "codemirror_mode": {
    "name": "ipython",
    "version": 3
   },
   "file_extension": ".py",
   "mimetype": "text/x-python",
   "name": "python",
   "nbconvert_exporter": "python",
   "pygments_lexer": "ipython3",
   "version": "3.12.4"
  },
  "widgets": {
   "application/vnd.jupyter.widget-state+json": {
    "state": {},
    "version_major": 2,
    "version_minor": 0
   }
  }
 },
 "nbformat": 4,
 "nbformat_minor": 5
}
