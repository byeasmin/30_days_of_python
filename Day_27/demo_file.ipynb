{
 "cells": [
  {
   "cell_type": "code",
   "execution_count": 5,
   "id": "ca0fef7f-6f04-4266-a88f-b8b1e5a483c1",
   "metadata": {},
   "outputs": [
    {
     "name": "stdout",
     "output_type": "stream",
     "text": [
      "Writing test_modules.py\n"
     ]
    }
   ],
   "source": [
    "%%writefile test_modules.py\n",
    "\n",
    "def greet(name):\n",
    "    print(f'Hello, {}!')\n",
    "def square(x):\n",
    "    return x ** 2"
   ]
  },
  {
   "cell_type": "code",
   "execution_count": 7,
   "id": "fccb0d10-7707-4291-80c8-71d2cf17a724",
   "metadata": {},
   "outputs": [
    {
     "name": "stdout",
     "output_type": "stream",
     "text": [
      "Overwriting test_modules.py\n"
     ]
    }
   ],
   "source": [
    "%%writefile test_modules.py\n",
    "\n",
    "def greet(name):\n",
    "    print(f'Hello, {name}!')\n",
    "def square(x):\n",
    "    return x ** 2"
   ]
  },
  {
   "cell_type": "code",
   "execution_count": null,
   "id": "d6105c70-425d-48c8-81e5-13da74dc3bc9",
   "metadata": {},
   "outputs": [],
   "source": []
  }
 ],
 "metadata": {
  "kernelspec": {
   "display_name": "Python 3 (ipykernel)",
   "language": "python",
   "name": "python3"
  },
  "language_info": {
   "codemirror_mode": {
    "name": "ipython",
    "version": 3
   },
   "file_extension": ".py",
   "mimetype": "text/x-python",
   "name": "python",
   "nbconvert_exporter": "python",
   "pygments_lexer": "ipython3",
   "version": "3.12.4"
  },
  "widgets": {
   "application/vnd.jupyter.widget-state+json": {
    "state": {},
    "version_major": 2,
    "version_minor": 0
   }
  }
 },
 "nbformat": 4,
 "nbformat_minor": 5
}
