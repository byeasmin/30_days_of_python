{
 "cells": [
  {
   "cell_type": "code",
   "execution_count": 4,
   "id": "c74cb661-9593-46e3-9a9e-4d3d9a05a37e",
   "metadata": {},
   "outputs": [
    {
     "name": "stdout",
     "output_type": "stream",
     "text": [
      "Hello, benin!\n"
     ]
    },
    {
     "data": {
      "text/plain": [
       "100"
      ]
     },
     "execution_count": 4,
     "metadata": {},
     "output_type": "execute_result"
    }
   ],
   "source": [
    "import test_modules # only for jupyter notebook\n",
    "\n",
    "test_modules.greet('benin')\n",
    "test_modules.square(10)"
   ]
  },
  {
   "cell_type": "markdown",
   "id": "c125b164-5cd0-49da-9226-7718a973508b",
   "metadata": {},
   "source": [
    "# If I import specific block of code, then,"
   ]
  },
  {
   "cell_type": "code",
   "execution_count": 7,
   "id": "51a1a526-bc32-4122-b42b-aba7a3379ce3",
   "metadata": {},
   "outputs": [
    {
     "name": "stdout",
     "output_type": "stream",
     "text": [
      "Hello, benin!\n"
     ]
    }
   ],
   "source": [
    "from test_modules import greet # only for jupyter notebook\n",
    "\n",
    "greet('benin')"
   ]
  },
  {
   "cell_type": "code",
   "execution_count": 8,
   "id": "e40f2070-b60f-4ab6-8379-a14e91c43214",
   "metadata": {},
   "outputs": [
    {
     "data": {
      "text/plain": [
       "25"
      ]
     },
     "execution_count": 8,
     "metadata": {},
     "output_type": "execute_result"
    }
   ],
   "source": [
    "from test_modules import square # only for jupyter notebook\n",
    "\n",
    "square(5)"
   ]
  },
  {
   "cell_type": "markdown",
   "id": "163ce5a7-3ecb-4344-89c0-c54a5b983898",
   "metadata": {},
   "source": [
    "# Better Option is import*"
   ]
  },
  {
   "cell_type": "code",
   "execution_count": 9,
   "id": "50294a1b-d611-4ae4-a200-ba72fc0d2806",
   "metadata": {},
   "outputs": [
    {
     "name": "stdout",
     "output_type": "stream",
     "text": [
      "Hello, benin!\n"
     ]
    },
    {
     "data": {
      "text/plain": [
       "100"
      ]
     },
     "execution_count": 9,
     "metadata": {},
     "output_type": "execute_result"
    }
   ],
   "source": [
    "from test_modules import* # only for jupyter notebook\n",
    "\n",
    "greet('benin')\n",
    "square(10)"
   ]
  },
  {
   "cell_type": "code",
   "execution_count": null,
   "id": "d633ce8b-af72-4b9a-b239-ff1f1f790247",
   "metadata": {},
   "outputs": [],
   "source": []
  }
 ],
 "metadata": {
  "kernelspec": {
   "display_name": "Python 3 (ipykernel)",
   "language": "python",
   "name": "python3"
  },
  "language_info": {
   "codemirror_mode": {
    "name": "ipython",
    "version": 3
   },
   "file_extension": ".py",
   "mimetype": "text/x-python",
   "name": "python",
   "nbconvert_exporter": "python",
   "pygments_lexer": "ipython3",
   "version": "3.12.4"
  },
  "widgets": {
   "application/vnd.jupyter.widget-state+json": {
    "state": {},
    "version_major": 2,
    "version_minor": 0
   }
  }
 },
 "nbformat": 4,
 "nbformat_minor": 5
}
