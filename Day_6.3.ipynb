{
 "cells": [
  {
   "cell_type": "markdown",
   "id": "a4111038-926d-4b7a-a86c-e7f0cda855d6",
   "metadata": {},
   "source": [
    "# https://github.com/byeasmin/30_days_of_python"
   ]
  },
  {
   "cell_type": "markdown",
   "id": "034c845c-ae9f-4723-acae-ead71ace28d6",
   "metadata": {},
   "source": [
    "# List Comprehension"
   ]
  },
  {
   "cell_type": "markdown",
   "id": "e2d79c13-fb36-41d9-8648-29329449d3b3",
   "metadata": {},
   "source": [
    "## Simple List Comprehension"
   ]
  },
  {
   "cell_type": "code",
   "execution_count": 2,
   "id": "32efcf2c-ed0d-41e4-8245-bc65a1756e09",
   "metadata": {},
   "outputs": [],
   "source": [
    "# basic syntax\n",
    "\n",
    "# [expressions for item in iterable if condition]"
   ]
  },
  {
   "cell_type": "code",
   "execution_count": 4,
   "id": "f8fe9016-3021-46d6-926c-f002cecdf69f",
   "metadata": {},
   "outputs": [],
   "source": [
    "squares = [x ** 2 for x in range(10)]"
   ]
  },
  {
   "cell_type": "code",
   "execution_count": 5,
   "id": "a9dd1417-fe0c-49fa-b3b9-7c0c157f16a0",
   "metadata": {},
   "outputs": [
    {
     "data": {
      "text/plain": [
       "[0, 1, 4, 9, 16, 25, 36, 49, 64, 81]"
      ]
     },
     "execution_count": 5,
     "metadata": {},
     "output_type": "execute_result"
    }
   ],
   "source": [
    "squares"
   ]
  },
  {
   "cell_type": "code",
   "execution_count": 20,
   "id": "41c494d2-a2d8-4c9b-bced-4aae288dcb06",
   "metadata": {},
   "outputs": [
    {
     "data": {
      "text/plain": [
       "[0, 1, 2, 3, 4, 5, 6, 7, 8, 9, 10, 11, 12, 13, 14, 15, 16, 17, 18, 19]"
      ]
     },
     "execution_count": 20,
     "metadata": {},
     "output_type": "execute_result"
    }
   ],
   "source": [
    "[y for y in range(20)]"
   ]
  },
  {
   "cell_type": "code",
   "execution_count": 23,
   "id": "6ef6369a-1032-4b6e-859d-1c22b206809c",
   "metadata": {},
   "outputs": [
    {
     "name": "stdout",
     "output_type": "stream",
     "text": [
      "0 1 2 3 4 5 6 7 8 9 10 11 12 13 14 15 16 17 18 19 "
     ]
    }
   ],
   "source": [
    "for y in range(20):\n",
    "    print(y, end = ' ')"
   ]
  },
  {
   "cell_type": "markdown",
   "id": "b2b7bce0-c181-4747-9a54-c5707625976a",
   "metadata": {},
   "source": [
    "## List Comprehension with Condition"
   ]
  },
  {
   "cell_type": "code",
   "execution_count": 24,
   "id": "09d87f75-d662-47bc-8e52-882c8b0121e5",
   "metadata": {},
   "outputs": [],
   "source": [
    "evens = evens = [x for x in range(10) if x % 2 == 0]"
   ]
  },
  {
   "cell_type": "code",
   "execution_count": 26,
   "id": "44882d1b-5d25-4187-951c-fdf6b14d19fb",
   "metadata": {},
   "outputs": [
    {
     "data": {
      "text/plain": [
       "[0, 2, 4, 6, 8]"
      ]
     },
     "execution_count": 26,
     "metadata": {},
     "output_type": "execute_result"
    }
   ],
   "source": [
    "evens"
   ]
  },
  {
   "cell_type": "code",
   "execution_count": null,
   "id": "505fca28-bf37-4097-b667-dcbdf9143f24",
   "metadata": {},
   "outputs": [],
   "source": [
    "data = 'i love python'"
   ]
  },
  {
   "cell_type": "markdown",
   "id": "647a621a-244b-4ffa-9096-4061bea5c9e7",
   "metadata": {},
   "source": [
    "## Creating a Matrix using List Comprehension"
   ]
  },
  {
   "cell_type": "code",
   "execution_count": null,
   "id": "278dcbfb-ac6b-42f3-b9c2-7b1387e6e7b6",
   "metadata": {},
   "outputs": [],
   "source": []
  }
 ],
 "metadata": {
  "kernelspec": {
   "display_name": "Python 3 (ipykernel)",
   "language": "python",
   "name": "python3"
  },
  "language_info": {
   "codemirror_mode": {
    "name": "ipython",
    "version": 3
   },
   "file_extension": ".py",
   "mimetype": "text/x-python",
   "name": "python",
   "nbconvert_exporter": "python",
   "pygments_lexer": "ipython3",
   "version": "3.12.4"
  },
  "widgets": {
   "application/vnd.jupyter.widget-state+json": {
    "state": {},
    "version_major": 2,
    "version_minor": 0
   }
  }
 },
 "nbformat": 4,
 "nbformat_minor": 5
}
