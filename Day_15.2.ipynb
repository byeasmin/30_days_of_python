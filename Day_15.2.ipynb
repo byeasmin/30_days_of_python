{
 "cells": [
  {
   "cell_type": "markdown",
   "id": "1e93e9ff-888b-4a71-b0c9-9c81a886f8d7",
   "metadata": {},
   "source": [
    "# https://github.com/byeasmin/30_days_of_python"
   ]
  },
  {
   "cell_type": "markdown",
   "id": "7678d562-f8e6-490b-97fe-c0a38a8512b4",
   "metadata": {},
   "source": [
    "# Continue"
   ]
  },
  {
   "cell_type": "code",
   "execution_count": 1,
   "id": "71b7995e-8678-4615-9e35-6aff978a30fd",
   "metadata": {},
   "outputs": [],
   "source": [
    "num = [1, 2, 3, 4, 5, 6, 7]"
   ]
  },
  {
   "cell_type": "code",
   "execution_count": 2,
   "id": "55a77195-e93f-490c-8c81-aedf054be804",
   "metadata": {},
   "outputs": [
    {
     "data": {
      "text/plain": [
       "[1, 2, 3, 4, 5, 6, 7]"
      ]
     },
     "execution_count": 2,
     "metadata": {},
     "output_type": "execute_result"
    }
   ],
   "source": [
    "num"
   ]
  },
  {
   "cell_type": "markdown",
   "id": "e65bbbec-2586-4474-8de2-9b5f933b032a",
   "metadata": {},
   "source": [
    "###  Using List Comprehension to separate even & odd numbers"
   ]
  },
  {
   "cell_type": "code",
   "execution_count": 5,
   "id": "b0be14db-ac5d-433b-96bf-4784d36af4ce",
   "metadata": {},
   "outputs": [
    {
     "data": {
      "text/plain": [
       "[2, 4, 6]"
      ]
     },
     "execution_count": 5,
     "metadata": {},
     "output_type": "execute_result"
    }
   ],
   "source": [
    "[i for i in num if i % 2 == 0] # even"
   ]
  },
  {
   "cell_type": "code",
   "execution_count": 6,
   "id": "f7494d83-8012-4472-a43b-91f2f66c2e63",
   "metadata": {},
   "outputs": [
    {
     "data": {
      "text/plain": [
       "[1, 3, 5, 7]"
      ]
     },
     "execution_count": 6,
     "metadata": {},
     "output_type": "execute_result"
    }
   ],
   "source": [
    "[i for i in num if i % 2 != 0] # odd"
   ]
  },
  {
   "cell_type": "markdown",
   "id": "d38fd062-2325-43bf-a934-fd828f038e93",
   "metadata": {},
   "source": [
    "### Using Continue statement to separate even & odd numbers"
   ]
  },
  {
   "cell_type": "code",
   "execution_count": 8,
   "id": "ccef2068-227b-4f4e-8406-7c3115cf29ea",
   "metadata": {},
   "outputs": [
    {
     "name": "stdout",
     "output_type": "stream",
     "text": [
      "1\n",
      "3\n",
      "5\n",
      "7\n"
     ]
    }
   ],
   "source": [
    "for i in num:\n",
    "    if i % 2 == 0: # odd\n",
    "        continue\n",
    "    print(i)"
   ]
  },
  {
   "cell_type": "code",
   "execution_count": 10,
   "id": "ea3b116b-a64f-4f31-9ad3-68eb83025d40",
   "metadata": {},
   "outputs": [
    {
     "name": "stdout",
     "output_type": "stream",
     "text": [
      "2\n",
      "4\n",
      "6\n"
     ]
    }
   ],
   "source": [
    "for i in num:\n",
    "    if i % 2 != 0: # even\n",
    "        continue\n",
    "    print(i)"
   ]
  },
  {
   "cell_type": "code",
   "execution_count": 11,
   "id": "1c447043-8364-4f80-8754-f621fbd1d6e9",
   "metadata": {},
   "outputs": [
    {
     "name": "stdout",
     "output_type": "stream",
     "text": [
      "2\n",
      "4\n",
      "6\n"
     ]
    }
   ],
   "source": [
    "for i in num:\n",
    "    if i % 2 == 1: # odd\n",
    "        continue\n",
    "    print(i)"
   ]
  },
  {
   "cell_type": "code",
   "execution_count": 12,
   "id": "c79c3f2c-4087-4551-9860-98dd0eb3792d",
   "metadata": {},
   "outputs": [],
   "source": [
    "txt = 'i love python and django'"
   ]
  },
  {
   "cell_type": "code",
   "execution_count": 16,
   "id": "18f06d5a-d0d9-4e36-989f-6f84360ad1bb",
   "metadata": {},
   "outputs": [
    {
     "name": "stdout",
     "output_type": "stream",
     "text": [
      "i\n",
      "love\n",
      "python\n",
      "django\n"
     ]
    }
   ],
   "source": [
    "for i in txt.split():\n",
    "    if i == 'and':\n",
    "        continue\n",
    "    print(i)"
   ]
  },
  {
   "cell_type": "code",
   "execution_count": 22,
   "id": "0c6266df-0d0a-4ab2-9b8f-0d62d1ae1d7e",
   "metadata": {},
   "outputs": [
    {
     "name": "stdout",
     "output_type": "stream",
     "text": [
      "i\n",
      "love\n",
      "python\n",
      "django\n"
     ]
    }
   ],
   "source": [
    "txt = 'i love python and django'\n",
    "words = txt.split()\n",
    "\n",
    "i = 0\n",
    "while i < len(words):\n",
    "    if words[i] == 'and':\n",
    "        i += 1\n",
    "        continue\n",
    "    print(words[i])\n",
    "    i += 1\n"
   ]
  }
 ],
 "metadata": {
  "kernelspec": {
   "display_name": "Python 3 (ipykernel)",
   "language": "python",
   "name": "python3"
  },
  "language_info": {
   "codemirror_mode": {
    "name": "ipython",
    "version": 3
   },
   "file_extension": ".py",
   "mimetype": "text/x-python",
   "name": "python",
   "nbconvert_exporter": "python",
   "pygments_lexer": "ipython3",
   "version": "3.12.4"
  },
  "widgets": {
   "application/vnd.jupyter.widget-state+json": {
    "state": {},
    "version_major": 2,
    "version_minor": 0
   }
  }
 },
 "nbformat": 4,
 "nbformat_minor": 5
}
