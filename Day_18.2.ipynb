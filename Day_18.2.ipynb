{
 "cells": [
  {
   "cell_type": "markdown",
   "id": "7afe4980-a332-4904-b019-604e84de4600",
   "metadata": {},
   "source": [
    "# https://github.com/byeasmin/30_days_of_python"
   ]
  },
  {
   "cell_type": "markdown",
   "id": "268c32ec-8fab-4019-bf5a-5599a52f9955",
   "metadata": {},
   "source": [
    "# Return Type"
   ]
  },
  {
   "cell_type": "code",
   "execution_count": 6,
   "id": "12e7d914-3d5d-42f4-ae7d-206ca698a1ed",
   "metadata": {},
   "outputs": [],
   "source": [
    "def mul():\n",
    "    x = int(input('x = '))\n",
    "    y = int(input('y = '))\n",
    "    result = x * y\n",
    "    print('result', result)"
   ]
  },
  {
   "cell_type": "code",
   "execution_count": 7,
   "id": "3446f902-e37d-4dfe-8ece-1b429a759b66",
   "metadata": {},
   "outputs": [
    {
     "name": "stdin",
     "output_type": "stream",
     "text": [
      "x =  12\n",
      "y =  13\n"
     ]
    },
    {
     "name": "stdout",
     "output_type": "stream",
     "text": [
      "result 156\n"
     ]
    }
   ],
   "source": [
    "mul()"
   ]
  },
  {
   "cell_type": "code",
   "execution_count": 14,
   "id": "c7ec45f2-99dc-4cd1-ba14-5b9ab26d1bf4",
   "metadata": {},
   "outputs": [],
   "source": [
    "def mul1():\n",
    "    x = int(input('x = '))\n",
    "    y = int(input('y = '))\n",
    "    result = x * y\n",
    "    print('result', result)\n",
    "\n",
    "def mul2():\n",
    "    total1 = mul1()\n",
    "    z = int(input('z = '))\n",
    "    total2 = total1 * z\n",
    "    print('Final result = ', total2)\n",
    "    "
   ]
  },
  {
   "cell_type": "code",
   "execution_count": 15,
   "id": "ef2ed8a9-deb0-433a-8bcf-692d3fce5bc5",
   "metadata": {},
   "outputs": [
    {
     "name": "stdin",
     "output_type": "stream",
     "text": [
      "x =  1\n",
      "y =  5\n"
     ]
    },
    {
     "name": "stdout",
     "output_type": "stream",
     "text": [
      "result 5\n"
     ]
    },
    {
     "name": "stdin",
     "output_type": "stream",
     "text": [
      "z =  4\n"
     ]
    },
    {
     "ename": "TypeError",
     "evalue": "unsupported operand type(s) for *: 'NoneType' and 'int'",
     "output_type": "error",
     "traceback": [
      "\u001b[1;31m---------------------------------------------------------------------------\u001b[0m",
      "\u001b[1;31mTypeError\u001b[0m                                 Traceback (most recent call last)",
      "Cell \u001b[1;32mIn[15], line 1\u001b[0m\n\u001b[1;32m----> 1\u001b[0m \u001b[43mmul2\u001b[49m\u001b[43m(\u001b[49m\u001b[43m)\u001b[49m\n",
      "Cell \u001b[1;32mIn[14], line 10\u001b[0m, in \u001b[0;36mmul2\u001b[1;34m()\u001b[0m\n\u001b[0;32m      8\u001b[0m total1 \u001b[38;5;241m=\u001b[39m mul1()\n\u001b[0;32m      9\u001b[0m z \u001b[38;5;241m=\u001b[39m \u001b[38;5;28mint\u001b[39m(\u001b[38;5;28minput\u001b[39m(\u001b[38;5;124m'\u001b[39m\u001b[38;5;124mz = \u001b[39m\u001b[38;5;124m'\u001b[39m))\n\u001b[1;32m---> 10\u001b[0m total2 \u001b[38;5;241m=\u001b[39m \u001b[43mtotal1\u001b[49m\u001b[43m \u001b[49m\u001b[38;5;241;43m*\u001b[39;49m\u001b[43m \u001b[49m\u001b[43mz\u001b[49m\n\u001b[0;32m     11\u001b[0m \u001b[38;5;28mprint\u001b[39m(\u001b[38;5;124m'\u001b[39m\u001b[38;5;124mFinal result = \u001b[39m\u001b[38;5;124m'\u001b[39m, total2)\n",
      "\u001b[1;31mTypeError\u001b[0m: unsupported operand type(s) for *: 'NoneType' and 'int'"
     ]
    }
   ],
   "source": [
    "mul2()"
   ]
  },
  {
   "cell_type": "code",
   "execution_count": 18,
   "id": "4397448e-1ce9-498b-8fbe-b50ea42dbee7",
   "metadata": {},
   "outputs": [],
   "source": [
    "def mul1():\n",
    "    x = int(input('x = '))\n",
    "    y = int(input('y = '))\n",
    "    result = x * y\n",
    "    print('result', result)\n",
    "    return result # have to return result\n",
    "\n",
    "def mul2():\n",
    "    total1 = mul1()\n",
    "    z = int(input('z = '))\n",
    "    total2 = total1 * z\n",
    "    print('Final result = ', total2)\n",
    "    "
   ]
  },
  {
   "cell_type": "code",
   "execution_count": 19,
   "id": "b8986bdc-fc88-4d40-9362-f3cce276d4ea",
   "metadata": {},
   "outputs": [
    {
     "name": "stdin",
     "output_type": "stream",
     "text": [
      "x =  2\n",
      "y =  3\n"
     ]
    },
    {
     "name": "stdout",
     "output_type": "stream",
     "text": [
      "result 6\n"
     ]
    },
    {
     "name": "stdin",
     "output_type": "stream",
     "text": [
      "z =  4\n"
     ]
    },
    {
     "name": "stdout",
     "output_type": "stream",
     "text": [
      "Final result =  24\n"
     ]
    }
   ],
   "source": [
    "mul2()"
   ]
  }
 ],
 "metadata": {
  "kernelspec": {
   "display_name": "Python 3 (ipykernel)",
   "language": "python",
   "name": "python3"
  },
  "language_info": {
   "codemirror_mode": {
    "name": "ipython",
    "version": 3
   },
   "file_extension": ".py",
   "mimetype": "text/x-python",
   "name": "python",
   "nbconvert_exporter": "python",
   "pygments_lexer": "ipython3",
   "version": "3.12.4"
  },
  "widgets": {
   "application/vnd.jupyter.widget-state+json": {
    "state": {},
    "version_major": 2,
    "version_minor": 0
   }
  }
 },
 "nbformat": 4,
 "nbformat_minor": 5
}
