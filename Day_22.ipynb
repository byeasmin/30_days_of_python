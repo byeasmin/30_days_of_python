{
 "cells": [
  {
   "cell_type": "markdown",
   "id": "b111392a-b2f9-46c4-965a-e51ff3b4d8f8",
   "metadata": {},
   "source": [
    "# https://github.com/byeasmin/30_days_of_python"
   ]
  },
  {
   "cell_type": "markdown",
   "id": "57bc943b-c332-4419-b41a-f0f8e5b77739",
   "metadata": {},
   "source": [
    "# Parameters & Arguments"
   ]
  },
  {
   "cell_type": "code",
   "execution_count": 2,
   "id": "3b5f7470-385b-4509-8fd9-3bae64d845a2",
   "metadata": {},
   "outputs": [
    {
     "data": {
      "text/plain": [
       "30"
      ]
     },
     "execution_count": 2,
     "metadata": {},
     "output_type": "execute_result"
    }
   ],
   "source": [
    "def add_sum(x, y): # parameters\n",
    "    result = x + y\n",
    "    return result\n",
    "\n",
    "add_sum(10, 20) # arguments"
   ]
  },
  {
   "cell_type": "code",
   "execution_count": 4,
   "id": "e6f93324-93bc-4c57-ae46-b8f272e5f7d5",
   "metadata": {},
   "outputs": [
    {
     "name": "stdout",
     "output_type": "stream",
     "text": [
      "10\n"
     ]
    }
   ],
   "source": [
    "def add_sum(x, y):\n",
    "    print(x)\n",
    "add_sum(10, 20) # arguments"
   ]
  },
  {
   "cell_type": "markdown",
   "id": "4f6f2384-a174-4a49-8a4d-cc5884166cf6",
   "metadata": {},
   "source": [
    "- **1. Positional Arguments**\n",
    "- **2. Keyword Arguments**\n",
    "- **3. Default Arguments**\n",
    "- **4. Variable length Arguments**"
   ]
  },
  {
   "cell_type": "markdown",
   "id": "3acc3928-dae8-40ab-a1f0-96447b8718ce",
   "metadata": {},
   "source": [
    "# Positional Argument"
   ]
  },
  {
   "cell_type": "code",
   "execution_count": 5,
   "id": "627d6056-b0d5-489e-b8da-6f7c03a167f6",
   "metadata": {},
   "outputs": [
    {
     "name": "stdout",
     "output_type": "stream",
     "text": [
      "10\n"
     ]
    }
   ],
   "source": [
    "def add_sum(x, y):\n",
    "    print(x)\n",
    "add_sum(10, 20) # arguments"
   ]
  },
  {
   "cell_type": "markdown",
   "id": "f01cb7d1-5e89-4eae-87e5-7e15d6474271",
   "metadata": {},
   "source": [
    "# Keyword Arguments"
   ]
  },
  {
   "cell_type": "code",
   "execution_count": 6,
   "id": "69f0ceca-95ae-4747-9ee8-d9b7c018495b",
   "metadata": {},
   "outputs": [
    {
     "name": "stdout",
     "output_type": "stream",
     "text": [
      "python programmar\n",
      "200000\n"
     ]
    }
   ],
   "source": [
    "def personal_info(job, income):\n",
    "    print(job)\n",
    "    print(income)\n",
    "personal_info('python programmar', 200000)"
   ]
  },
  {
   "cell_type": "markdown",
   "id": "fa599fb8-2ce7-490e-b13a-24cd08e5161c",
   "metadata": {},
   "source": [
    "### But"
   ]
  },
  {
   "cell_type": "code",
   "execution_count": 8,
   "id": "ceb423f3-e206-4ec2-bbdc-1e85aa75aabc",
   "metadata": {},
   "outputs": [
    {
     "name": "stdout",
     "output_type": "stream",
     "text": [
      "job =  200000\n",
      "python programmar\n"
     ]
    }
   ],
   "source": [
    "def personal_info(job, income):\n",
    "    print('job = ',job)\n",
    "    print(income)\n",
    "personal_info(200000, 'python programmar')"
   ]
  },
  {
   "cell_type": "markdown",
   "id": "5fc85daa-d279-4ead-9680-59e46c443369",
   "metadata": {},
   "source": [
    "This is the function of key arguments, If the value is not given according to the keyword then input will also be taken wrong"
   ]
  },
  {
   "cell_type": "markdown",
   "id": "8dfc0ae2-da66-4930-9d71-f9707153b5f4",
   "metadata": {},
   "source": [
    "## But, If I mention the keywords"
   ]
  },
  {
   "cell_type": "code",
   "execution_count": 9,
   "id": "2f3b52a9-de8d-4540-b9c5-13b27cd8ad0b",
   "metadata": {},
   "outputs": [
    {
     "name": "stdout",
     "output_type": "stream",
     "text": [
      "job =  python programmar\n",
      "200000\n"
     ]
    }
   ],
   "source": [
    "def personal_info(job, income):\n",
    "    print('job = ',job)\n",
    "    print(income)\n",
    "personal_info(income = 200000, job = 'python programmar')"
   ]
  },
  {
   "cell_type": "markdown",
   "id": "16483653-01b5-472f-b97c-87c9e811d883",
   "metadata": {},
   "source": [
    "Then it's ok"
   ]
  },
  {
   "cell_type": "markdown",
   "id": "d1c827ea-0137-4260-b03c-5b6b719db9b5",
   "metadata": {},
   "source": [
    " # Default Arguments"
   ]
  },
  {
   "cell_type": "code",
   "execution_count": 16,
   "id": "9dce962f-adfc-494e-9738-794da9219c98",
   "metadata": {},
   "outputs": [
    {
     "name": "stdout",
     "output_type": "stream",
     "text": [
      "job =  python programmar\n",
      "income =  10000\n"
     ]
    }
   ],
   "source": [
    "def personal_info(job, income = 10000):\n",
    "    print('job = ',job)\n",
    "    print('income = ', income)\n",
    "personal_info('python programmar')"
   ]
  },
  {
   "cell_type": "code",
   "execution_count": 17,
   "id": "bc9ff504-5c4b-4066-995a-3901afcf5a9e",
   "metadata": {},
   "outputs": [
    {
     "name": "stdout",
     "output_type": "stream",
     "text": [
      "job =  python programmar\n",
      "20000\n"
     ]
    }
   ],
   "source": [
    "def personal_info(job, income = 10000):\n",
    "    print('job = ',job)\n",
    "    print(income)\n",
    "personal_info('python programmar', 20000)"
   ]
  },
  {
   "cell_type": "code",
   "execution_count": 1,
   "id": "f12a091b-8f3b-4458-a46f-64376a2b3a87",
   "metadata": {},
   "outputs": [
    {
     "name": "stdout",
     "output_type": "stream",
     "text": [
      "job =  python programmar\n",
      "20000\n"
     ]
    }
   ],
   "source": [
    "def personal_info(job, income = 10000):\n",
    "    print('job = ',job)\n",
    "    print(income)\n",
    "personal_info('python programmar', income = 20000)"
   ]
  },
  {
   "cell_type": "markdown",
   "id": "5d760a86-a6ea-4222-9cc1-e4af06947b5d",
   "metadata": {},
   "source": [
    "# Variable Length Arguments"
   ]
  },
  {
   "cell_type": "code",
   "execution_count": 3,
   "id": "414682db-97e8-456d-93ba-767f94a6af6a",
   "metadata": {},
   "outputs": [
    {
     "ename": "TypeError",
     "evalue": "add_num() takes 2 positional arguments but 5 were given",
     "output_type": "error",
     "traceback": [
      "\u001b[1;31m---------------------------------------------------------------------------\u001b[0m",
      "\u001b[1;31mTypeError\u001b[0m                                 Traceback (most recent call last)",
      "Cell \u001b[1;32mIn[3], line 3\u001b[0m\n\u001b[0;32m      1\u001b[0m \u001b[38;5;28;01mdef\u001b[39;00m \u001b[38;5;21madd_num\u001b[39m(x, y):\n\u001b[0;32m      2\u001b[0m     result \u001b[38;5;241m=\u001b[39m \u001b[38;5;28msum\u001b[39m()\n\u001b[1;32m----> 3\u001b[0m \u001b[43madd_num\u001b[49m\u001b[43m(\u001b[49m\u001b[38;5;241;43m10\u001b[39;49m\u001b[43m,\u001b[49m\u001b[43m \u001b[49m\u001b[38;5;241;43m30\u001b[39;49m\u001b[43m,\u001b[49m\u001b[43m \u001b[49m\u001b[38;5;241;43m10\u001b[39;49m\u001b[43m,\u001b[49m\u001b[43m \u001b[49m\u001b[38;5;241;43m1000\u001b[39;49m\u001b[43m,\u001b[49m\u001b[43m \u001b[49m\u001b[38;5;241;43m4000\u001b[39;49m\u001b[43m)\u001b[49m \u001b[38;5;66;03m# TypeError: add_num() takes 2 positional arguments \u001b[39;00m\n\u001b[0;32m      4\u001b[0m                                 \u001b[38;5;66;03m# but 5 were given\u001b[39;00m\n",
      "\u001b[1;31mTypeError\u001b[0m: add_num() takes 2 positional arguments but 5 were given"
     ]
    }
   ],
   "source": [
    "def add_num(x, y):\n",
    "    result = sum()\n",
    "add_num(10, 30, 10, 1000, 4000) # TypeError: add_num() takes 2 positional arguments \n",
    "                                # but 5 were given\n"
   ]
  },
  {
   "cell_type": "markdown",
   "id": "75cb8e4c-2e85-4ff1-a376-afe4b3813e0f",
   "metadata": {},
   "source": [
    "To Fix this error"
   ]
  },
  {
   "cell_type": "code",
   "execution_count": 5,
   "id": "1c668440-c07c-4ecc-9c7e-c34f01bb79c9",
   "metadata": {},
   "outputs": [
    {
     "name": "stdout",
     "output_type": "stream",
     "text": [
      "(10, 30, 10, 1000, 4000)\n"
     ]
    },
    {
     "data": {
      "text/plain": [
       "5050"
      ]
     },
     "execution_count": 5,
     "metadata": {},
     "output_type": "execute_result"
    }
   ],
   "source": [
    "def add_num(*x):\n",
    "    print(x)\n",
    "    result = sum(x)\n",
    "    return result\n",
    "add_num(10, 30, 10, 1000, 4000)"
   ]
  },
  {
   "cell_type": "code",
   "execution_count": 8,
   "id": "1629641a-aae4-4c35-a7e4-882c9315d641",
   "metadata": {},
   "outputs": [
    {
     "name": "stdout",
     "output_type": "stream",
     "text": [
      "10\n",
      "(30, 10, 1000, 4000)\n"
     ]
    }
   ],
   "source": [
    "def add_num(x, *y):\n",
    "    print(x)\n",
    "    print(y)\n",
    "\n",
    "add_num(10, 30, 10, 1000, 4000)"
   ]
  },
  {
   "cell_type": "code",
   "execution_count": 10,
   "id": "1127630c-8d30-4dc8-acdc-2de9aaa51a69",
   "metadata": {},
   "outputs": [
    {
     "ename": "TypeError",
     "evalue": "add_num() missing 1 required keyword-only argument: 'y'",
     "output_type": "error",
     "traceback": [
      "\u001b[1;31m---------------------------------------------------------------------------\u001b[0m",
      "\u001b[1;31mTypeError\u001b[0m                                 Traceback (most recent call last)",
      "Cell \u001b[1;32mIn[10], line 5\u001b[0m\n\u001b[0;32m      2\u001b[0m     \u001b[38;5;28mprint\u001b[39m(x)\n\u001b[0;32m      3\u001b[0m     \u001b[38;5;28mprint\u001b[39m(y)\n\u001b[1;32m----> 5\u001b[0m \u001b[43madd_num\u001b[49m\u001b[43m(\u001b[49m\u001b[38;5;241;43m10\u001b[39;49m\u001b[43m,\u001b[49m\u001b[43m \u001b[49m\u001b[38;5;241;43m30\u001b[39;49m\u001b[43m,\u001b[49m\u001b[43m \u001b[49m\u001b[38;5;241;43m10\u001b[39;49m\u001b[43m,\u001b[49m\u001b[43m \u001b[49m\u001b[38;5;241;43m1000\u001b[39;49m\u001b[43m,\u001b[49m\u001b[43m \u001b[49m\u001b[38;5;241;43m4000\u001b[39;49m\u001b[43m)\u001b[49m \u001b[38;5;66;03m# TypeError: add_num() missing 1 required keyword-only argument: 'y'\u001b[39;00m\n",
      "\u001b[1;31mTypeError\u001b[0m: add_num() missing 1 required keyword-only argument: 'y'"
     ]
    }
   ],
   "source": [
    "def add_num(*x, y):\n",
    "    print(x)\n",
    "    print(y)\n",
    "\n",
    "add_num(10, 30, 10, 1000, 4000) # TypeError: add_num() missing 1 required keyword-only argument: 'y'"
   ]
  }
 ],
 "metadata": {
  "kernelspec": {
   "display_name": "Python 3 (ipykernel)",
   "language": "python",
   "name": "python3"
  },
  "language_info": {
   "codemirror_mode": {
    "name": "ipython",
    "version": 3
   },
   "file_extension": ".py",
   "mimetype": "text/x-python",
   "name": "python",
   "nbconvert_exporter": "python",
   "pygments_lexer": "ipython3",
   "version": "3.12.4"
  },
  "widgets": {
   "application/vnd.jupyter.widget-state+json": {
    "state": {},
    "version_major": 2,
    "version_minor": 0
   }
  }
 },
 "nbformat": 4,
 "nbformat_minor": 5
}
