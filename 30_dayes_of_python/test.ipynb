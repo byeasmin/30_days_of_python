{
 "cells": [
  {
   "cell_type": "code",
   "execution_count": 1,
   "id": "29b2e028-eaa0-4d4f-8282-e91d324015ee",
   "metadata": {},
   "outputs": [
    {
     "name": "stdout",
     "output_type": "stream",
     "text": [
      "My name is benin and I am 23 years old.\n"
     ]
    }
   ],
   "source": [
    "name1 = \"benin\"\n",
    "age1 = 23\n",
    "print(f\"My name is {name1} and I am {age1} years old.\")"
   ]
  },
  {
   "cell_type": "code",
   "execution_count": 2,
   "id": "121877cd-a412-424a-81df-2df594903425",
   "metadata": {},
   "outputs": [
    {
     "name": "stdout",
     "output_type": "stream",
     "text": [
      "My name is yeasmin and I am 25 years old.\n"
     ]
    }
   ],
   "source": [
    "name2 = \"yeasmin\"\n",
    "age2 = 25\n",
    "print(f\"My name is {name2} and I am {age2} years old.\")"
   ]
  },
  {
   "cell_type": "markdown",
   "id": "60954dfe-49db-45ea-b38d-20a8afd492b2",
   "metadata": {},
   "source": [
    "without using f string"
   ]
  },
  {
   "cell_type": "code",
   "execution_count": 3,
   "id": "0e92183a-2564-40b0-88ff-44b97e8caf0a",
   "metadata": {},
   "outputs": [
    {
     "name": "stdout",
     "output_type": "stream",
     "text": [
      "my name is  meem\n"
     ]
    }
   ],
   "source": [
    "name3=\"meem\"\n",
    "print(\"my name is \",name3)"
   ]
  },
  {
   "cell_type": "markdown",
   "id": "3be5be1b-c903-4473-b711-e31a1bd04742",
   "metadata": {},
   "source": [
    "with using f string"
   ]
  },
  {
   "cell_type": "code",
   "execution_count": 4,
   "id": "4a1c0d76-7273-41b3-a59a-a177b73f5705",
   "metadata": {},
   "outputs": [
    {
     "ename": "NameError",
     "evalue": "name 'age3' is not defined",
     "output_type": "error",
     "traceback": [
      "\u001b[1;31m---------------------------------------------------------------------------\u001b[0m",
      "\u001b[1;31mNameError\u001b[0m                                 Traceback (most recent call last)",
      "Cell \u001b[1;32mIn[4], line 3\u001b[0m\n\u001b[0;32m      1\u001b[0m name3 \u001b[38;5;241m=\u001b[39m \u001b[38;5;124m\"\u001b[39m\u001b[38;5;124myeasmin\u001b[39m\u001b[38;5;124m\"\u001b[39m\n\u001b[0;32m      2\u001b[0m age2 \u001b[38;5;241m=\u001b[39m \u001b[38;5;241m23\u001b[39m\n\u001b[1;32m----> 3\u001b[0m \u001b[38;5;28mprint\u001b[39m(\u001b[38;5;124mf\u001b[39m\u001b[38;5;124m\"\u001b[39m\u001b[38;5;124mMy name is \u001b[39m\u001b[38;5;132;01m{\u001b[39;00mname3\u001b[38;5;132;01m}\u001b[39;00m\u001b[38;5;124m and I am \u001b[39m\u001b[38;5;132;01m{\u001b[39;00m\u001b[43mage3\u001b[49m\u001b[38;5;132;01m}\u001b[39;00m\u001b[38;5;124m years old.\u001b[39m\u001b[38;5;124m\"\u001b[39m)\n",
      "\u001b[1;31mNameError\u001b[0m: name 'age3' is not defined"
     ]
    }
   ],
   "source": [
    "name3 = \"yeasmin\"\n",
    "age2 = 23\n",
    "print(f\"My name is {name3} and I am {age3} years old.\")"
   ]
  },
  {
   "cell_type": "code",
   "execution_count": 5,
   "id": "2b4eea0a-83a7-45ec-a0ea-a163b246669d",
   "metadata": {},
   "outputs": [
    {
     "name": "stdout",
     "output_type": "stream",
     "text": [
      "My name is yeasmin and I am 23 years old.\n"
     ]
    }
   ],
   "source": [
    "name3 = \"yeasmin\"\n",
    "age3 = 23\n",
    "print(f\"My name is {name3} and I am {age3} years old.\")"
   ]
  }
 ],
 "metadata": {
  "kernelspec": {
   "display_name": "Python 3 (ipykernel)",
   "language": "python",
   "name": "python3"
  },
  "language_info": {
   "codemirror_mode": {
    "name": "ipython",
    "version": 3
   },
   "file_extension": ".py",
   "mimetype": "text/x-python",
   "name": "python",
   "nbconvert_exporter": "python",
   "pygments_lexer": "ipython3",
   "version": "3.12.4"
  }
 },
 "nbformat": 4,
 "nbformat_minor": 5
}
