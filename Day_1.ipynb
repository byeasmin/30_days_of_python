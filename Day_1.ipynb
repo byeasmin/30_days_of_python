{
 "cells": [
  {
   "cell_type": "markdown",
   "id": "1caefb44-04e2-4a6c-940a-3687b09a1fca",
   "metadata": {},
   "source": [
    "# Basic I/O"
   ]
  },
  {
   "cell_type": "code",
   "execution_count": 1,
   "id": "5a9275d8-73f2-4e75-9d9c-3ce8b5af4243",
   "metadata": {},
   "outputs": [
    {
     "data": {
      "text/plain": [
       "'data science'"
      ]
     },
     "execution_count": 1,
     "metadata": {},
     "output_type": "execute_result"
    }
   ],
   "source": [
    "'data science' #for run click Shift+Enter"
   ]
  },
  {
   "cell_type": "code",
   "execution_count": 2,
   "id": "4e11a9c2-7a0d-4523-8829-fdebdf71268d",
   "metadata": {},
   "outputs": [
    {
     "name": "stdout",
     "output_type": "stream",
     "text": [
      "Hi there ! welcome to 30 days of python.\n"
     ]
    }
   ],
   "source": [
    "print('Hi there !', 'welcome to 30 days of python.') #for more details press Shift+Tab"
   ]
  },
  {
   "cell_type": "code",
   "execution_count": 3,
   "id": "cb215a8a-34ad-4847-ab81-9581bb29120a",
   "metadata": {},
   "outputs": [
    {
     "name": "stdout",
     "output_type": "stream",
     "text": [
      "Hi there !&welcome to 30 days of python\n"
     ]
    }
   ],
   "source": [
    "print('Hi there !', 'welcome to 30 days of python', sep='&') #instesd of space i use & sign "
   ]
  },
  {
   "cell_type": "code",
   "execution_count": 5,
   "id": "bc67d04e-7779-4ce4-b4b5-ed314d835f7b",
   "metadata": {},
   "outputs": [
    {
     "name": "stdout",
     "output_type": "stream",
     "text": [
      "Hi there !&welcome to 30 days of python |"
     ]
    }
   ],
   "source": [
    "print('Hi there !', 'welcome to 30 days of python', sep='&', end=' |') #instesd of \\n i use | sign"
   ]
  },
  {
   "cell_type": "markdown",
   "id": "90e0d980-7682-4dad-9500-337228ac862a",
   "metadata": {},
   "source": [
    "# Variable "
   ]
  },
  {
   "cell_type": "code",
   "execution_count": 9,
   "id": "d7dad5af-52a5-4810-ac70-ff5234f4e8f6",
   "metadata": {},
   "outputs": [
    {
     "name": "stdout",
     "output_type": "stream",
     "text": [
      "Hello world\n",
      "My sentence is Hello world\n"
     ]
    }
   ],
   "source": [
    " var = 'Hello world'\n",
    "print(var)\n",
    "print('My sentence is '+ var)"
   ]
  },
  {
   "cell_type": "code",
   "execution_count": 10,
   "id": "8ddc929a-151b-4efa-8cb6-438f9c559419",
   "metadata": {},
   "outputs": [
    {
     "data": {
      "text/plain": [
       "3129138034480"
      ]
     },
     "execution_count": 10,
     "metadata": {},
     "output_type": "execute_result"
    }
   ],
   "source": [
    "id(var)"
   ]
  },
  {
   "cell_type": "code",
   "execution_count": 11,
   "id": "956037a0-f7db-4638-9e43-f8f2d8d30f2d",
   "metadata": {},
   "outputs": [
    {
     "data": {
      "text/plain": [
       "52"
      ]
     },
     "execution_count": 11,
     "metadata": {},
     "output_type": "execute_result"
    }
   ],
   "source": [
    "import sys\n",
    "sys.getsizeof(var)"
   ]
  },
  {
   "cell_type": "code",
   "execution_count": 14,
   "id": "4745792d-4356-4e9a-af75-4a3c68f2719f",
   "metadata": {},
   "outputs": [],
   "source": [
    "x=10"
   ]
  },
  {
   "cell_type": "code",
   "execution_count": 16,
   "id": "72077a71-7c52-4588-b3ed-f584d769a1c2",
   "metadata": {},
   "outputs": [
    {
     "data": {
      "text/plain": [
       "10"
      ]
     },
     "execution_count": 16,
     "metadata": {},
     "output_type": "execute_result"
    }
   ],
   "source": [
    "x #to see a single variable, we don't need to mention print()"
   ]
  },
  {
   "cell_type": "code",
   "execution_count": 17,
   "id": "55777a82-b656-4fc4-8f71-542b5d1b0315",
   "metadata": {},
   "outputs": [],
   "source": [
    "y=20"
   ]
  },
  {
   "cell_type": "code",
   "execution_count": 18,
   "id": "cda5f13f-9dec-4fa5-99c8-36dc01f26318",
   "metadata": {},
   "outputs": [
    {
     "data": {
      "text/plain": [
       "140707449010904"
      ]
     },
     "execution_count": 18,
     "metadata": {},
     "output_type": "execute_result"
    }
   ],
   "source": [
    "id(x)"
   ]
  },
  {
   "cell_type": "code",
   "execution_count": 19,
   "id": "e50ccbd0-6b3e-46fe-8df2-15b0008fa563",
   "metadata": {},
   "outputs": [
    {
     "data": {
      "text/plain": [
       "140707449011224"
      ]
     },
     "execution_count": 19,
     "metadata": {},
     "output_type": "execute_result"
    }
   ],
   "source": [
    "id(y)"
   ]
  },
  {
   "cell_type": "code",
   "execution_count": 20,
   "id": "e03a44fa-87b2-4e31-8044-0c926bb36b4c",
   "metadata": {},
   "outputs": [],
   "source": [
    "x=1000"
   ]
  },
  {
   "cell_type": "code",
   "execution_count": 21,
   "id": "5f0f8fef-958a-4619-9271-1445f2e9a752",
   "metadata": {},
   "outputs": [
    {
     "data": {
      "text/plain": [
       "1000"
      ]
     },
     "execution_count": 21,
     "metadata": {},
     "output_type": "execute_result"
    }
   ],
   "source": [
    "x"
   ]
  },
  {
   "cell_type": "code",
   "execution_count": 22,
   "id": "40e69fe1-d2a0-4eef-b7ac-69d80a445850",
   "metadata": {},
   "outputs": [],
   "source": [
    "y=2000"
   ]
  },
  {
   "cell_type": "code",
   "execution_count": 23,
   "id": "7ee06ba6-7362-4bd6-9274-abc158195028",
   "metadata": {},
   "outputs": [
    {
     "data": {
      "text/plain": [
       "2000"
      ]
     },
     "execution_count": 23,
     "metadata": {},
     "output_type": "execute_result"
    }
   ],
   "source": [
    "y"
   ]
  },
  {
   "cell_type": "code",
   "execution_count": 24,
   "id": "82e28a7a-47b6-4134-9ddc-f3bdcb82b7de",
   "metadata": {},
   "outputs": [
    {
     "data": {
      "text/plain": [
       "3129137571792"
      ]
     },
     "execution_count": 24,
     "metadata": {},
     "output_type": "execute_result"
    }
   ],
   "source": [
    "id(x)"
   ]
  },
  {
   "cell_type": "code",
   "execution_count": 25,
   "id": "17123532-f328-4826-b9b4-12502a7b8e79",
   "metadata": {},
   "outputs": [
    {
     "data": {
      "text/plain": [
       "3129137570640"
      ]
     },
     "execution_count": 25,
     "metadata": {},
     "output_type": "execute_result"
    }
   ],
   "source": [
    "id(y)"
   ]
  },
  {
   "cell_type": "code",
   "execution_count": 26,
   "id": "e8d85a6d-829e-42d4-bcd1-9aea17373331",
   "metadata": {},
   "outputs": [
    {
     "ename": "SyntaxError",
     "evalue": "invalid decimal literal (1164396823.py, line 1)",
     "output_type": "error",
     "traceback": [
      "\u001b[1;36m  Cell \u001b[1;32mIn[26], line 1\u001b[1;36m\u001b[0m\n\u001b[1;33m    9vzr=100\u001b[0m\n\u001b[1;37m    ^\u001b[0m\n\u001b[1;31mSyntaxError\u001b[0m\u001b[1;31m:\u001b[0m invalid decimal literal\n"
     ]
    }
   ],
   "source": [
    "9vzr=100\n",
    "print(9vzr)"
   ]
  },
  {
   "cell_type": "code",
   "execution_count": 27,
   "id": "436dc702-9b92-4fff-a029-9743ed354ed5",
   "metadata": {},
   "outputs": [
    {
     "ename": "NameError",
     "evalue": "name 'var9' is not defined",
     "output_type": "error",
     "traceback": [
      "\u001b[1;31m---------------------------------------------------------------------------\u001b[0m",
      "\u001b[1;31mNameError\u001b[0m                                 Traceback (most recent call last)",
      "Cell \u001b[1;32mIn[27], line 1\u001b[0m\n\u001b[1;32m----> 1\u001b[0m \u001b[43mvar9\u001b[49m\n",
      "\u001b[1;31mNameError\u001b[0m: name 'var9' is not defined"
     ]
    }
   ],
   "source": [
    "var9"
   ]
  },
  {
   "cell_type": "code",
   "execution_count": 28,
   "id": "1ec8ff7b-c283-43d3-a23e-1586673e4287",
   "metadata": {},
   "outputs": [
    {
     "name": "stdout",
     "output_type": "stream",
     "text": [
      "100\n"
     ]
    }
   ],
   "source": [
    "var9 = 100\n",
    "print(var9)"
   ]
  },
  {
   "cell_type": "markdown",
   "id": "db6da045-c94e-40a5-89f0-5e04ca7fa168",
   "metadata": {},
   "source": [
    "# Multiple Variable"
   ]
  },
  {
   "cell_type": "code",
   "execution_count": 29,
   "id": "54c6058f-5416-48f5-8ee2-89269cb07848",
   "metadata": {},
   "outputs": [
    {
     "name": "stdout",
     "output_type": "stream",
     "text": [
      "10\n",
      "100\n",
      "100\n"
     ]
    }
   ],
   "source": [
    "x,y,z = 10,100,100\n",
    "print(x)\n",
    "print(y)\n",
    "print(z)"
   ]
  },
  {
   "cell_type": "code",
   "execution_count": 30,
   "id": "c2756061-b6b3-4bf8-8895-6363c59c3fab",
   "metadata": {},
   "outputs": [
    {
     "ename": "ValueError",
     "evalue": "not enough values to unpack (expected 3, got 2)",
     "output_type": "error",
     "traceback": [
      "\u001b[1;31m---------------------------------------------------------------------------\u001b[0m",
      "\u001b[1;31mValueError\u001b[0m                                Traceback (most recent call last)",
      "Cell \u001b[1;32mIn[30], line 1\u001b[0m\n\u001b[1;32m----> 1\u001b[0m a,b,c \u001b[38;5;241m=\u001b[39m \u001b[38;5;241m20\u001b[39m, \u001b[38;5;241m200\u001b[39m\n\u001b[0;32m      2\u001b[0m \u001b[38;5;28mprint\u001b[39m(a)\n",
      "\u001b[1;31mValueError\u001b[0m: not enough values to unpack (expected 3, got 2)"
     ]
    }
   ],
   "source": [
    "a,b,c = 20, 200\n",
    "print(a)"
   ]
  },
  {
   "cell_type": "code",
   "execution_count": 31,
   "id": "68a8db6b-54c4-4280-97d7-7e4cb9f187c4",
   "metadata": {},
   "outputs": [
    {
     "ename": "NameError",
     "evalue": "name 'benin' is not defined",
     "output_type": "error",
     "traceback": [
      "\u001b[1;31m---------------------------------------------------------------------------\u001b[0m",
      "\u001b[1;31mNameError\u001b[0m                                 Traceback (most recent call last)",
      "Cell \u001b[1;32mIn[31], line 1\u001b[0m\n\u001b[1;32m----> 1\u001b[0m p,q,r \u001b[38;5;241m=\u001b[39m \u001b[38;5;241m10\u001b[39m, \u001b[38;5;241m100\u001b[39m, \u001b[43mbenin\u001b[49m\n\u001b[0;32m      2\u001b[0m \u001b[38;5;28mprint\u001b[39m(y)\n",
      "\u001b[1;31mNameError\u001b[0m: name 'benin' is not defined"
     ]
    }
   ],
   "source": [
    "p,q,r = 10, 100, benin\n",
    "print(y)"
   ]
  },
  {
   "cell_type": "code",
   "execution_count": 32,
   "id": "15d6609f-68c7-4e58-9cdb-fd668d299fa6",
   "metadata": {},
   "outputs": [
    {
     "name": "stdout",
     "output_type": "stream",
     "text": [
      "100\n"
     ]
    }
   ],
   "source": [
    " p,q,r = 10, 100, 'benin'\n",
    "print(y)"
   ]
  },
  {
   "cell_type": "code",
   "execution_count": 33,
   "id": "513e7c81-ce2c-4673-a699-f33226d4afc9",
   "metadata": {},
   "outputs": [
    {
     "name": "stdout",
     "output_type": "stream",
     "text": [
      "100\n"
     ]
    }
   ],
   "source": [
    "print(z)"
   ]
  },
  {
   "cell_type": "code",
   "execution_count": 34,
   "id": "a55bc576-422c-4244-8d83-5ac87381bc94",
   "metadata": {},
   "outputs": [
    {
     "name": "stdout",
     "output_type": "stream",
     "text": [
      "benin\n"
     ]
    }
   ],
   "source": [
    "print(r)"
   ]
  },
  {
   "cell_type": "code",
   "execution_count": 35,
   "id": "1dbf9d6a-9268-4aee-987a-03d8080d7643",
   "metadata": {},
   "outputs": [
    {
     "ename": "NameError",
     "evalue": "name 'versity_id' is not defined",
     "output_type": "error",
     "traceback": [
      "\u001b[1;31m---------------------------------------------------------------------------\u001b[0m",
      "\u001b[1;31mNameError\u001b[0m                                 Traceback (most recent call last)",
      "Cell \u001b[1;32mIn[35], line 1\u001b[0m\n\u001b[1;32m----> 1\u001b[0m \u001b[43mversity_id\u001b[49m \u001b[38;5;66;03m# snake case\u001b[39;00m\n",
      "\u001b[1;31mNameError\u001b[0m: name 'versity_id' is not defined"
     ]
    }
   ],
   "source": [
    "versity_id # snake case"
   ]
  },
  {
   "cell_type": "code",
   "execution_count": 36,
   "id": "c5518770-1ffa-449f-8394-c338e3815279",
   "metadata": {},
   "outputs": [],
   "source": [
    "versity_id = 10 # snake case"
   ]
  },
  {
   "cell_type": "code",
   "execution_count": 38,
   "id": "e93b08c4-0577-4bbd-886c-4282eb2a7519",
   "metadata": {},
   "outputs": [],
   "source": [
    "VersityId = 10 # pascal case"
   ]
  },
  {
   "cell_type": "code",
   "execution_count": 39,
   "id": "29140658-1370-40e6-a3a6-5a4d9122e8d2",
   "metadata": {},
   "outputs": [],
   "source": [
    "versityId = 10 # camel case"
   ]
  },
  {
   "cell_type": "markdown",
   "id": "23f8a068-999e-4941-a76c-9ce7c3d7f9ef",
   "metadata": {},
   "source": [
    "# Local Vs Global Variable"
   ]
  },
  {
   "cell_type": "code",
   "execution_count": 56,
   "id": "8ed44993-a0b1-49ba-8a4b-058809768145",
   "metadata": {},
   "outputs": [
    {
     "name": "stdout",
     "output_type": "stream",
     "text": [
      "The variable is :  10\n",
      "The variable is :  10\n"
     ]
    }
   ],
   "source": [
    "x = 10     # global variable\n",
    "def func1():\n",
    "    print('The variable is : ',x)\n",
    "func1()\n",
    "def func2():\n",
    "    print('The variable is : ',x)\n",
    "func2()"
   ]
  },
  {
   "cell_type": "code",
   "execution_count": 57,
   "id": "cf14c84a-4297-46d4-b232-242bc79c453a",
   "metadata": {},
   "outputs": [
    {
     "name": "stdout",
     "output_type": "stream",
     "text": [
      "The variable is :  20\n"
     ]
    }
   ],
   "source": [
    "x = 10     # global variable\n",
    "def func1():\n",
    "    x = 20  #loval variable\n",
    "    print('The variable is : ',x)\n",
    "func1()"
   ]
  },
  {
   "cell_type": "code",
   "execution_count": 58,
   "id": "98085401-28b6-4576-ad7c-f5c1ba09cb52",
   "metadata": {},
   "outputs": [
    {
     "name": "stdout",
     "output_type": "stream",
     "text": [
      "The variable is :  20\n",
      "10\n"
     ]
    }
   ],
   "source": [
    "x = 10     # global variable\n",
    "def func1():\n",
    "    x = 20  #loval variable\n",
    "    print('The variable is : ',x)\n",
    "func1()\n",
    "print(x)"
   ]
  },
  {
   "cell_type": "code",
   "execution_count": 59,
   "id": "8b84676d-2da1-4900-90d2-7c63de321ea5",
   "metadata": {},
   "outputs": [
    {
     "name": "stdout",
     "output_type": "stream",
     "text": [
      "The variable is :  40\n",
      "40\n"
     ]
    }
   ],
   "source": [
    "def func1():\n",
    "    global m\n",
    "    m = 40  #loval variable\n",
    "    print('The variable is : ',m)\n",
    "func1()\n",
    "print(m)"
   ]
  }
 ],
 "metadata": {
  "kernelspec": {
   "display_name": "Python 3 (ipykernel)",
   "language": "python",
   "name": "python3"
  },
  "language_info": {
   "codemirror_mode": {
    "name": "ipython",
    "version": 3
   },
   "file_extension": ".py",
   "mimetype": "text/x-python",
   "name": "python",
   "nbconvert_exporter": "python",
   "pygments_lexer": "ipython3",
   "version": "3.12.4"
  }
 },
 "nbformat": 4,
 "nbformat_minor": 5
}
