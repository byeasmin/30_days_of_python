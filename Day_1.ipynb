{
 "cells": [
  {
   "cell_type": "markdown",
   "id": "d6ea5b03-0245-4348-a5fb-38ff0e225452",
   "metadata": {},
   "source": [
    "# Variables"
   ]
  },
  {
   "cell_type": "code",
   "execution_count": 1,
   "id": "5a9275d8-73f2-4e75-9d9c-3ce8b5af4243",
   "metadata": {},
   "outputs": [
    {
     "data": {
      "text/plain": [
       "'data science'"
      ]
     },
     "execution_count": 1,
     "metadata": {},
     "output_type": "execute_result"
    }
   ],
   "source": [
    "'data science' #for run click Shift+Enter"
   ]
  },
  {
   "cell_type": "code",
   "execution_count": null,
   "id": "4e11a9c2-7a0d-4523-8829-fdebdf71268d",
   "metadata": {},
   "outputs": [],
   "source": []
  }
 ],
 "metadata": {
  "kernelspec": {
   "display_name": "Python 3 (ipykernel)",
   "language": "python",
   "name": "python3"
  },
  "language_info": {
   "codemirror_mode": {
    "name": "ipython",
    "version": 3
   },
   "file_extension": ".py",
   "mimetype": "text/x-python",
   "name": "python",
   "nbconvert_exporter": "python",
   "pygments_lexer": "ipython3",
   "version": "3.12.4"
  }
 },
 "nbformat": 4,
 "nbformat_minor": 5
}
