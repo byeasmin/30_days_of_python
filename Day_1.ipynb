{
 "cells": [
  {
   "cell_type": "markdown",
   "id": "1caefb44-04e2-4a6c-940a-3687b09a1fca",
   "metadata": {},
   "source": [
    "# Basic I/O"
   ]
  },
  {
   "cell_type": "code",
   "execution_count": 1,
   "id": "5a9275d8-73f2-4e75-9d9c-3ce8b5af4243",
   "metadata": {},
   "outputs": [
    {
     "data": {
      "text/plain": [
       "'data science'"
      ]
     },
     "execution_count": 1,
     "metadata": {},
     "output_type": "execute_result"
    }
   ],
   "source": [
    "'data science' #for run click Shift+Enter"
   ]
  },
  {
   "cell_type": "code",
   "execution_count": 2,
   "id": "4e11a9c2-7a0d-4523-8829-fdebdf71268d",
   "metadata": {},
   "outputs": [
    {
     "name": "stdout",
     "output_type": "stream",
     "text": [
      "Hi there ! welcome to 30 days of python.\n"
     ]
    }
   ],
   "source": [
    "print('Hi there !', 'welcome to 30 days of python.') #for more details press Shift+Tab"
   ]
  },
  {
   "cell_type": "code",
   "execution_count": 3,
   "id": "cb215a8a-34ad-4847-ab81-9581bb29120a",
   "metadata": {},
   "outputs": [
    {
     "name": "stdout",
     "output_type": "stream",
     "text": [
      "Hi there !&welcome to 30 days of python\n"
     ]
    }
   ],
   "source": [
    "print('Hi there !', 'welcome to 30 days of python', sep='&') #instesd of space i use & sign "
   ]
  },
  {
   "cell_type": "code",
   "execution_count": 4,
   "id": "bc67d04e-7779-4ce4-b4b5-ed314d835f7b",
   "metadata": {},
   "outputs": [
    {
     "name": "stdout",
     "output_type": "stream",
     "text": [
      "Hi there !&welcome to 30 days of python |"
     ]
    }
   ],
   "source": [
    "print('Hi there !', 'welcome to 30 days of python', sep='&', end=' |') #instesd of \\n i use | sign"
   ]
  },
  {
   "cell_type": "markdown",
   "id": "90e0d980-7682-4dad-9500-337228ac862a",
   "metadata": {},
   "source": [
    "# Variable "
   ]
  },
  {
   "cell_type": "code",
   "execution_count": 5,
   "id": "d7dad5af-52a5-4810-ac70-ff5234f4e8f6",
   "metadata": {},
   "outputs": [
    {
     "name": "stdout",
     "output_type": "stream",
     "text": [
      "Hello world\n",
      "My sentence is Hello world\n"
     ]
    }
   ],
   "source": [
    " var = 'Hello world'\n",
    "print(var)\n",
    "print('My sentence is '+ var)"
   ]
  },
  {
   "cell_type": "code",
   "execution_count": 6,
   "id": "8ddc929a-151b-4efa-8cb6-438f9c559419",
   "metadata": {},
   "outputs": [
    {
     "data": {
      "text/plain": [
       "2655737776560"
      ]
     },
     "execution_count": 6,
     "metadata": {},
     "output_type": "execute_result"
    }
   ],
   "source": [
    "id(var)"
   ]
  },
  {
   "cell_type": "code",
   "execution_count": 7,
   "id": "956037a0-f7db-4638-9e43-f8f2d8d30f2d",
   "metadata": {},
   "outputs": [
    {
     "data": {
      "text/plain": [
       "52"
      ]
     },
     "execution_count": 7,
     "metadata": {},
     "output_type": "execute_result"
    }
   ],
   "source": [
    "import sys\n",
    "sys.getsizeof(var)"
   ]
  },
  {
   "cell_type": "code",
   "execution_count": 8,
   "id": "4745792d-4356-4e9a-af75-4a3c68f2719f",
   "metadata": {},
   "outputs": [],
   "source": [
    "x=10"
   ]
  },
  {
   "cell_type": "code",
   "execution_count": 9,
   "id": "72077a71-7c52-4588-b3ed-f584d769a1c2",
   "metadata": {},
   "outputs": [
    {
     "data": {
      "text/plain": [
       "10"
      ]
     },
     "execution_count": 9,
     "metadata": {},
     "output_type": "execute_result"
    }
   ],
   "source": [
    "x #to see a single variable, we don't need to mention print()"
   ]
  },
  {
   "cell_type": "code",
   "execution_count": 10,
   "id": "55777a82-b656-4fc4-8f71-542b5d1b0315",
   "metadata": {},
   "outputs": [],
   "source": [
    "y=20"
   ]
  },
  {
   "cell_type": "code",
   "execution_count": 11,
   "id": "cda5f13f-9dec-4fa5-99c8-36dc01f26318",
   "metadata": {},
   "outputs": [
    {
     "data": {
      "text/plain": [
       "140707449010904"
      ]
     },
     "execution_count": 11,
     "metadata": {},
     "output_type": "execute_result"
    }
   ],
   "source": [
    "id(x)"
   ]
  },
  {
   "cell_type": "code",
   "execution_count": 12,
   "id": "e50ccbd0-6b3e-46fe-8df2-15b0008fa563",
   "metadata": {},
   "outputs": [
    {
     "data": {
      "text/plain": [
       "140707449011224"
      ]
     },
     "execution_count": 12,
     "metadata": {},
     "output_type": "execute_result"
    }
   ],
   "source": [
    "id(y)"
   ]
  },
  {
   "cell_type": "code",
   "execution_count": 13,
   "id": "e03a44fa-87b2-4e31-8044-0c926bb36b4c",
   "metadata": {},
   "outputs": [],
   "source": [
    "x=1000"
   ]
  },
  {
   "cell_type": "code",
   "execution_count": 14,
   "id": "5f0f8fef-958a-4619-9271-1445f2e9a752",
   "metadata": {},
   "outputs": [
    {
     "data": {
      "text/plain": [
       "1000"
      ]
     },
     "execution_count": 14,
     "metadata": {},
     "output_type": "execute_result"
    }
   ],
   "source": [
    "x"
   ]
  },
  {
   "cell_type": "code",
   "execution_count": 15,
   "id": "40e69fe1-d2a0-4eef-b7ac-69d80a445850",
   "metadata": {},
   "outputs": [],
   "source": [
    "y=2000"
   ]
  },
  {
   "cell_type": "code",
   "execution_count": 16,
   "id": "7ee06ba6-7362-4bd6-9274-abc158195028",
   "metadata": {},
   "outputs": [
    {
     "data": {
      "text/plain": [
       "2000"
      ]
     },
     "execution_count": 16,
     "metadata": {},
     "output_type": "execute_result"
    }
   ],
   "source": [
    "y"
   ]
  },
  {
   "cell_type": "code",
   "execution_count": 17,
   "id": "82e28a7a-47b6-4134-9ddc-f3bdcb82b7de",
   "metadata": {},
   "outputs": [
    {
     "data": {
      "text/plain": [
       "2655737029008"
      ]
     },
     "execution_count": 17,
     "metadata": {},
     "output_type": "execute_result"
    }
   ],
   "source": [
    "id(x)"
   ]
  },
  {
   "cell_type": "code",
   "execution_count": 18,
   "id": "17123532-f328-4826-b9b4-12502a7b8e79",
   "metadata": {},
   "outputs": [
    {
     "data": {
      "text/plain": [
       "2655737031120"
      ]
     },
     "execution_count": 18,
     "metadata": {},
     "output_type": "execute_result"
    }
   ],
   "source": [
    "id(y)"
   ]
  },
  {
   "cell_type": "code",
   "execution_count": 19,
   "id": "e8d85a6d-829e-42d4-bcd1-9aea17373331",
   "metadata": {},
   "outputs": [
    {
     "ename": "SyntaxError",
     "evalue": "invalid decimal literal (1164396823.py, line 1)",
     "output_type": "error",
     "traceback": [
      "\u001b[1;36m  Cell \u001b[1;32mIn[19], line 1\u001b[1;36m\u001b[0m\n\u001b[1;33m    9vzr=100\u001b[0m\n\u001b[1;37m    ^\u001b[0m\n\u001b[1;31mSyntaxError\u001b[0m\u001b[1;31m:\u001b[0m invalid decimal literal\n"
     ]
    }
   ],
   "source": [
    "9vzr=100\n",
    "print(9vzr)"
   ]
  },
  {
   "cell_type": "code",
   "execution_count": 20,
   "id": "436dc702-9b92-4fff-a029-9743ed354ed5",
   "metadata": {},
   "outputs": [
    {
     "ename": "NameError",
     "evalue": "name 'var9' is not defined",
     "output_type": "error",
     "traceback": [
      "\u001b[1;31m---------------------------------------------------------------------------\u001b[0m",
      "\u001b[1;31mNameError\u001b[0m                                 Traceback (most recent call last)",
      "Cell \u001b[1;32mIn[20], line 1\u001b[0m\n\u001b[1;32m----> 1\u001b[0m \u001b[43mvar9\u001b[49m\n",
      "\u001b[1;31mNameError\u001b[0m: name 'var9' is not defined"
     ]
    }
   ],
   "source": [
    "var9"
   ]
  },
  {
   "cell_type": "code",
   "execution_count": 101,
   "id": "1ec8ff7b-c283-43d3-a23e-1586673e4287",
   "metadata": {},
   "outputs": [
    {
     "name": "stdout",
     "output_type": "stream",
     "text": [
      "100\n"
     ]
    }
   ],
   "source": [
    "var9 = 100\n",
    "print(var9)"
   ]
  },
  {
   "cell_type": "markdown",
   "id": "db6da045-c94e-40a5-89f0-5e04ca7fa168",
   "metadata": {},
   "source": [
    "# Multiple Variable"
   ]
  },
  {
   "cell_type": "code",
   "execution_count": 22,
   "id": "54c6058f-5416-48f5-8ee2-89269cb07848",
   "metadata": {},
   "outputs": [
    {
     "name": "stdout",
     "output_type": "stream",
     "text": [
      "10\n",
      "100\n",
      "100\n"
     ]
    }
   ],
   "source": [
    "x,y,z = 10,100,100\n",
    "print(x)\n",
    "print(y)\n",
    "print(z)"
   ]
  },
  {
   "cell_type": "code",
   "execution_count": 23,
   "id": "c2756061-b6b3-4bf8-8895-6363c59c3fab",
   "metadata": {},
   "outputs": [
    {
     "ename": "ValueError",
     "evalue": "not enough values to unpack (expected 3, got 2)",
     "output_type": "error",
     "traceback": [
      "\u001b[1;31m---------------------------------------------------------------------------\u001b[0m",
      "\u001b[1;31mValueError\u001b[0m                                Traceback (most recent call last)",
      "Cell \u001b[1;32mIn[23], line 1\u001b[0m\n\u001b[1;32m----> 1\u001b[0m a,b,c \u001b[38;5;241m=\u001b[39m \u001b[38;5;241m20\u001b[39m, \u001b[38;5;241m200\u001b[39m\n\u001b[0;32m      2\u001b[0m \u001b[38;5;28mprint\u001b[39m(a)\n",
      "\u001b[1;31mValueError\u001b[0m: not enough values to unpack (expected 3, got 2)"
     ]
    }
   ],
   "source": [
    "a,b,c = 20, 200\n",
    "print(a)"
   ]
  },
  {
   "cell_type": "code",
   "execution_count": 24,
   "id": "68a8db6b-54c4-4280-97d7-7e4cb9f187c4",
   "metadata": {},
   "outputs": [
    {
     "ename": "NameError",
     "evalue": "name 'benin' is not defined",
     "output_type": "error",
     "traceback": [
      "\u001b[1;31m---------------------------------------------------------------------------\u001b[0m",
      "\u001b[1;31mNameError\u001b[0m                                 Traceback (most recent call last)",
      "Cell \u001b[1;32mIn[24], line 1\u001b[0m\n\u001b[1;32m----> 1\u001b[0m p,q,r \u001b[38;5;241m=\u001b[39m \u001b[38;5;241m10\u001b[39m, \u001b[38;5;241m100\u001b[39m, \u001b[43mbenin\u001b[49m\n\u001b[0;32m      2\u001b[0m \u001b[38;5;28mprint\u001b[39m(y)\n",
      "\u001b[1;31mNameError\u001b[0m: name 'benin' is not defined"
     ]
    }
   ],
   "source": [
    "p,q,r = 10, 100, benin\n",
    "print(y)"
   ]
  },
  {
   "cell_type": "code",
   "execution_count": 25,
   "id": "15d6609f-68c7-4e58-9cdb-fd668d299fa6",
   "metadata": {},
   "outputs": [
    {
     "name": "stdout",
     "output_type": "stream",
     "text": [
      "100\n"
     ]
    }
   ],
   "source": [
    " p,q,r = 10, 100, 'benin'\n",
    "print(y)"
   ]
  },
  {
   "cell_type": "code",
   "execution_count": 26,
   "id": "513e7c81-ce2c-4673-a699-f33226d4afc9",
   "metadata": {},
   "outputs": [
    {
     "name": "stdout",
     "output_type": "stream",
     "text": [
      "100\n"
     ]
    }
   ],
   "source": [
    "print(z)"
   ]
  },
  {
   "cell_type": "code",
   "execution_count": 27,
   "id": "a55bc576-422c-4244-8d83-5ac87381bc94",
   "metadata": {},
   "outputs": [
    {
     "name": "stdout",
     "output_type": "stream",
     "text": [
      "benin\n"
     ]
    }
   ],
   "source": [
    "print(r)"
   ]
  },
  {
   "cell_type": "code",
   "execution_count": 28,
   "id": "1dbf9d6a-9268-4aee-987a-03d8080d7643",
   "metadata": {},
   "outputs": [
    {
     "ename": "NameError",
     "evalue": "name 'versity_id' is not defined",
     "output_type": "error",
     "traceback": [
      "\u001b[1;31m---------------------------------------------------------------------------\u001b[0m",
      "\u001b[1;31mNameError\u001b[0m                                 Traceback (most recent call last)",
      "Cell \u001b[1;32mIn[28], line 1\u001b[0m\n\u001b[1;32m----> 1\u001b[0m \u001b[43mversity_id\u001b[49m \u001b[38;5;66;03m# snake case\u001b[39;00m\n",
      "\u001b[1;31mNameError\u001b[0m: name 'versity_id' is not defined"
     ]
    }
   ],
   "source": [
    "versity_id # snake case"
   ]
  },
  {
   "cell_type": "code",
   "execution_count": 29,
   "id": "c5518770-1ffa-449f-8394-c338e3815279",
   "metadata": {},
   "outputs": [],
   "source": [
    "versity_id = 10 # snake case"
   ]
  },
  {
   "cell_type": "code",
   "execution_count": 30,
   "id": "e93b08c4-0577-4bbd-886c-4282eb2a7519",
   "metadata": {},
   "outputs": [],
   "source": [
    "VersityId = 10 # pascal case"
   ]
  },
  {
   "cell_type": "code",
   "execution_count": 31,
   "id": "29140658-1370-40e6-a3a6-5a4d9122e8d2",
   "metadata": {},
   "outputs": [],
   "source": [
    "versityId = 10 # camel case"
   ]
  },
  {
   "cell_type": "markdown",
   "id": "23f8a068-999e-4941-a76c-9ce7c3d7f9ef",
   "metadata": {},
   "source": [
    "# Local Vs Global Variable"
   ]
  },
  {
   "cell_type": "code",
   "execution_count": 32,
   "id": "8ed44993-a0b1-49ba-8a4b-058809768145",
   "metadata": {},
   "outputs": [
    {
     "name": "stdout",
     "output_type": "stream",
     "text": [
      "The variable is :  10\n",
      "The variable is :  10\n"
     ]
    }
   ],
   "source": [
    "x = 10     # global variable\n",
    "def func1():\n",
    "    print('The variable is : ',x)\n",
    "func1()\n",
    "def func2():\n",
    "    print('The variable is : ',x)\n",
    "func2()"
   ]
  },
  {
   "cell_type": "code",
   "execution_count": 33,
   "id": "cf14c84a-4297-46d4-b232-242bc79c453a",
   "metadata": {},
   "outputs": [
    {
     "name": "stdout",
     "output_type": "stream",
     "text": [
      "The variable is :  20\n"
     ]
    }
   ],
   "source": [
    "x = 10     # global variable\n",
    "def func1():\n",
    "    x = 20  #local variable\n",
    "    print('The variable is : ',x)\n",
    "func1()"
   ]
  },
  {
   "cell_type": "code",
   "execution_count": 34,
   "id": "98085401-28b6-4576-ad7c-f5c1ba09cb52",
   "metadata": {},
   "outputs": [
    {
     "name": "stdout",
     "output_type": "stream",
     "text": [
      "The variable is :  20\n",
      "10\n"
     ]
    }
   ],
   "source": [
    "x = 10     # global variable\n",
    "def func1():\n",
    "    x = 20  #local variable\n",
    "    print('The variable is : ',x)\n",
    "func1()\n",
    "print(x)"
   ]
  },
  {
   "cell_type": "code",
   "execution_count": 35,
   "id": "8b84676d-2da1-4900-90d2-7c63de321ea5",
   "metadata": {},
   "outputs": [
    {
     "name": "stdout",
     "output_type": "stream",
     "text": [
      "The variable is :  40\n",
      "40\n"
     ]
    }
   ],
   "source": [
    "def func1():\n",
    "    global m\n",
    "    m = 40  #local variable\n",
    "    print('The variable is : ',m)\n",
    "func1()\n",
    "print(m)"
   ]
  },
  {
   "cell_type": "markdown",
   "id": "4582e53a-c210-4f9c-bd9d-d31d640d8f30",
   "metadata": {},
   "source": [
    "# Input Function"
   ]
  },
  {
   "cell_type": "code",
   "execution_count": 36,
   "id": "88b887a7-3ce8-4ed5-84f8-29b59543a06c",
   "metadata": {},
   "outputs": [],
   "source": [
    "data = 'benin yeasmin'"
   ]
  },
  {
   "cell_type": "code",
   "execution_count": 37,
   "id": "aac9a45f-d722-4b0a-94cf-7a9ad17ee77e",
   "metadata": {},
   "outputs": [
    {
     "data": {
      "text/plain": [
       "str"
      ]
     },
     "execution_count": 37,
     "metadata": {},
     "output_type": "execute_result"
    }
   ],
   "source": [
    "type(data)"
   ]
  },
  {
   "cell_type": "code",
   "execution_count": 38,
   "id": "85d23351-641a-4525-bf3e-fbae6e0ead1a",
   "metadata": {},
   "outputs": [
    {
     "name": "stdin",
     "output_type": "stream",
     "text": [
      " benin\n"
     ]
    }
   ],
   "source": [
    "data = input()"
   ]
  },
  {
   "cell_type": "code",
   "execution_count": 39,
   "id": "e162cc3f-0ece-4a48-88c6-d244a91830d6",
   "metadata": {},
   "outputs": [
    {
     "data": {
      "text/plain": [
       "'benin'"
      ]
     },
     "execution_count": 39,
     "metadata": {},
     "output_type": "execute_result"
    }
   ],
   "source": [
    "data"
   ]
  },
  {
   "cell_type": "code",
   "execution_count": 40,
   "id": "1da15c6e-af20-41a1-8f8a-b21564b3f157",
   "metadata": {},
   "outputs": [
    {
     "name": "stdin",
     "output_type": "stream",
     "text": [
      " yeasmin\n"
     ]
    }
   ],
   "source": [
    "data = input()"
   ]
  },
  {
   "cell_type": "code",
   "execution_count": 41,
   "id": "880f9fe0-241c-4824-b40d-0b89bc2761ae",
   "metadata": {},
   "outputs": [
    {
     "name": "stdin",
     "output_type": "stream",
     "text": [
      " data science\n"
     ]
    }
   ],
   "source": [
    "x = input()"
   ]
  },
  {
   "cell_type": "code",
   "execution_count": 42,
   "id": "b7233a84-ae13-446a-8cc8-0d7dac2622a7",
   "metadata": {},
   "outputs": [
    {
     "data": {
      "text/plain": [
       "str"
      ]
     },
     "execution_count": 42,
     "metadata": {},
     "output_type": "execute_result"
    }
   ],
   "source": [
    "type(x)"
   ]
  },
  {
   "cell_type": "code",
   "execution_count": 43,
   "id": "09d9c564-6205-48fe-92ad-7ee98c20de82",
   "metadata": {},
   "outputs": [
    {
     "name": "stdin",
     "output_type": "stream",
     "text": [
      " 10\n",
      " 20\n"
     ]
    }
   ],
   "source": [
    "p = input()\n",
    "q = input()"
   ]
  },
  {
   "cell_type": "code",
   "execution_count": 44,
   "id": "f69f49b7-03b2-4316-8313-9800f3d74dff",
   "metadata": {},
   "outputs": [
    {
     "data": {
      "text/plain": [
       "'10'"
      ]
     },
     "execution_count": 44,
     "metadata": {},
     "output_type": "execute_result"
    }
   ],
   "source": [
    "p "
   ]
  },
  {
   "cell_type": "code",
   "execution_count": 45,
   "id": "1925a5e2-0388-4f9b-aa80-9e613737a686",
   "metadata": {},
   "outputs": [
    {
     "data": {
      "text/plain": [
       "'1020'"
      ]
     },
     "execution_count": 45,
     "metadata": {},
     "output_type": "execute_result"
    }
   ],
   "source": [
    "p + q  #concatenation"
   ]
  },
  {
   "cell_type": "code",
   "execution_count": 46,
   "id": "90f46642-db27-4151-a7fa-baa0c81a95ec",
   "metadata": {},
   "outputs": [],
   "source": [
    "p = int(p)\n",
    "q = int(q)"
   ]
  },
  {
   "cell_type": "code",
   "execution_count": 47,
   "id": "c90d68c1-a43a-47ee-a9e8-536bdb7617b4",
   "metadata": {},
   "outputs": [
    {
     "data": {
      "text/plain": [
       "30"
      ]
     },
     "execution_count": 47,
     "metadata": {},
     "output_type": "execute_result"
    }
   ],
   "source": [
    "p + q"
   ]
  },
  {
   "cell_type": "code",
   "execution_count": 48,
   "id": "89445da7-4577-49ad-88c7-804109f2d073",
   "metadata": {},
   "outputs": [
    {
     "data": {
      "text/plain": [
       "int"
      ]
     },
     "execution_count": 48,
     "metadata": {},
     "output_type": "execute_result"
    }
   ],
   "source": [
    "type(p)"
   ]
  },
  {
   "cell_type": "code",
   "execution_count": 49,
   "id": "32a1dd39-51d4-482b-a547-41040f395420",
   "metadata": {},
   "outputs": [
    {
     "name": "stdin",
     "output_type": "stream",
     "text": [
      "Enter the first number :  10\n",
      "Enter the second number :  30\n"
     ]
    },
    {
     "name": "stdout",
     "output_type": "stream",
     "text": [
      "sum =  40\n"
     ]
    }
   ],
   "source": [
    "e = int(input('Enter the first number : '))\n",
    "f = int(input('Enter the second number : '))\n",
    "print(\"sum = \",e+f)"
   ]
  },
  {
   "cell_type": "code",
   "execution_count": 50,
   "id": "29408be8-fe5a-4915-8e50-1b428d17fe68",
   "metadata": {},
   "outputs": [
    {
     "name": "stdin",
     "output_type": "stream",
     "text": [
      "Enter the first number :  54.90\n",
      "Enter the second number :  23\n"
     ]
    },
    {
     "name": "stdout",
     "output_type": "stream",
     "text": [
      "sum =  77.9\n"
     ]
    }
   ],
   "source": [
    "g = float(input('Enter the first number : '))\n",
    "h = float(input('Enter the second number : '))\n",
    "print(\"sum = \",g+h)"
   ]
  },
  {
   "cell_type": "markdown",
   "id": "fcf82d08-4490-4dba-a760-0c9de7a6b97a",
   "metadata": {},
   "source": [
    "# Basic String"
   ]
  },
  {
   "cell_type": "code",
   "execution_count": 102,
   "id": "e18745ed-cab0-485f-a983-2069666b08b5",
   "metadata": {},
   "outputs": [],
   "source": [
    "data = '30 days of python'"
   ]
  },
  {
   "cell_type": "code",
   "execution_count": 103,
   "id": "60d449be-8494-4817-83d9-f9af38543881",
   "metadata": {},
   "outputs": [
    {
     "data": {
      "text/plain": [
       "str"
      ]
     },
     "execution_count": 103,
     "metadata": {},
     "output_type": "execute_result"
    }
   ],
   "source": [
    "type(data)"
   ]
  },
  {
   "cell_type": "code",
   "execution_count": 104,
   "id": "d92e13c2-8195-4b4b-9ab6-b801f66d4ee5",
   "metadata": {},
   "outputs": [
    {
     "data": {
      "text/plain": [
       "17"
      ]
     },
     "execution_count": 104,
     "metadata": {},
     "output_type": "execute_result"
    }
   ],
   "source": [
    "len(data)"
   ]
  },
  {
   "cell_type": "code",
   "execution_count": 105,
   "id": "d10c76cf-0b60-43b5-a98f-18cafeb6947e",
   "metadata": {},
   "outputs": [
    {
     "ename": "NameError",
     "evalue": "name 'getsizeof' is not defined",
     "output_type": "error",
     "traceback": [
      "\u001b[1;31m---------------------------------------------------------------------------\u001b[0m",
      "\u001b[1;31mNameError\u001b[0m                                 Traceback (most recent call last)",
      "Cell \u001b[1;32mIn[105], line 1\u001b[0m\n\u001b[1;32m----> 1\u001b[0m \u001b[38;5;28mprint\u001b[39m(\u001b[43mgetsizeof\u001b[49m(data))\n",
      "\u001b[1;31mNameError\u001b[0m: name 'getsizeof' is not defined"
     ]
    }
   ],
   "source": [
    "print(getsizeof(data))"
   ]
  },
  {
   "cell_type": "code",
   "execution_count": 106,
   "id": "2bd3b8ab-5389-4cf2-b628-5b4beedff3bd",
   "metadata": {},
   "outputs": [
    {
     "data": {
      "text/plain": [
       "58"
      ]
     },
     "execution_count": 106,
     "metadata": {},
     "output_type": "execute_result"
    }
   ],
   "source": [
    "import sys\n",
    "sys.getsizeof(data)"
   ]
  },
  {
   "cell_type": "code",
   "execution_count": 107,
   "id": "d08e58a2-3322-467c-8aaf-7c557a7b15a2",
   "metadata": {},
   "outputs": [
    {
     "ename": "NameError",
     "evalue": "name 'python' is not defined",
     "output_type": "error",
     "traceback": [
      "\u001b[1;31m---------------------------------------------------------------------------\u001b[0m",
      "\u001b[1;31mNameError\u001b[0m                                 Traceback (most recent call last)",
      "Cell \u001b[1;32mIn[107], line 1\u001b[0m\n\u001b[1;32m----> 1\u001b[0m data\u001b[38;5;241m.\u001b[39mcount(\u001b[43mpython\u001b[49m)\n",
      "\u001b[1;31mNameError\u001b[0m: name 'python' is not defined"
     ]
    }
   ],
   "source": [
    "data.count(python)"
   ]
  },
  {
   "cell_type": "code",
   "execution_count": 108,
   "id": "c87b6d86-27e7-48ac-87c0-67cc8e02c2ee",
   "metadata": {},
   "outputs": [
    {
     "data": {
      "text/plain": [
       "1"
      ]
     },
     "execution_count": 108,
     "metadata": {},
     "output_type": "execute_result"
    }
   ],
   "source": [
    "data.count('python')"
   ]
  },
  {
   "cell_type": "code",
   "execution_count": 109,
   "id": "0bd7351f-2d0e-49dd-a38e-53c15e00e0d2",
   "metadata": {},
   "outputs": [
    {
     "data": {
      "text/plain": [
       "2"
      ]
     },
     "execution_count": 109,
     "metadata": {},
     "output_type": "execute_result"
    }
   ],
   "source": [
    "data.count('o')"
   ]
  },
  {
   "cell_type": "markdown",
   "id": "2b8c4ca2-e48f-4bcb-849a-9e6e2f2a3639",
   "metadata": {},
   "source": [
    "# String Method"
   ]
  },
  {
   "cell_type": "markdown",
   "id": "f829ee16-726b-4110-85e1-c10f65d1318e",
   "metadata": {},
   "source": [
    "Use of find()"
   ]
  },
  {
   "cell_type": "code",
   "execution_count": 110,
   "id": "f11f1ccb-1fae-4da3-aa57-e0f664f98a86",
   "metadata": {},
   "outputs": [
    {
     "data": {
      "text/plain": [
       "7"
      ]
     },
     "execution_count": 110,
     "metadata": {},
     "output_type": "execute_result"
    }
   ],
   "source": [
    "string = 'python programming language'    # find value from string\n",
    "string.find('programming')"
   ]
  },
  {
   "cell_type": "code",
   "execution_count": 111,
   "id": "f228dd59-2f6d-49f2-8521-c95848417113",
   "metadata": {},
   "outputs": [
    {
     "data": {
      "text/plain": [
       "10"
      ]
     },
     "execution_count": 111,
     "metadata": {},
     "output_type": "execute_result"
    }
   ],
   "source": [
    "string = 'python programming language'\n",
    "string.find('g')"
   ]
  },
  {
   "cell_type": "code",
   "execution_count": 112,
   "id": "ba8ce2a5-b7ee-4e15-9e8c-9507b73397cd",
   "metadata": {},
   "outputs": [
    {
     "data": {
      "text/plain": [
       "10"
      ]
     },
     "execution_count": 112,
     "metadata": {},
     "output_type": "execute_result"
    }
   ],
   "source": [
    "string.find('g')"
   ]
  },
  {
   "cell_type": "code",
   "execution_count": 113,
   "id": "dc45923d-473e-4f2f-98f8-81a131f2bdee",
   "metadata": {},
   "outputs": [
    {
     "data": {
      "text/plain": [
       "-1"
      ]
     },
     "execution_count": 113,
     "metadata": {},
     "output_type": "execute_result"
    }
   ],
   "source": [
    "string.find('g', 11,16) # not exist"
   ]
  },
  {
   "cell_type": "code",
   "execution_count": 114,
   "id": "ea51a726-2507-480a-9b28-6711e6d8dc6c",
   "metadata": {},
   "outputs": [
    {
     "data": {
      "text/plain": [
       "27"
      ]
     },
     "execution_count": 114,
     "metadata": {},
     "output_type": "execute_result"
    }
   ],
   "source": [
    "len(string)   # find length of string"
   ]
  },
  {
   "cell_type": "code",
   "execution_count": 115,
   "id": "6bb079e6-ffc2-48b4-b5b6-a451d4b8662f",
   "metadata": {},
   "outputs": [
    {
     "data": {
      "text/plain": [
       "17"
      ]
     },
     "execution_count": 115,
     "metadata": {},
     "output_type": "execute_result"
    }
   ],
   "source": [
    "string.find('g', 11, 27)"
   ]
  },
  {
   "cell_type": "markdown",
   "id": "101c6f07-575c-463e-9c37-bac08f0dfcc1",
   "metadata": {},
   "source": [
    "Use of index()"
   ]
  },
  {
   "cell_type": "code",
   "execution_count": 116,
   "id": "2755c874-a75e-460c-baa8-e9a699554db4",
   "metadata": {},
   "outputs": [
    {
     "data": {
      "text/plain": [
       "10"
      ]
     },
     "execution_count": 116,
     "metadata": {},
     "output_type": "execute_result"
    }
   ],
   "source": [
    "string.index('g')"
   ]
  },
  {
   "cell_type": "code",
   "execution_count": 117,
   "id": "58f50692-6855-42e5-8869-5683a05c9f9d",
   "metadata": {},
   "outputs": [
    {
     "data": {
      "text/plain": [
       "-1"
      ]
     },
     "execution_count": 117,
     "metadata": {},
     "output_type": "execute_result"
    }
   ],
   "source": [
    "string.find('g', 11,16)"
   ]
  },
  {
   "cell_type": "code",
   "execution_count": 118,
   "id": "b40ef530-ba29-4dd9-86b6-e463d116183f",
   "metadata": {},
   "outputs": [
    {
     "ename": "ValueError",
     "evalue": "substring not found",
     "output_type": "error",
     "traceback": [
      "\u001b[1;31m---------------------------------------------------------------------------\u001b[0m",
      "\u001b[1;31mValueError\u001b[0m                                Traceback (most recent call last)",
      "Cell \u001b[1;32mIn[118], line 1\u001b[0m\n\u001b[1;32m----> 1\u001b[0m \u001b[43mstring\u001b[49m\u001b[38;5;241;43m.\u001b[39;49m\u001b[43mindex\u001b[49m\u001b[43m(\u001b[49m\u001b[38;5;124;43m'\u001b[39;49m\u001b[38;5;124;43mg\u001b[39;49m\u001b[38;5;124;43m'\u001b[39;49m\u001b[43m,\u001b[49m\u001b[43m \u001b[49m\u001b[38;5;241;43m11\u001b[39;49m\u001b[43m,\u001b[49m\u001b[38;5;241;43m16\u001b[39;49m\u001b[43m)\u001b[49m \u001b[38;5;66;03m# error\u001b[39;00m\n",
      "\u001b[1;31mValueError\u001b[0m: substring not found"
     ]
    }
   ],
   "source": [
    "string.index('g', 11,16) # error"
   ]
  },
  {
   "cell_type": "markdown",
   "id": "28dddcfc-94e9-46c9-84b1-5f5b9c1674a7",
   "metadata": {},
   "source": [
    "Use of lower()"
   ]
  },
  {
   "cell_type": "code",
   "execution_count": 119,
   "id": "064bb6bb-855d-4ebf-a9e9-636b3c993926",
   "metadata": {},
   "outputs": [
    {
     "data": {
      "text/plain": [
       "'python programming language'"
      ]
     },
     "execution_count": 119,
     "metadata": {},
     "output_type": "execute_result"
    }
   ],
   "source": [
    "string.lower() # covert all character into lower case letter"
   ]
  },
  {
   "cell_type": "markdown",
   "id": "9c9d349a-4d63-4ed3-9b41-18dd26cf72d6",
   "metadata": {},
   "source": [
    "Use of upper()"
   ]
  },
  {
   "cell_type": "code",
   "execution_count": 120,
   "id": "5ed440c9-f776-4d35-baf3-ffdce633ae33",
   "metadata": {},
   "outputs": [
    {
     "data": {
      "text/plain": [
       "'PYTHON PROGRAMMING LANGUAGE'"
      ]
     },
     "execution_count": 120,
     "metadata": {},
     "output_type": "execute_result"
    }
   ],
   "source": [
    "string.upper() # covert all character into upper case letter"
   ]
  },
  {
   "cell_type": "markdown",
   "id": "b9c4133c-4e1e-4ef5-b311-e39c9c915792",
   "metadata": {},
   "source": [
    "Use of casefold()"
   ]
  },
  {
   "cell_type": "code",
   "execution_count": 121,
   "id": "d5c3f9cf-9b50-4613-8c6d-5b49d1ea3b8e",
   "metadata": {},
   "outputs": [
    {
     "data": {
      "text/plain": [
       "'python programming language'"
      ]
     },
     "execution_count": 121,
     "metadata": {},
     "output_type": "execute_result"
    }
   ],
   "source": [
    "string.casefold() # lower"
   ]
  },
  {
   "cell_type": "markdown",
   "id": "7c100d54-1204-45fd-93a8-7ebf06479eb9",
   "metadata": {},
   "source": [
    " Use of capitalize()"
   ]
  },
  {
   "cell_type": "code",
   "execution_count": 122,
   "id": "d3978fa9-1095-45e9-b3e1-6e3c121a46be",
   "metadata": {},
   "outputs": [],
   "source": [
    "x = 'data Science'"
   ]
  },
  {
   "cell_type": "code",
   "execution_count": 123,
   "id": "3777bc6d-bab7-4134-9f67-2d750589c9c4",
   "metadata": {},
   "outputs": [
    {
     "data": {
      "text/plain": [
       "'Data science'"
      ]
     },
     "execution_count": 123,
     "metadata": {},
     "output_type": "execute_result"
    }
   ],
   "source": [
    "x.capitalize()  # covert only first character into upercase"
   ]
  },
  {
   "cell_type": "markdown",
   "id": "b06fb24f-0183-4e82-85da-cc68be6bf62f",
   "metadata": {},
   "source": [
    "Use of swapcase()"
   ]
  },
  {
   "cell_type": "code",
   "execution_count": 124,
   "id": "da813d88-37e3-4ded-840c-3d492d236acb",
   "metadata": {},
   "outputs": [
    {
     "data": {
      "text/plain": [
       "'DATA sCIENCE'"
      ]
     },
     "execution_count": 124,
     "metadata": {},
     "output_type": "execute_result"
    }
   ],
   "source": [
    "x.swapcase()  # capital letter convert into small and small letter convert into capital"
   ]
  },
  {
   "cell_type": "markdown",
   "id": "b130a4ae-7b3a-4e83-92aa-8ab55442658f",
   "metadata": {},
   "source": [
    "Use of title()"
   ]
  },
  {
   "cell_type": "code",
   "execution_count": 125,
   "id": "51bb14b4-951d-42c9-960d-4b5822ae237f",
   "metadata": {},
   "outputs": [
    {
     "data": {
      "text/plain": [
       "'Data Science'"
      ]
     },
     "execution_count": 125,
     "metadata": {},
     "output_type": "execute_result"
    }
   ],
   "source": [
    "x.title()"
   ]
  },
  {
   "cell_type": "markdown",
   "id": "53777823-3dfc-4508-98c5-79ca4c217644",
   "metadata": {},
   "source": [
    "Use of islower()"
   ]
  },
  {
   "cell_type": "code",
   "execution_count": 126,
   "id": "4f9c66d7-2f90-4561-b701-eeebc4ebef65",
   "metadata": {},
   "outputs": [
    {
     "data": {
      "text/plain": [
       "False"
      ]
     },
     "execution_count": 126,
     "metadata": {},
     "output_type": "execute_result"
    }
   ],
   "source": [
    "x.islower()"
   ]
  },
  {
   "cell_type": "markdown",
   "id": "8b239a6e-7115-47a5-80fa-027a659476a7",
   "metadata": {},
   "source": [
    "Use of upper"
   ]
  },
  {
   "cell_type": "code",
   "execution_count": 127,
   "id": "2acf5f0a-58f7-434a-a0fb-48d56a8c3473",
   "metadata": {},
   "outputs": [
    {
     "data": {
      "text/plain": [
       "False"
      ]
     },
     "execution_count": 127,
     "metadata": {},
     "output_type": "execute_result"
    }
   ],
   "source": [
    "x.isupper()"
   ]
  },
  {
   "cell_type": "code",
   "execution_count": 128,
   "id": "0068f272-41d7-4585-a775-16d18cafc859",
   "metadata": {},
   "outputs": [],
   "source": [
    "y = 'benin yeasmin'"
   ]
  },
  {
   "cell_type": "code",
   "execution_count": 129,
   "id": "49f95a6b-c362-4c0e-9fd9-e4cf06980cbe",
   "metadata": {},
   "outputs": [
    {
     "data": {
      "text/plain": [
       "'BENIN YEASMIN'"
      ]
     },
     "execution_count": 129,
     "metadata": {},
     "output_type": "execute_result"
    }
   ],
   "source": [
    "y.upper()"
   ]
  },
  {
   "cell_type": "code",
   "execution_count": 130,
   "id": "39c83bbc-b2ca-4072-a2f2-f3a8721a57a4",
   "metadata": {},
   "outputs": [
    {
     "data": {
      "text/plain": [
       "False"
      ]
     },
     "execution_count": 130,
     "metadata": {},
     "output_type": "execute_result"
    }
   ],
   "source": [
    "y.isupper()"
   ]
  },
  {
   "cell_type": "code",
   "execution_count": 131,
   "id": "98cabb66-f677-47b5-ae1b-267de1b5ecb3",
   "metadata": {},
   "outputs": [],
   "source": [
    "y1 = 'BENIN YEASMIN'"
   ]
  },
  {
   "cell_type": "code",
   "execution_count": 132,
   "id": "8329fdda-61ec-4ef1-8e09-5ed48983cd17",
   "metadata": {},
   "outputs": [
    {
     "data": {
      "text/plain": [
       "True"
      ]
     },
     "execution_count": 132,
     "metadata": {},
     "output_type": "execute_result"
    }
   ],
   "source": [
    "y1.isupper()"
   ]
  },
  {
   "cell_type": "markdown",
   "id": "3dfe990e-95b0-4a8a-b0f2-44375ad08c81",
   "metadata": {},
   "source": [
    "Use of isdigit()"
   ]
  },
  {
   "cell_type": "code",
   "execution_count": 133,
   "id": "58ad0856-8696-4a3d-bf27-222a690c1a8e",
   "metadata": {},
   "outputs": [
    {
     "data": {
      "text/plain": [
       "False"
      ]
     },
     "execution_count": 133,
     "metadata": {},
     "output_type": "execute_result"
    }
   ],
   "source": [
    "y1.isdigit()"
   ]
  },
  {
   "cell_type": "markdown",
   "id": "5a3fb832-63f1-4bdd-a542-efc729c2b05a",
   "metadata": {},
   "source": [
    "Use of encode()"
   ]
  },
  {
   "cell_type": "code",
   "execution_count": 134,
   "id": "aadd2a53-7015-455f-85fb-d409a128f520",
   "metadata": {},
   "outputs": [
    {
     "data": {
      "text/plain": [
       "b'BENIN YEASMIN'"
      ]
     },
     "execution_count": 134,
     "metadata": {},
     "output_type": "execute_result"
    }
   ],
   "source": [
    "y1.encode()"
   ]
  },
  {
   "cell_type": "code",
   "execution_count": 135,
   "id": "949c39b9-c6f1-4fde-b853-4565a2ba3437",
   "metadata": {},
   "outputs": [
    {
     "data": {
      "text/plain": [
       "bytes"
      ]
     },
     "execution_count": 135,
     "metadata": {},
     "output_type": "execute_result"
    }
   ],
   "source": [
    "type(y1.encode())"
   ]
  },
  {
   "cell_type": "markdown",
   "id": "bc7eda9e-8ef4-4000-9221-dbead28fce43",
   "metadata": {},
   "source": [
    "Use of spilt()"
   ]
  },
  {
   "cell_type": "code",
   "execution_count": 136,
   "id": "f5a992b3-0455-4b0c-bb66-4dd8118e8885",
   "metadata": {},
   "outputs": [],
   "source": [
    "z = 'umme benin yeasmin meem'"
   ]
  },
  {
   "cell_type": "code",
   "execution_count": 137,
   "id": "030a217f-45c6-4237-b2dc-5a07ffa73005",
   "metadata": {},
   "outputs": [
    {
     "data": {
      "text/plain": [
       "'umme benin yeasmin meem'"
      ]
     },
     "execution_count": 137,
     "metadata": {},
     "output_type": "execute_result"
    }
   ],
   "source": [
    "z"
   ]
  },
  {
   "cell_type": "code",
   "execution_count": 138,
   "id": "9ff599f3-00e2-45cc-843a-8acb296314fe",
   "metadata": {},
   "outputs": [
    {
     "data": {
      "text/plain": [
       "['umme', 'benin', 'yeasmin', 'meem']"
      ]
     },
     "execution_count": 138,
     "metadata": {},
     "output_type": "execute_result"
    }
   ],
   "source": [
    "z.split()"
   ]
  },
  {
   "cell_type": "code",
   "execution_count": 139,
   "id": "8901733d-2ce4-403e-8893-1bbe359eda6e",
   "metadata": {},
   "outputs": [
    {
     "data": {
      "text/plain": [
       "'umme'"
      ]
     },
     "execution_count": 139,
     "metadata": {},
     "output_type": "execute_result"
    }
   ],
   "source": [
    "z.split()[0]"
   ]
  },
  {
   "cell_type": "code",
   "execution_count": 140,
   "id": "cb897039-8ea2-4993-b868-d48e6df9f7d3",
   "metadata": {},
   "outputs": [
    {
     "data": {
      "text/plain": [
       "'benin'"
      ]
     },
     "execution_count": 140,
     "metadata": {},
     "output_type": "execute_result"
    }
   ],
   "source": [
    "z.split()[1]"
   ]
  },
  {
   "cell_type": "markdown",
   "id": "9a0c48c4-16be-4bf0-a0b0-fec86d2defb3",
   "metadata": {},
   "source": [
    "Use of center()"
   ]
  },
  {
   "cell_type": "code",
   "execution_count": 141,
   "id": "c5fc0e15-b252-40ef-927d-8681545aa24d",
   "metadata": {},
   "outputs": [
    {
     "data": {
      "text/plain": [
       "'                   data Science                   '"
      ]
     },
     "execution_count": 141,
     "metadata": {},
     "output_type": "execute_result"
    }
   ],
   "source": [
    "x.center(50)"
   ]
  },
  {
   "cell_type": "code",
   "execution_count": 142,
   "id": "096f151c-8ab1-4060-882b-b91f884ad185",
   "metadata": {},
   "outputs": [
    {
     "data": {
      "text/plain": [
       "'                                            data Science                                            '"
      ]
     },
     "execution_count": 142,
     "metadata": {},
     "output_type": "execute_result"
    }
   ],
   "source": [
    "x.center(100)"
   ]
  },
  {
   "cell_type": "markdown",
   "id": "32734fcc-c7d2-440a-afc7-7a11261a639b",
   "metadata": {},
   "source": [
    "Use of replace()"
   ]
  },
  {
   "cell_type": "code",
   "execution_count": 143,
   "id": "10068c06-dad9-43a8-928c-b7144184ca83",
   "metadata": {},
   "outputs": [],
   "source": [
    "A = 'Data Science'"
   ]
  },
  {
   "cell_type": "code",
   "execution_count": 144,
   "id": "80ccbca0-b7d4-4eef-b2a5-efd0b8914071",
   "metadata": {},
   "outputs": [
    {
     "data": {
      "text/plain": [
       "'AI Science'"
      ]
     },
     "execution_count": 144,
     "metadata": {},
     "output_type": "execute_result"
    }
   ],
   "source": [
    "A.replace('Data', 'AI') # to get more details press shift+tab"
   ]
  },
  {
   "cell_type": "markdown",
   "id": "8597a539-9000-4f23-84c4-00d00ff895f7",
   "metadata": {},
   "source": [
    "Use of format()"
   ]
  },
  {
   "cell_type": "code",
   "execution_count": 145,
   "id": "e8964047-d50e-4326-8045-027cc4da15d4",
   "metadata": {},
   "outputs": [
    {
     "name": "stdout",
     "output_type": "stream",
     "text": [
      "I have 1000 taka\n"
     ]
    }
   ],
   "source": [
    "x = 10\n",
    "y = 100\n",
    "z = x*y\n",
    "\n",
    "print('I have', z, 'taka')"
   ]
  },
  {
   "cell_type": "code",
   "execution_count": 146,
   "id": "12533ec8-6121-4509-bc09-fa43fcd02e1c",
   "metadata": {},
   "outputs": [
    {
     "name": "stdout",
     "output_type": "stream",
     "text": [
      "I have 1000 taka\n"
     ]
    }
   ],
   "source": [
    "print('I have {} taka'. format(z))"
   ]
  },
  {
   "cell_type": "code",
   "execution_count": 147,
   "id": "d4786b66-9a72-4cdd-8e58-6991eb6eef8a",
   "metadata": {},
   "outputs": [
    {
     "name": "stdout",
     "output_type": "stream",
     "text": [
      "I have 1000 taka\n"
     ]
    }
   ],
   "source": [
    "print(f'I have {z} taka') # use of f string"
   ]
  }
 ],
 "metadata": {
  "kernelspec": {
   "display_name": "Python 3 (ipykernel)",
   "language": "python",
   "name": "python3"
  },
  "language_info": {
   "codemirror_mode": {
    "name": "ipython",
    "version": 3
   },
   "file_extension": ".py",
   "mimetype": "text/x-python",
   "name": "python",
   "nbconvert_exporter": "python",
   "pygments_lexer": "ipython3",
   "version": "3.12.4"
  }
 },
 "nbformat": 4,
 "nbformat_minor": 5
}
