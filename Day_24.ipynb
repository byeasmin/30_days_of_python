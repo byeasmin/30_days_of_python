{
 "cells": [
  {
   "cell_type": "markdown",
   "id": "d5c6c2c2-eef0-4563-934a-a117ba8d86cc",
   "metadata": {},
   "source": [
    "# https://github.com/byeasmin/30_days_of_python"
   ]
  },
  {
   "cell_type": "markdown",
   "id": "953c7140-de9a-4a57-8e41-756074c488b4",
   "metadata": {},
   "source": [
    "# Recursion"
   ]
  },
  {
   "cell_type": "markdown",
   "id": "f28eeff6-60ec-422c-9d1b-9dee67968263",
   "metadata": {},
   "source": [
    "## Recursion Limit = 1000"
   ]
  },
  {
   "cell_type": "code",
   "execution_count": 5,
   "id": "27fb923f-76b2-4a5e-829c-b219719f616f",
   "metadata": {},
   "outputs": [],
   "source": [
    "def factorial(x):\n",
    "    if x == 0:\n",
    "        return 1\n",
    "    return (x * factorial(x - 1))\n",
    "    "
   ]
  },
  {
   "cell_type": "code",
   "execution_count": 6,
   "id": "23c63c95-9a36-4ea7-912e-c962971e41fc",
   "metadata": {},
   "outputs": [
    {
     "data": {
      "text/plain": [
       "1"
      ]
     },
     "execution_count": 6,
     "metadata": {},
     "output_type": "execute_result"
    }
   ],
   "source": [
    "factorial(0)"
   ]
  },
  {
   "cell_type": "code",
   "execution_count": 9,
   "id": "fa6331a7-be43-4f45-90c2-1cd5b0e33443",
   "metadata": {},
   "outputs": [
    {
     "data": {
      "text/plain": [
       "5040"
      ]
     },
     "execution_count": 9,
     "metadata": {},
     "output_type": "execute_result"
    }
   ],
   "source": [
    "factorial(7)"
   ]
  },
  {
   "cell_type": "code",
   "execution_count": null,
   "id": "e4a94f34-2885-4bf3-9833-b5b8094989e7",
   "metadata": {},
   "outputs": [],
   "source": [
    "def web():\n",
    "    print('https://www.iiuc.ac.bd/index.php/dashboard/')\n",
    "    web()\n",
    "web() # 1000 = recursion limit"
   ]
  },
  {
   "cell_type": "code",
   "execution_count": 11,
   "id": "52919a3f-3a15-4832-8f23-a5332ddda09a",
   "metadata": {},
   "outputs": [
    {
     "data": {
      "text/plain": [
       "3000"
      ]
     },
     "execution_count": 11,
     "metadata": {},
     "output_type": "execute_result"
    }
   ],
   "source": [
    "import sys\n",
    "sys.getrecursionlimit()"
   ]
  }
 ],
 "metadata": {
  "kernelspec": {
   "display_name": "Python 3 (ipykernel)",
   "language": "python",
   "name": "python3"
  },
  "language_info": {
   "codemirror_mode": {
    "name": "ipython",
    "version": 3
   },
   "file_extension": ".py",
   "mimetype": "text/x-python",
   "name": "python",
   "nbconvert_exporter": "python",
   "pygments_lexer": "ipython3",
   "version": "3.12.4"
  },
  "widgets": {
   "application/vnd.jupyter.widget-state+json": {
    "state": {},
    "version_major": 2,
    "version_minor": 0
   }
  }
 },
 "nbformat": 4,
 "nbformat_minor": 5
}
