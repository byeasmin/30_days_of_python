{
 "cells": [
  {
   "cell_type": "markdown",
   "id": "047169c8-d068-41b1-b2ab-949b6b9c1211",
   "metadata": {},
   "source": [
    "# https://github.com/byeasmin/30_days_of_python"
   ]
  },
  {
   "cell_type": "markdown",
   "id": "b72c4034-9723-4fbb-b626-7d21dd7a5ce8",
   "metadata": {},
   "source": [
    "# Tuple"
   ]
  },
  {
   "cell_type": "code",
   "execution_count": 163,
   "id": "5600b80c-a186-4b04-b8bd-49a4c656c213",
   "metadata": {},
   "outputs": [],
   "source": [
    "tuple = (1, 100, True, 'study mart', 'data science', 'FAU', (1, 4, 10), [10, 5])"
   ]
  },
  {
   "cell_type": "code",
   "execution_count": 164,
   "id": "d7b90d74-17f7-4e28-856b-84484d5f668c",
   "metadata": {},
   "outputs": [
    {
     "name": "stdout",
     "output_type": "stream",
     "text": [
      "(1, 100, True, 'study mart', 'data science', 'FAU', (1, 4, 10), [10, 5])\n"
     ]
    }
   ],
   "source": [
    "print(tuple)"
   ]
  },
  {
   "cell_type": "code",
   "execution_count": 165,
   "id": "1f4116ab-6ef5-402c-82fa-7ac2fb90c71b",
   "metadata": {},
   "outputs": [
    {
     "data": {
      "text/plain": [
       "tuple"
      ]
     },
     "execution_count": 165,
     "metadata": {},
     "output_type": "execute_result"
    }
   ],
   "source": [
    "type(tuple)"
   ]
  },
  {
   "cell_type": "code",
   "execution_count": 166,
   "id": "ccc929ee-1829-495d-8d18-81d42a48107b",
   "metadata": {},
   "outputs": [],
   "source": [
    "tup1 = ('ds', 'rony', 'nstu', 1, 2, 3, 4, 5, [10, 20, 30, 40], True)"
   ]
  },
  {
   "cell_type": "code",
   "execution_count": 167,
   "id": "44edac0c-600e-4908-803c-9cb49e2bf514",
   "metadata": {},
   "outputs": [
    {
     "data": {
      "text/plain": [
       "('ds', 'rony', 'nstu', 1, 2, 3, 4, 5, [10, 20, 30, 40], True)"
      ]
     },
     "execution_count": 167,
     "metadata": {},
     "output_type": "execute_result"
    }
   ],
   "source": [
    "tup1"
   ]
  },
  {
   "cell_type": "code",
   "execution_count": 168,
   "id": "afe80db2-e3b7-4e20-8046-87a7c397002c",
   "metadata": {},
   "outputs": [
    {
     "data": {
      "text/plain": [
       "'rony'"
      ]
     },
     "execution_count": 168,
     "metadata": {},
     "output_type": "execute_result"
    }
   ],
   "source": [
    "tup1[1]"
   ]
  },
  {
   "cell_type": "code",
   "execution_count": 169,
   "id": "51823748-d66a-40d3-a7fb-10e28d882c9f",
   "metadata": {},
   "outputs": [
    {
     "data": {
      "text/plain": [
       "True"
      ]
     },
     "execution_count": 169,
     "metadata": {},
     "output_type": "execute_result"
    }
   ],
   "source": [
    "tup1[-1]"
   ]
  },
  {
   "cell_type": "code",
   "execution_count": 170,
   "id": "a57c57d0-19d2-4265-985d-eb7069bf07a9",
   "metadata": {},
   "outputs": [
    {
     "data": {
      "text/plain": [
       "('nstu', 1, 2)"
      ]
     },
     "execution_count": 170,
     "metadata": {},
     "output_type": "execute_result"
    }
   ],
   "source": [
    "tup1[2:5]  # last - 1"
   ]
  },
  {
   "cell_type": "markdown",
   "id": "e223f530-b7e2-4628-8cf8-fe6deab5ac91",
   "metadata": {},
   "source": [
    "# Problem - that is a single element can not be used as tuple"
   ]
  },
  {
   "cell_type": "code",
   "execution_count": 171,
   "id": "4aeab5f4-31dd-4d82-a688-9c2cb624cbdd",
   "metadata": {},
   "outputs": [
    {
     "data": {
      "text/plain": [
       "['python']"
      ]
     },
     "execution_count": 171,
     "metadata": {},
     "output_type": "execute_result"
    }
   ],
   "source": [
    "tup2 = ['python']\n",
    "tup2\n"
   ]
  },
  {
   "cell_type": "code",
   "execution_count": 172,
   "id": "9aba9409-af05-485d-ab76-cf3287b1f6db",
   "metadata": {},
   "outputs": [
    {
     "data": {
      "text/plain": [
       "list"
      ]
     },
     "execution_count": 172,
     "metadata": {},
     "output_type": "execute_result"
    }
   ],
   "source": [
    "type(tup2)"
   ]
  },
  {
   "cell_type": "code",
   "execution_count": 173,
   "id": "86870b2a-1def-4922-9335-1bfcd8d2f271",
   "metadata": {},
   "outputs": [
    {
     "data": {
      "text/plain": [
       "'python'"
      ]
     },
     "execution_count": 173,
     "metadata": {},
     "output_type": "execute_result"
    }
   ],
   "source": [
    "tup2 = ('python')\n",
    "tup2"
   ]
  },
  {
   "cell_type": "code",
   "execution_count": 174,
   "id": "83c4d38c-3cb5-4e1c-9b2a-5dbeb0daf339",
   "metadata": {},
   "outputs": [
    {
     "data": {
      "text/plain": [
       "str"
      ]
     },
     "execution_count": 174,
     "metadata": {},
     "output_type": "execute_result"
    }
   ],
   "source": [
    "type(tup2)"
   ]
  },
  {
   "cell_type": "markdown",
   "id": "2171a627-f514-4b53-a6d1-8f716a6b38f8",
   "metadata": {},
   "source": [
    "# To solve the problem use a comma at the last"
   ]
  },
  {
   "cell_type": "code",
   "execution_count": 175,
   "id": "1e0b4932-5f73-4070-85fe-68218b2d1839",
   "metadata": {},
   "outputs": [
    {
     "data": {
      "text/plain": [
       "('python',)"
      ]
     },
     "execution_count": 175,
     "metadata": {},
     "output_type": "execute_result"
    }
   ],
   "source": [
    "tup2 = ('python', )\n",
    "tup2"
   ]
  },
  {
   "cell_type": "code",
   "execution_count": 176,
   "id": "345d5ba7-ed27-42ec-9291-787c8270e771",
   "metadata": {},
   "outputs": [
    {
     "data": {
      "text/plain": [
       "tuple"
      ]
     },
     "execution_count": 176,
     "metadata": {},
     "output_type": "execute_result"
    }
   ],
   "source": [
    "type(tup2) # now it is tuple"
   ]
  },
  {
   "cell_type": "code",
   "execution_count": 177,
   "id": "94dd90a4-e61a-4d5a-9b38-657314dd658a",
   "metadata": {},
   "outputs": [
    {
     "data": {
      "text/plain": [
       "'python'"
      ]
     },
     "execution_count": 177,
     "metadata": {},
     "output_type": "execute_result"
    }
   ],
   "source": [
    "tup2[0]"
   ]
  },
  {
   "cell_type": "markdown",
   "id": "ec159c59-1413-4d39-b208-4d6b39b9ff6c",
   "metadata": {},
   "source": [
    "# Convert Tuple to List"
   ]
  },
  {
   "cell_type": "code",
   "execution_count": 178,
   "id": "717c4f52-42bb-432d-8f27-fc16b1a424b4",
   "metadata": {},
   "outputs": [],
   "source": [
    "tuple3 = ('python', )"
   ]
  },
  {
   "cell_type": "code",
   "execution_count": 179,
   "id": "37cda515-e55d-4bea-b7da-662ccbcbc697",
   "metadata": {},
   "outputs": [
    {
     "data": {
      "text/plain": [
       "('python',)"
      ]
     },
     "execution_count": 179,
     "metadata": {},
     "output_type": "execute_result"
    }
   ],
   "source": [
    "tuple3"
   ]
  },
  {
   "cell_type": "code",
   "execution_count": 180,
   "id": "f56b2d1e-da40-40c8-acc1-e66d030fda88",
   "metadata": {},
   "outputs": [
    {
     "data": {
      "text/plain": [
       "'python'"
      ]
     },
     "execution_count": 180,
     "metadata": {},
     "output_type": "execute_result"
    }
   ],
   "source": [
    "tuple3[0]"
   ]
  },
  {
   "cell_type": "code",
   "execution_count": 181,
   "id": "7c4a2b17-2310-440f-abb5-aa4d6a2782ad",
   "metadata": {},
   "outputs": [
    {
     "data": {
      "text/plain": [
       "tuple"
      ]
     },
     "execution_count": 181,
     "metadata": {},
     "output_type": "execute_result"
    }
   ],
   "source": [
    "type(tuple3)"
   ]
  },
  {
   "cell_type": "code",
   "execution_count": 182,
   "id": "c55d0fb6-466d-4c3a-b4e5-212a08452276",
   "metadata": {},
   "outputs": [],
   "source": [
    "l = list(tuple3)"
   ]
  },
  {
   "cell_type": "code",
   "execution_count": 183,
   "id": "2b476aed-00dc-4fce-bbec-40e93d2c6f1e",
   "metadata": {},
   "outputs": [
    {
     "data": {
      "text/plain": [
       "tuple"
      ]
     },
     "execution_count": 183,
     "metadata": {},
     "output_type": "execute_result"
    }
   ],
   "source": [
    "type(tuple3)"
   ]
  },
  {
   "cell_type": "code",
   "execution_count": 184,
   "id": "cdf0638a-ba34-4b26-a67a-119aea7e38f0",
   "metadata": {},
   "outputs": [
    {
     "data": {
      "text/plain": [
       "['python']"
      ]
     },
     "execution_count": 184,
     "metadata": {},
     "output_type": "execute_result"
    }
   ],
   "source": [
    "l"
   ]
  },
  {
   "cell_type": "code",
   "execution_count": 185,
   "id": "38511f7c-1627-4a3c-ac4d-05923c11e979",
   "metadata": {},
   "outputs": [
    {
     "data": {
      "text/plain": [
       "list"
      ]
     },
     "execution_count": 185,
     "metadata": {},
     "output_type": "execute_result"
    }
   ],
   "source": [
    "type(l)"
   ]
  },
  {
   "cell_type": "code",
   "execution_count": 186,
   "id": "f64bd3e1-aa5f-4a62-8911-8e3b88fd9099",
   "metadata": {},
   "outputs": [],
   "source": [
    "l.append('iiuc')"
   ]
  },
  {
   "cell_type": "code",
   "execution_count": 187,
   "id": "bc3824f4-2401-4b24-a5ad-b15c4f34a0c3",
   "metadata": {},
   "outputs": [
    {
     "data": {
      "text/plain": [
       "['python', 'iiuc']"
      ]
     },
     "execution_count": 187,
     "metadata": {},
     "output_type": "execute_result"
    }
   ],
   "source": [
    "l"
   ]
  },
  {
   "cell_type": "markdown",
   "id": "c49cf03d-f78b-4daf-8ab2-37d93c94691b",
   "metadata": {},
   "source": [
    "# Convert List to Tuple"
   ]
  },
  {
   "cell_type": "code",
   "execution_count": 188,
   "id": "9898c6c8-86eb-453c-baeb-18ddee5bef1b",
   "metadata": {},
   "outputs": [
    {
     "ename": "TypeError",
     "evalue": "'tuple' object is not callable",
     "output_type": "error",
     "traceback": [
      "\u001b[1;31m---------------------------------------------------------------------------\u001b[0m",
      "\u001b[1;31mTypeError\u001b[0m                                 Traceback (most recent call last)",
      "Cell \u001b[1;32mIn[188], line 1\u001b[0m\n\u001b[1;32m----> 1\u001b[0m tuple3 \u001b[38;5;241m=\u001b[39m \u001b[38;5;28;43mtuple\u001b[39;49m\u001b[43m(\u001b[49m\u001b[43ml\u001b[49m\u001b[43m)\u001b[49m\n",
      "\u001b[1;31mTypeError\u001b[0m: 'tuple' object is not callable"
     ]
    }
   ],
   "source": [
    "tuple3 = tuple(l)"
   ]
  },
  {
   "cell_type": "markdown",
   "id": "22bc1b36-2c16-4f09-8ca8-c06f69f91a9b",
   "metadata": {},
   "source": [
    "# *************"
   ]
  },
  {
   "cell_type": "code",
   "execution_count": 189,
   "id": "a1edb5d0-a5fd-4641-a174-2532c0832c49",
   "metadata": {},
   "outputs": [],
   "source": [
    "del tuple "
   ]
  },
  {
   "cell_type": "code",
   "execution_count": 190,
   "id": "4c36467b-b411-47e3-974e-0f466b5fe2aa",
   "metadata": {},
   "outputs": [
    {
     "data": {
      "text/plain": [
       "('python',)"
      ]
     },
     "execution_count": 190,
     "metadata": {},
     "output_type": "execute_result"
    }
   ],
   "source": [
    "tuple3"
   ]
  },
  {
   "cell_type": "code",
   "execution_count": 191,
   "id": "c8ccf714-e8cf-45c2-82c7-2ebce1dd84bc",
   "metadata": {},
   "outputs": [
    {
     "data": {
      "text/plain": [
       "tuple"
      ]
     },
     "execution_count": 191,
     "metadata": {},
     "output_type": "execute_result"
    }
   ],
   "source": [
    "type(tuple3)"
   ]
  },
  {
   "cell_type": "code",
   "execution_count": 192,
   "id": "c4f2ecc1-9886-4187-98a6-79f865dbae49",
   "metadata": {},
   "outputs": [],
   "source": [
    "l = list(tuple3)"
   ]
  },
  {
   "cell_type": "code",
   "execution_count": 193,
   "id": "f84fe8f4-1807-4ec5-ba39-d3e552f02b11",
   "metadata": {},
   "outputs": [
    {
     "data": {
      "text/plain": [
       "['python']"
      ]
     },
     "execution_count": 193,
     "metadata": {},
     "output_type": "execute_result"
    }
   ],
   "source": [
    "l"
   ]
  },
  {
   "cell_type": "code",
   "execution_count": 194,
   "id": "e7fcc2f1-6d71-41bd-aff5-c2a946fbd35d",
   "metadata": {},
   "outputs": [],
   "source": [
    "l.append(23)"
   ]
  },
  {
   "cell_type": "code",
   "execution_count": 195,
   "id": "fe6d8eb4-84f8-4a76-95be-2f459658c2db",
   "metadata": {},
   "outputs": [
    {
     "data": {
      "text/plain": [
       "['python', 23]"
      ]
     },
     "execution_count": 195,
     "metadata": {},
     "output_type": "execute_result"
    }
   ],
   "source": [
    "l"
   ]
  },
  {
   "cell_type": "code",
   "execution_count": 196,
   "id": "27267c0a-a61e-4005-a5e7-422604cadc18",
   "metadata": {},
   "outputs": [
    {
     "data": {
      "text/plain": [
       "list"
      ]
     },
     "execution_count": 196,
     "metadata": {},
     "output_type": "execute_result"
    }
   ],
   "source": [
    "type(l)"
   ]
  },
  {
   "cell_type": "code",
   "execution_count": 197,
   "id": "5bc164cb-98be-4e1d-888c-9c7799ebe284",
   "metadata": {},
   "outputs": [],
   "source": [
    "tuple3 = tuple(l)"
   ]
  },
  {
   "cell_type": "code",
   "execution_count": 198,
   "id": "d6866dd5-e20e-4713-b835-1b4a6958f8c6",
   "metadata": {},
   "outputs": [
    {
     "data": {
      "text/plain": [
       "('python', 23)"
      ]
     },
     "execution_count": 198,
     "metadata": {},
     "output_type": "execute_result"
    }
   ],
   "source": [
    "tuple3"
   ]
  },
  {
   "cell_type": "markdown",
   "id": "be985d37-6b19-4c05-bf89-9991ed7dc062",
   "metadata": {},
   "source": [
    "# Add Duplicate Value"
   ]
  },
  {
   "cell_type": "code",
   "execution_count": 199,
   "id": "eab2fec1-8a5d-402b-a19f-7f4290f1f16a",
   "metadata": {},
   "outputs": [
    {
     "data": {
      "text/plain": [
       "('python', 23)"
      ]
     },
     "execution_count": 199,
     "metadata": {},
     "output_type": "execute_result"
    }
   ],
   "source": [
    "tuple3"
   ]
  },
  {
   "cell_type": "code",
   "execution_count": 200,
   "id": "851a4b22-acbc-40a8-bc33-ea8e3f2a1c20",
   "metadata": {},
   "outputs": [],
   "source": [
    "tuple3 = ('python', 'iiuc', 'iiuc')"
   ]
  },
  {
   "cell_type": "code",
   "execution_count": 201,
   "id": "16f6815f-4b00-4f4d-a0f1-1a180e0bca67",
   "metadata": {},
   "outputs": [
    {
     "data": {
      "text/plain": [
       "('python', 'iiuc', 'iiuc')"
      ]
     },
     "execution_count": 201,
     "metadata": {},
     "output_type": "execute_result"
    }
   ],
   "source": [
    "tuple3"
   ]
  },
  {
   "cell_type": "code",
   "execution_count": 202,
   "id": "785a3c7c-ff56-4c5a-8a04-856385061403",
   "metadata": {},
   "outputs": [],
   "source": [
    "tuple3 = (['python', 34, 23, 12])"
   ]
  },
  {
   "cell_type": "code",
   "execution_count": 203,
   "id": "b80d628c-228d-4ea6-85f1-0461b912f161",
   "metadata": {},
   "outputs": [
    {
     "data": {
      "text/plain": [
       "['python', 34, 23, 12]"
      ]
     },
     "execution_count": 203,
     "metadata": {},
     "output_type": "execute_result"
    }
   ],
   "source": [
    "tuple3"
   ]
  },
  {
   "cell_type": "markdown",
   "id": "5800769a-8347-4cb1-9b60-f85712cf9cae",
   "metadata": {},
   "source": [
    "# Without using paranthesis"
   ]
  },
  {
   "cell_type": "code",
   "execution_count": 204,
   "id": "474f4ae0-8475-422c-ac86-7e99d84570b3",
   "metadata": {},
   "outputs": [],
   "source": [
    "tuple4 = 10, 30, 40, 20, 50"
   ]
  },
  {
   "cell_type": "code",
   "execution_count": 205,
   "id": "5953be22-d3ea-4543-aac1-93f17b21d231",
   "metadata": {},
   "outputs": [
    {
     "data": {
      "text/plain": [
       "(10, 30, 40, 20, 50)"
      ]
     },
     "execution_count": 205,
     "metadata": {},
     "output_type": "execute_result"
    }
   ],
   "source": [
    "tuple4"
   ]
  },
  {
   "cell_type": "code",
   "execution_count": 206,
   "id": "ecfe4129-f00d-4e61-bee2-0052709b67ea",
   "metadata": {},
   "outputs": [
    {
     "data": {
      "text/plain": [
       "tuple"
      ]
     },
     "execution_count": 206,
     "metadata": {},
     "output_type": "execute_result"
    }
   ],
   "source": [
    "type(tuple4)"
   ]
  },
  {
   "cell_type": "code",
   "execution_count": 207,
   "id": "22099569-d7e1-4a3e-b9a9-d06697479dbd",
   "metadata": {},
   "outputs": [],
   "source": [
    "tuple4 = 'python'"
   ]
  },
  {
   "cell_type": "code",
   "execution_count": 208,
   "id": "7a54255b-3114-4aa3-b0ca-41fceaa1517e",
   "metadata": {},
   "outputs": [
    {
     "data": {
      "text/plain": [
       "'python'"
      ]
     },
     "execution_count": 208,
     "metadata": {},
     "output_type": "execute_result"
    }
   ],
   "source": [
    "tuple4"
   ]
  },
  {
   "cell_type": "code",
   "execution_count": 209,
   "id": "c1841193-e416-465e-9e9e-cc7b9c86e1be",
   "metadata": {},
   "outputs": [
    {
     "data": {
      "text/plain": [
       "str"
      ]
     },
     "execution_count": 209,
     "metadata": {},
     "output_type": "execute_result"
    }
   ],
   "source": [
    "type(tuple4)"
   ]
  },
  {
   "cell_type": "code",
   "execution_count": 210,
   "id": "884feebf-a869-4f7c-bf11-d6e37cf20cd8",
   "metadata": {},
   "outputs": [],
   "source": [
    "tuple4 = 'python', "
   ]
  },
  {
   "cell_type": "code",
   "execution_count": 211,
   "id": "96b2d211-2966-4143-8c53-ad61c3d57eb3",
   "metadata": {},
   "outputs": [
    {
     "data": {
      "text/plain": [
       "('python',)"
      ]
     },
     "execution_count": 211,
     "metadata": {},
     "output_type": "execute_result"
    }
   ],
   "source": [
    "tuple4"
   ]
  },
  {
   "cell_type": "code",
   "execution_count": 212,
   "id": "333a823c-2e5d-4738-b7d6-a7dcb99588ae",
   "metadata": {},
   "outputs": [
    {
     "data": {
      "text/plain": [
       "tuple"
      ]
     },
     "execution_count": 212,
     "metadata": {},
     "output_type": "execute_result"
    }
   ],
   "source": [
    "type(tuple4)"
   ]
  },
  {
   "cell_type": "markdown",
   "id": "c8959c84-513d-4ce1-888d-e910c83e19a3",
   "metadata": {},
   "source": [
    "# Add two tuple"
   ]
  },
  {
   "cell_type": "markdown",
   "id": "ec0754f1-ad01-4deb-adc2-0b78affc7928",
   "metadata": {},
   "source": [
    "# Concatenation of tuple"
   ]
  },
  {
   "cell_type": "code",
   "execution_count": 213,
   "id": "fdc16239-9bc5-48c6-a427-edaed8ae8d6e",
   "metadata": {},
   "outputs": [
    {
     "data": {
      "text/plain": [
       "('python',)"
      ]
     },
     "execution_count": 213,
     "metadata": {},
     "output_type": "execute_result"
    }
   ],
   "source": [
    "tuple3\n",
    "tuple4"
   ]
  },
  {
   "cell_type": "code",
   "execution_count": 214,
   "id": "f2f88e03-7a6b-4099-b706-1fe0e2a8a495",
   "metadata": {},
   "outputs": [
    {
     "name": "stdout",
     "output_type": "stream",
     "text": [
      "['python', 34, 23, 12]\n",
      "('python',)\n"
     ]
    }
   ],
   "source": [
    "print(tuple3)\n",
    "print(tuple4)"
   ]
  },
  {
   "cell_type": "code",
   "execution_count": 215,
   "id": "a93746e2-1ccb-493b-8bba-fd3d3d2c3de0",
   "metadata": {},
   "outputs": [
    {
     "ename": "TypeError",
     "evalue": "can only concatenate list (not \"tuple\") to list",
     "output_type": "error",
     "traceback": [
      "\u001b[1;31m---------------------------------------------------------------------------\u001b[0m",
      "\u001b[1;31mTypeError\u001b[0m                                 Traceback (most recent call last)",
      "Cell \u001b[1;32mIn[215], line 1\u001b[0m\n\u001b[1;32m----> 1\u001b[0m \u001b[43mtuple3\u001b[49m\u001b[43m \u001b[49m\u001b[38;5;241;43m+\u001b[39;49m\u001b[43m \u001b[49m\u001b[43mtuple4\u001b[49m\n",
      "\u001b[1;31mTypeError\u001b[0m: can only concatenate list (not \"tuple\") to list"
     ]
    }
   ],
   "source": [
    "tuple3 + tuple4"
   ]
  },
  {
   "cell_type": "code",
   "execution_count": 216,
   "id": "a07258b7-ec1c-426d-aeed-98e54aa7e483",
   "metadata": {},
   "outputs": [
    {
     "name": "stdout",
     "output_type": "stream",
     "text": [
      "<class 'list'>\n",
      "<class 'tuple'>\n"
     ]
    }
   ],
   "source": [
    "print(type(tuple3))\n",
    "print(type(tuple4))"
   ]
  },
  {
   "cell_type": "code",
   "execution_count": 217,
   "id": "02a5dc1a-48db-48e8-9987-f924f08e320d",
   "metadata": {},
   "outputs": [],
   "source": [
    "tuple3 = tuple(l)"
   ]
  },
  {
   "cell_type": "code",
   "execution_count": 218,
   "id": "adbb3937-7fd2-454f-a0a2-639df1a9b961",
   "metadata": {},
   "outputs": [
    {
     "data": {
      "text/plain": [
       "('python', 23)"
      ]
     },
     "execution_count": 218,
     "metadata": {},
     "output_type": "execute_result"
    }
   ],
   "source": [
    "tuple3"
   ]
  },
  {
   "cell_type": "code",
   "execution_count": 219,
   "id": "f7cb381b-5875-4885-8664-a93198afb608",
   "metadata": {},
   "outputs": [
    {
     "name": "stdout",
     "output_type": "stream",
     "text": [
      "('python', 23)\n",
      "('python',)\n"
     ]
    }
   ],
   "source": [
    "print(tuple3)\n",
    "print(tuple4)"
   ]
  },
  {
   "cell_type": "code",
   "execution_count": 220,
   "id": "ecd4cadb-a41b-4c17-ae3d-d7ebc74bf27a",
   "metadata": {},
   "outputs": [
    {
     "name": "stdout",
     "output_type": "stream",
     "text": [
      "<class 'tuple'>\n",
      "<class 'tuple'>\n"
     ]
    }
   ],
   "source": [
    "print(type(tuple3))\n",
    "print(type(tuple4))"
   ]
  },
  {
   "cell_type": "code",
   "execution_count": 221,
   "id": "57e635d1-323d-499d-9629-ef637dad7f5f",
   "metadata": {},
   "outputs": [
    {
     "data": {
      "text/plain": [
       "('python', 23, 'python')"
      ]
     },
     "execution_count": 221,
     "metadata": {},
     "output_type": "execute_result"
    }
   ],
   "source": [
    "tuple3 + tuple4 "
   ]
  },
  {
   "cell_type": "markdown",
   "id": "81edb664-cf1d-4b91-bc78-df2037276f37",
   "metadata": {},
   "source": [
    "# Multiplication of tuple"
   ]
  },
  {
   "cell_type": "markdown",
   "id": "9badc828-1493-4aea-b595-befec233450d",
   "metadata": {},
   "source": [
    "### Must be numerical"
   ]
  },
  {
   "cell_type": "code",
   "execution_count": 239,
   "id": "fec42887-d671-4f85-8924-83c780e338a6",
   "metadata": {},
   "outputs": [
    {
     "data": {
      "text/plain": [
       "('ds', 'rony', 'nstu', 1, 2, 3, 4, 5, [10, 20, 30, 40], True)"
      ]
     },
     "execution_count": 239,
     "metadata": {},
     "output_type": "execute_result"
    }
   ],
   "source": [
    "tup1"
   ]
  },
  {
   "cell_type": "code",
   "execution_count": 240,
   "id": "57cedb05-f750-4032-86c6-a4e1262fd481",
   "metadata": {},
   "outputs": [],
   "source": [
    "tup1 = tup1 * 2"
   ]
  },
  {
   "cell_type": "code",
   "execution_count": 241,
   "id": "1d5d1e00-d0ab-413f-aa9d-d13a1589b804",
   "metadata": {},
   "outputs": [
    {
     "data": {
      "text/plain": [
       "('ds',\n",
       " 'rony',\n",
       " 'nstu',\n",
       " 1,\n",
       " 2,\n",
       " 3,\n",
       " 4,\n",
       " 5,\n",
       " [10, 20, 30, 40],\n",
       " True,\n",
       " 'ds',\n",
       " 'rony',\n",
       " 'nstu',\n",
       " 1,\n",
       " 2,\n",
       " 3,\n",
       " 4,\n",
       " 5,\n",
       " [10, 20, 30, 40],\n",
       " True)"
      ]
     },
     "execution_count": 241,
     "metadata": {},
     "output_type": "execute_result"
    }
   ],
   "source": [
    "tup1"
   ]
  },
  {
   "cell_type": "code",
   "execution_count": 245,
   "id": "52ca1ec7-5e2f-48df-8246-0abcb400b8d8",
   "metadata": {},
   "outputs": [],
   "source": [
    "tup1 = tup1 * 3   # 3 * 2 = 6, 6 times print"
   ]
  },
  {
   "cell_type": "code",
   "execution_count": 246,
   "id": "40096e4a-23b9-43a7-a986-b7564b16341b",
   "metadata": {},
   "outputs": [
    {
     "data": {
      "text/plain": [
       "('ds',\n",
       " 'rony',\n",
       " 'nstu',\n",
       " 1,\n",
       " 2,\n",
       " 3,\n",
       " 4,\n",
       " 5,\n",
       " [10, 20, 30, 40],\n",
       " True,\n",
       " 'ds',\n",
       " 'rony',\n",
       " 'nstu',\n",
       " 1,\n",
       " 2,\n",
       " 3,\n",
       " 4,\n",
       " 5,\n",
       " [10, 20, 30, 40],\n",
       " True,\n",
       " 'ds',\n",
       " 'rony',\n",
       " 'nstu',\n",
       " 1,\n",
       " 2,\n",
       " 3,\n",
       " 4,\n",
       " 5,\n",
       " [10, 20, 30, 40],\n",
       " True,\n",
       " 'ds',\n",
       " 'rony',\n",
       " 'nstu',\n",
       " 1,\n",
       " 2,\n",
       " 3,\n",
       " 4,\n",
       " 5,\n",
       " [10, 20, 30, 40],\n",
       " True,\n",
       " 'ds',\n",
       " 'rony',\n",
       " 'nstu',\n",
       " 1,\n",
       " 2,\n",
       " 3,\n",
       " 4,\n",
       " 5,\n",
       " [10, 20, 30, 40],\n",
       " True,\n",
       " 'ds',\n",
       " 'rony',\n",
       " 'nstu',\n",
       " 1,\n",
       " 2,\n",
       " 3,\n",
       " 4,\n",
       " 5,\n",
       " [10, 20, 30, 40],\n",
       " True,\n",
       " 'ds',\n",
       " 'rony',\n",
       " 'nstu',\n",
       " 1,\n",
       " 2,\n",
       " 3,\n",
       " 4,\n",
       " 5,\n",
       " [10, 20, 30, 40],\n",
       " True,\n",
       " 'ds',\n",
       " 'rony',\n",
       " 'nstu',\n",
       " 1,\n",
       " 2,\n",
       " 3,\n",
       " 4,\n",
       " 5,\n",
       " [10, 20, 30, 40],\n",
       " True,\n",
       " 'ds',\n",
       " 'rony',\n",
       " 'nstu',\n",
       " 1,\n",
       " 2,\n",
       " 3,\n",
       " 4,\n",
       " 5,\n",
       " [10, 20, 30, 40],\n",
       " True,\n",
       " 'ds',\n",
       " 'rony',\n",
       " 'nstu',\n",
       " 1,\n",
       " 2,\n",
       " 3,\n",
       " 4,\n",
       " 5,\n",
       " [10, 20, 30, 40],\n",
       " True,\n",
       " 'ds',\n",
       " 'rony',\n",
       " 'nstu',\n",
       " 1,\n",
       " 2,\n",
       " 3,\n",
       " 4,\n",
       " 5,\n",
       " [10, 20, 30, 40],\n",
       " True,\n",
       " 'ds',\n",
       " 'rony',\n",
       " 'nstu',\n",
       " 1,\n",
       " 2,\n",
       " 3,\n",
       " 4,\n",
       " 5,\n",
       " [10, 20, 30, 40],\n",
       " True,\n",
       " 'ds',\n",
       " 'rony',\n",
       " 'nstu',\n",
       " 1,\n",
       " 2,\n",
       " 3,\n",
       " 4,\n",
       " 5,\n",
       " [10, 20, 30, 40],\n",
       " True,\n",
       " 'ds',\n",
       " 'rony',\n",
       " 'nstu',\n",
       " 1,\n",
       " 2,\n",
       " 3,\n",
       " 4,\n",
       " 5,\n",
       " [10, 20, 30, 40],\n",
       " True,\n",
       " 'ds',\n",
       " 'rony',\n",
       " 'nstu',\n",
       " 1,\n",
       " 2,\n",
       " 3,\n",
       " 4,\n",
       " 5,\n",
       " [10, 20, 30, 40],\n",
       " True,\n",
       " 'ds',\n",
       " 'rony',\n",
       " 'nstu',\n",
       " 1,\n",
       " 2,\n",
       " 3,\n",
       " 4,\n",
       " 5,\n",
       " [10, 20, 30, 40],\n",
       " True,\n",
       " 'ds',\n",
       " 'rony',\n",
       " 'nstu',\n",
       " 1,\n",
       " 2,\n",
       " 3,\n",
       " 4,\n",
       " 5,\n",
       " [10, 20, 30, 40],\n",
       " True,\n",
       " 'ds',\n",
       " 'rony',\n",
       " 'nstu',\n",
       " 1,\n",
       " 2,\n",
       " 3,\n",
       " 4,\n",
       " 5,\n",
       " [10, 20, 30, 40],\n",
       " True)"
      ]
     },
     "execution_count": 246,
     "metadata": {},
     "output_type": "execute_result"
    }
   ],
   "source": [
    "tup1"
   ]
  },
  {
   "cell_type": "markdown",
   "id": "310dcb76-8a8d-4f67-839d-11827aadfeb8",
   "metadata": {},
   "source": [
    "# Use of tuple method"
   ]
  },
  {
   "cell_type": "markdown",
   "id": "b1ad00bc-b79e-4f3f-b2b3-0ce1348063d0",
   "metadata": {},
   "source": [
    "## count()"
   ]
  },
  {
   "cell_type": "code",
   "execution_count": 249,
   "id": "afbf1482-decb-42d9-9dcb-504025889409",
   "metadata": {},
   "outputs": [
    {
     "data": {
      "text/plain": [
       "18"
      ]
     },
     "execution_count": 249,
     "metadata": {},
     "output_type": "execute_result"
    }
   ],
   "source": [
    "tup1.count('ds')"
   ]
  },
  {
   "cell_type": "markdown",
   "id": "fe804961-842b-491f-a345-db98e5f9a120",
   "metadata": {},
   "source": [
    "## index()"
   ]
  },
  {
   "cell_type": "code",
   "execution_count": 254,
   "id": "73548fac-6b9e-46c2-985a-3739db94e557",
   "metadata": {},
   "outputs": [
    {
     "data": {
      "text/plain": [
       "2"
      ]
     },
     "execution_count": 254,
     "metadata": {},
     "output_type": "execute_result"
    }
   ],
   "source": [
    "tup1.index('nstu') # find out the index of value nstu, but it will only take the first nstu"
   ]
  },
  {
   "cell_type": "markdown",
   "id": "3eaabbb0-2a7a-4bd9-974c-a324a6608453",
   "metadata": {},
   "source": [
    "# Membership"
   ]
  },
  {
   "cell_type": "code",
   "execution_count": 259,
   "id": "1e893d0e-e086-4710-9b68-87f7b2c07f2e",
   "metadata": {},
   "outputs": [
    {
     "data": {
      "text/plain": [
       "True"
      ]
     },
     "execution_count": 259,
     "metadata": {},
     "output_type": "execute_result"
    }
   ],
   "source": [
    "'python' in  tuple4"
   ]
  },
  {
   "cell_type": "code",
   "execution_count": 260,
   "id": "4d44c94d-4e1c-47f8-89ba-63cb22a26429",
   "metadata": {},
   "outputs": [],
   "source": [
    "# l10 = [10, 20, 30]\n",
    "# print(l10)\n",
    "# 30 in l10\n",
    "# for list membership"
   ]
  },
  {
   "cell_type": "code",
   "execution_count": 262,
   "id": "1d985159-30fd-4f3e-ae0a-e1db9e60d218",
   "metadata": {},
   "outputs": [
    {
     "data": {
      "text/plain": [
       "False"
      ]
     },
     "execution_count": 262,
     "metadata": {},
     "output_type": "execute_result"
    }
   ],
   "source": [
    "'c++' in tuple4"
   ]
  },
  {
   "cell_type": "markdown",
   "id": "d6b6f054-56d0-4f47-ab4c-3f50053c938c",
   "metadata": {},
   "source": [
    "# Delete the index of tuple"
   ]
  },
  {
   "cell_type": "markdown",
   "id": "48a98030-d799-4a9b-a221-20f3534e0aab",
   "metadata": {},
   "source": [
    "## Can’t delete a particular item, have to delete the whole item."
   ]
  },
  {
   "cell_type": "code",
   "execution_count": 268,
   "id": "2585fa83-1387-47d0-baf7-533d025f527e",
   "metadata": {},
   "outputs": [],
   "source": [
    "t5 = (34, 67, 89, 83, 91, 1)"
   ]
  },
  {
   "cell_type": "code",
   "execution_count": 269,
   "id": "bfbd8959-0b1d-49bc-bd94-f6986af15dd1",
   "metadata": {},
   "outputs": [
    {
     "data": {
      "text/plain": [
       "(34, 67, 89, 83, 91, 1)"
      ]
     },
     "execution_count": 269,
     "metadata": {},
     "output_type": "execute_result"
    }
   ],
   "source": [
    "t5"
   ]
  },
  {
   "cell_type": "code",
   "execution_count": 270,
   "id": "9485b3c7-1251-4525-b209-0b88d322cfa8",
   "metadata": {},
   "outputs": [
    {
     "ename": "TypeError",
     "evalue": "'tuple' object doesn't support item deletion",
     "output_type": "error",
     "traceback": [
      "\u001b[1;31m---------------------------------------------------------------------------\u001b[0m",
      "\u001b[1;31mTypeError\u001b[0m                                 Traceback (most recent call last)",
      "Cell \u001b[1;32mIn[270], line 1\u001b[0m\n\u001b[1;32m----> 1\u001b[0m \u001b[38;5;28;01mdel\u001b[39;00m \u001b[43mt5\u001b[49m\u001b[43m[\u001b[49m\u001b[38;5;241;43m0\u001b[39;49m\u001b[43m]\u001b[49m\n",
      "\u001b[1;31mTypeError\u001b[0m: 'tuple' object doesn't support item deletion"
     ]
    }
   ],
   "source": [
    "del t5[0]"
   ]
  },
  {
   "cell_type": "code",
   "execution_count": 271,
   "id": "92aa6ca3-d5d9-4123-9697-f576cd20a8d4",
   "metadata": {},
   "outputs": [],
   "source": [
    "del t5"
   ]
  },
  {
   "cell_type": "code",
   "execution_count": 273,
   "id": "4d4c7036-36b5-4152-a8de-ba3cbead8ab6",
   "metadata": {},
   "outputs": [
    {
     "ename": "NameError",
     "evalue": "name 't5' is not defined",
     "output_type": "error",
     "traceback": [
      "\u001b[1;31m---------------------------------------------------------------------------\u001b[0m",
      "\u001b[1;31mNameError\u001b[0m                                 Traceback (most recent call last)",
      "Cell \u001b[1;32mIn[273], line 1\u001b[0m\n\u001b[1;32m----> 1\u001b[0m \u001b[43mt5\u001b[49m \u001b[38;5;66;03m# that means deleted\u001b[39;00m\n",
      "\u001b[1;31mNameError\u001b[0m: name 't5' is not defined"
     ]
    }
   ],
   "source": [
    "t5 # that means deleted"
   ]
  },
  {
   "cell_type": "markdown",
   "id": "a442e772-40ca-4f8a-9372-1845f4e84fef",
   "metadata": {},
   "source": [
    "# Tuple is immutable"
   ]
  },
  {
   "cell_type": "code",
   "execution_count": 274,
   "id": "1e25de9a-3ff5-4cc6-81eb-af5fadbf5f91",
   "metadata": {},
   "outputs": [],
   "source": [
    "t5 = (34, 67, 89, 83, 91, 1)"
   ]
  },
  {
   "cell_type": "code",
   "execution_count": 276,
   "id": "8b89e008-041d-48ea-bf04-1a157e47627a",
   "metadata": {},
   "outputs": [
    {
     "ename": "TypeError",
     "evalue": "'tuple' object does not support item assignment",
     "output_type": "error",
     "traceback": [
      "\u001b[1;31m---------------------------------------------------------------------------\u001b[0m",
      "\u001b[1;31mTypeError\u001b[0m                                 Traceback (most recent call last)",
      "Cell \u001b[1;32mIn[276], line 1\u001b[0m\n\u001b[1;32m----> 1\u001b[0m \u001b[43mt5\u001b[49m\u001b[43m[\u001b[49m\u001b[38;5;241;43m0\u001b[39;49m\u001b[43m]\u001b[49m \u001b[38;5;241m=\u001b[39m \u001b[38;5;241m1\u001b[39m \u001b[38;5;66;03m# so, it is deleted\u001b[39;00m\n",
      "\u001b[1;31mTypeError\u001b[0m: 'tuple' object does not support item assignment"
     ]
    }
   ],
   "source": [
    "t5[0] = 1 # so, it is deleted"
   ]
  },
  {
   "cell_type": "markdown",
   "id": "4e3a7f73-b7cc-4eaa-aa46-d2cf42df5063",
   "metadata": {},
   "source": [
    " # Iteration"
   ]
  },
  {
   "cell_type": "code",
   "execution_count": 277,
   "id": "bf7ecc14-c206-4859-a156-b82abab5c4a7",
   "metadata": {},
   "outputs": [],
   "source": [
    "t1 = (32, 45, 65, 67, 9, 7)"
   ]
  },
  {
   "cell_type": "code",
   "execution_count": 278,
   "id": "33d61b67-6db4-4916-97c8-d55a330089d2",
   "metadata": {},
   "outputs": [
    {
     "data": {
      "text/plain": [
       "(32, 45, 65, 67, 9, 7)"
      ]
     },
     "execution_count": 278,
     "metadata": {},
     "output_type": "execute_result"
    }
   ],
   "source": [
    "t1"
   ]
  },
  {
   "cell_type": "code",
   "execution_count": 279,
   "id": "3bb8e48a-5870-487a-877c-ab0137238741",
   "metadata": {},
   "outputs": [
    {
     "name": "stdout",
     "output_type": "stream",
     "text": [
      "32\n",
      "45\n",
      "65\n",
      "67\n",
      "9\n",
      "7\n"
     ]
    }
   ],
   "source": [
    "for i in t1:\n",
    "    print(i)"
   ]
  },
  {
   "cell_type": "code",
   "execution_count": 282,
   "id": "6e82d783-4cae-4563-9e85-2576d4fa4aae",
   "metadata": {},
   "outputs": [
    {
     "data": {
      "text/plain": [
       "6"
      ]
     },
     "execution_count": 282,
     "metadata": {},
     "output_type": "execute_result"
    }
   ],
   "source": [
    "len(t1)"
   ]
  },
  {
   "cell_type": "code",
   "execution_count": 286,
   "id": "5e78293c-5ebe-4334-870c-5d2d0a5e3314",
   "metadata": {},
   "outputs": [
    {
     "name": "stdout",
     "output_type": "stream",
     "text": [
      "32\n",
      "45\n",
      "65\n",
      "67\n",
      "9\n",
      "7\n"
     ]
    }
   ],
   "source": [
    "for i in range(len(t1)):\n",
    "    print(t1[i])"
   ]
  },
  {
   "cell_type": "markdown",
   "id": "18b02f01-a9de-479f-a0e6-d7f4458ec6e7",
   "metadata": {},
   "source": [
    "# Tuple is faster than list"
   ]
  },
  {
   "cell_type": "code",
   "execution_count": 292,
   "id": "216f4c19-d1e0-4350-b3d2-cb721f7c9790",
   "metadata": {},
   "outputs": [
    {
     "name": "stdout",
     "output_type": "stream",
     "text": [
      "1\n",
      "100\n",
      "True\n",
      "study mart\n",
      "data science\n",
      "FAU\n",
      "(1, 4, 10)\n",
      "[10, 5]\n"
     ]
    }
   ],
   "source": [
    "tuple2 = (1, 100, True, 'study mart', 'data science', 'FAU', (1, 4, 10), [10, 5])\n",
    "\n",
    "for i in range(len(tuple2)):\n",
    "    print(tuple2[i])"
   ]
  },
  {
   "cell_type": "code",
   "execution_count": 293,
   "id": "4b17fc09-7e26-484e-b1b5-4f3715d20bc6",
   "metadata": {},
   "outputs": [
    {
     "data": {
      "text/plain": [
       "(1, 4, 10)"
      ]
     },
     "execution_count": 293,
     "metadata": {},
     "output_type": "execute_result"
    }
   ],
   "source": [
    "tuple2[-2]"
   ]
  },
  {
   "cell_type": "code",
   "execution_count": 295,
   "id": "44b49b0d-6e32-4ff9-9295-15b948cef31e",
   "metadata": {},
   "outputs": [
    {
     "data": {
      "text/plain": [
       "1"
      ]
     },
     "execution_count": 295,
     "metadata": {},
     "output_type": "execute_result"
    }
   ],
   "source": [
    "tuple2[-2][0]"
   ]
  }
 ],
 "metadata": {
  "kernelspec": {
   "display_name": "Python 3 (ipykernel)",
   "language": "python",
   "name": "python3"
  },
  "language_info": {
   "codemirror_mode": {
    "name": "ipython",
    "version": 3
   },
   "file_extension": ".py",
   "mimetype": "text/x-python",
   "name": "python",
   "nbconvert_exporter": "python",
   "pygments_lexer": "ipython3",
   "version": "3.12.4"
  },
  "widgets": {
   "application/vnd.jupyter.widget-state+json": {
    "state": {},
    "version_major": 2,
    "version_minor": 0
   }
  }
 },
 "nbformat": 4,
 "nbformat_minor": 5
}
