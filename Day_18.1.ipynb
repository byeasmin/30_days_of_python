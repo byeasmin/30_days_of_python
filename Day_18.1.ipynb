{
 "cells": [
  {
   "cell_type": "markdown",
   "id": "6a943440-f30c-421f-9d59-daaa8e8ccdbe",
   "metadata": {},
   "source": [
    "# https://github.com/byeasmin/30_days_of_python"
   ]
  },
  {
   "cell_type": "markdown",
   "id": "05cb72a8-ae46-4a01-a8fb-555d2ec01348",
   "metadata": {},
   "source": [
    "# Return Type"
   ]
  },
  {
   "cell_type": "markdown",
   "id": "ba65f02f-f40f-413a-bd34-7e3ab489c65a",
   "metadata": {},
   "source": [
    "# Type: 01"
   ]
  },
  {
   "cell_type": "code",
   "execution_count": 14,
   "id": "201e4f1c-1139-48de-8eed-ff79f8db3a04",
   "metadata": {},
   "outputs": [],
   "source": [
    "def user_input():\n",
    "    x1 = int(input())\n",
    "    x2 = int(input())\n",
    "    y1 = int(input())\n",
    "    y2 = int(input())\n",
    "\n",
    "    return x1, x2"
   ]
  },
  {
   "cell_type": "code",
   "execution_count": 15,
   "id": "c2ba06cc-f4aa-45f4-a550-3e0be6b8b8fc",
   "metadata": {},
   "outputs": [
    {
     "name": "stdin",
     "output_type": "stream",
     "text": [
      " 2\n",
      " 3\n",
      " 4\n",
      " 5\n"
     ]
    },
    {
     "data": {
      "text/plain": [
       "(2, 3)"
      ]
     },
     "execution_count": 15,
     "metadata": {},
     "output_type": "execute_result"
    }
   ],
   "source": [
    "user_input()"
   ]
  },
  {
   "cell_type": "markdown",
   "id": "354a63fb-f2a5-4fdc-b420-d6736706684a",
   "metadata": {},
   "source": [
    "# Type: 02"
   ]
  },
  {
   "cell_type": "code",
   "execution_count": 18,
   "id": "19cab420-92b2-42f5-91eb-44180a07ad0f",
   "metadata": {},
   "outputs": [],
   "source": [
    "def user_input():\n",
    "    x1 = int(input())\n",
    "    x2 = int(input())\n",
    "    y1 = int(input())\n",
    "    y2 = int(input())\n",
    "\n",
    "    return x1, x2, y1, y2"
   ]
  },
  {
   "cell_type": "code",
   "execution_count": 19,
   "id": "ac40e014-4767-4f0e-9f8f-432258086f63",
   "metadata": {},
   "outputs": [
    {
     "name": "stdin",
     "output_type": "stream",
     "text": [
      " 1\n",
      " 2\n",
      " 3\n",
      " 4\n"
     ]
    },
    {
     "data": {
      "text/plain": [
       "(1, 2, 3, 4)"
      ]
     },
     "execution_count": 19,
     "metadata": {},
     "output_type": "execute_result"
    }
   ],
   "source": [
    "user_input()"
   ]
  },
  {
   "cell_type": "markdown",
   "id": "0a639791-86af-4358-a953-8df973a2f7f0",
   "metadata": {},
   "source": [
    "# Type: 03"
   ]
  },
  {
   "cell_type": "code",
   "execution_count": 22,
   "id": "d00b39f0-cb74-4974-abd7-82f611fdd9c8",
   "metadata": {},
   "outputs": [],
   "source": [
    "def user_input():\n",
    "    x1 = int(input())\n",
    "    x2 = int(input())\n",
    "    y1 = int(input())\n",
    "    y2 = int(input())\n",
    "\n",
    "    return (x1, y1), (x2, y2)"
   ]
  },
  {
   "cell_type": "code",
   "execution_count": 23,
   "id": "5a26d301-da4b-4136-ba34-eb28c96d75ca",
   "metadata": {},
   "outputs": [
    {
     "name": "stdin",
     "output_type": "stream",
     "text": [
      " 11\n",
      " 12\n",
      " 13\n",
      " 14\n"
     ]
    },
    {
     "data": {
      "text/plain": [
       "((11, 13), (12, 14))"
      ]
     },
     "execution_count": 23,
     "metadata": {},
     "output_type": "execute_result"
    }
   ],
   "source": [
    "user_input()"
   ]
  },
  {
   "cell_type": "markdown",
   "id": "030f7302-8c75-45b3-bfda-82b5b55408ad",
   "metadata": {},
   "source": [
    "# Type: 04"
   ]
  },
  {
   "cell_type": "code",
   "execution_count": 24,
   "id": "86ab43d4-ed02-4bd2-8ce8-cf4ed220e613",
   "metadata": {},
   "outputs": [],
   "source": [
    "def user_input():\n",
    "    x1 = int(input())\n",
    "    x2 = int(input())\n",
    "    y1 = int(input())\n",
    "    y2 = int(input())\n",
    "\n",
    "    return (x1, y1), (x2, y2)"
   ]
  },
  {
   "cell_type": "code",
   "execution_count": 25,
   "id": "3259543e-ba4a-430d-a07a-5261cce2ad3e",
   "metadata": {},
   "outputs": [
    {
     "name": "stdin",
     "output_type": "stream",
     "text": [
      " 11\n",
      " 12\n",
      " 13\n",
      " 14\n"
     ]
    }
   ],
   "source": [
    "r1, r2 = user_input()"
   ]
  },
  {
   "cell_type": "code",
   "execution_count": 26,
   "id": "8edb8815-fe26-40ab-9ac6-f42243591333",
   "metadata": {},
   "outputs": [
    {
     "data": {
      "text/plain": [
       "(11, 13)"
      ]
     },
     "execution_count": 26,
     "metadata": {},
     "output_type": "execute_result"
    }
   ],
   "source": [
    "r1"
   ]
  },
  {
   "cell_type": "code",
   "execution_count": 27,
   "id": "e393d449-fc4f-4862-9dc5-1d989b07d96e",
   "metadata": {},
   "outputs": [
    {
     "data": {
      "text/plain": [
       "(12, 14)"
      ]
     },
     "execution_count": 27,
     "metadata": {},
     "output_type": "execute_result"
    }
   ],
   "source": [
    "r2"
   ]
  },
  {
   "cell_type": "markdown",
   "id": "89d0feb4-862c-44a7-865e-35794bb603db",
   "metadata": {},
   "source": [
    "# Type: 05"
   ]
  },
  {
   "cell_type": "code",
   "execution_count": 28,
   "id": "55f0b45f-032a-4567-800d-a8661c0089fd",
   "metadata": {},
   "outputs": [],
   "source": [
    "def user_input():\n",
    "    x1 = int(input())\n",
    "    x2 = int(input())\n",
    "    y1 = int(input())\n",
    "    y2 = int(input())\n",
    "\n",
    "    return (x1, y1), (x2, y2)"
   ]
  },
  {
   "cell_type": "code",
   "execution_count": 29,
   "id": "1e0a9ac5-71f1-4900-bff2-65348b9a7943",
   "metadata": {},
   "outputs": [
    {
     "name": "stdin",
     "output_type": "stream",
     "text": [
      " 1\n",
      " 2\n",
      " 3\n",
      " 4\n"
     ]
    }
   ],
   "source": [
    "r1, _ = user_input()"
   ]
  },
  {
   "cell_type": "code",
   "execution_count": 30,
   "id": "f570ba36-bb77-4197-989e-7ae2b49ab96a",
   "metadata": {},
   "outputs": [
    {
     "data": {
      "text/plain": [
       "(1, 3)"
      ]
     },
     "execution_count": 30,
     "metadata": {},
     "output_type": "execute_result"
    }
   ],
   "source": [
    "r1"
   ]
  },
  {
   "cell_type": "code",
   "execution_count": 31,
   "id": "fb02a386-b85a-4a73-9f29-cce378d77859",
   "metadata": {},
   "outputs": [
    {
     "data": {
      "text/plain": [
       "(12, 14)"
      ]
     },
     "execution_count": 31,
     "metadata": {},
     "output_type": "execute_result"
    }
   ],
   "source": [
    "r2 "
   ]
  },
  {
   "cell_type": "markdown",
   "id": "dedd5c14-6866-4bf8-a971-91b10277b115",
   "metadata": {},
   "source": [
    "# Type: 06"
   ]
  },
  {
   "cell_type": "code",
   "execution_count": 32,
   "id": "45d3bd40-d44f-4cbd-a7f8-fef36165fe15",
   "metadata": {},
   "outputs": [],
   "source": [
    "def user_input():\n",
    "    x1 = int(input())\n",
    "    x2 = int(input())\n",
    "    y1 = int(input())\n",
    "    y2 = int(input())\n",
    "\n",
    "    return (x1, y1), (x2, y2)"
   ]
  },
  {
   "cell_type": "code",
   "execution_count": 33,
   "id": "5fbe0ab1-8165-45ce-95f4-b3d45d003dbb",
   "metadata": {},
   "outputs": [
    {
     "name": "stdin",
     "output_type": "stream",
     "text": [
      " 11\n",
      " 12\n",
      " 13\n",
      " 14\n"
     ]
    }
   ],
   "source": [
    "r1 = user_input()"
   ]
  },
  {
   "cell_type": "code",
   "execution_count": 34,
   "id": "8bc56734-096b-4383-80d0-a0289417ca3f",
   "metadata": {},
   "outputs": [
    {
     "data": {
      "text/plain": [
       "((11, 13), (12, 14))"
      ]
     },
     "execution_count": 34,
     "metadata": {},
     "output_type": "execute_result"
    }
   ],
   "source": [
    "r1"
   ]
  },
  {
   "cell_type": "code",
   "execution_count": 38,
   "id": "2d2126d7-5797-4e80-a39e-be0a70eb817e",
   "metadata": {},
   "outputs": [],
   "source": [
    "def sq_and_cube(x):\n",
    "    sq = x ** 2\n",
    "    cube = x ** 3\n",
    "    return sq, cube"
   ]
  },
  {
   "cell_type": "code",
   "execution_count": 39,
   "id": "8ee7f8e0-a5fa-4491-843f-34131dd8ef5f",
   "metadata": {},
   "outputs": [
    {
     "data": {
      "text/plain": [
       "(9, 27)"
      ]
     },
     "execution_count": 39,
     "metadata": {},
     "output_type": "execute_result"
    }
   ],
   "source": [
    "sq_and_cube(3)"
   ]
  },
  {
   "cell_type": "code",
   "execution_count": 40,
   "id": "f3316ca3-e728-4af5-be4c-fd5b623e3729",
   "metadata": {},
   "outputs": [
    {
     "data": {
      "text/plain": [
       "(25, 125)"
      ]
     },
     "execution_count": 40,
     "metadata": {},
     "output_type": "execute_result"
    }
   ],
   "source": [
    "sq_and_cube(5)"
   ]
  }
 ],
 "metadata": {
  "kernelspec": {
   "display_name": "Python 3 (ipykernel)",
   "language": "python",
   "name": "python3"
  },
  "language_info": {
   "codemirror_mode": {
    "name": "ipython",
    "version": 3
   },
   "file_extension": ".py",
   "mimetype": "text/x-python",
   "name": "python",
   "nbconvert_exporter": "python",
   "pygments_lexer": "ipython3",
   "version": "3.12.4"
  },
  "widgets": {
   "application/vnd.jupyter.widget-state+json": {
    "state": {},
    "version_major": 2,
    "version_minor": 0
   }
  }
 },
 "nbformat": 4,
 "nbformat_minor": 5
}
