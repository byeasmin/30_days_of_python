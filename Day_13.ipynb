{
 "cells": [
  {
   "cell_type": "markdown",
   "id": "f2ff8920-ae71-46f3-9e5c-fabb4455eaae",
   "metadata": {},
   "source": [
    "# https://github.com/byeasmin/30_days_of_python"
   ]
  },
  {
   "cell_type": "markdown",
   "id": "55f9690c-e580-458a-8368-3ee4d54a5a73",
   "metadata": {},
   "source": [
    "# Search Text/Replace Text in file"
   ]
  },
  {
   "cell_type": "markdown",
   "id": "12a1b129-54e7-4ad2-8bda-904fbb3270c8",
   "metadata": {},
   "source": [
    "## Manual method"
   ]
  },
  {
   "cell_type": "code",
   "execution_count": 3,
   "id": "a8ffd8b2-bef0-476f-9807-7c4e7fc312bf",
   "metadata": {},
   "outputs": [],
   "source": [
    "search_word = 'Python'\n",
    "replace_word = 'Data Science'\n",
    "\n",
    "with open(r'text_file.txt', 'r') as file:\n",
    "    data = file.read()\n",
    "    data = data.replace(search_word, replace_word)"
   ]
  },
  {
   "cell_type": "code",
   "execution_count": 4,
   "id": "96d4b7ae-f38f-40a2-b3fa-0e37568ae377",
   "metadata": {},
   "outputs": [],
   "source": [
    "with open(r'text_file.txt', 'w') as file:\n",
    "    file.write(data)"
   ]
  },
  {
   "cell_type": "markdown",
   "id": "a2f39688-fe77-48eb-ad80-64a4bcf0de64",
   "metadata": {},
   "source": [
    "## Direct Method"
   ]
  },
  {
   "cell_type": "code",
   "execution_count": 5,
   "id": "5cd83281-1aa4-41bf-be62-510f4c91c1c2",
   "metadata": {},
   "outputs": [],
   "source": [
    "text = 'I Love Data Science'"
   ]
  },
  {
   "cell_type": "code",
   "execution_count": 6,
   "id": "d9e04c26-dd5b-4f32-b904-a2a7e7358083",
   "metadata": {},
   "outputs": [],
   "source": [
    "import re"
   ]
  },
  {
   "cell_type": "code",
   "execution_count": 8,
   "id": "0d1c5a1c-5ebf-402f-a523-8a463ef6205a",
   "metadata": {},
   "outputs": [
    {
     "data": {
      "text/plain": [
       "'I Love Python'"
      ]
     },
     "execution_count": 8,
     "metadata": {},
     "output_type": "execute_result"
    }
   ],
   "source": [
    "re.sub(replace_word, search_word, text)"
   ]
  }
 ],
 "metadata": {
  "kernelspec": {
   "display_name": "Python 3 (ipykernel)",
   "language": "python",
   "name": "python3"
  },
  "language_info": {
   "codemirror_mode": {
    "name": "ipython",
    "version": 3
   },
   "file_extension": ".py",
   "mimetype": "text/x-python",
   "name": "python",
   "nbconvert_exporter": "python",
   "pygments_lexer": "ipython3",
   "version": "3.12.4"
  },
  "widgets": {
   "application/vnd.jupyter.widget-state+json": {
    "state": {},
    "version_major": 2,
    "version_minor": 0
   }
  }
 },
 "nbformat": 4,
 "nbformat_minor": 5
}
