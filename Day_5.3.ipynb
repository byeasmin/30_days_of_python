{
 "cells": [
  {
   "cell_type": "markdown",
   "id": "f37eb43b-1488-47bb-bc67-6f62a31f71ac",
   "metadata": {
    "jp-MarkdownHeadingCollapsed": true
   },
   "source": [
    "# https://github.com/byeasmin/30_days_of_python"
   ]
  },
  {
   "cell_type": "markdown",
   "id": "905df9f3-2a5b-42e8-9033-6fe8767a08c8",
   "metadata": {},
   "source": [
    "# Nested loop"
   ]
  },
  {
   "cell_type": "code",
   "execution_count": 21,
   "id": "bcaf9906-d1c8-4db4-8d3d-fbfe49a3b5b6",
   "metadata": {},
   "outputs": [],
   "source": [
    "# '''\n",
    "# print a pattern..\n",
    "\n",
    "# * * * *\n",
    "# * * * *\n",
    "# * * * *\n",
    "# * * * *\n",
    "# * * * *\n",
    "# '''"
   ]
  },
  {
   "cell_type": "code",
   "execution_count": 22,
   "id": "75af47a2-3ef5-4fca-8fb6-4198257521df",
   "metadata": {},
   "outputs": [],
   "source": [
    "# while loop - initialization\n",
    "#            - condition check\n",
    "#            - increment / decrement"
   ]
  },
  {
   "cell_type": "markdown",
   "id": "45062024-9104-4c61-ade9-bdcab7756109",
   "metadata": {},
   "source": [
    "### Using while loop"
   ]
  },
  {
   "cell_type": "code",
   "execution_count": 4,
   "id": "63c64ed7-ad48-4619-a6fe-68399c446d57",
   "metadata": {},
   "outputs": [
    {
     "name": "stdout",
     "output_type": "stream",
     "text": [
      "* * * * \n",
      "* * * * \n",
      "* * * * \n",
      "* * * * \n",
      "* * * * \n"
     ]
    }
   ],
   "source": [
    "i = 1\n",
    "while i <= 5:\n",
    "    j = 1\n",
    "    while j <=4:\n",
    "        print('*', end = ' ')\n",
    "        j += 1\n",
    "    print()   \n",
    "    i += 1\n",
    "    # print()   "
   ]
  },
  {
   "cell_type": "code",
   "execution_count": 5,
   "id": "524f67a8-a436-420b-9ed8-de5f8c506496",
   "metadata": {},
   "outputs": [],
   "source": [
    "# using this in for loop\n",
    "# doesn't need to declare or initialization or increment or decrement"
   ]
  },
  {
   "cell_type": "markdown",
   "id": "b0278ef5-d18f-482b-8145-60ec2ce24dd9",
   "metadata": {},
   "source": [
    "### Using for loop"
   ]
  },
  {
   "cell_type": "code",
   "execution_count": 6,
   "id": "e1956f96-17ba-498f-8583-6eef2ff58534",
   "metadata": {},
   "outputs": [
    {
     "name": "stdin",
     "output_type": "stream",
     "text": [
      "Enter the number of rows :  5\n",
      "Enter the number of coloumns :  4\n"
     ]
    },
    {
     "name": "stdout",
     "output_type": "stream",
     "text": [
      "* * * * \n",
      "* * * * \n",
      "* * * * \n",
      "* * * * \n",
      "* * * * \n"
     ]
    }
   ],
   "source": [
    "r = int(input(\"Enter the number of rows : \"))\n",
    "c = int(input(\"Enter the number of coloumns : \"))\n",
    "for x in range(r):\n",
    "    for y in range(c):\n",
    "        print(\"*\", end = \" \")\n",
    "    print()"
   ]
  },
  {
   "cell_type": "code",
   "execution_count": 31,
   "id": "9a1e34c6-c96e-4697-becf-865b62cf6a30",
   "metadata": {},
   "outputs": [],
   "source": [
    "# print the pattern\n",
    "\n",
    "# *\n",
    "# * *\n",
    "# * * * \n",
    "# * * * *"
   ]
  },
  {
   "cell_type": "markdown",
   "id": "1781fc8e-b5f2-465b-a8cb-57bb54159ae6",
   "metadata": {},
   "source": [
    "### Using while loop"
   ]
  },
  {
   "cell_type": "code",
   "execution_count": 7,
   "id": "7e463022-db8a-44a5-b5dc-f93fe0f75a05",
   "metadata": {},
   "outputs": [
    {
     "name": "stdout",
     "output_type": "stream",
     "text": [
      "* \n",
      "* * \n",
      "* * * \n",
      "* * * * \n"
     ]
    }
   ],
   "source": [
    "i = 1\n",
    "while i <= 4:          \n",
    "    j = 1\n",
    "    while j <= i:      \n",
    "        print('*', end=' ')\n",
    "        j += 1\n",
    "    print()            \n",
    "    i += 1"
   ]
  },
  {
   "cell_type": "markdown",
   "id": "82583f7f-62bb-431c-b2d8-06ee4f2cc3e4",
   "metadata": {},
   "source": [
    "### Using for loop"
   ]
  },
  {
   "cell_type": "code",
   "execution_count": 8,
   "id": "04f30044-8d9e-4928-b0a0-155e8dc62857",
   "metadata": {},
   "outputs": [
    {
     "name": "stdout",
     "output_type": "stream",
     "text": [
      "\n",
      "# \n",
      "# # \n",
      "# # # \n",
      "# # # # \n"
     ]
    }
   ],
   "source": [
    "row = 4\n",
    "for i in range(row + 1):\n",
    "    for j in range(i):\n",
    "        print(\"#\", end = \" \")\n",
    "    print()"
   ]
  },
  {
   "cell_type": "markdown",
   "id": "3121361a-05c2-4ab7-8037-b5e7ccd1998f",
   "metadata": {},
   "source": [
    "### Using for loop"
   ]
  },
  {
   "cell_type": "code",
   "execution_count": 9,
   "id": "c82bf6a6-9f53-4196-84b1-697639dceb69",
   "metadata": {},
   "outputs": [
    {
     "name": "stdin",
     "output_type": "stream",
     "text": [
      "Enter the number of rows :  5\n"
     ]
    },
    {
     "name": "stdout",
     "output_type": "stream",
     "text": [
      "# \n",
      "# # \n",
      "# # # \n",
      "# # # # \n",
      "# # # # # \n"
     ]
    }
   ],
   "source": [
    "row = int(input(\"Enter the number of rows : \"))\n",
    "for i in range(1, row + 1):\n",
    "    for j in range(i):\n",
    "        print(\"#\", end = \" \")\n",
    "    print()"
   ]
  },
  {
   "cell_type": "code",
   "execution_count": 10,
   "id": "ae5b43a4-8131-4872-8fd2-6290c0cc4f92",
   "metadata": {},
   "outputs": [],
   "source": [
    "# print the pattern\n",
    "\n",
    "# 1 2 3 4 \n",
    "# 1 2 3 4\n",
    "# 1 2 3 4\n",
    "# 1 2 3 4"
   ]
  },
  {
   "cell_type": "markdown",
   "id": "0858b312-5e9c-426f-88e8-15fab09b90bd",
   "metadata": {},
   "source": [
    "### Using nested loop"
   ]
  },
  {
   "cell_type": "code",
   "execution_count": 11,
   "id": "a9160a6f-0901-4163-881a-ddd444c2f6fc",
   "metadata": {},
   "outputs": [
    {
     "name": "stdout",
     "output_type": "stream",
     "text": [
      "1 2 3 4 \n",
      "1 2 3 4 \n",
      "1 2 3 4 \n",
      "1 2 3 4 \n"
     ]
    }
   ],
   "source": [
    "num = [1, 2, 3, 4]\n",
    "\n",
    "for i in num:\n",
    "    x = 0\n",
    "    while x < len(num):\n",
    "        print(num[x], end = \" \")\n",
    "        x += 1\n",
    "    print()"
   ]
  }
 ],
 "metadata": {
  "kernelspec": {
   "display_name": "Python 3 (ipykernel)",
   "language": "python",
   "name": "python3"
  },
  "language_info": {
   "codemirror_mode": {
    "name": "ipython",
    "version": 3
   },
   "file_extension": ".py",
   "mimetype": "text/x-python",
   "name": "python",
   "nbconvert_exporter": "python",
   "pygments_lexer": "ipython3",
   "version": "3.12.4"
  },
  "widgets": {
   "application/vnd.jupyter.widget-state+json": {
    "state": {},
    "version_major": 2,
    "version_minor": 0
   }
  }
 },
 "nbformat": 4,
 "nbformat_minor": 5
}
