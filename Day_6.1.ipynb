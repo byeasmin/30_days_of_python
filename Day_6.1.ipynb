{
 "cells": [
  {
   "cell_type": "markdown",
   "id": "a4947736-8c81-4a81-b074-6178b5c4c96f",
   "metadata": {},
   "source": [
    "# https://github.com/byeasmin/30_days_of_python"
   ]
  },
  {
   "cell_type": "markdown",
   "id": "6378fe36-c3a4-49b7-9b59-060426187766",
   "metadata": {},
   "source": [
    "# List"
   ]
  },
  {
   "cell_type": "code",
   "execution_count": 1,
   "id": "40cf1eaa-5bef-465a-b2ed-bd041d5123f7",
   "metadata": {},
   "outputs": [],
   "source": [
    " lst = ['ai', 'data science', 'ml', True, (1, 2, 3), {4, 5, 6}]"
   ]
  },
  {
   "cell_type": "code",
   "execution_count": 2,
   "id": "8abd5520-f249-4140-b129-54bb641fdcf6",
   "metadata": {},
   "outputs": [
    {
     "data": {
      "text/plain": [
       "['ai', 'data science', 'ml', True, (1, 2, 3), {4, 5, 6}]"
      ]
     },
     "execution_count": 2,
     "metadata": {},
     "output_type": "execute_result"
    }
   ],
   "source": [
    "lst"
   ]
  },
  {
   "cell_type": "code",
   "execution_count": 3,
   "id": "8e12ff0f-eb99-4dc1-ac88-7103ead1f6df",
   "metadata": {},
   "outputs": [
    {
     "data": {
      "text/plain": [
       "list"
      ]
     },
     "execution_count": 3,
     "metadata": {},
     "output_type": "execute_result"
    }
   ],
   "source": [
    "type(lst)"
   ]
  },
  {
   "cell_type": "code",
   "execution_count": 4,
   "id": "f78d3727-9ef5-44cb-805c-3659ddee6cc5",
   "metadata": {},
   "outputs": [],
   "source": [
    "l1 = [12, 34, 56]"
   ]
  },
  {
   "cell_type": "code",
   "execution_count": 5,
   "id": "46fed505-c6c7-42ef-969a-dc43cc2d0f5c",
   "metadata": {},
   "outputs": [
    {
     "data": {
      "text/plain": [
       "[12, 34, 56]"
      ]
     },
     "execution_count": 5,
     "metadata": {},
     "output_type": "execute_result"
    }
   ],
   "source": [
    "l1"
   ]
  },
  {
   "cell_type": "code",
   "execution_count": 6,
   "id": "88c01439-5012-4ea0-b874-1924dec7fcb1",
   "metadata": {},
   "outputs": [
    {
     "data": {
      "text/plain": [
       "list"
      ]
     },
     "execution_count": 6,
     "metadata": {},
     "output_type": "execute_result"
    }
   ],
   "source": [
    "type(l1)"
   ]
  },
  {
   "cell_type": "markdown",
   "id": "655e5b07-df43-40b0-aa24-eb9ae6e09357",
   "metadata": {},
   "source": [
    "### Index"
   ]
  },
  {
   "cell_type": "code",
   "execution_count": 7,
   "id": "d16af8fb-35f9-4d15-98ca-dfac0b359ee0",
   "metadata": {},
   "outputs": [
    {
     "data": {
      "text/plain": [
       "12"
      ]
     },
     "execution_count": 7,
     "metadata": {},
     "output_type": "execute_result"
    }
   ],
   "source": [
    "l1[0]"
   ]
  },
  {
   "cell_type": "code",
   "execution_count": 8,
   "id": "6d449695-e7eb-4da0-9c0d-71df3974ae9b",
   "metadata": {},
   "outputs": [
    {
     "data": {
      "text/plain": [
       "[12, 34]"
      ]
     },
     "execution_count": 8,
     "metadata": {},
     "output_type": "execute_result"
    }
   ],
   "source": [
    " l1[0:2]"
   ]
  },
  {
   "cell_type": "markdown",
   "id": "b95a6db7-42c9-416a-907f-cf7d7c5b4cb2",
   "metadata": {},
   "source": [
    "### Mutable"
   ]
  },
  {
   "cell_type": "code",
   "execution_count": 9,
   "id": "3443b880-1a7d-4ff4-a944-8e89b787706a",
   "metadata": {},
   "outputs": [],
   "source": [
    "l1[0] = 'benin'"
   ]
  },
  {
   "cell_type": "code",
   "execution_count": 10,
   "id": "e42fd29b-1741-4922-904e-5afa87e87574",
   "metadata": {},
   "outputs": [
    {
     "data": {
      "text/plain": [
       "['benin', 34, 56]"
      ]
     },
     "execution_count": 10,
     "metadata": {},
     "output_type": "execute_result"
    }
   ],
   "source": [
    "l1"
   ]
  },
  {
   "cell_type": "markdown",
   "id": "14e857b5-0b15-4e70-b2a0-42f24d55ea98",
   "metadata": {},
   "source": [
    "### New Value Add"
   ]
  },
  {
   "cell_type": "code",
   "execution_count": 11,
   "id": "b1caad7a-d764-45b7-9427-6205778ed286",
   "metadata": {},
   "outputs": [],
   "source": [
    "l1.append('yeasmin')"
   ]
  },
  {
   "cell_type": "code",
   "execution_count": 12,
   "id": "ef87cb75-b7ca-44eb-a9d1-9621392de406",
   "metadata": {},
   "outputs": [
    {
     "data": {
      "text/plain": [
       "['benin', 34, 56, 'yeasmin']"
      ]
     },
     "execution_count": 12,
     "metadata": {},
     "output_type": "execute_result"
    }
   ],
   "source": [
    "l1"
   ]
  },
  {
   "cell_type": "markdown",
   "id": "61d5b358-7251-4c7a-9502-4cfe9a057a83",
   "metadata": {},
   "source": [
    "### Duplicate Value allowed"
   ]
  },
  {
   "cell_type": "code",
   "execution_count": 13,
   "id": "d0c41a8e-8b3d-4654-8ffb-fae1420bd280",
   "metadata": {},
   "outputs": [],
   "source": [
    "l1.append(34)"
   ]
  },
  {
   "cell_type": "code",
   "execution_count": 14,
   "id": "69822266-7c05-4c1d-a53e-08fe29125775",
   "metadata": {},
   "outputs": [
    {
     "data": {
      "text/plain": [
       "['benin', 34, 56, 'yeasmin', 34]"
      ]
     },
     "execution_count": 14,
     "metadata": {},
     "output_type": "execute_result"
    }
   ],
   "source": [
    "l1"
   ]
  },
  {
   "cell_type": "code",
   "execution_count": 15,
   "id": "13324d83-8aba-4174-a1f4-608976322ee2",
   "metadata": {},
   "outputs": [
    {
     "data": {
      "text/plain": [
       "120"
      ]
     },
     "execution_count": 15,
     "metadata": {},
     "output_type": "execute_result"
    }
   ],
   "source": [
    "import sys\n",
    "sys.getsizeof(l1)"
   ]
  },
  {
   "cell_type": "code",
   "execution_count": 16,
   "id": "06fede10-c0d2-4034-a31c-942db0e4dc51",
   "metadata": {},
   "outputs": [
    {
     "data": {
      "text/plain": [
       "34"
      ]
     },
     "execution_count": 16,
     "metadata": {},
     "output_type": "execute_result"
    }
   ],
   "source": [
    "l1.pop()"
   ]
  },
  {
   "cell_type": "code",
   "execution_count": 19,
   "id": "0b70751f-a46d-4446-8cc3-cd5e9aac33d2",
   "metadata": {},
   "outputs": [
    {
     "data": {
      "text/plain": [
       "56"
      ]
     },
     "execution_count": 19,
     "metadata": {},
     "output_type": "execute_result"
    }
   ],
   "source": [
    "l1.pop(1)"
   ]
  },
  {
   "cell_type": "code",
   "execution_count": 20,
   "id": "83c8870e-7662-4085-80f8-fbccaf1af9a0",
   "metadata": {},
   "outputs": [
    {
     "data": {
      "text/plain": [
       "['benin', 'yeasmin']"
      ]
     },
     "execution_count": 20,
     "metadata": {},
     "output_type": "execute_result"
    }
   ],
   "source": [
    "l1"
   ]
  },
  {
   "cell_type": "markdown",
   "id": "ff4f23e4-28cd-4f3f-9283-7c2f4dcff4c0",
   "metadata": {},
   "source": [
    "### Creating List using list constructor"
   ]
  },
  {
   "cell_type": "code",
   "execution_count": 34,
   "id": "960a6585-c4b5-4271-9d7d-d656eba50446",
   "metadata": {},
   "outputs": [],
   "source": [
    "l2 = list(('AI', 'ML', 'DL', (10, 11, 12, 13, 14), 10))\n",
    "l3 = list(('ai', 12, (1, 2, 3, 4)))"
   ]
  },
  {
   "cell_type": "code",
   "execution_count": 35,
   "id": "56a43f07-d05e-4998-b227-4a002946f0ad",
   "metadata": {},
   "outputs": [
    {
     "data": {
      "text/plain": [
       "['AI', 'ML', 'DL', (10, 11, 12, 13, 14), 10]"
      ]
     },
     "execution_count": 35,
     "metadata": {},
     "output_type": "execute_result"
    }
   ],
   "source": [
    "l2"
   ]
  },
  {
   "cell_type": "code",
   "execution_count": 36,
   "id": "6a273ad6-1ea3-4dbf-bea2-4a6f5486e3f7",
   "metadata": {},
   "outputs": [
    {
     "data": {
      "text/plain": [
       "['ai', 12, (1, 2, 3, 4)]"
      ]
     },
     "execution_count": 36,
     "metadata": {},
     "output_type": "execute_result"
    }
   ],
   "source": [
    "l3"
   ]
  },
  {
   "cell_type": "code",
   "execution_count": 37,
   "id": "875ba415-5f48-4741-beec-f4fe50122aea",
   "metadata": {},
   "outputs": [
    {
     "data": {
      "text/plain": [
       "list"
      ]
     },
     "execution_count": 37,
     "metadata": {},
     "output_type": "execute_result"
    }
   ],
   "source": [
    "type(l2)"
   ]
  },
  {
   "cell_type": "code",
   "execution_count": 38,
   "id": "f31ad227-626e-450d-a2c0-67d984e8ba14",
   "metadata": {},
   "outputs": [
    {
     "data": {
      "text/plain": [
       "11"
      ]
     },
     "execution_count": 38,
     "metadata": {},
     "output_type": "execute_result"
    }
   ],
   "source": [
    "l2[3][1]"
   ]
  },
  {
   "cell_type": "markdown",
   "id": "bbce9067-cd84-4d70-b4f3-25f4a365ad1a",
   "metadata": {},
   "source": [
    "## Input From User"
   ]
  },
  {
   "cell_type": "code",
   "execution_count": 40,
   "id": "eaebd5e2-9b5a-4094-be8b-ca9333c49906",
   "metadata": {},
   "outputs": [
    {
     "name": "stdin",
     "output_type": "stream",
     "text": [
      "Enter the elements of index you want :  5\n",
      " 2\n"
     ]
    },
    {
     "name": "stdout",
     "output_type": "stream",
     "text": [
      "['2']\n"
     ]
    },
    {
     "name": "stdin",
     "output_type": "stream",
     "text": [
      " 3\n"
     ]
    },
    {
     "name": "stdout",
     "output_type": "stream",
     "text": [
      "['2', '3']\n"
     ]
    },
    {
     "name": "stdin",
     "output_type": "stream",
     "text": [
      " 4\n"
     ]
    },
    {
     "name": "stdout",
     "output_type": "stream",
     "text": [
      "['2', '3', '4']\n"
     ]
    },
    {
     "name": "stdin",
     "output_type": "stream",
     "text": [
      " 5\n"
     ]
    },
    {
     "name": "stdout",
     "output_type": "stream",
     "text": [
      "['2', '3', '4', '5']\n"
     ]
    },
    {
     "name": "stdin",
     "output_type": "stream",
     "text": [
      " 6\n"
     ]
    },
    {
     "name": "stdout",
     "output_type": "stream",
     "text": [
      "['2', '3', '4', '5', '6']\n"
     ]
    }
   ],
   "source": [
    "lst = []\n",
    "\n",
    "n = int(input(\"Enter the elements of index you want : \"))\n",
    "\n",
    "for i in range(n):\n",
    "    new = input()\n",
    "    lst.append(new)\n",
    "    print(lst)"
   ]
  },
  {
   "cell_type": "code",
   "execution_count": 41,
   "id": "e08a96e3-6897-4dad-94f2-60fa96fd3a17",
   "metadata": {},
   "outputs": [
    {
     "name": "stdin",
     "output_type": "stream",
     "text": [
      "Enter the elements of index you want :  5\n",
      " 11\n",
      " 23\n",
      " 45\n",
      " 78\n",
      " 54\n"
     ]
    },
    {
     "name": "stdout",
     "output_type": "stream",
     "text": [
      "['11', '23', '45', '78', '54']\n"
     ]
    }
   ],
   "source": [
    "lst = []\n",
    "\n",
    "n = int(input(\"Enter the elements of index you want : \"))\n",
    "\n",
    "for i in range(n):\n",
    "    new = input()\n",
    "    lst.append(new)\n",
    "print(lst)"
   ]
  }
 ],
 "metadata": {
  "kernelspec": {
   "display_name": "Python 3 (ipykernel)",
   "language": "python",
   "name": "python3"
  },
  "language_info": {
   "codemirror_mode": {
    "name": "ipython",
    "version": 3
   },
   "file_extension": ".py",
   "mimetype": "text/x-python",
   "name": "python",
   "nbconvert_exporter": "python",
   "pygments_lexer": "ipython3",
   "version": "3.12.4"
  },
  "widgets": {
   "application/vnd.jupyter.widget-state+json": {
    "state": {},
    "version_major": 2,
    "version_minor": 0
   }
  }
 },
 "nbformat": 4,
 "nbformat_minor": 5
}
