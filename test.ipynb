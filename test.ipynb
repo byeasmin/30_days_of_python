{
 "cells": [
  {
   "cell_type": "code",
   "execution_count": 2,
   "id": "b6241305-0845-424c-bb16-bd838e97a21f",
   "metadata": {},
   "outputs": [
    {
     "name": "stdout",
     "output_type": "stream",
     "text": [
      "hello\n"
     ]
    }
   ],
   "source": [
    "print(\"hello\")"
   ]
  },
  {
   "cell_type": "code",
   "execution_count": 3,
   "id": "a4a75a31-aea1-4a46-abf3-8e2b9b09b49f",
   "metadata": {},
   "outputs": [
    {
     "name": "stdout",
     "output_type": "stream",
     "text": [
      "170\n"
     ]
    }
   ],
   "source": [
    "a=90\n",
    "b=80\n",
    "print(a+b)"
   ]
  },
  {
   "cell_type": "code",
   "execution_count": 4,
   "id": "7f74477d-26d3-4e93-88e0-5b1db9a43748",
   "metadata": {},
   "outputs": [
    {
     "name": "stdout",
     "output_type": "stream",
     "text": [
      "beninyeasmin\n"
     ]
    }
   ],
   "source": [
    "a=\"benin\"\n",
    "b=\"yeasmin\"\n",
    "print(a+b)"
   ]
  },
  {
   "cell_type": "code",
   "execution_count": 5,
   "id": "7bc0d670-8631-40f3-8a65-b74fe44a8257",
   "metadata": {},
   "outputs": [
    {
     "name": "stdout",
     "output_type": "stream",
     "text": [
      "enter the first string : \n"
     ]
    }
   ],
   "source": [
    "a=str(\"enter the first string : \")\n",
    "print(a)"
   ]
  },
  {
   "cell_type": "code",
   "execution_count": 6,
   "id": "441fe001-4d07-4abc-a4cc-8ed3659c1124",
   "metadata": {},
   "outputs": [
    {
     "name": "stdin",
     "output_type": "stream",
     "text": [
      "enter something string :  benin\n"
     ]
    },
    {
     "name": "stdout",
     "output_type": "stream",
     "text": [
      "benin\n"
     ]
    }
   ],
   "source": [
    "ch=input(\"enter something string : \")\n",
    "print(ch)"
   ]
  },
  {
   "cell_type": "code",
   "execution_count": 7,
   "id": "259f1865-01fd-46ef-8c2e-76bdc6a946ba",
   "metadata": {},
   "outputs": [
    {
     "name": "stdin",
     "output_type": "stream",
     "text": [
      "Enter first number :  10\n",
      "Enter second number :  20\n"
     ]
    },
    {
     "name": "stdout",
     "output_type": "stream",
     "text": [
      "30\n"
     ]
    }
   ],
   "source": [
    "x=int(input(\"Enter first number : \"))\n",
    "y=int(input(\"Enter second number : \"))\n",
    "print(x+y)"
   ]
  }
 ],
 "metadata": {
  "kernelspec": {
   "display_name": "Python 3 (ipykernel)",
   "language": "python",
   "name": "python3"
  },
  "language_info": {
   "codemirror_mode": {
    "name": "ipython",
    "version": 3
   },
   "file_extension": ".py",
   "mimetype": "text/x-python",
   "name": "python",
   "nbconvert_exporter": "python",
   "pygments_lexer": "ipython3",
   "version": "3.12.4"
  }
 },
 "nbformat": 4,
 "nbformat_minor": 5
}
