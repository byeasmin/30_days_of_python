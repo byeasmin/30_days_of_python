{
 "cells": [
  {
   "cell_type": "markdown",
   "id": "63ccace3-ada9-4565-bd19-57eba8bcf1ea",
   "metadata": {},
   "source": [
    "# https://github.com/byeasmin/30_days_of_python"
   ]
  },
  {
   "cell_type": "markdown",
   "id": "81bf3b52-c421-434f-9d98-047813f10308",
   "metadata": {},
   "source": [
    "# *args & **keywargs"
   ]
  },
  {
   "cell_type": "code",
   "execution_count": 6,
   "id": "d06ef54f-7a46-479e-94a9-d5a1469cc37f",
   "metadata": {},
   "outputs": [
    {
     "name": "stdout",
     "output_type": "stream",
     "text": [
      "Umme Benin Yeasmin\n",
      "('IIUC', 'CTG')\n"
     ]
    }
   ],
   "source": [
    "def personal_info(name, *arg):\n",
    "    print(name)\n",
    "    print(arg) #tuple\n",
    "personal_info('Umme Benin Yeasmin', 'IIUC', 'CTG')"
   ]
  },
  {
   "cell_type": "code",
   "execution_count": 9,
   "id": "b3819f7d-b389-4e8b-b33f-2e918ce41d04",
   "metadata": {},
   "outputs": [
    {
     "ename": "TypeError",
     "evalue": "personal_info() got an unexpected keyword argument 'versity'",
     "output_type": "error",
     "traceback": [
      "\u001b[1;31m---------------------------------------------------------------------------\u001b[0m",
      "\u001b[1;31mTypeError\u001b[0m                                 Traceback (most recent call last)",
      "Cell \u001b[1;32mIn[9], line 4\u001b[0m\n\u001b[0;32m      2\u001b[0m     \u001b[38;5;28mprint\u001b[39m(name)\n\u001b[0;32m      3\u001b[0m     \u001b[38;5;28mprint\u001b[39m(arg) \u001b[38;5;66;03m#tuple\u001b[39;00m\n\u001b[1;32m----> 4\u001b[0m \u001b[43mpersonal_info\u001b[49m\u001b[43m(\u001b[49m\u001b[38;5;124;43m'\u001b[39;49m\u001b[38;5;124;43mUmme Benin Yeasmin\u001b[39;49m\u001b[38;5;124;43m'\u001b[39;49m\u001b[43m,\u001b[49m\u001b[43m \u001b[49m\u001b[43mversity\u001b[49m\u001b[43m \u001b[49m\u001b[38;5;241;43m=\u001b[39;49m\u001b[43m \u001b[49m\u001b[38;5;124;43m'\u001b[39;49m\u001b[38;5;124;43mIIUC\u001b[39;49m\u001b[38;5;124;43m'\u001b[39;49m\u001b[43m,\u001b[49m\u001b[43m \u001b[49m\u001b[43mcity\u001b[49m\u001b[43m \u001b[49m\u001b[38;5;241;43m=\u001b[39;49m\u001b[43m \u001b[49m\u001b[38;5;124;43m'\u001b[39;49m\u001b[38;5;124;43mCTG\u001b[39;49m\u001b[38;5;124;43m'\u001b[39;49m\u001b[43m)\u001b[49m \n\u001b[0;32m      5\u001b[0m \u001b[38;5;66;03m#TypeError: personal_info() got an unexpected keyword argument 'versity'\u001b[39;00m\n",
      "\u001b[1;31mTypeError\u001b[0m: personal_info() got an unexpected keyword argument 'versity'"
     ]
    }
   ],
   "source": [
    "def personal_info(name, *arg):\n",
    "    print(name)\n",
    "    print(arg) #tuple\n",
    "personal_info('Umme Benin Yeasmin', versity = 'IIUC', city = 'CTG') \n",
    "#TypeError: personal_info() got an unexpected keyword argument 'versity'"
   ]
  },
  {
   "cell_type": "code",
   "execution_count": 11,
   "id": "116abbaa-a725-43f9-bbef-5f420b8a69b2",
   "metadata": {},
   "outputs": [
    {
     "name": "stdout",
     "output_type": "stream",
     "text": [
      "Umme Benin Yeasmin\n",
      "{'versity': 'IIUC', 'city': 'CTG'}\n"
     ]
    }
   ],
   "source": [
    " def personal_info(name, **kwarg):\n",
    "    print(name)\n",
    "    print(kwarg) # dictionary\n",
    "personal_info('Umme Benin Yeasmin', versity = 'IIUC', city = 'CTG') "
   ]
  }
 ],
 "metadata": {
  "kernelspec": {
   "display_name": "Python 3 (ipykernel)",
   "language": "python",
   "name": "python3"
  },
  "language_info": {
   "codemirror_mode": {
    "name": "ipython",
    "version": 3
   },
   "file_extension": ".py",
   "mimetype": "text/x-python",
   "name": "python",
   "nbconvert_exporter": "python",
   "pygments_lexer": "ipython3",
   "version": "3.12.4"
  },
  "widgets": {
   "application/vnd.jupyter.widget-state+json": {
    "state": {},
    "version_major": 2,
    "version_minor": 0
   }
  }
 },
 "nbformat": 4,
 "nbformat_minor": 5
}
