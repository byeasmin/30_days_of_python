{
 "cells": [
  {
   "cell_type": "markdown",
   "id": "eb287e5b-388d-4b12-beff-91b3572973a6",
   "metadata": {},
   "source": [
    "# https://github.com/byeasmin/30_days_of_python"
   ]
  },
  {
   "cell_type": "markdown",
   "id": "27343239-cb6c-464b-9a14-8a27b0c18b46",
   "metadata": {},
   "source": [
    "# Lambda Anonymous Function"
   ]
  },
  {
   "cell_type": "markdown",
   "id": "ad947184-64c5-4c2a-b775-01913ade824c",
   "metadata": {},
   "source": [
    "### Syntax: lambda arguments: expression"
   ]
  },
  {
   "cell_type": "code",
   "execution_count": 2,
   "id": "de68af40-c4c3-4d68-9e9c-95aef94ea195",
   "metadata": {},
   "outputs": [
    {
     "data": {
      "text/plain": [
       "11"
      ]
     },
     "execution_count": 2,
     "metadata": {},
     "output_type": "execute_result"
    }
   ],
   "source": [
    "# normalty:\n",
    "\n",
    "def sum(x, y):\n",
    "    return x + y\n",
    "sum(5, 6)"
   ]
  },
  {
   "cell_type": "code",
   "execution_count": 3,
   "id": "53f827d7-a3d3-4706-ac21-df7ad477da03",
   "metadata": {},
   "outputs": [
    {
     "data": {
      "text/plain": [
       "<function __main__.<lambda>(x, y)>"
      ]
     },
     "execution_count": 3,
     "metadata": {},
     "output_type": "execute_result"
    }
   ],
   "source": [
    "# lambda:\n",
    "\n",
    "lambda x, y: x + y"
   ]
  },
  {
   "cell_type": "code",
   "execution_count": 4,
   "id": "e2dd841f-2991-4a8b-ab77-3232e4008519",
   "metadata": {},
   "outputs": [],
   "source": [
    "l = lambda x, y: x + y"
   ]
  },
  {
   "cell_type": "code",
   "execution_count": 5,
   "id": "4bd209e9-1f13-43f4-8795-f275bdc2b194",
   "metadata": {},
   "outputs": [
    {
     "data": {
      "text/plain": [
       "9"
      ]
     },
     "execution_count": 5,
     "metadata": {},
     "output_type": "execute_result"
    }
   ],
   "source": [
    "l(4, 5)"
   ]
  },
  {
   "cell_type": "code",
   "execution_count": 6,
   "id": "50464d7f-e9bd-4216-aa80-8a803c486d4d",
   "metadata": {},
   "outputs": [
    {
     "data": {
      "text/plain": [
       "11"
      ]
     },
     "execution_count": 6,
     "metadata": {},
     "output_type": "execute_result"
    }
   ],
   "source": [
    "l(5, 6)"
   ]
  },
  {
   "cell_type": "code",
   "execution_count": 7,
   "id": "14b66a85-f350-488a-85be-d8024423f72e",
   "metadata": {},
   "outputs": [],
   "source": [
    "a = lambda x, y: x * y"
   ]
  },
  {
   "cell_type": "code",
   "execution_count": 8,
   "id": "b41991bd-31ae-4c52-89fb-77f3d6d64da1",
   "metadata": {},
   "outputs": [
    {
     "data": {
      "text/plain": [
       "<function __main__.<lambda>(x, y)>"
      ]
     },
     "execution_count": 8,
     "metadata": {},
     "output_type": "execute_result"
    }
   ],
   "source": [
    "a"
   ]
  },
  {
   "cell_type": "code",
   "execution_count": 9,
   "id": "73d62d4f-ca24-4489-9b09-675eb6879808",
   "metadata": {},
   "outputs": [
    {
     "data": {
      "text/plain": [
       "72"
      ]
     },
     "execution_count": 9,
     "metadata": {},
     "output_type": "execute_result"
    }
   ],
   "source": [
    "a(9, 8)"
   ]
  },
  {
   "cell_type": "code",
   "execution_count": 10,
   "id": "a3961411-5684-490c-b9bb-5c7bbb1d0d00",
   "metadata": {},
   "outputs": [],
   "source": [
    "b = lambda x: x * x"
   ]
  },
  {
   "cell_type": "code",
   "execution_count": 11,
   "id": "27296e91-7e23-439a-b4e3-5bc71346c83e",
   "metadata": {},
   "outputs": [
    {
     "data": {
      "text/plain": [
       "81"
      ]
     },
     "execution_count": 11,
     "metadata": {},
     "output_type": "execute_result"
    }
   ],
   "source": [
    "b(9)"
   ]
  },
  {
   "cell_type": "markdown",
   "id": "834e50f8-ab1e-4b45-968b-7730b895ce17",
   "metadata": {},
   "source": [
    "# Lambda in Higher order"
   ]
  },
  {
   "cell_type": "code",
   "execution_count": 12,
   "id": "58def1d6-325a-4e2a-a988-5f4ef3cdf9c0",
   "metadata": {},
   "outputs": [
    {
     "data": {
      "text/plain": [
       "9"
      ]
     },
     "execution_count": 12,
     "metadata": {},
     "output_type": "execute_result"
    }
   ],
   "source": [
    "def operation_higher(x, y, operation):\n",
    "    return operation(x, y)\n",
    "operation_higher(4, 5, lambda x, y: x + y)"
   ]
  },
  {
   "cell_type": "code",
   "execution_count": 13,
   "id": "9600bafa-7690-4d45-824b-186a77cae03f",
   "metadata": {},
   "outputs": [
    {
     "data": {
      "text/plain": [
       "20"
      ]
     },
     "execution_count": 13,
     "metadata": {},
     "output_type": "execute_result"
    }
   ],
   "source": [
    "def operation_higher(x, y, operation):\n",
    "    return operation(x, y)\n",
    "operation_higher(4, 5, lambda x, y: x * y)"
   ]
  }
 ],
 "metadata": {
  "kernelspec": {
   "display_name": "Python 3 (ipykernel)",
   "language": "python",
   "name": "python3"
  },
  "language_info": {
   "codemirror_mode": {
    "name": "ipython",
    "version": 3
   },
   "file_extension": ".py",
   "mimetype": "text/x-python",
   "name": "python",
   "nbconvert_exporter": "python",
   "pygments_lexer": "ipython3",
   "version": "3.12.4"
  },
  "widgets": {
   "application/vnd.jupyter.widget-state+json": {
    "state": {},
    "version_major": 2,
    "version_minor": 0
   }
  }
 },
 "nbformat": 4,
 "nbformat_minor": 5
}
