{
 "cells": [
  {
   "cell_type": "markdown",
   "id": "51ab2466-2406-4c28-90d0-47d885e3cf19",
   "metadata": {},
   "source": [
    "# https://github.com/byeasmin/30_days_of_python"
   ]
  },
  {
   "cell_type": "code",
   "execution_count": 51,
   "id": "2e7c9c95-a3f3-47de-894e-5b230054701b",
   "metadata": {},
   "outputs": [
    {
     "ename": "FileNotFoundError",
     "evalue": "No such file or directory: 'Assignment_on_Day_4.png'",
     "output_type": "error",
     "traceback": [
      "\u001b[1;31m---------------------------------------------------------------------------\u001b[0m",
      "\u001b[1;31mTypeError\u001b[0m                                 Traceback (most recent call last)",
      "File \u001b[1;32m~\\AppData\\Local\\Programs\\Python\\Python312\\Lib\\site-packages\\IPython\\core\\display.py:1045\u001b[0m, in \u001b[0;36mImage._data_and_metadata\u001b[1;34m(self, always_both)\u001b[0m\n\u001b[0;32m   1044\u001b[0m \u001b[38;5;28;01mtry\u001b[39;00m:\n\u001b[1;32m-> 1045\u001b[0m     b64_data \u001b[38;5;241m=\u001b[39m \u001b[43mb2a_base64\u001b[49m\u001b[43m(\u001b[49m\u001b[38;5;28;43mself\u001b[39;49m\u001b[38;5;241;43m.\u001b[39;49m\u001b[43mdata\u001b[49m\u001b[43m,\u001b[49m\u001b[43m \u001b[49m\u001b[43mnewline\u001b[49m\u001b[38;5;241;43m=\u001b[39;49m\u001b[38;5;28;43;01mFalse\u001b[39;49;00m\u001b[43m)\u001b[49m\u001b[38;5;241m.\u001b[39mdecode(\u001b[38;5;124m\"\u001b[39m\u001b[38;5;124mascii\u001b[39m\u001b[38;5;124m\"\u001b[39m)\n\u001b[0;32m   1046\u001b[0m \u001b[38;5;28;01mexcept\u001b[39;00m \u001b[38;5;167;01mTypeError\u001b[39;00m \u001b[38;5;28;01mas\u001b[39;00m e:\n",
      "\u001b[1;31mTypeError\u001b[0m: a bytes-like object is required, not 'str'",
      "\nThe above exception was the direct cause of the following exception:\n",
      "\u001b[1;31mFileNotFoundError\u001b[0m                         Traceback (most recent call last)",
      "File \u001b[1;32m~\\AppData\\Local\\Programs\\Python\\Python312\\Lib\\site-packages\\IPython\\core\\formatters.py:977\u001b[0m, in \u001b[0;36mMimeBundleFormatter.__call__\u001b[1;34m(self, obj, include, exclude)\u001b[0m\n\u001b[0;32m    974\u001b[0m     method \u001b[38;5;241m=\u001b[39m get_real_method(obj, \u001b[38;5;28mself\u001b[39m\u001b[38;5;241m.\u001b[39mprint_method)\n\u001b[0;32m    976\u001b[0m     \u001b[38;5;28;01mif\u001b[39;00m method \u001b[38;5;129;01mis\u001b[39;00m \u001b[38;5;129;01mnot\u001b[39;00m \u001b[38;5;28;01mNone\u001b[39;00m:\n\u001b[1;32m--> 977\u001b[0m         \u001b[38;5;28;01mreturn\u001b[39;00m \u001b[43mmethod\u001b[49m\u001b[43m(\u001b[49m\u001b[43minclude\u001b[49m\u001b[38;5;241;43m=\u001b[39;49m\u001b[43minclude\u001b[49m\u001b[43m,\u001b[49m\u001b[43m \u001b[49m\u001b[43mexclude\u001b[49m\u001b[38;5;241;43m=\u001b[39;49m\u001b[43mexclude\u001b[49m\u001b[43m)\u001b[49m\n\u001b[0;32m    978\u001b[0m     \u001b[38;5;28;01mreturn\u001b[39;00m \u001b[38;5;28;01mNone\u001b[39;00m\n\u001b[0;32m    979\u001b[0m \u001b[38;5;28;01melse\u001b[39;00m:\n",
      "File \u001b[1;32m~\\AppData\\Local\\Programs\\Python\\Python312\\Lib\\site-packages\\IPython\\core\\display.py:1035\u001b[0m, in \u001b[0;36mImage._repr_mimebundle_\u001b[1;34m(self, include, exclude)\u001b[0m\n\u001b[0;32m   1033\u001b[0m \u001b[38;5;28;01mif\u001b[39;00m \u001b[38;5;28mself\u001b[39m\u001b[38;5;241m.\u001b[39membed:\n\u001b[0;32m   1034\u001b[0m     mimetype \u001b[38;5;241m=\u001b[39m \u001b[38;5;28mself\u001b[39m\u001b[38;5;241m.\u001b[39m_mimetype\n\u001b[1;32m-> 1035\u001b[0m     data, metadata \u001b[38;5;241m=\u001b[39m \u001b[38;5;28;43mself\u001b[39;49m\u001b[38;5;241;43m.\u001b[39;49m\u001b[43m_data_and_metadata\u001b[49m\u001b[43m(\u001b[49m\u001b[43malways_both\u001b[49m\u001b[38;5;241;43m=\u001b[39;49m\u001b[38;5;28;43;01mTrue\u001b[39;49;00m\u001b[43m)\u001b[49m\n\u001b[0;32m   1036\u001b[0m     \u001b[38;5;28;01mif\u001b[39;00m metadata:\n\u001b[0;32m   1037\u001b[0m         metadata \u001b[38;5;241m=\u001b[39m {mimetype: metadata}\n",
      "File \u001b[1;32m~\\AppData\\Local\\Programs\\Python\\Python312\\Lib\\site-packages\\IPython\\core\\display.py:1047\u001b[0m, in \u001b[0;36mImage._data_and_metadata\u001b[1;34m(self, always_both)\u001b[0m\n\u001b[0;32m   1045\u001b[0m     b64_data \u001b[38;5;241m=\u001b[39m b2a_base64(\u001b[38;5;28mself\u001b[39m\u001b[38;5;241m.\u001b[39mdata, newline\u001b[38;5;241m=\u001b[39m\u001b[38;5;28;01mFalse\u001b[39;00m)\u001b[38;5;241m.\u001b[39mdecode(\u001b[38;5;124m\"\u001b[39m\u001b[38;5;124mascii\u001b[39m\u001b[38;5;124m\"\u001b[39m)\n\u001b[0;32m   1046\u001b[0m \u001b[38;5;28;01mexcept\u001b[39;00m \u001b[38;5;167;01mTypeError\u001b[39;00m \u001b[38;5;28;01mas\u001b[39;00m e:\n\u001b[1;32m-> 1047\u001b[0m     \u001b[38;5;28;01mraise\u001b[39;00m \u001b[38;5;167;01mFileNotFoundError\u001b[39;00m(\n\u001b[0;32m   1048\u001b[0m         \u001b[38;5;124m\"\u001b[39m\u001b[38;5;124mNo such file or directory: \u001b[39m\u001b[38;5;124m'\u001b[39m\u001b[38;5;132;01m%s\u001b[39;00m\u001b[38;5;124m'\u001b[39m\u001b[38;5;124m\"\u001b[39m \u001b[38;5;241m%\u001b[39m (\u001b[38;5;28mself\u001b[39m\u001b[38;5;241m.\u001b[39mdata)) \u001b[38;5;28;01mfrom\u001b[39;00m \u001b[38;5;21;01me\u001b[39;00m\n\u001b[0;32m   1049\u001b[0m md \u001b[38;5;241m=\u001b[39m {}\n\u001b[0;32m   1050\u001b[0m \u001b[38;5;28;01mif\u001b[39;00m \u001b[38;5;28mself\u001b[39m\u001b[38;5;241m.\u001b[39mmetadata:\n",
      "\u001b[1;31mFileNotFoundError\u001b[0m: No such file or directory: 'Assignment_on_Day_4.png'"
     ]
    },
    {
     "ename": "FileNotFoundError",
     "evalue": "No such file or directory: 'Assignment_on_Day_4.png'",
     "output_type": "error",
     "traceback": [
      "\u001b[1;31m---------------------------------------------------------------------------\u001b[0m",
      "\u001b[1;31mTypeError\u001b[0m                                 Traceback (most recent call last)",
      "File \u001b[1;32m~\\AppData\\Local\\Programs\\Python\\Python312\\Lib\\site-packages\\IPython\\core\\display.py:1045\u001b[0m, in \u001b[0;36mImage._data_and_metadata\u001b[1;34m(self, always_both)\u001b[0m\n\u001b[0;32m   1044\u001b[0m \u001b[38;5;28;01mtry\u001b[39;00m:\n\u001b[1;32m-> 1045\u001b[0m     b64_data \u001b[38;5;241m=\u001b[39m \u001b[43mb2a_base64\u001b[49m\u001b[43m(\u001b[49m\u001b[38;5;28;43mself\u001b[39;49m\u001b[38;5;241;43m.\u001b[39;49m\u001b[43mdata\u001b[49m\u001b[43m,\u001b[49m\u001b[43m \u001b[49m\u001b[43mnewline\u001b[49m\u001b[38;5;241;43m=\u001b[39;49m\u001b[38;5;28;43;01mFalse\u001b[39;49;00m\u001b[43m)\u001b[49m\u001b[38;5;241m.\u001b[39mdecode(\u001b[38;5;124m\"\u001b[39m\u001b[38;5;124mascii\u001b[39m\u001b[38;5;124m\"\u001b[39m)\n\u001b[0;32m   1046\u001b[0m \u001b[38;5;28;01mexcept\u001b[39;00m \u001b[38;5;167;01mTypeError\u001b[39;00m \u001b[38;5;28;01mas\u001b[39;00m e:\n",
      "\u001b[1;31mTypeError\u001b[0m: a bytes-like object is required, not 'str'",
      "\nThe above exception was the direct cause of the following exception:\n",
      "\u001b[1;31mFileNotFoundError\u001b[0m                         Traceback (most recent call last)",
      "File \u001b[1;32m~\\AppData\\Local\\Programs\\Python\\Python312\\Lib\\site-packages\\IPython\\core\\formatters.py:347\u001b[0m, in \u001b[0;36mBaseFormatter.__call__\u001b[1;34m(self, obj)\u001b[0m\n\u001b[0;32m    345\u001b[0m     method \u001b[38;5;241m=\u001b[39m get_real_method(obj, \u001b[38;5;28mself\u001b[39m\u001b[38;5;241m.\u001b[39mprint_method)\n\u001b[0;32m    346\u001b[0m     \u001b[38;5;28;01mif\u001b[39;00m method \u001b[38;5;129;01mis\u001b[39;00m \u001b[38;5;129;01mnot\u001b[39;00m \u001b[38;5;28;01mNone\u001b[39;00m:\n\u001b[1;32m--> 347\u001b[0m         \u001b[38;5;28;01mreturn\u001b[39;00m \u001b[43mmethod\u001b[49m\u001b[43m(\u001b[49m\u001b[43m)\u001b[49m\n\u001b[0;32m    348\u001b[0m     \u001b[38;5;28;01mreturn\u001b[39;00m \u001b[38;5;28;01mNone\u001b[39;00m\n\u001b[0;32m    349\u001b[0m \u001b[38;5;28;01melse\u001b[39;00m:\n",
      "File \u001b[1;32m~\\AppData\\Local\\Programs\\Python\\Python312\\Lib\\site-packages\\IPython\\core\\display.py:1067\u001b[0m, in \u001b[0;36mImage._repr_png_\u001b[1;34m(self)\u001b[0m\n\u001b[0;32m   1065\u001b[0m \u001b[38;5;28;01mdef\u001b[39;00m \u001b[38;5;21m_repr_png_\u001b[39m(\u001b[38;5;28mself\u001b[39m):\n\u001b[0;32m   1066\u001b[0m     \u001b[38;5;28;01mif\u001b[39;00m \u001b[38;5;28mself\u001b[39m\u001b[38;5;241m.\u001b[39membed \u001b[38;5;129;01mand\u001b[39;00m \u001b[38;5;28mself\u001b[39m\u001b[38;5;241m.\u001b[39mformat \u001b[38;5;241m==\u001b[39m \u001b[38;5;28mself\u001b[39m\u001b[38;5;241m.\u001b[39m_FMT_PNG:\n\u001b[1;32m-> 1067\u001b[0m         \u001b[38;5;28;01mreturn\u001b[39;00m \u001b[38;5;28;43mself\u001b[39;49m\u001b[38;5;241;43m.\u001b[39;49m\u001b[43m_data_and_metadata\u001b[49m\u001b[43m(\u001b[49m\u001b[43m)\u001b[49m\n",
      "File \u001b[1;32m~\\AppData\\Local\\Programs\\Python\\Python312\\Lib\\site-packages\\IPython\\core\\display.py:1047\u001b[0m, in \u001b[0;36mImage._data_and_metadata\u001b[1;34m(self, always_both)\u001b[0m\n\u001b[0;32m   1045\u001b[0m     b64_data \u001b[38;5;241m=\u001b[39m b2a_base64(\u001b[38;5;28mself\u001b[39m\u001b[38;5;241m.\u001b[39mdata, newline\u001b[38;5;241m=\u001b[39m\u001b[38;5;28;01mFalse\u001b[39;00m)\u001b[38;5;241m.\u001b[39mdecode(\u001b[38;5;124m\"\u001b[39m\u001b[38;5;124mascii\u001b[39m\u001b[38;5;124m\"\u001b[39m)\n\u001b[0;32m   1046\u001b[0m \u001b[38;5;28;01mexcept\u001b[39;00m \u001b[38;5;167;01mTypeError\u001b[39;00m \u001b[38;5;28;01mas\u001b[39;00m e:\n\u001b[1;32m-> 1047\u001b[0m     \u001b[38;5;28;01mraise\u001b[39;00m \u001b[38;5;167;01mFileNotFoundError\u001b[39;00m(\n\u001b[0;32m   1048\u001b[0m         \u001b[38;5;124m\"\u001b[39m\u001b[38;5;124mNo such file or directory: \u001b[39m\u001b[38;5;124m'\u001b[39m\u001b[38;5;132;01m%s\u001b[39;00m\u001b[38;5;124m'\u001b[39m\u001b[38;5;124m\"\u001b[39m \u001b[38;5;241m%\u001b[39m (\u001b[38;5;28mself\u001b[39m\u001b[38;5;241m.\u001b[39mdata)) \u001b[38;5;28;01mfrom\u001b[39;00m \u001b[38;5;21;01me\u001b[39;00m\n\u001b[0;32m   1049\u001b[0m md \u001b[38;5;241m=\u001b[39m {}\n\u001b[0;32m   1050\u001b[0m \u001b[38;5;28;01mif\u001b[39;00m \u001b[38;5;28mself\u001b[39m\u001b[38;5;241m.\u001b[39mmetadata:\n",
      "\u001b[1;31mFileNotFoundError\u001b[0m: No such file or directory: 'Assignment_on_Day_4.png'"
     ]
    },
    {
     "data": {
      "text/plain": [
       "<IPython.core.display.Image object>"
      ]
     },
     "execution_count": 51,
     "metadata": {},
     "output_type": "execute_result"
    }
   ],
   "source": [
    "from IPython.display import Image\n",
    "Image('Assignment_on_Day_4.png')"
   ]
  },
  {
   "cell_type": "markdown",
   "id": "49aa95d0-92dc-491a-8819-a1470595d610",
   "metadata": {},
   "source": [
    "# 1 no : Take Value of length and breadth of a rectangle from user input() and check if it is square or not."
   ]
  },
  {
   "cell_type": "code",
   "execution_count": 7,
   "id": "602e301c-f843-41c1-8cbd-fd70c535ed7a",
   "metadata": {},
   "outputs": [
    {
     "name": "stdin",
     "output_type": "stream",
     "text": [
      "Enter the value of length :  12\n",
      "Enter the value of breadth :  13\n"
     ]
    },
    {
     "name": "stdout",
     "output_type": "stream",
     "text": [
      "Rectangle is not square\n"
     ]
    }
   ],
   "source": [
    "l = float(input('Enter the value of length : ')) # length\n",
    "b = float(input('Enter the value of breadth : ')) # breadth\n",
    "\n",
    "if l == b:\n",
    "    print('Rectangle is square')\n",
    "else:\n",
    "    print('Rectangle is not square')"
   ]
  },
  {
   "cell_type": "code",
   "execution_count": 8,
   "id": "344e60fd-d6ea-4fe1-8761-a50443b98e25",
   "metadata": {},
   "outputs": [
    {
     "name": "stdin",
     "output_type": "stream",
     "text": [
      "Enter the value of length :  12\n",
      "Enter the value of breadth :  12\n"
     ]
    },
    {
     "name": "stdout",
     "output_type": "stream",
     "text": [
      "Rectangle is square\n"
     ]
    }
   ],
   "source": [
    "l = float(input('Enter the value of length : ')) # length\n",
    "b = float(input('Enter the value of breadth : ')) # breadth\n",
    "\n",
    "if l == b:\n",
    "    print('Rectangle is square')\n",
    "else:\n",
    "    print('Rectangle is not square')"
   ]
  },
  {
   "cell_type": "markdown",
   "id": "86097aa2-3053-4079-81bd-c34ba2972395",
   "metadata": {},
   "source": [
    "# 2 no : Take three integer values from user and print greatest among them"
   ]
  },
  {
   "cell_type": "code",
   "execution_count": 6,
   "id": "a7996de0-2ac8-4ed5-879e-0215f2c8c735",
   "metadata": {},
   "outputs": [
    {
     "name": "stdin",
     "output_type": "stream",
     "text": [
      "Enter first number :  12\n",
      "Enter second number :  45\n",
      "Enter third number :  90\n"
     ]
    },
    {
     "name": "stdout",
     "output_type": "stream",
     "text": [
      "n3 is the greatest number 90\n"
     ]
    }
   ],
   "source": [
    "n1 = int(input('Enter first number : '))\n",
    "n2 = int(input('Enter second number : '))\n",
    "n3 = int(input('Enter third number : '))\n",
    "\n",
    "if n1 > n2 and n1 > n3:\n",
    "    print('n1 is the greatest number', n1)\n",
    "elif n2 > n1 and n2 > n3:\n",
    "    print('n2 is the greatest number', n2)\n",
    "if n3 > n1 and n3 > n2:\n",
    "    print('n3 is the greatest number', n3)"
   ]
  },
  {
   "cell_type": "code",
   "execution_count": 9,
   "id": "c382a3bd-a87b-415b-af40-4e60c8b34036",
   "metadata": {},
   "outputs": [
    {
     "name": "stdin",
     "output_type": "stream",
     "text": [
      "Enter first number :  11\n",
      "Enter second number :  34\n",
      "Enter third number :  1\n"
     ]
    },
    {
     "name": "stdout",
     "output_type": "stream",
     "text": [
      "n2 is the greatest number 34\n"
     ]
    }
   ],
   "source": [
    "n1 = int(input('Enter first number : '))\n",
    "n2 = int(input('Enter second number : '))\n",
    "n3 = int(input('Enter third number : '))\n",
    "\n",
    "if n1 > n2 and n1 > n3:\n",
    "    print('n1 is the greatest number', n1)\n",
    "elif n2 > n1 and n2 > n3:\n",
    "    print('n2 is the greatest number', n2)\n",
    "if n3 > n1 and n3 > n2:\n",
    "    print('n3 is the greatest number', n3)"
   ]
  },
  {
   "cell_type": "code",
   "execution_count": 10,
   "id": "f981d693-7fbb-41c1-8e26-cf2d72cb7bbe",
   "metadata": {},
   "outputs": [
    {
     "name": "stdin",
     "output_type": "stream",
     "text": [
      "Enter first number :  123\n",
      "Enter second number :  122\n",
      "Enter third number :  121\n"
     ]
    },
    {
     "name": "stdout",
     "output_type": "stream",
     "text": [
      "n1 is the greatest number 123\n"
     ]
    }
   ],
   "source": [
    "n1 = int(input('Enter first number : '))\n",
    "n2 = int(input('Enter second number : '))\n",
    "n3 = int(input('Enter third number : '))\n",
    "\n",
    "if n1 > n2 and n1 > n3:\n",
    "    print('n1 is the greatest number', n1)\n",
    "elif n2 > n1 and n2 > n3:\n",
    "    print('n2 is the greatest number', n2)\n",
    "if n3 > n1 and n3 > n2:\n",
    "    print('n3 is the greatest number', n3)"
   ]
  },
  {
   "cell_type": "markdown",
   "id": "462add56-f8c8-4ffb-8342-a0ccfc02252a",
   "metadata": {},
   "source": [
    "# 3 no : A student will not allowed to sit in the examination if his/her attendence is less then 75%"
   ]
  },
  {
   "cell_type": "code",
   "execution_count": 35,
   "id": "556e6359-11cb-4e88-82f0-d51fd0db4739",
   "metadata": {},
   "outputs": [
    {
     "name": "stdin",
     "output_type": "stream",
     "text": [
      "Enter the no of held classes :  54\n",
      "Enter the no of attend classes :  50\n"
     ]
    }
   ],
   "source": [
    "held_cls = int(input('Enter the no of held classes : '))\n",
    "attend_cls = int(input('Enter the no of attend classes : '))\n",
    "attendence_ratio = (attend_cls / held_cls) * 100"
   ]
  },
  {
   "cell_type": "code",
   "execution_count": 36,
   "id": "7a86ac1c-b7f1-4ac0-a3b1-30197e613bff",
   "metadata": {},
   "outputs": [
    {
     "name": "stdout",
     "output_type": "stream",
     "text": [
      "Total cls held :  54\n",
      "Total attend cls :  50\n"
     ]
    },
    {
     "data": {
      "text/plain": [
       "92.5925925925926"
      ]
     },
     "execution_count": 36,
     "metadata": {},
     "output_type": "execute_result"
    }
   ],
   "source": [
    "print('Total cls held : ', held_cls)\n",
    "print('Total attend cls : ', attend_cls)\n",
    "attendence_ratio"
   ]
  },
  {
   "cell_type": "code",
   "execution_count": 37,
   "id": "fefbaa62-1206-4208-9c06-b906b7248e71",
   "metadata": {},
   "outputs": [
    {
     "name": "stdout",
     "output_type": "stream",
     "text": [
      "You are allowed to sit in the exam\n"
     ]
    }
   ],
   "source": [
    "if attendence_ratio >= 75:\n",
    "    print('You are allowed to sit in the exam')\n",
    "else:\n",
    "    print('You are not allowed to sit in the exam')"
   ]
  },
  {
   "cell_type": "markdown",
   "id": "9042bc08-53b9-4584-99d5-497e3f502850",
   "metadata": {},
   "source": [
    "# or"
   ]
  },
  {
   "cell_type": "code",
   "execution_count": 50,
   "id": "b9b9dc88-9b01-4d8a-874a-ede68f5cee76",
   "metadata": {},
   "outputs": [
    {
     "name": "stdin",
     "output_type": "stream",
     "text": [
      "Enter the no of held classes :  50\n",
      "Enter the no of attend classes :  34\n"
     ]
    },
    {
     "name": "stdout",
     "output_type": "stream",
     "text": [
      "Total cls held :  50\n",
      "Total attend cls :  34\n",
      "attendence ration is :  68.0\n",
      "You are not allowed to sit in the exam\n"
     ]
    }
   ],
   "source": [
    "held_cls = int(input('Enter the no of held classes : '))\n",
    "attend_cls = int(input('Enter the no of attend classes : '))\n",
    "attendence_ratio = (attend_cls / held_cls) * 100\n",
    "\n",
    "print('Total cls held : ', held_cls)\n",
    "print('Total attend cls : ', attend_cls)\n",
    "print('attendence ration is : ', attendence_ratio)\n",
    "\n",
    "if attendence_ratio >= 75:\n",
    "    print('You are allowed to sit in the exam')\n",
    "else:\n",
    "    print('You are not allowed to sit in the exam')     "
   ]
  },
  {
   "cell_type": "markdown",
   "id": "481fb58a-9841-43cc-aafc-35a85294f6f0",
   "metadata": {},
   "source": [
    "# 4 no : A school has following rules for grading system :\n",
    "# below 25 - fail\n",
    "# 25 to 44 - E\n",
    "# 45 to 49 - D\n",
    "# 50 to 59 - C\n",
    "# 60 to 79 - B\n",
    "# 80 to 89 - A\n",
    "# Above 90 - A+\n",
    "# Now ask user to enter the marks and print the corresponding grade"
   ]
  },
  {
   "cell_type": "code",
   "execution_count": 45,
   "id": "64d54ef8-9073-4cd3-b6f2-71795b07b1e5",
   "metadata": {},
   "outputs": [
    {
     "name": "stdin",
     "output_type": "stream",
     "text": [
      "Enter your marks :  89\n"
     ]
    }
   ],
   "source": [
    "marks_gain = float(input('Enter your marks : '))"
   ]
  },
  {
   "cell_type": "code",
   "execution_count": 46,
   "id": "107c503b-fc44-43dd-9336-711d9cc3a8fc",
   "metadata": {},
   "outputs": [
    {
     "name": "stdout",
     "output_type": "stream",
     "text": [
      "A\n"
     ]
    }
   ],
   "source": [
    "if marks_gain <= 100 and marks_gain >= 90:\n",
    "    print('A+')\n",
    "elif marks_gain >= 80 and marks_gain <= 89:\n",
    "    print('A')\n",
    "elif marks_gain >= 60 and marks_gain <= 79:\n",
    "    print('B')\n",
    "elif marks_gain >= 50 and marks_gain <= 59:\n",
    "    print('C')\n",
    "elif marks_gain >= 45 and marks_gain <= 49:\n",
    "    print('D')\n",
    "elif marks_gain >= 25 and marks_gain <= 44:\n",
    "    print('E')\n",
    "else:\n",
    "    print('F')"
   ]
  },
  {
   "cell_type": "markdown",
   "id": "d45be7f7-077a-450a-8234-a793aba7bd1f",
   "metadata": {},
   "source": [
    "# or"
   ]
  },
  {
   "cell_type": "code",
   "execution_count": 49,
   "id": "16f64c68-6806-499a-82d5-a6db85fa2847",
   "metadata": {},
   "outputs": [
    {
     "name": "stdin",
     "output_type": "stream",
     "text": [
      "Enter your marks :  79\n"
     ]
    },
    {
     "name": "stdout",
     "output_type": "stream",
     "text": [
      "B\n"
     ]
    }
   ],
   "source": [
    "marks_gain = float(input('Enter your marks : '))\n",
    "\n",
    "if marks_gain >= 90 and marks_gain <= 100:\n",
    "    print('A+')\n",
    "elif marks_gain >= 80:\n",
    "    print('A')\n",
    "elif marks_gain >= 60:\n",
    "    print('B')\n",
    "elif marks_gain >= 50:\n",
    "    print('C')\n",
    "elif marks_gain >= 45:\n",
    "    print('D')\n",
    "elif marks_gain >= 25:\n",
    "    print('E')\n",
    "else:\n",
    "    print('F')\n"
   ]
  }
 ],
 "metadata": {
  "kernelspec": {
   "display_name": "Python 3 (ipykernel)",
   "language": "python",
   "name": "python3"
  },
  "language_info": {
   "codemirror_mode": {
    "name": "ipython",
    "version": 3
   },
   "file_extension": ".py",
   "mimetype": "text/x-python",
   "name": "python",
   "nbconvert_exporter": "python",
   "pygments_lexer": "ipython3",
   "version": "3.12.4"
  },
  "widgets": {
   "application/vnd.jupyter.widget-state+json": {
    "state": {},
    "version_major": 2,
    "version_minor": 0
   }
  }
 },
 "nbformat": 4,
 "nbformat_minor": 5
}
