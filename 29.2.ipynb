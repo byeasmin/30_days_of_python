{
 "cells": [
  {
   "cell_type": "markdown",
   "id": "d983e7fd-d0c8-41a9-9a6f-223810954f91",
   "metadata": {},
   "source": [
    "# https://github.com/byeasmin/30_days_of_python"
   ]
  },
  {
   "cell_type": "markdown",
   "id": "a9e99618-c40a-4666-87f5-b485620ed611",
   "metadata": {},
   "source": [
    "# PDF Reader"
   ]
  },
  {
   "cell_type": "code",
   "execution_count": 1,
   "id": "aa83a64f-ca6a-449b-b43b-86b0e5183183",
   "metadata": {},
   "outputs": [
    {
     "name": "stdout",
     "output_type": "stream",
     "text": [
      "Collecting pypdf\n",
      "  Downloading pypdf-6.0.0-py3-none-any.whl.metadata (7.1 kB)\n",
      "Downloading pypdf-6.0.0-py3-none-any.whl (310 kB)\n",
      "Installing collected packages: pypdf\n",
      "Successfully installed pypdf-6.0.0\n"
     ]
    }
   ],
   "source": [
    "!pip install pypdf "
   ]
  },
  {
   "cell_type": "code",
   "execution_count": 4,
   "id": "b9ab6704-7295-4767-a703-0c95f4829106",
   "metadata": {},
   "outputs": [],
   "source": [
    "from pypdf import PdfReader\n",
    "PDF = PdfReader('DEVELOPER FUNDAMENTALS.pdf')"
   ]
  },
  {
   "cell_type": "code",
   "execution_count": 5,
   "id": "5e6b663d-bb7e-4fe3-9907-5ec61eb33a15",
   "metadata": {},
   "outputs": [
    {
     "data": {
      "text/plain": [
       "4"
      ]
     },
     "execution_count": 5,
     "metadata": {},
     "output_type": "execute_result"
    }
   ],
   "source": [
    "len(PDF.pages)"
   ]
  },
  {
   "cell_type": "code",
   "execution_count": 7,
   "id": "ef3fa1c4-3891-4cb2-a6ed-49b00fe7cc2d",
   "metadata": {},
   "outputs": [
    {
     "data": {
      "text/plain": [
       "'Python Developer Fundamentals Roadmap  \\nThis roadmap helps you master Python development fundamentals while focusing on key \\nsoftware principles: \\n- Clean Code \\n- Readability \\n- Predictability \\n- DRY (Don\\'t Repeat Yourself) \\n \\n1. Core Python Syntax & Data Types \\nGoal: Write predictable, readable code from the start. \\n- Variables & Data Types: int, float, str, bool \\n- Control Flow: if, elif, else \\n- Loops: for, while \\n- Basic I/O: input(), print() \\n- Collections: list, tuple, dict, set \\n \\nClean Code Tip: \\n# Bad: a = 5 \\n# Good: user_age = 5 \\n2. Functions (Modularity + DRY Principle) \\nGoal: Avoid code repetition and increase reusability. \\n- def keyword \\n- Parameters, default arguments, return values \\n- *args and **kwargs \\n \\nDRY Example: \\n# Bad: \\nprint(\"Welcome Alice\") \\nprint(\"Welcome Bob\") \\n \\n# Good: \\ndef greet_user(name): \\n    print(f\"Welcome {name}\") '"
      ]
     },
     "execution_count": 7,
     "metadata": {},
     "output_type": "execute_result"
    }
   ],
   "source": [
    "page = PDF.pages[0]\n",
    "page.extract_text()"
   ]
  },
  {
   "cell_type": "markdown",
   "id": "b6087f5e-9a1b-4cbb-8c86-1835be9ac6f4",
   "metadata": {},
   "source": [
    "# More Better Option"
   ]
  },
  {
   "cell_type": "code",
   "execution_count": 8,
   "id": "39d50e08-be93-4b33-8173-446af527c96c",
   "metadata": {},
   "outputs": [
    {
     "ename": "ModuleNotFoundError",
     "evalue": "No module named 'PyPDF2'",
     "output_type": "error",
     "traceback": [
      "\u001b[1;31m---------------------------------------------------------------------------\u001b[0m",
      "\u001b[1;31mModuleNotFoundError\u001b[0m                       Traceback (most recent call last)",
      "Cell \u001b[1;32mIn[8], line 1\u001b[0m\n\u001b[1;32m----> 1\u001b[0m \u001b[38;5;28;01mimport\u001b[39;00m \u001b[38;5;21;01mPyPDF2\u001b[39;00m\n",
      "\u001b[1;31mModuleNotFoundError\u001b[0m: No module named 'PyPDF2'"
     ]
    }
   ],
   "source": [
    "import PyPDF2"
   ]
  },
  {
   "cell_type": "code",
   "execution_count": 9,
   "id": "252fbfd7-0ef3-496f-9d55-d868fbed3f03",
   "metadata": {},
   "outputs": [
    {
     "name": "stdout",
     "output_type": "stream",
     "text": [
      "Collecting PyPDF2\n",
      "  Downloading pypdf2-3.0.1-py3-none-any.whl.metadata (6.8 kB)\n",
      "Downloading pypdf2-3.0.1-py3-none-any.whl (232 kB)\n",
      "Installing collected packages: PyPDF2\n",
      "Successfully installed PyPDF2-3.0.1\n"
     ]
    }
   ],
   "source": [
    "!pip install PyPDF2 "
   ]
  },
  {
   "cell_type": "code",
   "execution_count": 10,
   "id": "752a2268-a74e-4542-b025-9c8552eb5de0",
   "metadata": {},
   "outputs": [],
   "source": [
    "import PyPDF2"
   ]
  },
  {
   "cell_type": "code",
   "execution_count": 11,
   "id": "21704efb-c71c-4284-b378-02ba646dd48a",
   "metadata": {},
   "outputs": [],
   "source": [
    "path = 'DEVELOPER FUNDAMENTALS.pdf'"
   ]
  },
  {
   "cell_type": "code",
   "execution_count": 21,
   "id": "3edef495-3e3b-4d61-b8fa-c20873f9dcc4",
   "metadata": {},
   "outputs": [
    {
     "name": "stdout",
     "output_type": "stream",
     "text": [
      "3. Working with Modules and Packages  \n",
      "Goal:  Make code predictable and clean by organizing it.  \n",
      "- import statements  \n",
      "- Standard Library: math, os, random  \n",
      "- Creating custom .py modules  \n",
      "- Virtual en vironments (venv)  \n",
      " \n",
      "Clean Project Structure:  \n",
      "project/  \n",
      "├── main.py  \n",
      "├── utils/  \n",
      "│   └── helpers.py  \n",
      "└── requirements.txt  \n",
      "4. Error Handling (for Predictability)  \n",
      "Goal:  Make your code robust and predictable.  \n",
      "- try-except blocks  \n",
      "- Common Exceptions: ValueError, Typ eError, KeyError  \n",
      "- finally and else  \n",
      " \n",
      "Example:  \n",
      "try: \n",
      "    num = int(input(\"Enter a number: \"))  \n",
      "except ValueError:  \n",
      "    print(\"That's not a number!\")  \n",
      "5. Object -Oriented Programming (OOP)  \n",
      "Goal:  Improve structure, avoid repetition, and increase clarity.  \n",
      "- Classes  and Objects  \n",
      "- __init__, self  \n",
      "- Inheritance & Polymorphism  \n",
      "- Encapsulation  \n",
      " \n",
      "Example:  \n",
      "class Car:  \n",
      "    def __init__(self, brand):  \n",
      "        self.brand = brand  \n",
      " \n",
      "    def start_engine(self):  \n",
      "        print(f\"{self.brand} engine started.\")  \n"
     ]
    }
   ],
   "source": [
    "with open(path, 'rb') as file:\n",
    "    reader = PyPDF2.PdfReader(file)\n",
    "\n",
    "    first_page = reader.pages[1].extract_text()\n",
    "    print(first_page)"
   ]
  },
  {
   "cell_type": "code",
   "execution_count": 22,
   "id": "15cf40c7-951e-41e8-a124-81fd98bb89be",
   "metadata": {},
   "outputs": [
    {
     "name": "stdout",
     "output_type": "stream",
     "text": [
      "Python Developer Fundamentals Roadmap  \n",
      "This roadmap helps you master Python development fundamentals while focusing on key \n",
      "software principles:  \n",
      "- Clean Code  \n",
      "- Readability  \n",
      "- Predictability  \n",
      "- DRY (Don't Repeat Yourself)  \n",
      " \n",
      "1. Core Python Syntax & Data Types  \n",
      "Goal:  Write predictable, readable code from the start.  \n",
      "- Variables & Data Types: int, float, str, bool  \n",
      "- Control Flow: if, elif, else  \n",
      "- Loops: for, while  \n",
      "- Basic I/O: input(), print()  \n",
      "- Collections: list, tuple, dict, set  \n",
      " \n",
      "Clean Code Tip:  \n",
      "# Bad: a = 5 \n",
      "# Go od: user_age = 5  \n",
      "2. Functions (Modularity + DRY Principle)  \n",
      "Goal:  Avoid code repetition and increase reusability.  \n",
      "- def keyword  \n",
      "- Parameters, default arguments, return values  \n",
      "- *args and **kwargs  \n",
      " \n",
      "DRY Example:  \n",
      "# Bad:  \n",
      "print(\"Welcome Alice\")  \n",
      "print(\"Welcome Bo b\") \n",
      " \n",
      "# Good:  \n",
      "def greet_user(name):  \n",
      "    print(f\"Welcome {name}\")  \n"
     ]
    }
   ],
   "source": [
    "with open(path, 'rb') as file:\n",
    "    reader = PyPDF2.PdfReader(file)\n",
    "\n",
    "    first_page = reader.pages[0].extract_text()\n",
    "    print(first_page)"
   ]
  },
  {
   "cell_type": "code",
   "execution_count": 23,
   "id": "65eed518-8311-4f3a-9c48-1ee69b3d6fc7",
   "metadata": {},
   "outputs": [
    {
     "name": "stdout",
     "output_type": "stream",
     "text": [
      "6. Code Formatting & Style  \n",
      "Goal:  Ensure readable and consistent code.  \n",
      "- Follow PEP 8 style guide  \n",
      "- Use formatters: black, autopep 8 \n",
      "- Use linters: flake 8, pylint  \n",
      " \n",
      "Tools:  \n",
      "- VS Code Extensions: Python + Pylance + Black Formatter  \n",
      "- Pre-commit hooks to auto -format code  \n",
      "7. Testing & Debug ging \n",
      "Goal:  Ensure predictable behavior and maintainability.  \n",
      "- print() debugging  \n",
      "- pdb (Python Debugger)  \n",
      "- Unit testing: unittest, pytest  \n",
      " \n",
      "Example:  \n",
      "import unittest  \n",
      " \n",
      "def add(a, b):  \n",
      "    return a + b  \n",
      " \n",
      "class TestMath(unittest.TestCase):  \n",
      "    def test_add(self):  \n",
      "        self.assertEqual(add(2, 3), 5)  \n",
      "8. Version Control (Git)  \n",
      "Goal:  Keep your project clean, safe, and manageable.  \n",
      "- git init, git add, git commit  \n",
      "- .gitignore file  \n",
      "- Write meaningful commit messages  \n",
      "9. Practice Projects  \n",
      "Apply clean, DRY , and predictable  coding skills.  \n",
      "Start Simple:  \n",
      "- Calculator  \n",
      "- To-Do CLI app  \n",
      "- Contact Book  \n"
     ]
    }
   ],
   "source": [
    "with open(path, 'rb') as file:\n",
    "    reader = PyPDF2.PdfReader(file)\n",
    "\n",
    "    first_page = reader.pages[2].extract_text()\n",
    "    print(first_page)"
   ]
  },
  {
   "cell_type": "markdown",
   "id": "860b2599-46a6-438e-b9a3-8c42b4d81f87",
   "metadata": {},
   "source": [
    "# Using For Loop"
   ]
  },
  {
   "cell_type": "code",
   "execution_count": 24,
   "id": "6acbde33-5116-4332-b50a-ab8153e373dd",
   "metadata": {},
   "outputs": [
    {
     "name": "stdout",
     "output_type": "stream",
     "text": [
      "Python Developer Fundamentals Roadmap  \n",
      "This roadmap helps you master Python development fundamentals while focusing on key \n",
      "software principles:  \n",
      "- Clean Code  \n",
      "- Readability  \n",
      "- Predictability  \n",
      "- DRY (Don't Repeat Yourself)  \n",
      " \n",
      "1. Core Python Syntax & Data Types  \n",
      "Goal:  Write predictable, readable code from the start.  \n",
      "- Variables & Data Types: int, float, str, bool  \n",
      "- Control Flow: if, elif, else  \n",
      "- Loops: for, while  \n",
      "- Basic I/O: input(), print()  \n",
      "- Collections: list, tuple, dict, set  \n",
      " \n",
      "Clean Code Tip:  \n",
      "# Bad: a = 5 \n",
      "# Go od: user_age = 5  \n",
      "2. Functions (Modularity + DRY Principle)  \n",
      "Goal:  Avoid code repetition and increase reusability.  \n",
      "- def keyword  \n",
      "- Parameters, default arguments, return values  \n",
      "- *args and **kwargs  \n",
      " \n",
      "DRY Example:  \n",
      "# Bad:  \n",
      "print(\"Welcome Alice\")  \n",
      "print(\"Welcome Bo b\") \n",
      " \n",
      "# Good:  \n",
      "def greet_user(name):  \n",
      "    print(f\"Welcome {name}\")  \n",
      "\n",
      "\n",
      "3. Working with Modules and Packages  \n",
      "Goal:  Make code predictable and clean by organizing it.  \n",
      "- import statements  \n",
      "- Standard Library: math, os, random  \n",
      "- Creating custom .py modules  \n",
      "- Virtual en vironments (venv)  \n",
      " \n",
      "Clean Project Structure:  \n",
      "project/  \n",
      "├── main.py  \n",
      "├── utils/  \n",
      "│   └── helpers.py  \n",
      "└── requirements.txt  \n",
      "4. Error Handling (for Predictability)  \n",
      "Goal:  Make your code robust and predictable.  \n",
      "- try-except blocks  \n",
      "- Common Exceptions: ValueError, Typ eError, KeyError  \n",
      "- finally and else  \n",
      " \n",
      "Example:  \n",
      "try: \n",
      "    num = int(input(\"Enter a number: \"))  \n",
      "except ValueError:  \n",
      "    print(\"That's not a number!\")  \n",
      "5. Object -Oriented Programming (OOP)  \n",
      "Goal:  Improve structure, avoid repetition, and increase clarity.  \n",
      "- Classes  and Objects  \n",
      "- __init__, self  \n",
      "- Inheritance & Polymorphism  \n",
      "- Encapsulation  \n",
      " \n",
      "Example:  \n",
      "class Car:  \n",
      "    def __init__(self, brand):  \n",
      "        self.brand = brand  \n",
      " \n",
      "    def start_engine(self):  \n",
      "        print(f\"{self.brand} engine started.\")  \n",
      "\n",
      "\n",
      "6. Code Formatting & Style  \n",
      "Goal:  Ensure readable and consistent code.  \n",
      "- Follow PEP 8 style guide  \n",
      "- Use formatters: black, autopep 8 \n",
      "- Use linters: flake 8, pylint  \n",
      " \n",
      "Tools:  \n",
      "- VS Code Extensions: Python + Pylance + Black Formatter  \n",
      "- Pre-commit hooks to auto -format code  \n",
      "7. Testing & Debug ging \n",
      "Goal:  Ensure predictable behavior and maintainability.  \n",
      "- print() debugging  \n",
      "- pdb (Python Debugger)  \n",
      "- Unit testing: unittest, pytest  \n",
      " \n",
      "Example:  \n",
      "import unittest  \n",
      " \n",
      "def add(a, b):  \n",
      "    return a + b  \n",
      " \n",
      "class TestMath(unittest.TestCase):  \n",
      "    def test_add(self):  \n",
      "        self.assertEqual(add(2, 3), 5)  \n",
      "8. Version Control (Git)  \n",
      "Goal:  Keep your project clean, safe, and manageable.  \n",
      "- git init, git add, git commit  \n",
      "- .gitignore file  \n",
      "- Write meaningful commit messages  \n",
      "9. Practice Projects  \n",
      "Apply clean, DRY , and predictable  coding skills.  \n",
      "Start Simple:  \n",
      "- Calculator  \n",
      "- To-Do CLI app  \n",
      "- Contact Book  \n",
      "\n",
      "\n",
      " \n",
      "Level Up:  \n",
      "- Weather CLI (with API)  \n",
      "- File Organizer  \n",
      "- Expense Tracker  \n",
      "Summary: Think Like a Python Developer  \n",
      "Principle          |   You Practice It By...  \n",
      "------------------ |----------------------------  \n",
      "Clean               |   Writing formatted, modular code  \n",
      "Readability      |   Good naming, comments, PEP 8 \n",
      "Predictability   |   Handling errors, writing tests  \n",
      "DRY                |    Using functions and classes wisely  \n",
      " \n",
      " \n",
      " \n",
      "\n",
      "\n"
     ]
    }
   ],
   "source": [
    "with open(path, 'rb') as file:\n",
    "    reader = PyPDF2.PdfReader(file)\n",
    "\n",
    "    # first_page = reader.pages[2].extract_text()\n",
    "    # print(first_page)\n",
    "\n",
    "    for page in reader.pages:\n",
    "        text = page.extract_text()\n",
    "        print(text)\n",
    "        print('\\n')"
   ]
  }
 ],
 "metadata": {
  "kernelspec": {
   "display_name": "Python 3 (ipykernel)",
   "language": "python",
   "name": "python3"
  },
  "language_info": {
   "codemirror_mode": {
    "name": "ipython",
    "version": 3
   },
   "file_extension": ".py",
   "mimetype": "text/x-python",
   "name": "python",
   "nbconvert_exporter": "python",
   "pygments_lexer": "ipython3",
   "version": "3.12.4"
  },
  "widgets": {
   "application/vnd.jupyter.widget-state+json": {
    "state": {},
    "version_major": 2,
    "version_minor": 0
   }
  }
 },
 "nbformat": 4,
 "nbformat_minor": 5
}
