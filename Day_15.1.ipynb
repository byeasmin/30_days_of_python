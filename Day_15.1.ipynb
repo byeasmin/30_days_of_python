{
 "cells": [
  {
   "cell_type": "markdown",
   "id": "5806098f-da3f-45f5-873b-753c6e4fdc31",
   "metadata": {},
   "source": [
    "# https://github.com/byeasmin/30_days_of_python"
   ]
  },
  {
   "cell_type": "markdown",
   "id": "50c748fd-adbd-4c22-81e9-7224097a77b5",
   "metadata": {},
   "source": [
    "# Break"
   ]
  },
  {
   "cell_type": "code",
   "execution_count": 1,
   "id": "e513cd16-9d40-4ec6-950a-c902775a6657",
   "metadata": {},
   "outputs": [
    {
     "name": "stdout",
     "output_type": "stream",
     "text": [
      "0 1 2 3 4 5 6 7 8 9 10 11 12 13 14 15 16 17 18 19 20 21 22 23 24 25 26 27 28 29 30 31 32 33 34 35 36 37 38 39 40 41 42 43 44 45 46 47 48 49 50 51 52 53 54 55 56 57 58 59 60 61 62 63 64 65 66 67 68 69 70 71 72 73 74 75 76 77 78 79 80 81 82 83 84 85 86 87 88 89 90 91 92 93 94 95 96 97 98 99 "
     ]
    }
   ],
   "source": [
    "for i in range(100):\n",
    "    print(i, end = ' ')"
   ]
  },
  {
   "cell_type": "code",
   "execution_count": 2,
   "id": "83073532-c2ea-4633-b3d8-c3da577f1fca",
   "metadata": {},
   "outputs": [
    {
     "name": "stdout",
     "output_type": "stream",
     "text": [
      "0 1 2 3 4 5 6 7 8 9 10 11 12 13 14 15 16 17 18 19 20 21 22 23 24 25 26 27 28 29 30 31 32 33 34 35 36 37 38 39 40 41 42 43 44 45 46 47 48 49 "
     ]
    }
   ],
   "source": [
    "for i in range(100):\n",
    "    if i == 50:\n",
    "        break\n",
    "    print(i, end = ' ')"
   ]
  },
  {
   "cell_type": "code",
   "execution_count": 4,
   "id": "e31177ee-a4a1-4485-b01e-9903f5871a80",
   "metadata": {},
   "outputs": [
    {
     "name": "stdout",
     "output_type": "stream",
     "text": [
      "3 * 1 = 3\n",
      "3 * 2 = 6\n",
      "3 * 3 = 9\n",
      "3 * 4 = 12\n",
      "3 * 5 = 15\n",
      "3 * 6 = 18\n",
      "3 * 7 = 21\n",
      "3 * 8 = 24\n",
      "3 * 9 = 27\n",
      "3 * 10 = 30\n",
      "3 * 11 = 33\n",
      "3 * 12 = 36\n",
      "3 * 13 = 39\n",
      "3 * 14 = 42\n",
      "3 * 15 = 45\n",
      "3 * 16 = 48\n",
      "3 * 17 = 51\n",
      "3 * 18 = 54\n",
      "3 * 19 = 57\n",
      "3 * 20 = 60\n",
      "3 * 21 = 63\n",
      "3 * 22 = 66\n",
      "3 * 23 = 69\n",
      "3 * 24 = 72\n",
      "3 * 25 = 75\n",
      "3 * 26 = 78\n",
      "3 * 27 = 81\n",
      "3 * 28 = 84\n",
      "3 * 29 = 87\n",
      "3 * 30 = 90\n",
      "3 * 31 = 93\n",
      "3 * 32 = 96\n",
      "3 * 33 = 99\n",
      "3 * 34 = 102\n",
      "3 * 35 = 105\n",
      "3 * 36 = 108\n",
      "3 * 37 = 111\n",
      "3 * 38 = 114\n",
      "3 * 39 = 117\n",
      "3 * 40 = 120\n",
      "3 * 41 = 123\n",
      "3 * 42 = 126\n",
      "3 * 43 = 129\n",
      "3 * 44 = 132\n",
      "3 * 45 = 135\n",
      "3 * 46 = 138\n",
      "3 * 47 = 141\n",
      "3 * 48 = 144\n",
      "3 * 49 = 147\n",
      "3 * 50 = 150\n",
      "3 * 51 = 153\n",
      "3 * 52 = 156\n",
      "3 * 53 = 159\n",
      "3 * 54 = 162\n",
      "3 * 55 = 165\n",
      "3 * 56 = 168\n",
      "3 * 57 = 171\n",
      "3 * 58 = 174\n",
      "3 * 59 = 177\n",
      "3 * 60 = 180\n",
      "3 * 61 = 183\n",
      "3 * 62 = 186\n",
      "3 * 63 = 189\n",
      "3 * 64 = 192\n",
      "3 * 65 = 195\n",
      "3 * 66 = 198\n",
      "3 * 67 = 201\n",
      "3 * 68 = 204\n",
      "3 * 69 = 207\n",
      "3 * 70 = 210\n",
      "3 * 71 = 213\n",
      "3 * 72 = 216\n",
      "3 * 73 = 219\n",
      "3 * 74 = 222\n",
      "3 * 75 = 225\n",
      "3 * 76 = 228\n",
      "3 * 77 = 231\n",
      "3 * 78 = 234\n",
      "3 * 79 = 237\n",
      "3 * 80 = 240\n",
      "3 * 81 = 243\n",
      "3 * 82 = 246\n",
      "3 * 83 = 249\n",
      "3 * 84 = 252\n",
      "3 * 85 = 255\n",
      "3 * 86 = 258\n",
      "3 * 87 = 261\n",
      "3 * 88 = 264\n",
      "3 * 89 = 267\n",
      "3 * 90 = 270\n",
      "3 * 91 = 273\n",
      "3 * 92 = 276\n",
      "3 * 93 = 279\n",
      "3 * 94 = 282\n",
      "3 * 95 = 285\n",
      "3 * 96 = 288\n",
      "3 * 97 = 291\n",
      "3 * 98 = 294\n",
      "3 * 99 = 297\n"
     ]
    }
   ],
   "source": [
    "for i in range(1, 100):\n",
    "    print(f'3 * {i} = {i * 3}')"
   ]
  },
  {
   "cell_type": "code",
   "execution_count": 5,
   "id": "a0b55d47-81ea-432b-80e4-8a3e31d4caaf",
   "metadata": {},
   "outputs": [
    {
     "name": "stdout",
     "output_type": "stream",
     "text": [
      "3 * 1 = 3\n",
      "3 * 2 = 6\n",
      "3 * 3 = 9\n",
      "3 * 4 = 12\n",
      "3 * 5 = 15\n",
      "3 * 6 = 18\n",
      "3 * 7 = 21\n",
      "3 * 8 = 24\n",
      "3 * 9 = 27\n",
      "3 * 10 = 30\n"
     ]
    }
   ],
   "source": [
    "for i in range(1, 100):\n",
    "    if i == 11:\n",
    "        break\n",
    "    print(f'3 * {i} = {i * 3}')"
   ]
  },
  {
   "cell_type": "markdown",
   "id": "d7083579-f3bc-4df4-891f-1c4886f1369b",
   "metadata": {},
   "source": [
    "# In List"
   ]
  },
  {
   "cell_type": "code",
   "execution_count": 11,
   "id": "f8c51c9d-ab3b-4042-a471-0e2530d940fe",
   "metadata": {},
   "outputs": [
    {
     "name": "stdout",
     "output_type": "stream",
     "text": [
      "i\n",
      "love\n",
      "python\n"
     ]
    }
   ],
   "source": [
    "txt = 'i love python and django'\n",
    "\n",
    "for i in txt.split():\n",
    "    if i == 'and':\n",
    "        break\n",
    "    print(i)"
   ]
  },
  {
   "cell_type": "markdown",
   "id": "eeb71174-8a0b-4157-98f2-408361f0ee59",
   "metadata": {},
   "source": [
    "# While Loop"
   ]
  },
  {
   "cell_type": "code",
   "execution_count": 15,
   "id": "a4073103-c58a-4f01-8126-c666ca773135",
   "metadata": {},
   "outputs": [
    {
     "name": "stdout",
     "output_type": "stream",
     "text": [
      "5 * 1 = 3\n",
      "5 * 2 = 6\n",
      "5 * 3 = 9\n",
      "5 * 4 = 12\n",
      "5 * 5 = 15\n",
      "5 * 6 = 18\n",
      "5 * 7 = 21\n",
      "5 * 8 = 24\n",
      "5 * 9 = 27\n",
      "5 * 10 = 30\n"
     ]
    }
   ],
   "source": [
    "i = 1\n",
    "\n",
    "while i <= 100:\n",
    "    if i == 11:\n",
    "        break\n",
    "    print(f'5 * {i} = {i * 3}')\n",
    "    i = i + 1"
   ]
  }
 ],
 "metadata": {
  "kernelspec": {
   "display_name": "Python 3 (ipykernel)",
   "language": "python",
   "name": "python3"
  },
  "language_info": {
   "codemirror_mode": {
    "name": "ipython",
    "version": 3
   },
   "file_extension": ".py",
   "mimetype": "text/x-python",
   "name": "python",
   "nbconvert_exporter": "python",
   "pygments_lexer": "ipython3",
   "version": "3.12.4"
  },
  "widgets": {
   "application/vnd.jupyter.widget-state+json": {
    "state": {},
    "version_major": 2,
    "version_minor": 0
   }
  }
 },
 "nbformat": 4,
 "nbformat_minor": 5
}
