{
 "cells": [
  {
   "cell_type": "markdown",
   "id": "d08d9f77-8937-4a30-a313-d51eb7f1ea95",
   "metadata": {},
   "source": [
    "# https://github.com/byeasmin/30_days_of_python"
   ]
  },
  {
   "cell_type": "markdown",
   "id": "22f5a00e-3bfa-4a6e-b2de-a0bf451ba301",
   "metadata": {},
   "source": [
    "# Set"
   ]
  },
  {
   "cell_type": "code",
   "execution_count": 3,
   "id": "ac39be20-5d5e-4ee3-8e0c-6a0c96ba3074",
   "metadata": {},
   "outputs": [],
   "source": [
    "set1 = {1, 2, 5, 8, 90, (34, 89, 9, 1), 'python'}"
   ]
  },
  {
   "cell_type": "code",
   "execution_count": 4,
   "id": "3e414dd8-0fb3-4ecc-9186-695bd5ce5f9c",
   "metadata": {},
   "outputs": [
    {
     "data": {
      "text/plain": [
       "{(34, 89, 9, 1), 1, 2, 5, 8, 90, 'python'}"
      ]
     },
     "execution_count": 4,
     "metadata": {},
     "output_type": "execute_result"
    }
   ],
   "source": [
    "set1"
   ]
  },
  {
   "cell_type": "code",
   "execution_count": 5,
   "id": "0b4a3f04-d85d-40e2-b73f-78289447ed58",
   "metadata": {},
   "outputs": [
    {
     "data": {
      "text/plain": [
       "set"
      ]
     },
     "execution_count": 5,
     "metadata": {},
     "output_type": "execute_result"
    }
   ],
   "source": [
    "type(set1)"
   ]
  },
  {
   "cell_type": "code",
   "execution_count": 8,
   "id": "8913f5b1-a6e0-4c38-b00c-e758d354117c",
   "metadata": {},
   "outputs": [],
   "source": [
    "set2 = {} # it is not set"
   ]
  },
  {
   "cell_type": "code",
   "execution_count": 9,
   "id": "835e53c3-504b-49dd-b8d1-a2a406879ab4",
   "metadata": {},
   "outputs": [
    {
     "data": {
      "text/plain": [
       "dict"
      ]
     },
     "execution_count": 9,
     "metadata": {},
     "output_type": "execute_result"
    }
   ],
   "source": [
    "type(set2)"
   ]
  },
  {
   "cell_type": "code",
   "execution_count": 10,
   "id": "bec7be28-26ed-48a0-b137-a22a9e979fb0",
   "metadata": {},
   "outputs": [],
   "source": [
    "set3 = set()"
   ]
  },
  {
   "cell_type": "code",
   "execution_count": 11,
   "id": "797a769c-079a-4d0d-965d-3d2a984dc18c",
   "metadata": {},
   "outputs": [
    {
     "data": {
      "text/plain": [
       "set"
      ]
     },
     "execution_count": 11,
     "metadata": {},
     "output_type": "execute_result"
    }
   ],
   "source": [
    "type(set3)"
   ]
  },
  {
   "cell_type": "markdown",
   "id": "c6166679-2f69-4877-b59f-2e70ae3bfb1b",
   "metadata": {},
   "source": [
    "# Because of unindexed"
   ]
  },
  {
   "cell_type": "code",
   "execution_count": 14,
   "id": "bbe2aff1-a27e-4822-8694-c98a10d335dd",
   "metadata": {},
   "outputs": [
    {
     "data": {
      "text/plain": [
       "{(34, 89, 9, 1), 1, 2, 5, 8, 90, 'python'}"
      ]
     },
     "execution_count": 14,
     "metadata": {},
     "output_type": "execute_result"
    }
   ],
   "source": [
    "set1 # that is ehy it is unchangable or immutable"
   ]
  },
  {
   "cell_type": "code",
   "execution_count": 15,
   "id": "cd7d5184-1754-4bf9-af04-c79ad45fe812",
   "metadata": {},
   "outputs": [
    {
     "ename": "TypeError",
     "evalue": "'set' object is not subscriptable",
     "output_type": "error",
     "traceback": [
      "\u001b[1;31m---------------------------------------------------------------------------\u001b[0m",
      "\u001b[1;31mTypeError\u001b[0m                                 Traceback (most recent call last)",
      "Cell \u001b[1;32mIn[15], line 1\u001b[0m\n\u001b[1;32m----> 1\u001b[0m \u001b[43mset1\u001b[49m\u001b[43m[\u001b[49m\u001b[38;5;241;43m0\u001b[39;49m\u001b[43m]\u001b[49m\n",
      "\u001b[1;31mTypeError\u001b[0m: 'set' object is not subscriptable"
     ]
    }
   ],
   "source": [
    "set1[0]"
   ]
  },
  {
   "cell_type": "markdown",
   "id": "251d1f9d-d10c-4388-815b-e5aa301e17c4",
   "metadata": {},
   "source": [
    "# add()"
   ]
  },
  {
   "cell_type": "code",
   "execution_count": 16,
   "id": "fb361c6d-c6f0-43cd-9f61-de4f136532fd",
   "metadata": {},
   "outputs": [],
   "source": [
    "set1.add('programming')"
   ]
  },
  {
   "cell_type": "code",
   "execution_count": 17,
   "id": "ca9b464f-3bd3-41e9-8c4f-d2ef0c8be884",
   "metadata": {},
   "outputs": [
    {
     "data": {
      "text/plain": [
       "{(34, 89, 9, 1), 1, 2, 5, 8, 90, 'programming', 'python'}"
      ]
     },
     "execution_count": 17,
     "metadata": {},
     "output_type": "execute_result"
    }
   ],
   "source": [
    "set1"
   ]
  },
  {
   "cell_type": "markdown",
   "id": "912a1022-c419-40be-818a-947cbb987b6f",
   "metadata": {},
   "source": [
    "# update()"
   ]
  },
  {
   "cell_type": "code",
   "execution_count": 22,
   "id": "628e2183-d34f-40b1-8789-4f1bc440a5b9",
   "metadata": {},
   "outputs": [
    {
     "ename": "TypeError",
     "evalue": "'int' object is not iterable",
     "output_type": "error",
     "traceback": [
      "\u001b[1;31m---------------------------------------------------------------------------\u001b[0m",
      "\u001b[1;31mTypeError\u001b[0m                                 Traceback (most recent call last)",
      "Cell \u001b[1;32mIn[22], line 1\u001b[0m\n\u001b[1;32m----> 1\u001b[0m \u001b[43mset1\u001b[49m\u001b[38;5;241;43m.\u001b[39;49m\u001b[43mupdate\u001b[49m\u001b[43m(\u001b[49m\u001b[38;5;241;43m90\u001b[39;49m\u001b[43m)\u001b[49m\n",
      "\u001b[1;31mTypeError\u001b[0m: 'int' object is not iterable"
     ]
    }
   ],
   "source": [
    "set1.update(90)"
   ]
  },
  {
   "cell_type": "code",
   "execution_count": 29,
   "id": "245bf1a5-eeb3-4ae6-b80d-094895e82a64",
   "metadata": {},
   "outputs": [],
   "source": [
    "set1.update([10])"
   ]
  },
  {
   "cell_type": "code",
   "execution_count": 30,
   "id": "c0d32230-6f27-4ff2-b97d-80b0265705cc",
   "metadata": {},
   "outputs": [
    {
     "data": {
      "text/plain": [
       "{(34, 89, 9, 1), 1, 10, 2, 5, 8, 90, 'programming', 'python'}"
      ]
     },
     "execution_count": 30,
     "metadata": {},
     "output_type": "execute_result"
    }
   ],
   "source": [
    "set1"
   ]
  },
  {
   "cell_type": "code",
   "execution_count": 31,
   "id": "4bd5daf5-a5ca-4aaa-b1bb-13fe511cce92",
   "metadata": {},
   "outputs": [],
   "source": [
    "set1.update([100])"
   ]
  },
  {
   "cell_type": "code",
   "execution_count": 32,
   "id": "66de69fb-a062-4c08-889b-dbaf0337ec38",
   "metadata": {},
   "outputs": [
    {
     "data": {
      "text/plain": [
       "{(34, 89, 9, 1), 1, 10, 100, 2, 5, 8, 90, 'programming', 'python'}"
      ]
     },
     "execution_count": 32,
     "metadata": {},
     "output_type": "execute_result"
    }
   ],
   "source": [
    "set1"
   ]
  },
  {
   "cell_type": "code",
   "execution_count": 36,
   "id": "3a961013-e17b-4171-81b9-63e2428aab19",
   "metadata": {},
   "outputs": [],
   "source": [
    "set1.update([100, 200, 300, 400, 500]) # set does not contain multiple value"
   ]
  },
  {
   "cell_type": "code",
   "execution_count": 43,
   "id": "9687f611-5455-4897-b4a6-4964081809f3",
   "metadata": {},
   "outputs": [
    {
     "data": {
      "text/plain": [
       "{(34, 89, 9, 1),\n",
       " 1,\n",
       " 10,\n",
       " 100,\n",
       " 2,\n",
       " 200,\n",
       " 300,\n",
       " 400,\n",
       " 5,\n",
       " 500,\n",
       " 8,\n",
       " 'programming',\n",
       " 'python'}"
      ]
     },
     "execution_count": 43,
     "metadata": {},
     "output_type": "execute_result"
    }
   ],
   "source": [
    "set1"
   ]
  },
  {
   "cell_type": "markdown",
   "id": "94337d28-a5b6-488a-a4b3-5bae0f1b9249",
   "metadata": {},
   "source": [
    "# remove() "
   ]
  },
  {
   "cell_type": "code",
   "execution_count": 44,
   "id": "71912478-c191-48c8-af7f-657e6face49c",
   "metadata": {},
   "outputs": [],
   "source": [
    "set1.remove(8)"
   ]
  },
  {
   "cell_type": "code",
   "execution_count": 46,
   "id": "4b443e9c-76f0-494c-99ca-b6197b0bf981",
   "metadata": {},
   "outputs": [
    {
     "data": {
      "text/plain": [
       "{(34, 89, 9, 1), 1, 10, 100, 2, 200, 300, 400, 5, 500, 'programming', 'python'}"
      ]
     },
     "execution_count": 46,
     "metadata": {},
     "output_type": "execute_result"
    }
   ],
   "source": [
    "set1"
   ]
  },
  {
   "cell_type": "code",
   "execution_count": 47,
   "id": "419df5dc-df39-4563-8ed6-e5acfc9fe716",
   "metadata": {},
   "outputs": [
    {
     "ename": "KeyError",
     "evalue": "8",
     "output_type": "error",
     "traceback": [
      "\u001b[1;31m---------------------------------------------------------------------------\u001b[0m",
      "\u001b[1;31mKeyError\u001b[0m                                  Traceback (most recent call last)",
      "Cell \u001b[1;32mIn[47], line 1\u001b[0m\n\u001b[1;32m----> 1\u001b[0m \u001b[43mset1\u001b[49m\u001b[38;5;241;43m.\u001b[39;49m\u001b[43mremove\u001b[49m\u001b[43m(\u001b[49m\u001b[38;5;241;43m8\u001b[39;49m\u001b[43m)\u001b[49m\n",
      "\u001b[1;31mKeyError\u001b[0m: 8"
     ]
    }
   ],
   "source": [
    "set1.remove(8)"
   ]
  },
  {
   "cell_type": "code",
   "execution_count": 48,
   "id": "2e018bd4-5bd8-4763-92ee-df50e4711638",
   "metadata": {},
   "outputs": [
    {
     "ename": "KeyError",
     "evalue": "8",
     "output_type": "error",
     "traceback": [
      "\u001b[1;31m---------------------------------------------------------------------------\u001b[0m",
      "\u001b[1;31mKeyError\u001b[0m                                  Traceback (most recent call last)",
      "Cell \u001b[1;32mIn[48], line 1\u001b[0m\n\u001b[1;32m----> 1\u001b[0m \u001b[43mset1\u001b[49m\u001b[38;5;241;43m.\u001b[39;49m\u001b[43mremove\u001b[49m\u001b[43m(\u001b[49m\u001b[38;5;241;43m8\u001b[39;49m\u001b[43m)\u001b[49m\n",
      "\u001b[1;31mKeyError\u001b[0m: 8"
     ]
    }
   ],
   "source": [
    "set1.remove(8)"
   ]
  },
  {
   "cell_type": "markdown",
   "id": "88d983c6-be6e-4f19-b416-694d5d989a49",
   "metadata": {},
   "source": [
    "# discard() - Used to remove multiple value"
   ]
  },
  {
   "cell_type": "code",
   "execution_count": 49,
   "id": "789cf28c-80e7-487e-91ed-6aed001c480f",
   "metadata": {},
   "outputs": [
    {
     "ename": "KeyError",
     "evalue": "8",
     "output_type": "error",
     "traceback": [
      "\u001b[1;31m---------------------------------------------------------------------------\u001b[0m",
      "\u001b[1;31mKeyError\u001b[0m                                  Traceback (most recent call last)",
      "Cell \u001b[1;32mIn[49], line 1\u001b[0m\n\u001b[1;32m----> 1\u001b[0m \u001b[43mset1\u001b[49m\u001b[38;5;241;43m.\u001b[39;49m\u001b[43mremove\u001b[49m\u001b[43m(\u001b[49m\u001b[38;5;241;43m8\u001b[39;49m\u001b[43m)\u001b[49m\n",
      "\u001b[1;31mKeyError\u001b[0m: 8"
     ]
    }
   ],
   "source": [
    "set1.remove(8)"
   ]
  },
  {
   "cell_type": "code",
   "execution_count": 50,
   "id": "5f8fb50d-fd3a-480d-b4b4-df1756dce6af",
   "metadata": {},
   "outputs": [],
   "source": [
    "set1.discard('python')"
   ]
  },
  {
   "cell_type": "code",
   "execution_count": 51,
   "id": "0cf0ddbd-7956-406b-9fe8-6309e90ff04e",
   "metadata": {},
   "outputs": [
    {
     "data": {
      "text/plain": [
       "{(34, 89, 9, 1), 1, 10, 100, 2, 200, 300, 400, 5, 500, 'programming'}"
      ]
     },
     "execution_count": 51,
     "metadata": {},
     "output_type": "execute_result"
    }
   ],
   "source": [
    "set1"
   ]
  },
  {
   "cell_type": "code",
   "execution_count": 52,
   "id": "0970fd01-cfb2-41d3-b671-080edc12572c",
   "metadata": {},
   "outputs": [],
   "source": [
    "set1.discard('python')"
   ]
  },
  {
   "cell_type": "code",
   "execution_count": 53,
   "id": "c10f5a33-50b0-47a7-ba51-c7be4ff99b83",
   "metadata": {},
   "outputs": [],
   "source": [
    "set1.discard('python')"
   ]
  },
  {
   "cell_type": "code",
   "execution_count": 55,
   "id": "98f462d8-5d88-4d9a-86de-c122a2edd571",
   "metadata": {},
   "outputs": [
    {
     "data": {
      "text/plain": [
       "{(34, 89, 9, 1), 1, 10, 100, 2, 200, 300, 400, 5, 500, 'programming'}"
      ]
     },
     "execution_count": 55,
     "metadata": {},
     "output_type": "execute_result"
    }
   ],
   "source": [
    "set1"
   ]
  },
  {
   "cell_type": "markdown",
   "id": "3cbee527-dd85-462d-9d80-f83b7d6301b6",
   "metadata": {},
   "source": [
    "# Membership"
   ]
  },
  {
   "cell_type": "code",
   "execution_count": 56,
   "id": "921c173d-321e-433c-96ce-15b15b3c61bd",
   "metadata": {},
   "outputs": [
    {
     "data": {
      "text/plain": [
       "True"
      ]
     },
     "execution_count": 56,
     "metadata": {},
     "output_type": "execute_result"
    }
   ],
   "source": [
    "2 in set1"
   ]
  },
  {
   "cell_type": "code",
   "execution_count": 57,
   "id": "36e02cfa-8411-447b-95a9-4e7f7e8c7cc7",
   "metadata": {},
   "outputs": [
    {
     "data": {
      "text/plain": [
       "True"
      ]
     },
     "execution_count": 57,
     "metadata": {},
     "output_type": "execute_result"
    }
   ],
   "source": [
    "5 in set1"
   ]
  },
  {
   "cell_type": "code",
   "execution_count": 58,
   "id": "9457c3aa-da0d-4fc8-8c8f-7366d0f75378",
   "metadata": {},
   "outputs": [
    {
     "ename": "SyntaxError",
     "evalue": "invalid syntax (221782356.py, line 1)",
     "output_type": "error",
     "traceback": [
      "\u001b[1;36m  Cell \u001b[1;32mIn[58], line 1\u001b[1;36m\u001b[0m\n\u001b[1;33m    1000 in set 1\u001b[0m\n\u001b[1;37m                ^\u001b[0m\n\u001b[1;31mSyntaxError\u001b[0m\u001b[1;31m:\u001b[0m invalid syntax\n"
     ]
    }
   ],
   "source": [
    "1000 in set 1"
   ]
  },
  {
   "cell_type": "markdown",
   "id": "322d9d22-bfdd-4079-aa05-dfc34efbeda1",
   "metadata": {},
   "source": [
    "# clear()"
   ]
  },
  {
   "cell_type": "code",
   "execution_count": 59,
   "id": "0c1060be-da02-413c-b75c-7b1038290dc0",
   "metadata": {},
   "outputs": [],
   "source": [
    "set1.clear()"
   ]
  },
  {
   "cell_type": "code",
   "execution_count": 60,
   "id": "c4708ab3-6460-42f2-95e4-2e0789ea6695",
   "metadata": {},
   "outputs": [
    {
     "data": {
      "text/plain": [
       "set()"
      ]
     },
     "execution_count": 60,
     "metadata": {},
     "output_type": "execute_result"
    }
   ],
   "source": [
    "set1"
   ]
  },
  {
   "cell_type": "markdown",
   "id": "6d52a129-5a8c-4925-933f-a897bb653b7b",
   "metadata": {},
   "source": [
    "# pop()"
   ]
  },
  {
   "cell_type": "code",
   "execution_count": 61,
   "id": "22fa1ce8-c901-41aa-86fd-8478b42130d8",
   "metadata": {},
   "outputs": [],
   "source": [
    "set1 = {1, 2, 3, 4, 5}"
   ]
  },
  {
   "cell_type": "code",
   "execution_count": 62,
   "id": "f315b0a5-8b8d-4a05-b95b-b435eb88cb66",
   "metadata": {},
   "outputs": [
    {
     "data": {
      "text/plain": [
       "{1, 2, 3, 4, 5}"
      ]
     },
     "execution_count": 62,
     "metadata": {},
     "output_type": "execute_result"
    }
   ],
   "source": [
    "set1"
   ]
  },
  {
   "cell_type": "code",
   "execution_count": 63,
   "id": "2b60e439-0c29-4a22-aa55-3555ac183aac",
   "metadata": {},
   "outputs": [
    {
     "data": {
      "text/plain": [
       "1"
      ]
     },
     "execution_count": 63,
     "metadata": {},
     "output_type": "execute_result"
    }
   ],
   "source": [
    "set1.pop()"
   ]
  },
  {
   "cell_type": "code",
   "execution_count": 65,
   "id": "f7f1d8f0-3530-4eaa-b2b2-fe79317dc66c",
   "metadata": {},
   "outputs": [
    {
     "ename": "TypeError",
     "evalue": "set.pop() takes no arguments (1 given)",
     "output_type": "error",
     "traceback": [
      "\u001b[1;31m---------------------------------------------------------------------------\u001b[0m",
      "\u001b[1;31mTypeError\u001b[0m                                 Traceback (most recent call last)",
      "Cell \u001b[1;32mIn[65], line 1\u001b[0m\n\u001b[1;32m----> 1\u001b[0m \u001b[43mset1\u001b[49m\u001b[38;5;241;43m.\u001b[39;49m\u001b[43mpop\u001b[49m\u001b[43m(\u001b[49m\u001b[38;5;241;43m2\u001b[39;49m\u001b[43m)\u001b[49m\n",
      "\u001b[1;31mTypeError\u001b[0m: set.pop() takes no arguments (1 given)"
     ]
    }
   ],
   "source": [
    "set1.pop(2)"
   ]
  }
 ],
 "metadata": {
  "kernelspec": {
   "display_name": "Python 3 (ipykernel)",
   "language": "python",
   "name": "python3"
  },
  "language_info": {
   "codemirror_mode": {
    "name": "ipython",
    "version": 3
   },
   "file_extension": ".py",
   "mimetype": "text/x-python",
   "name": "python",
   "nbconvert_exporter": "python",
   "pygments_lexer": "ipython3",
   "version": "3.12.4"
  },
  "widgets": {
   "application/vnd.jupyter.widget-state+json": {
    "state": {},
    "version_major": 2,
    "version_minor": 0
   }
  }
 },
 "nbformat": 4,
 "nbformat_minor": 5
}
