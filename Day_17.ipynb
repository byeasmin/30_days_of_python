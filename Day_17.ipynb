{
 "cells": [
  {
   "cell_type": "markdown",
   "id": "d8e264f8-c255-4c43-ad7a-6ee29a46246f",
   "metadata": {},
   "source": [
    "# https://github.com/byeasmin/30_days_of_python"
   ]
  },
  {
   "cell_type": "markdown",
   "id": "0ea2390c-1289-44f5-9140-c7cb44a16706",
   "metadata": {},
   "source": [
    "# Function"
   ]
  },
  {
   "cell_type": "markdown",
   "id": "5db0f446-011c-4b1c-a10e-aa3987603455",
   "metadata": {},
   "source": [
    "# 1. Function Definition"
   ]
  },
  {
   "cell_type": "code",
   "execution_count": 12,
   "id": "b8971f2f-0888-4c04-b81e-ab08aa86647f",
   "metadata": {},
   "outputs": [],
   "source": [
    "def dept():\n",
    "    print('python')"
   ]
  },
  {
   "cell_type": "code",
   "execution_count": 13,
   "id": "d0f42de7-9ac5-4e07-8d8e-dfbdbcfaee7c",
   "metadata": {},
   "outputs": [
    {
     "name": "stdout",
     "output_type": "stream",
     "text": [
      "python\n"
     ]
    }
   ],
   "source": [
    "dept()"
   ]
  },
  {
   "cell_type": "markdown",
   "id": "4d21df4b-68dd-4778-82a4-c62067b6b285",
   "metadata": {},
   "source": [
    "# 2. Function Call"
   ]
  },
  {
   "cell_type": "code",
   "execution_count": 14,
   "id": "6756e87e-2ca5-4e2f-b390-0f92e7beff94",
   "metadata": {},
   "outputs": [
    {
     "name": "stdout",
     "output_type": "stream",
     "text": [
      "python\n"
     ]
    }
   ],
   "source": [
    "dept()"
   ]
  },
  {
   "cell_type": "markdown",
   "id": "a047d7c9-278e-45e2-8199-e383dc29bd0c",
   "metadata": {},
   "source": [
    "# 3. Parameters"
   ]
  },
  {
   "cell_type": "code",
   "execution_count": 15,
   "id": "97dac33b-325a-4960-a79e-f5e6124846da",
   "metadata": {},
   "outputs": [],
   "source": [
    "def dept_with_name(name): # argument\n",
    "    print(f'I Love {name}')"
   ]
  },
  {
   "cell_type": "code",
   "execution_count": 17,
   "id": "1513a38b-c4c1-4f76-b835-7c77f5e0eb15",
   "metadata": {},
   "outputs": [
    {
     "ename": "TypeError",
     "evalue": "dept_with_name() missing 1 required positional argument: 'name'",
     "output_type": "error",
     "traceback": [
      "\u001b[1;31m---------------------------------------------------------------------------\u001b[0m",
      "\u001b[1;31mTypeError\u001b[0m                                 Traceback (most recent call last)",
      "Cell \u001b[1;32mIn[17], line 1\u001b[0m\n\u001b[1;32m----> 1\u001b[0m \u001b[43mdept_with_name\u001b[49m\u001b[43m(\u001b[49m\u001b[43m)\u001b[49m\n",
      "\u001b[1;31mTypeError\u001b[0m: dept_with_name() missing 1 required positional argument: 'name'"
     ]
    }
   ],
   "source": [
    "dept_with_name()"
   ]
  },
  {
   "cell_type": "code",
   "execution_count": 18,
   "id": "3f3f6ad4-0891-4688-932c-a15903b94f7d",
   "metadata": {},
   "outputs": [
    {
     "name": "stdout",
     "output_type": "stream",
     "text": [
      "I Love python\n"
     ]
    }
   ],
   "source": [
    "dept_with_name('python') # parameter"
   ]
  },
  {
   "cell_type": "markdown",
   "id": "8e96bfb0-8244-40d1-a0f4-0066e49f45e7",
   "metadata": {},
   "source": [
    "# 4. Return Statement (Not Neccessary)"
   ]
  },
  {
   "cell_type": "code",
   "execution_count": 19,
   "id": "bdca44ec-0431-4ba2-8818-9c2a6323d018",
   "metadata": {},
   "outputs": [],
   "source": [
    "def name():\n",
    "    print('benin')\n",
    "    return 1"
   ]
  },
  {
   "cell_type": "code",
   "execution_count": 20,
   "id": "7e4bb71c-0188-4499-904d-c6cc2a78255f",
   "metadata": {},
   "outputs": [
    {
     "name": "stdout",
     "output_type": "stream",
     "text": [
      "benin\n"
     ]
    },
    {
     "data": {
      "text/plain": [
       "1"
      ]
     },
     "execution_count": 20,
     "metadata": {},
     "output_type": "execute_result"
    }
   ],
   "source": [
    "name()"
   ]
  },
  {
   "cell_type": "code",
   "execution_count": 21,
   "id": "de4452a2-f37e-4b28-a78f-488341c113e7",
   "metadata": {},
   "outputs": [],
   "source": [
    "def name():\n",
    "    return print('benin')"
   ]
  },
  {
   "cell_type": "code",
   "execution_count": 22,
   "id": "9b007b23-af87-49d8-8c86-64b72620c433",
   "metadata": {},
   "outputs": [
    {
     "name": "stdout",
     "output_type": "stream",
     "text": [
      "benin\n"
     ]
    }
   ],
   "source": [
    "name()"
   ]
  },
  {
   "cell_type": "code",
   "execution_count": 23,
   "id": "eee90684-d335-46d2-862e-e2a2127abd84",
   "metadata": {},
   "outputs": [],
   "source": [
    "def name():\n",
    "    return dept()"
   ]
  },
  {
   "cell_type": "code",
   "execution_count": 24,
   "id": "3a0b7ef6-b359-4426-b730-f0f8e5805e1c",
   "metadata": {},
   "outputs": [
    {
     "name": "stdout",
     "output_type": "stream",
     "text": [
      "python\n"
     ]
    }
   ],
   "source": [
    "name()"
   ]
  },
  {
   "cell_type": "markdown",
   "id": "fa17cd0d-a3b6-4aa6-b318-a913f589e246",
   "metadata": {},
   "source": [
    "# Question: 01"
   ]
  },
  {
   "cell_type": "markdown",
   "id": "a3bd8855-b08f-415c-b1fb-633cb37b785e",
   "metadata": {},
   "source": [
    "Write a function that wont take any parameters explicitly. Instead, it defines local variables a and b within the function and returns their sum. The values of a and b are fixed within the function."
   ]
  },
  {
   "cell_type": "code",
   "execution_count": 5,
   "id": "d78d9c22-d056-443f-a3dd-371dfbddc5d3",
   "metadata": {},
   "outputs": [
    {
     "name": "stdin",
     "output_type": "stream",
     "text": [
      "Enter the first number :  10\n",
      "Enter the second number :  12\n"
     ]
    },
    {
     "name": "stdout",
     "output_type": "stream",
     "text": [
      "22\n"
     ]
    }
   ],
   "source": [
    "def add_sum():\n",
    "    a = int(input('Enter the first number : '))\n",
    "    b = int(input('Enter the second number : '))\n",
    "    summation = a + b\n",
    "    print(summation)\n",
    "add_sum()"
   ]
  },
  {
   "cell_type": "code",
   "execution_count": 6,
   "id": "e5b7a657-9a30-4b44-80ef-18499ffa3c09",
   "metadata": {},
   "outputs": [],
   "source": [
    "def add_sum():\n",
    "    a = 10\n",
    "    b = 20\n",
    "    return a + b"
   ]
  },
  {
   "cell_type": "code",
   "execution_count": 7,
   "id": "3e5e1d77-c6b6-4e5b-a4cb-716a9be16bdc",
   "metadata": {},
   "outputs": [
    {
     "data": {
      "text/plain": [
       "30"
      ]
     },
     "execution_count": 7,
     "metadata": {},
     "output_type": "execute_result"
    }
   ],
   "source": [
    "add_sum()"
   ]
  },
  {
   "cell_type": "markdown",
   "id": "57c8b43f-5557-4a3b-ad74-37bb7f418966",
   "metadata": {},
   "source": [
    "# Question: 02"
   ]
  },
  {
   "cell_type": "markdown",
   "id": "919cd8eb-3b05-41e0-a7e2-317921f7469b",
   "metadata": {},
   "source": [
    "Write a function that will take two parameters, a and b, and returns their sum. The values of a and b will not fixed within the function; they are determined by the arguments passed when the function is called. That will make the function more flexible because it can add any two numbers, not just the fixed values in the first function."
   ]
  },
  {
   "cell_type": "code",
   "execution_count": 11,
   "id": "78010c53-e935-4b6d-b406-5b5cc18f0a55",
   "metadata": {},
   "outputs": [],
   "source": [
    "def add_sum(a, b):\n",
    "    return a + b"
   ]
  },
  {
   "cell_type": "code",
   "execution_count": 12,
   "id": "854aa7c6-ea51-479d-b97f-f0f3e0703da3",
   "metadata": {},
   "outputs": [
    {
     "data": {
      "text/plain": [
       "19"
      ]
     },
     "execution_count": 12,
     "metadata": {},
     "output_type": "execute_result"
    }
   ],
   "source": [
    "add_sum(9, 10)"
   ]
  },
  {
   "cell_type": "code",
   "execution_count": 14,
   "id": "88d9475e-e4fb-4e55-b058-8f96e670968c",
   "metadata": {},
   "outputs": [
    {
     "data": {
      "text/plain": [
       "6"
      ]
     },
     "execution_count": 14,
     "metadata": {},
     "output_type": "execute_result"
    }
   ],
   "source": [
    "add_sum(1, 5)"
   ]
  },
  {
   "cell_type": "code",
   "execution_count": 15,
   "id": "65f46359-d8f1-47b2-84d5-91f6dba2d908",
   "metadata": {},
   "outputs": [],
   "source": [
    "def add_sum(a, b):\n",
    "    result = a + b\n",
    "    return result"
   ]
  },
  {
   "cell_type": "code",
   "execution_count": 17,
   "id": "6aca8817-d45c-4cf1-bfdf-28b037e713bd",
   "metadata": {},
   "outputs": [
    {
     "data": {
      "text/plain": [
       "50"
      ]
     },
     "execution_count": 17,
     "metadata": {},
     "output_type": "execute_result"
    }
   ],
   "source": [
    "add_sum(10, 40)"
   ]
  },
  {
   "cell_type": "markdown",
   "id": "da4ab649-392c-448e-90e3-57ce065d2aa1",
   "metadata": {},
   "source": [
    "The key difference lies in the flexibility and reusability of the second function, which can add any two numbers based on the arguments provided, while the first function is limited to adding the fixed values a and b."
   ]
  }
 ],
 "metadata": {
  "kernelspec": {
   "display_name": "Python 3 (ipykernel)",
   "language": "python",
   "name": "python3"
  },
  "language_info": {
   "codemirror_mode": {
    "name": "ipython",
    "version": 3
   },
   "file_extension": ".py",
   "mimetype": "text/x-python",
   "name": "python",
   "nbconvert_exporter": "python",
   "pygments_lexer": "ipython3",
   "version": "3.12.4"
  },
  "widgets": {
   "application/vnd.jupyter.widget-state+json": {
    "state": {},
    "version_major": 2,
    "version_minor": 0
   }
  }
 },
 "nbformat": 4,
 "nbformat_minor": 5
}
